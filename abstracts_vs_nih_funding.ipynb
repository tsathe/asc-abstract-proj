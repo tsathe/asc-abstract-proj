{
 "cells": [
  {
   "cell_type": "code",
   "execution_count": 1,
   "metadata": {},
   "outputs": [],
   "source": [
    "import pandas as pd\n",
    "import os\n",
    "from scipy.stats import spearmanr, pearsonr\n",
    "from sklearn.linear_model import LinearRegression\n",
    "from sklearn.linear_model import PoissonRegressor\n",
    "from sklearn.metrics import r2_score\n",
    "import statsmodels.api as sm\n",
    "import plotly.express as px\n",
    "import numpy as np"
   ]
  },
  {
   "cell_type": "code",
   "execution_count": 2,
   "metadata": {},
   "outputs": [
    {
     "name": "stderr",
     "output_type": "stream",
     "text": [
      "/var/folders/tc/rrbf67xd4h98qrpph8v1h9c00000gn/T/ipykernel_59000/562399838.py:8: SettingWithCopyWarning: \n",
      "A value is trying to be set on a copy of a slice from a DataFrame\n",
      "\n",
      "See the caveats in the documentation: https://pandas.pydata.org/pandas-docs/stable/user_guide/indexing.html#returning-a-view-versus-a-copy\n",
      "  df_abstracts_subset.rename(columns = {'smart_institution5': 'institution'}, inplace = True)\n"
     ]
    }
   ],
   "source": [
    "## Read in abstracts_final.csv into new dataframe called df_abstracts\n",
    "df_abstracts = pd.read_csv('abstracts_final.csv')\n",
    "\n",
    "## Exclude year 2024 since we don't have NIH data for that year\n",
    "df_abstracts_subset = df_abstracts[df_abstracts['year'] != 2024]\n",
    "\n",
    "## Rename smart_institution5 as institution\n",
    "df_abstracts_subset.rename(columns = {'smart_institution5': 'institution'}, inplace = True)"
   ]
  },
  {
   "cell_type": "markdown",
   "metadata": {},
   "source": [
    "## Obtain NIH Funding Data\n",
    "We obtained NIH Funding Data from Blue Ridge from 2016 to 2023"
   ]
  },
  {
   "cell_type": "code",
   "execution_count": 3,
   "metadata": {},
   "outputs": [],
   "source": [
    "## Read in all excel files in the nih_funding directory\n",
    "## combine into a single dataframe and add a column for year\n",
    "\n",
    "## Set the directory\n",
    "directory = 'nih_funding'\n",
    "\n",
    "## Get a list of all the files in the directory\n",
    "files = os.listdir(directory)\n",
    "\n",
    "## Create an empty list to store the dataframes\n",
    "dfs = []\n",
    "\n",
    "## Loop through the files\n",
    "for file in files:\n",
    "    ## Check if the file is an excel file\n",
    "    if file.endswith('.xlsx') or file.endswith('.xls'):\n",
    "        ## Read the file into a dataframe\n",
    "        df = pd.read_excel(os.path.join(directory, file))\n",
    "\n",
    "        ## Remove the first few rows\n",
    "        df = df[1:]\n",
    "\n",
    "        ## Set column names to ['rank', 'institution', 'funding']\n",
    "        df.columns = ['rank', 'institution', 'funding']\n",
    "\n",
    "        # df.columns = df.iloc[0]\n",
    "\n",
    "        ## Add a column for the year\n",
    "        df['year'] = file.split(' ')[-1].replace('.xlsx', '').replace('.xls', '')\n",
    "        ## Append the dataframe to the list\n",
    "\n",
    "        dfs.append(df)\n",
    "        \n",
    "## Concatenate the dataframes\n",
    "df = pd.concat(dfs)"
   ]
  },
  {
   "cell_type": "code",
   "execution_count": 4,
   "metadata": {},
   "outputs": [
    {
     "name": "stderr",
     "output_type": "stream",
     "text": [
      "/var/folders/tc/rrbf67xd4h98qrpph8v1h9c00000gn/T/ipykernel_59000/2190675179.py:15: SettingWithCopyWarning: \n",
      "A value is trying to be set on a copy of a slice from a DataFrame\n",
      "\n",
      "See the caveats in the documentation: https://pandas.pydata.org/pandas-docs/stable/user_guide/indexing.html#returning-a-view-versus-a-copy\n",
      "  df_funding.sort_values(['year', 'rank'], ascending=[True, True], inplace=True)\n",
      "/var/folders/tc/rrbf67xd4h98qrpph8v1h9c00000gn/T/ipykernel_59000/2190675179.py:18: SettingWithCopyWarning: \n",
      "A value is trying to be set on a copy of a slice from a DataFrame.\n",
      "Try using .loc[row_indexer,col_indexer] = value instead\n",
      "\n",
      "See the caveats in the documentation: https://pandas.pydata.org/pandas-docs/stable/user_guide/indexing.html#returning-a-view-versus-a-copy\n",
      "  df_funding['institution'] = df_funding['institution'].str.title()\n"
     ]
    },
    {
     "data": {
      "text/html": [
       "<div>\n",
       "<style scoped>\n",
       "    .dataframe tbody tr th:only-of-type {\n",
       "        vertical-align: middle;\n",
       "    }\n",
       "\n",
       "    .dataframe tbody tr th {\n",
       "        vertical-align: top;\n",
       "    }\n",
       "\n",
       "    .dataframe thead th {\n",
       "        text-align: right;\n",
       "    }\n",
       "</style>\n",
       "<table border=\"1\" class=\"dataframe\">\n",
       "  <thead>\n",
       "    <tr style=\"text-align: right;\">\n",
       "      <th></th>\n",
       "      <th>rank</th>\n",
       "      <th>institution</th>\n",
       "      <th>funding</th>\n",
       "      <th>year</th>\n",
       "    </tr>\n",
       "  </thead>\n",
       "  <tbody>\n",
       "    <tr>\n",
       "      <th>1</th>\n",
       "      <td>1</td>\n",
       "      <td>University Of Pennsylvania</td>\n",
       "      <td>19621244</td>\n",
       "      <td>2016</td>\n",
       "    </tr>\n",
       "    <tr>\n",
       "      <th>2</th>\n",
       "      <td>2</td>\n",
       "      <td>Washington University</td>\n",
       "      <td>19280840</td>\n",
       "      <td>2016</td>\n",
       "    </tr>\n",
       "    <tr>\n",
       "      <th>3</th>\n",
       "      <td>3</td>\n",
       "      <td>Duke University</td>\n",
       "      <td>16546762</td>\n",
       "      <td>2016</td>\n",
       "    </tr>\n",
       "    <tr>\n",
       "      <th>4</th>\n",
       "      <td>4</td>\n",
       "      <td>University Of Michigan</td>\n",
       "      <td>16531254</td>\n",
       "      <td>2016</td>\n",
       "    </tr>\n",
       "    <tr>\n",
       "      <th>5</th>\n",
       "      <td>5</td>\n",
       "      <td>University Of Pittsburgh At Pittsburgh</td>\n",
       "      <td>15586617</td>\n",
       "      <td>2016</td>\n",
       "    </tr>\n",
       "    <tr>\n",
       "      <th>...</th>\n",
       "      <td>...</td>\n",
       "      <td>...</td>\n",
       "      <td>...</td>\n",
       "      <td>...</td>\n",
       "    </tr>\n",
       "    <tr>\n",
       "      <th>73</th>\n",
       "      <td>73</td>\n",
       "      <td>University Of Mississippi Med Ctr</td>\n",
       "      <td>268394</td>\n",
       "      <td>2023</td>\n",
       "    </tr>\n",
       "    <tr>\n",
       "      <th>74</th>\n",
       "      <td>74</td>\n",
       "      <td>Temple University</td>\n",
       "      <td>220778</td>\n",
       "      <td>2023</td>\n",
       "    </tr>\n",
       "    <tr>\n",
       "      <th>75</th>\n",
       "      <td>75</td>\n",
       "      <td>Suny Upstate Medical Center</td>\n",
       "      <td>203750</td>\n",
       "      <td>2023</td>\n",
       "    </tr>\n",
       "    <tr>\n",
       "      <th>76</th>\n",
       "      <td>76</td>\n",
       "      <td>University Of Massachusetts Med Sch Worcester</td>\n",
       "      <td>163058</td>\n",
       "      <td>2023</td>\n",
       "    </tr>\n",
       "    <tr>\n",
       "      <th>77</th>\n",
       "      <td>77</td>\n",
       "      <td>University Of South Alabama</td>\n",
       "      <td>161950</td>\n",
       "      <td>2023</td>\n",
       "    </tr>\n",
       "  </tbody>\n",
       "</table>\n",
       "<p>610 rows × 4 columns</p>\n",
       "</div>"
      ],
      "text/plain": [
       "    rank                                    institution   funding  year\n",
       "1      1                     University Of Pennsylvania  19621244  2016\n",
       "2      2                          Washington University  19280840  2016\n",
       "3      3                                Duke University  16546762  2016\n",
       "4      4                         University Of Michigan  16531254  2016\n",
       "5      5         University Of Pittsburgh At Pittsburgh  15586617  2016\n",
       "..   ...                                            ...       ...   ...\n",
       "73    73              University Of Mississippi Med Ctr    268394  2023\n",
       "74    74                              Temple University    220778  2023\n",
       "75    75                    Suny Upstate Medical Center    203750  2023\n",
       "76    76  University Of Massachusetts Med Sch Worcester    163058  2023\n",
       "77    77                    University Of South Alabama    161950  2023\n",
       "\n",
       "[610 rows x 4 columns]"
      ]
     },
     "execution_count": 4,
     "metadata": {},
     "output_type": "execute_result"
    }
   ],
   "source": [
    "## Clean the original dataframe to make it more usable\n",
    "\n",
    "def clean_data(df):\n",
    "    ## Turn rank into an int, if na set to 0\n",
    "    df['rank'] = pd.to_numeric(df['rank'], errors='coerce').fillna(0).astype(int)\n",
    "\n",
    "    ## Remove rank 0\n",
    "    df = df[df['rank'] > 0]\n",
    "\n",
    "    return df\n",
    "\n",
    "df_funding = clean_data(df)\n",
    "\n",
    "## Sort df_funding by year and rank\n",
    "df_funding.sort_values(['year', 'rank'], ascending=[True, True], inplace=True)\n",
    "\n",
    "## Change institution to title case\n",
    "df_funding['institution'] = df_funding['institution'].str.title()\n",
    "\n",
    "df_funding"
   ]
  },
  {
   "cell_type": "code",
   "execution_count": 5,
   "metadata": {},
   "outputs": [
    {
     "data": {
      "text/html": [
       "<div>\n",
       "<style scoped>\n",
       "    .dataframe tbody tr th:only-of-type {\n",
       "        vertical-align: middle;\n",
       "    }\n",
       "\n",
       "    .dataframe tbody tr th {\n",
       "        vertical-align: top;\n",
       "    }\n",
       "\n",
       "    .dataframe thead th {\n",
       "        text-align: right;\n",
       "    }\n",
       "</style>\n",
       "<table border=\"1\" class=\"dataframe\">\n",
       "  <thead>\n",
       "    <tr style=\"text-align: right;\">\n",
       "      <th></th>\n",
       "      <th>rank</th>\n",
       "      <th>institution</th>\n",
       "      <th>funding</th>\n",
       "      <th>year</th>\n",
       "    </tr>\n",
       "  </thead>\n",
       "  <tbody>\n",
       "    <tr>\n",
       "      <th>1</th>\n",
       "      <td>1</td>\n",
       "      <td>University Of Pennsylvania</td>\n",
       "      <td>19621244</td>\n",
       "      <td>2016</td>\n",
       "    </tr>\n",
       "    <tr>\n",
       "      <th>2</th>\n",
       "      <td>2</td>\n",
       "      <td>Washington University</td>\n",
       "      <td>19280840</td>\n",
       "      <td>2016</td>\n",
       "    </tr>\n",
       "    <tr>\n",
       "      <th>3</th>\n",
       "      <td>3</td>\n",
       "      <td>Duke University</td>\n",
       "      <td>16546762</td>\n",
       "      <td>2016</td>\n",
       "    </tr>\n",
       "    <tr>\n",
       "      <th>4</th>\n",
       "      <td>4</td>\n",
       "      <td>University Of Michigan</td>\n",
       "      <td>16531254</td>\n",
       "      <td>2016</td>\n",
       "    </tr>\n",
       "    <tr>\n",
       "      <th>5</th>\n",
       "      <td>5</td>\n",
       "      <td>University Of Pittsburgh At Pittsburgh</td>\n",
       "      <td>15586617</td>\n",
       "      <td>2016</td>\n",
       "    </tr>\n",
       "    <tr>\n",
       "      <th>...</th>\n",
       "      <td>...</td>\n",
       "      <td>...</td>\n",
       "      <td>...</td>\n",
       "      <td>...</td>\n",
       "    </tr>\n",
       "    <tr>\n",
       "      <th>6</th>\n",
       "      <td>6</td>\n",
       "      <td>University Of Pennsylvania</td>\n",
       "      <td>17861753</td>\n",
       "      <td>2023</td>\n",
       "    </tr>\n",
       "    <tr>\n",
       "      <th>7</th>\n",
       "      <td>7</td>\n",
       "      <td>Stanford University</td>\n",
       "      <td>17735229</td>\n",
       "      <td>2023</td>\n",
       "    </tr>\n",
       "    <tr>\n",
       "      <th>8</th>\n",
       "      <td>8</td>\n",
       "      <td>University Of Pittsburgh</td>\n",
       "      <td>17394455</td>\n",
       "      <td>2023</td>\n",
       "    </tr>\n",
       "    <tr>\n",
       "      <th>9</th>\n",
       "      <td>9</td>\n",
       "      <td>University Of California San Francisco</td>\n",
       "      <td>17307614</td>\n",
       "      <td>2023</td>\n",
       "    </tr>\n",
       "    <tr>\n",
       "      <th>10</th>\n",
       "      <td>10</td>\n",
       "      <td>Northwestern University Chicago</td>\n",
       "      <td>15641937</td>\n",
       "      <td>2023</td>\n",
       "    </tr>\n",
       "  </tbody>\n",
       "</table>\n",
       "<p>80 rows × 4 columns</p>\n",
       "</div>"
      ],
      "text/plain": [
       "    rank                             institution   funding  year\n",
       "1      1              University Of Pennsylvania  19621244  2016\n",
       "2      2                   Washington University  19280840  2016\n",
       "3      3                         Duke University  16546762  2016\n",
       "4      4                  University Of Michigan  16531254  2016\n",
       "5      5  University Of Pittsburgh At Pittsburgh  15586617  2016\n",
       "..   ...                                     ...       ...   ...\n",
       "6      6              University Of Pennsylvania  17861753  2023\n",
       "7      7                     Stanford University  17735229  2023\n",
       "8      8                University Of Pittsburgh  17394455  2023\n",
       "9      9  University Of California San Francisco  17307614  2023\n",
       "10    10         Northwestern University Chicago  15641937  2023\n",
       "\n",
       "[80 rows x 4 columns]"
      ]
     },
     "execution_count": 5,
     "metadata": {},
     "output_type": "execute_result"
    }
   ],
   "source": [
    "## Create a new dataframe called df_funding_subset\n",
    "## include only top 10 institutions per year\n",
    "df_funding_subset = df_funding[df_funding['rank'] <= 10]\n",
    "df_funding_subset"
   ]
  },
  {
   "cell_type": "code",
   "execution_count": 6,
   "metadata": {},
   "outputs": [
    {
     "data": {
      "application/vnd.plotly.v1+json": {
       "config": {
        "plotlyServerURL": "https://plot.ly"
       },
       "data": [
        {
         "alignmentgroup": "True",
         "hovertemplate": "year=2016<br>institution=%{text}<br>funding=%{y}<extra></extra>",
         "legendgroup": "2016",
         "marker": {
          "color": "#636efa",
          "pattern": {
           "shape": ""
          }
         },
         "name": "2016",
         "offsetgroup": "2016",
         "orientation": "v",
         "showlegend": true,
         "text": [
          "University Of Pennsylvania",
          "Washington University",
          "Duke University",
          "University Of Michigan",
          "University Of Pittsburgh At Pittsburgh",
          "University Of California, San Francisco",
          "University Of Wisconsin-Madison",
          "Vanderbilt University",
          "Emory University",
          "Northwestern University At Chicago"
         ],
         "textposition": "auto",
         "type": "bar",
         "x": [
          "University Of Pennsylvania",
          "Washington University",
          "Duke University",
          "University Of Michigan",
          "University Of Pittsburgh At Pittsburgh",
          "University Of California, San Francisco",
          "University Of Wisconsin-Madison",
          "Vanderbilt University",
          "Emory University",
          "Northwestern University At Chicago"
         ],
         "xaxis": "x5",
         "y": [
          19621244,
          19280840,
          16546762,
          16531254,
          15586617,
          14299884,
          11436767,
          10697022,
          10481924,
          7401582
         ],
         "yaxis": "y5"
        },
        {
         "alignmentgroup": "True",
         "hovertemplate": "year=2017<br>institution=%{text}<br>funding=%{y}<extra></extra>",
         "legendgroup": "2017",
         "marker": {
          "color": "#EF553B",
          "pattern": {
           "shape": ""
          }
         },
         "name": "2017",
         "offsetgroup": "2017",
         "orientation": "v",
         "showlegend": true,
         "text": [
          "University Of Michigan",
          "Washington University",
          "University Of California, San Francisco",
          "Duke University",
          "University Of Pittsburgh At Pittsburgh",
          "University Of California At Davis",
          "Emory University",
          "University Of California Los Angeles",
          "University Of Wisconsin-Madison",
          "Johns Hopkins University"
         ],
         "textposition": "auto",
         "type": "bar",
         "x": [
          "University Of Michigan",
          "Washington University",
          "University Of California, San Francisco",
          "Duke University",
          "University Of Pittsburgh At Pittsburgh",
          "University Of California At Davis",
          "Emory University",
          "University Of California Los Angeles",
          "University Of Wisconsin-Madison",
          "Johns Hopkins University"
         ],
         "xaxis": "x6",
         "y": [
          19526316,
          18020515,
          16261894,
          16040032,
          16023975,
          11528678,
          10979725,
          9925070,
          8842165,
          8672337
         ],
         "yaxis": "y6"
        },
        {
         "alignmentgroup": "True",
         "hovertemplate": "year=2018<br>institution=%{text}<br>funding=%{y}<extra></extra>",
         "legendgroup": "2018",
         "marker": {
          "color": "#00cc96",
          "pattern": {
           "shape": ""
          }
         },
         "name": "2018",
         "offsetgroup": "2018",
         "orientation": "v",
         "showlegend": true,
         "text": [
          "Duke University",
          "University Of Pittsburgh At Pittsburgh",
          "University Of Michigan At Ann Arbor",
          "Washington University",
          "University Of California, San Francisco",
          "Ohio State University",
          "Emory University",
          "University Of Wisconsin-Madison",
          "Stanford University",
          "University Of California Los Angeles"
         ],
         "textposition": "auto",
         "type": "bar",
         "x": [
          "Duke University",
          "University Of Pittsburgh At Pittsburgh",
          "University Of Michigan At Ann Arbor",
          "Washington University",
          "University Of California, San Francisco",
          "Ohio State University",
          "Emory University",
          "University Of Wisconsin-Madison",
          "Stanford University",
          "University Of California Los Angeles"
         ],
         "xaxis": "x7",
         "y": [
          30257450,
          23592415,
          21676571,
          16301070,
          16046269,
          14342745,
          12451189,
          12338374,
          11488617,
          9932504
         ],
         "yaxis": "y7"
        },
        {
         "alignmentgroup": "True",
         "hovertemplate": "year=2019<br>institution=%{text}<br>funding=%{y}<extra></extra>",
         "legendgroup": "2019",
         "marker": {
          "color": "#ab63fa",
          "pattern": {
           "shape": ""
          }
         },
         "name": "2019",
         "offsetgroup": "2019",
         "orientation": "v",
         "showlegend": true,
         "text": [
          "University Of Michigan At Ann Arbor",
          "University Of Pittsburgh At Pittsburgh",
          "Duke University",
          "Washington University",
          "Ohio State University",
          "Emory University",
          "Columbia University Health Sciences",
          "University Of Wisconsin-Madison",
          "University Of California, San Francisco",
          "Northwestern University At Chicago"
         ],
         "textposition": "auto",
         "type": "bar",
         "x": [
          "University Of Michigan At Ann Arbor",
          "University Of Pittsburgh At Pittsburgh",
          "Duke University",
          "Washington University",
          "Ohio State University",
          "Emory University",
          "Columbia University Health Sciences",
          "University Of Wisconsin-Madison",
          "University Of California, San Francisco",
          "Northwestern University At Chicago"
         ],
         "xaxis": "x8",
         "y": [
          26145958,
          21588318,
          20474161,
          19057632,
          15541916,
          13764735,
          13233433,
          13133940,
          12832005,
          11847594
         ],
         "yaxis": "y8"
        },
        {
         "alignmentgroup": "True",
         "hovertemplate": "year=2020<br>institution=%{text}<br>funding=%{y}<extra></extra>",
         "legendgroup": "2020",
         "marker": {
          "color": "#FFA15A",
          "pattern": {
           "shape": ""
          }
         },
         "name": "2020",
         "offsetgroup": "2020",
         "orientation": "v",
         "showlegend": true,
         "text": [
          "University Of Michigan Ann Arbor",
          "Washington University St Louis",
          "Duke University",
          "Ohio State University",
          "University Of Pittsburgh",
          "University Of Texas Hlth Sci Ctr Houston",
          "University Of Pennsylvania",
          "Stanford University",
          "University Of Colorado Denver",
          "Emory University"
         ],
         "textposition": "auto",
         "type": "bar",
         "x": [
          "University Of Michigan Ann Arbor",
          "Washington University St Louis",
          "Duke University",
          "Ohio State University",
          "University Of Pittsburgh",
          "University Of Texas Hlth Sci Ctr Houston",
          "University Of Pennsylvania",
          "Stanford University",
          "University Of Colorado Denver",
          "Emory University"
         ],
         "xaxis": "x",
         "y": [
          25604626,
          24824383,
          23284818,
          20979772,
          19988802,
          15019508,
          14557518,
          14392052,
          14063870,
          13833562
         ],
         "yaxis": "y"
        },
        {
         "alignmentgroup": "True",
         "hovertemplate": "year=2021<br>institution=%{text}<br>funding=%{y}<extra></extra>",
         "legendgroup": "2021",
         "marker": {
          "color": "#19d3f3",
          "pattern": {
           "shape": ""
          }
         },
         "name": "2021",
         "offsetgroup": "2021",
         "orientation": "v",
         "showlegend": true,
         "text": [
          "Duke University",
          "Washington University St Louis",
          "University Of Michigan",
          "University Of Pennsylvania",
          "University Of Pittsburgh",
          "Ohio State University",
          "Columbia University Health Sciences",
          "University Of Wisconsin Madison",
          "University Of Maryland Baltimore",
          "Stanford University"
         ],
         "textposition": "auto",
         "type": "bar",
         "x": [
          "Duke University",
          "Washington University St Louis",
          "University Of Michigan",
          "University Of Pennsylvania",
          "University Of Pittsburgh",
          "Ohio State University",
          "Columbia University Health Sciences",
          "University Of Wisconsin Madison",
          "University Of Maryland Baltimore",
          "Stanford University"
         ],
         "xaxis": "x2",
         "y": [
          30913358,
          25592903,
          25578813,
          18325921,
          15962564,
          15259477,
          14568462,
          14243653,
          13629398,
          12831923
         ],
         "yaxis": "y2"
        },
        {
         "alignmentgroup": "True",
         "hovertemplate": "year=2022<br>institution=%{text}<br>funding=%{y}<extra></extra>",
         "legendgroup": "2022",
         "marker": {
          "color": "#FF6692",
          "pattern": {
           "shape": ""
          }
         },
         "name": "2022",
         "offsetgroup": "2022",
         "orientation": "v",
         "showlegend": true,
         "text": [
          "Duke University",
          "University Of Michigan Ann Arbor",
          "Washington University St Louis",
          "University Of Florida",
          "University Of Pennsylvania",
          "University Of Pittsburgh",
          "University Of Wisconsin Madison",
          "Ohio State University",
          "Columbia University Health Sciences",
          "University Of Alabama Birmingham"
         ],
         "textposition": "auto",
         "type": "bar",
         "x": [
          "Duke University",
          "University Of Michigan Ann Arbor",
          "Washington University St Louis",
          "University Of Florida",
          "University Of Pennsylvania",
          "University Of Pittsburgh",
          "University Of Wisconsin Madison",
          "Ohio State University",
          "Columbia University Health Sciences",
          "University Of Alabama Birmingham"
         ],
         "xaxis": "x3",
         "y": [
          44987067,
          28593123,
          28448607,
          21073685,
          21002526,
          17889737,
          17610781,
          17225409,
          16059288,
          13728161
         ],
         "yaxis": "y3"
        },
        {
         "alignmentgroup": "True",
         "hovertemplate": "year=2023<br>institution=%{text}<br>funding=%{y}<extra></extra>",
         "legendgroup": "2023",
         "marker": {
          "color": "#B6E880",
          "pattern": {
           "shape": ""
          }
         },
         "name": "2023",
         "offsetgroup": "2023",
         "orientation": "v",
         "showlegend": true,
         "text": [
          "Duke University",
          "Washington University St Louis",
          "University Of Michigan Ann Arbor",
          "University Of Minnesota",
          "University Of Florida",
          "University Of Pennsylvania",
          "Stanford University",
          "University Of Pittsburgh",
          "University Of California San Francisco",
          "Northwestern University Chicago"
         ],
         "textposition": "auto",
         "type": "bar",
         "x": [
          "Duke University",
          "Washington University St Louis",
          "University Of Michigan Ann Arbor",
          "University Of Minnesota",
          "University Of Florida",
          "University Of Pennsylvania",
          "Stanford University",
          "University Of Pittsburgh",
          "University Of California San Francisco",
          "Northwestern University Chicago"
         ],
         "xaxis": "x4",
         "y": [
          47357541,
          34198285,
          28960624,
          20604572,
          18370424,
          17861753,
          17735229,
          17394455,
          17307614,
          15641937
         ],
         "yaxis": "y4"
        }
       ],
       "layout": {
        "annotations": [
         {
          "font": {},
          "showarrow": false,
          "text": "year=2020",
          "x": 0.1175,
          "xanchor": "center",
          "xref": "paper",
          "y": 0.46499999999999997,
          "yanchor": "bottom",
          "yref": "paper"
         },
         {
          "font": {},
          "showarrow": false,
          "text": "year=2021",
          "x": 0.3725,
          "xanchor": "center",
          "xref": "paper",
          "y": 0.46499999999999997,
          "yanchor": "bottom",
          "yref": "paper"
         },
         {
          "font": {},
          "showarrow": false,
          "text": "year=2022",
          "x": 0.6275,
          "xanchor": "center",
          "xref": "paper",
          "y": 0.46499999999999997,
          "yanchor": "bottom",
          "yref": "paper"
         },
         {
          "font": {},
          "showarrow": false,
          "text": "year=2023",
          "x": 0.8824999999999998,
          "xanchor": "center",
          "xref": "paper",
          "y": 0.46499999999999997,
          "yanchor": "bottom",
          "yref": "paper"
         },
         {
          "font": {},
          "showarrow": false,
          "text": "year=2016",
          "x": 0.1175,
          "xanchor": "center",
          "xref": "paper",
          "y": 0.9999999999999999,
          "yanchor": "bottom",
          "yref": "paper"
         },
         {
          "font": {},
          "showarrow": false,
          "text": "year=2017",
          "x": 0.3725,
          "xanchor": "center",
          "xref": "paper",
          "y": 0.9999999999999999,
          "yanchor": "bottom",
          "yref": "paper"
         },
         {
          "font": {},
          "showarrow": false,
          "text": "year=2018",
          "x": 0.6275,
          "xanchor": "center",
          "xref": "paper",
          "y": 0.9999999999999999,
          "yanchor": "bottom",
          "yref": "paper"
         },
         {
          "font": {},
          "showarrow": false,
          "text": "year=2019",
          "x": 0.8824999999999998,
          "xanchor": "center",
          "xref": "paper",
          "y": 0.9999999999999999,
          "yanchor": "bottom",
          "yref": "paper"
         }
        ],
        "autosize": false,
        "barmode": "relative",
        "font": {
         "family": "Inter"
        },
        "height": 1080,
        "legend": {
         "title": {
          "text": "year"
         },
         "tracegroupgap": 0
        },
        "margin": {
         "t": 60
        },
        "template": {
         "data": {
          "bar": [
           {
            "error_x": {
             "color": "#2a3f5f"
            },
            "error_y": {
             "color": "#2a3f5f"
            },
            "marker": {
             "line": {
              "color": "#E5ECF6",
              "width": 0.5
             },
             "pattern": {
              "fillmode": "overlay",
              "size": 10,
              "solidity": 0.2
             }
            },
            "type": "bar"
           }
          ],
          "barpolar": [
           {
            "marker": {
             "line": {
              "color": "#E5ECF6",
              "width": 0.5
             },
             "pattern": {
              "fillmode": "overlay",
              "size": 10,
              "solidity": 0.2
             }
            },
            "type": "barpolar"
           }
          ],
          "carpet": [
           {
            "aaxis": {
             "endlinecolor": "#2a3f5f",
             "gridcolor": "white",
             "linecolor": "white",
             "minorgridcolor": "white",
             "startlinecolor": "#2a3f5f"
            },
            "baxis": {
             "endlinecolor": "#2a3f5f",
             "gridcolor": "white",
             "linecolor": "white",
             "minorgridcolor": "white",
             "startlinecolor": "#2a3f5f"
            },
            "type": "carpet"
           }
          ],
          "choropleth": [
           {
            "colorbar": {
             "outlinewidth": 0,
             "ticks": ""
            },
            "type": "choropleth"
           }
          ],
          "contour": [
           {
            "colorbar": {
             "outlinewidth": 0,
             "ticks": ""
            },
            "colorscale": [
             [
              0,
              "#0d0887"
             ],
             [
              0.1111111111111111,
              "#46039f"
             ],
             [
              0.2222222222222222,
              "#7201a8"
             ],
             [
              0.3333333333333333,
              "#9c179e"
             ],
             [
              0.4444444444444444,
              "#bd3786"
             ],
             [
              0.5555555555555556,
              "#d8576b"
             ],
             [
              0.6666666666666666,
              "#ed7953"
             ],
             [
              0.7777777777777778,
              "#fb9f3a"
             ],
             [
              0.8888888888888888,
              "#fdca26"
             ],
             [
              1,
              "#f0f921"
             ]
            ],
            "type": "contour"
           }
          ],
          "contourcarpet": [
           {
            "colorbar": {
             "outlinewidth": 0,
             "ticks": ""
            },
            "type": "contourcarpet"
           }
          ],
          "heatmap": [
           {
            "colorbar": {
             "outlinewidth": 0,
             "ticks": ""
            },
            "colorscale": [
             [
              0,
              "#0d0887"
             ],
             [
              0.1111111111111111,
              "#46039f"
             ],
             [
              0.2222222222222222,
              "#7201a8"
             ],
             [
              0.3333333333333333,
              "#9c179e"
             ],
             [
              0.4444444444444444,
              "#bd3786"
             ],
             [
              0.5555555555555556,
              "#d8576b"
             ],
             [
              0.6666666666666666,
              "#ed7953"
             ],
             [
              0.7777777777777778,
              "#fb9f3a"
             ],
             [
              0.8888888888888888,
              "#fdca26"
             ],
             [
              1,
              "#f0f921"
             ]
            ],
            "type": "heatmap"
           }
          ],
          "heatmapgl": [
           {
            "colorbar": {
             "outlinewidth": 0,
             "ticks": ""
            },
            "colorscale": [
             [
              0,
              "#0d0887"
             ],
             [
              0.1111111111111111,
              "#46039f"
             ],
             [
              0.2222222222222222,
              "#7201a8"
             ],
             [
              0.3333333333333333,
              "#9c179e"
             ],
             [
              0.4444444444444444,
              "#bd3786"
             ],
             [
              0.5555555555555556,
              "#d8576b"
             ],
             [
              0.6666666666666666,
              "#ed7953"
             ],
             [
              0.7777777777777778,
              "#fb9f3a"
             ],
             [
              0.8888888888888888,
              "#fdca26"
             ],
             [
              1,
              "#f0f921"
             ]
            ],
            "type": "heatmapgl"
           }
          ],
          "histogram": [
           {
            "marker": {
             "pattern": {
              "fillmode": "overlay",
              "size": 10,
              "solidity": 0.2
             }
            },
            "type": "histogram"
           }
          ],
          "histogram2d": [
           {
            "colorbar": {
             "outlinewidth": 0,
             "ticks": ""
            },
            "colorscale": [
             [
              0,
              "#0d0887"
             ],
             [
              0.1111111111111111,
              "#46039f"
             ],
             [
              0.2222222222222222,
              "#7201a8"
             ],
             [
              0.3333333333333333,
              "#9c179e"
             ],
             [
              0.4444444444444444,
              "#bd3786"
             ],
             [
              0.5555555555555556,
              "#d8576b"
             ],
             [
              0.6666666666666666,
              "#ed7953"
             ],
             [
              0.7777777777777778,
              "#fb9f3a"
             ],
             [
              0.8888888888888888,
              "#fdca26"
             ],
             [
              1,
              "#f0f921"
             ]
            ],
            "type": "histogram2d"
           }
          ],
          "histogram2dcontour": [
           {
            "colorbar": {
             "outlinewidth": 0,
             "ticks": ""
            },
            "colorscale": [
             [
              0,
              "#0d0887"
             ],
             [
              0.1111111111111111,
              "#46039f"
             ],
             [
              0.2222222222222222,
              "#7201a8"
             ],
             [
              0.3333333333333333,
              "#9c179e"
             ],
             [
              0.4444444444444444,
              "#bd3786"
             ],
             [
              0.5555555555555556,
              "#d8576b"
             ],
             [
              0.6666666666666666,
              "#ed7953"
             ],
             [
              0.7777777777777778,
              "#fb9f3a"
             ],
             [
              0.8888888888888888,
              "#fdca26"
             ],
             [
              1,
              "#f0f921"
             ]
            ],
            "type": "histogram2dcontour"
           }
          ],
          "mesh3d": [
           {
            "colorbar": {
             "outlinewidth": 0,
             "ticks": ""
            },
            "type": "mesh3d"
           }
          ],
          "parcoords": [
           {
            "line": {
             "colorbar": {
              "outlinewidth": 0,
              "ticks": ""
             }
            },
            "type": "parcoords"
           }
          ],
          "pie": [
           {
            "automargin": true,
            "type": "pie"
           }
          ],
          "scatter": [
           {
            "fillpattern": {
             "fillmode": "overlay",
             "size": 10,
             "solidity": 0.2
            },
            "type": "scatter"
           }
          ],
          "scatter3d": [
           {
            "line": {
             "colorbar": {
              "outlinewidth": 0,
              "ticks": ""
             }
            },
            "marker": {
             "colorbar": {
              "outlinewidth": 0,
              "ticks": ""
             }
            },
            "type": "scatter3d"
           }
          ],
          "scattercarpet": [
           {
            "marker": {
             "colorbar": {
              "outlinewidth": 0,
              "ticks": ""
             }
            },
            "type": "scattercarpet"
           }
          ],
          "scattergeo": [
           {
            "marker": {
             "colorbar": {
              "outlinewidth": 0,
              "ticks": ""
             }
            },
            "type": "scattergeo"
           }
          ],
          "scattergl": [
           {
            "marker": {
             "colorbar": {
              "outlinewidth": 0,
              "ticks": ""
             }
            },
            "type": "scattergl"
           }
          ],
          "scattermapbox": [
           {
            "marker": {
             "colorbar": {
              "outlinewidth": 0,
              "ticks": ""
             }
            },
            "type": "scattermapbox"
           }
          ],
          "scatterpolar": [
           {
            "marker": {
             "colorbar": {
              "outlinewidth": 0,
              "ticks": ""
             }
            },
            "type": "scatterpolar"
           }
          ],
          "scatterpolargl": [
           {
            "marker": {
             "colorbar": {
              "outlinewidth": 0,
              "ticks": ""
             }
            },
            "type": "scatterpolargl"
           }
          ],
          "scatterternary": [
           {
            "marker": {
             "colorbar": {
              "outlinewidth": 0,
              "ticks": ""
             }
            },
            "type": "scatterternary"
           }
          ],
          "surface": [
           {
            "colorbar": {
             "outlinewidth": 0,
             "ticks": ""
            },
            "colorscale": [
             [
              0,
              "#0d0887"
             ],
             [
              0.1111111111111111,
              "#46039f"
             ],
             [
              0.2222222222222222,
              "#7201a8"
             ],
             [
              0.3333333333333333,
              "#9c179e"
             ],
             [
              0.4444444444444444,
              "#bd3786"
             ],
             [
              0.5555555555555556,
              "#d8576b"
             ],
             [
              0.6666666666666666,
              "#ed7953"
             ],
             [
              0.7777777777777778,
              "#fb9f3a"
             ],
             [
              0.8888888888888888,
              "#fdca26"
             ],
             [
              1,
              "#f0f921"
             ]
            ],
            "type": "surface"
           }
          ],
          "table": [
           {
            "cells": {
             "fill": {
              "color": "#EBF0F8"
             },
             "line": {
              "color": "white"
             }
            },
            "header": {
             "fill": {
              "color": "#C8D4E3"
             },
             "line": {
              "color": "white"
             }
            },
            "type": "table"
           }
          ]
         },
         "layout": {
          "annotationdefaults": {
           "arrowcolor": "#2a3f5f",
           "arrowhead": 0,
           "arrowwidth": 1
          },
          "autotypenumbers": "strict",
          "coloraxis": {
           "colorbar": {
            "outlinewidth": 0,
            "ticks": ""
           }
          },
          "colorscale": {
           "diverging": [
            [
             0,
             "#8e0152"
            ],
            [
             0.1,
             "#c51b7d"
            ],
            [
             0.2,
             "#de77ae"
            ],
            [
             0.3,
             "#f1b6da"
            ],
            [
             0.4,
             "#fde0ef"
            ],
            [
             0.5,
             "#f7f7f7"
            ],
            [
             0.6,
             "#e6f5d0"
            ],
            [
             0.7,
             "#b8e186"
            ],
            [
             0.8,
             "#7fbc41"
            ],
            [
             0.9,
             "#4d9221"
            ],
            [
             1,
             "#276419"
            ]
           ],
           "sequential": [
            [
             0,
             "#0d0887"
            ],
            [
             0.1111111111111111,
             "#46039f"
            ],
            [
             0.2222222222222222,
             "#7201a8"
            ],
            [
             0.3333333333333333,
             "#9c179e"
            ],
            [
             0.4444444444444444,
             "#bd3786"
            ],
            [
             0.5555555555555556,
             "#d8576b"
            ],
            [
             0.6666666666666666,
             "#ed7953"
            ],
            [
             0.7777777777777778,
             "#fb9f3a"
            ],
            [
             0.8888888888888888,
             "#fdca26"
            ],
            [
             1,
             "#f0f921"
            ]
           ],
           "sequentialminus": [
            [
             0,
             "#0d0887"
            ],
            [
             0.1111111111111111,
             "#46039f"
            ],
            [
             0.2222222222222222,
             "#7201a8"
            ],
            [
             0.3333333333333333,
             "#9c179e"
            ],
            [
             0.4444444444444444,
             "#bd3786"
            ],
            [
             0.5555555555555556,
             "#d8576b"
            ],
            [
             0.6666666666666666,
             "#ed7953"
            ],
            [
             0.7777777777777778,
             "#fb9f3a"
            ],
            [
             0.8888888888888888,
             "#fdca26"
            ],
            [
             1,
             "#f0f921"
            ]
           ]
          },
          "colorway": [
           "#636efa",
           "#EF553B",
           "#00cc96",
           "#ab63fa",
           "#FFA15A",
           "#19d3f3",
           "#FF6692",
           "#B6E880",
           "#FF97FF",
           "#FECB52"
          ],
          "font": {
           "color": "#2a3f5f"
          },
          "geo": {
           "bgcolor": "white",
           "lakecolor": "white",
           "landcolor": "#E5ECF6",
           "showlakes": true,
           "showland": true,
           "subunitcolor": "white"
          },
          "hoverlabel": {
           "align": "left"
          },
          "hovermode": "closest",
          "mapbox": {
           "style": "light"
          },
          "paper_bgcolor": "white",
          "plot_bgcolor": "#E5ECF6",
          "polar": {
           "angularaxis": {
            "gridcolor": "white",
            "linecolor": "white",
            "ticks": ""
           },
           "bgcolor": "#E5ECF6",
           "radialaxis": {
            "gridcolor": "white",
            "linecolor": "white",
            "ticks": ""
           }
          },
          "scene": {
           "xaxis": {
            "backgroundcolor": "#E5ECF6",
            "gridcolor": "white",
            "gridwidth": 2,
            "linecolor": "white",
            "showbackground": true,
            "ticks": "",
            "zerolinecolor": "white"
           },
           "yaxis": {
            "backgroundcolor": "#E5ECF6",
            "gridcolor": "white",
            "gridwidth": 2,
            "linecolor": "white",
            "showbackground": true,
            "ticks": "",
            "zerolinecolor": "white"
           },
           "zaxis": {
            "backgroundcolor": "#E5ECF6",
            "gridcolor": "white",
            "gridwidth": 2,
            "linecolor": "white",
            "showbackground": true,
            "ticks": "",
            "zerolinecolor": "white"
           }
          },
          "shapedefaults": {
           "line": {
            "color": "#2a3f5f"
           }
          },
          "ternary": {
           "aaxis": {
            "gridcolor": "white",
            "linecolor": "white",
            "ticks": ""
           },
           "baxis": {
            "gridcolor": "white",
            "linecolor": "white",
            "ticks": ""
           },
           "bgcolor": "#E5ECF6",
           "caxis": {
            "gridcolor": "white",
            "linecolor": "white",
            "ticks": ""
           }
          },
          "title": {
           "x": 0.05
          },
          "xaxis": {
           "automargin": true,
           "gridcolor": "white",
           "linecolor": "white",
           "ticks": "",
           "title": {
            "standoff": 15
           },
           "zerolinecolor": "white",
           "zerolinewidth": 2
          },
          "yaxis": {
           "automargin": true,
           "gridcolor": "white",
           "linecolor": "white",
           "ticks": "",
           "title": {
            "standoff": 15
           },
           "zerolinecolor": "white",
           "zerolinewidth": 2
          }
         }
        },
        "title": {
         "text": "Top 10 NIH Funded Institutions by Year"
        },
        "width": 1920,
        "xaxis": {
         "anchor": "y",
         "domain": [
          0,
          0.235
         ],
         "showticklabels": false,
         "title": {
          "text": "Institution"
         }
        },
        "xaxis2": {
         "anchor": "y2",
         "domain": [
          0.255,
          0.49
         ],
         "showticklabels": false,
         "title": {
          "text": "institution"
         }
        },
        "xaxis3": {
         "anchor": "y3",
         "domain": [
          0.51,
          0.745
         ],
         "showticklabels": false,
         "title": {
          "text": "institution"
         }
        },
        "xaxis4": {
         "anchor": "y4",
         "domain": [
          0.7649999999999999,
          0.9999999999999999
         ],
         "showticklabels": false,
         "title": {
          "text": "institution"
         }
        },
        "xaxis5": {
         "anchor": "y5",
         "domain": [
          0,
          0.235
         ],
         "showticklabels": false
        },
        "xaxis6": {
         "anchor": "y6",
         "domain": [
          0.255,
          0.49
         ],
         "showticklabels": false
        },
        "xaxis7": {
         "anchor": "y7",
         "domain": [
          0.51,
          0.745
         ],
         "showticklabels": false
        },
        "xaxis8": {
         "anchor": "y8",
         "domain": [
          0.7649999999999999,
          0.9999999999999999
         ],
         "showticklabels": false
        },
        "yaxis": {
         "anchor": "x",
         "domain": [
          0,
          0.46499999999999997
         ],
         "title": {
          "text": "Funding"
         }
        },
        "yaxis2": {
         "anchor": "x2",
         "domain": [
          0,
          0.46499999999999997
         ],
         "matches": "y",
         "showticklabels": false
        },
        "yaxis3": {
         "anchor": "x3",
         "domain": [
          0,
          0.46499999999999997
         ],
         "matches": "y",
         "showticklabels": false
        },
        "yaxis4": {
         "anchor": "x4",
         "domain": [
          0,
          0.46499999999999997
         ],
         "matches": "y",
         "showticklabels": false
        },
        "yaxis5": {
         "anchor": "x5",
         "domain": [
          0.5349999999999999,
          0.9999999999999999
         ],
         "matches": "y",
         "title": {
          "text": "funding"
         }
        },
        "yaxis6": {
         "anchor": "x6",
         "domain": [
          0.5349999999999999,
          0.9999999999999999
         ],
         "matches": "y",
         "showticklabels": false
        },
        "yaxis7": {
         "anchor": "x7",
         "domain": [
          0.5349999999999999,
          0.9999999999999999
         ],
         "matches": "y",
         "showticklabels": false
        },
        "yaxis8": {
         "anchor": "x8",
         "domain": [
          0.5349999999999999,
          0.9999999999999999
         ],
         "matches": "y",
         "showticklabels": false
        }
       }
      }
     },
     "metadata": {},
     "output_type": "display_data"
    }
   ],
   "source": [
    "## Plot the top 10 institutions for each year in a bar graph\n",
    "## Use plotly express\n",
    "## Each year should be a facet\n",
    "\n",
    "import plotly.express as px\n",
    "\n",
    "fig = px.bar(\n",
    "    df_funding_subset,\n",
    "    x='institution',\n",
    "    y='funding',\n",
    "    color='year',\n",
    "    facet_col='year',\n",
    "    facet_col_wrap=4,\n",
    "    text='institution')\n",
    "\n",
    "## Don't need X axes to match\n",
    "fig.update_xaxes(matches=None)\n",
    "\n",
    "## Remove x tick labels\n",
    "fig.update_xaxes(showticklabels=False)\n",
    "\n",
    "## Make pretty\n",
    "## Make 1920 x 1080\n",
    "## Make sure all labels show up nicely\n",
    "\n",
    "fig.update_layout(\n",
    "    autosize=False,\n",
    "    width=1920,\n",
    "    height=1080,\n",
    "    title='Top 10 NIH Funded Institutions by Year',\n",
    "    yaxis_title='Funding',\n",
    "    xaxis_title='Institution',\n",
    "    font_family = 'Inter',\n",
    ")\n",
    "\n",
    "\n",
    "fig.show()\n"
   ]
  },
  {
   "cell_type": "code",
   "execution_count": null,
   "metadata": {},
   "outputs": [],
   "source": []
  },
  {
   "cell_type": "code",
   "execution_count": 7,
   "metadata": {},
   "outputs": [],
   "source": [
    "df_abstracts_institution_year = df_abstracts_subset.groupby(['year', 'institution']).agg(\n",
    "    count = ('control_number', 'nunique')\n",
    ")\n",
    "\n",
    "df_abstracts_institution_year.reset_index(inplace=True)\n",
    "\n",
    "## institution_year by year and institution, later years first\n",
    "df_abstracts_institution_year.sort_values(['count', 'institution', 'year'], ascending=[False, False, False], inplace=True)\n",
    "df_abstracts_institution_year.to_csv('abstracts_institution_year.csv')"
   ]
  },
  {
   "cell_type": "markdown",
   "metadata": {},
   "source": [
    "I created a map to match the institution name in the Blue Ridge Report to what we have in abstracts"
   ]
  },
  {
   "cell_type": "code",
   "execution_count": 8,
   "metadata": {},
   "outputs": [
    {
     "data": {
      "text/html": [
       "<div>\n",
       "<style scoped>\n",
       "    .dataframe tbody tr th:only-of-type {\n",
       "        vertical-align: middle;\n",
       "    }\n",
       "\n",
       "    .dataframe tbody tr th {\n",
       "        vertical-align: top;\n",
       "    }\n",
       "\n",
       "    .dataframe thead th {\n",
       "        text-align: right;\n",
       "    }\n",
       "</style>\n",
       "<table border=\"1\" class=\"dataframe\">\n",
       "  <thead>\n",
       "    <tr style=\"text-align: right;\">\n",
       "      <th></th>\n",
       "      <th>old_name</th>\n",
       "      <th>new_name</th>\n",
       "    </tr>\n",
       "  </thead>\n",
       "  <tbody>\n",
       "    <tr>\n",
       "      <th>0</th>\n",
       "      <td>University Of Pennsylvania</td>\n",
       "      <td>Hospital Of The University Of Pennsylvania</td>\n",
       "    </tr>\n",
       "    <tr>\n",
       "      <th>1</th>\n",
       "      <td>Duke University</td>\n",
       "      <td>Duke University Medical Center</td>\n",
       "    </tr>\n",
       "    <tr>\n",
       "      <th>2</th>\n",
       "      <td>University Of Pittsburgh At Pittsburgh</td>\n",
       "      <td>University Of Pittsburgh</td>\n",
       "    </tr>\n",
       "    <tr>\n",
       "      <th>3</th>\n",
       "      <td>University Of California, San Francisco</td>\n",
       "      <td>University Of California - San Francisco</td>\n",
       "    </tr>\n",
       "    <tr>\n",
       "      <th>4</th>\n",
       "      <td>University Of Wisconsin-Madison</td>\n",
       "      <td>University Of Wisconsin</td>\n",
       "    </tr>\n",
       "    <tr>\n",
       "      <th>...</th>\n",
       "      <td>...</td>\n",
       "      <td>...</td>\n",
       "    </tr>\n",
       "    <tr>\n",
       "      <th>87</th>\n",
       "      <td>University Of Tennessee Hlth Sci Ctr</td>\n",
       "      <td>University Of Tennessee Health Science Center</td>\n",
       "    </tr>\n",
       "    <tr>\n",
       "      <th>88</th>\n",
       "      <td>Suny Upstate Medical Center</td>\n",
       "      <td>Suny Upstate Medical University</td>\n",
       "    </tr>\n",
       "    <tr>\n",
       "      <th>89</th>\n",
       "      <td>Stony Brook University Medical Center</td>\n",
       "      <td>University Of Massachusetts Medical School</td>\n",
       "    </tr>\n",
       "    <tr>\n",
       "      <th>90</th>\n",
       "      <td>Brown University</td>\n",
       "      <td>Brown University School Of Medicine</td>\n",
       "    </tr>\n",
       "    <tr>\n",
       "      <th>91</th>\n",
       "      <td>Washington University</td>\n",
       "      <td>Washington University In St. Louis</td>\n",
       "    </tr>\n",
       "  </tbody>\n",
       "</table>\n",
       "<p>92 rows × 2 columns</p>\n",
       "</div>"
      ],
      "text/plain": [
       "                                   old_name  \\\n",
       "0                University Of Pennsylvania   \n",
       "1                           Duke University   \n",
       "2    University Of Pittsburgh At Pittsburgh   \n",
       "3   University Of California, San Francisco   \n",
       "4           University Of Wisconsin-Madison   \n",
       "..                                      ...   \n",
       "87     University Of Tennessee Hlth Sci Ctr   \n",
       "88              Suny Upstate Medical Center   \n",
       "89    Stony Brook University Medical Center   \n",
       "90                         Brown University   \n",
       "91                    Washington University   \n",
       "\n",
       "                                         new_name  \n",
       "0      Hospital Of The University Of Pennsylvania  \n",
       "1                  Duke University Medical Center  \n",
       "2                        University Of Pittsburgh  \n",
       "3        University Of California - San Francisco  \n",
       "4                         University Of Wisconsin  \n",
       "..                                            ...  \n",
       "87  University Of Tennessee Health Science Center  \n",
       "88                Suny Upstate Medical University  \n",
       "89     University Of Massachusetts Medical School  \n",
       "90            Brown University School Of Medicine  \n",
       "91             Washington University In St. Louis  \n",
       "\n",
       "[92 rows x 2 columns]"
      ]
     },
     "execution_count": 8,
     "metadata": {},
     "output_type": "execute_result"
    }
   ],
   "source": [
    "## import nih_institution_map into df_institution_map\n",
    "df_institution_map = pd.read_csv('nih_institution_map_updated.csv')\n",
    "df_institution_map"
   ]
  },
  {
   "cell_type": "code",
   "execution_count": 9,
   "metadata": {},
   "outputs": [
    {
     "data": {
      "text/html": [
       "<div>\n",
       "<style scoped>\n",
       "    .dataframe tbody tr th:only-of-type {\n",
       "        vertical-align: middle;\n",
       "    }\n",
       "\n",
       "    .dataframe tbody tr th {\n",
       "        vertical-align: top;\n",
       "    }\n",
       "\n",
       "    .dataframe thead th {\n",
       "        text-align: right;\n",
       "    }\n",
       "</style>\n",
       "<table border=\"1\" class=\"dataframe\">\n",
       "  <thead>\n",
       "    <tr style=\"text-align: right;\">\n",
       "      <th></th>\n",
       "      <th>rank</th>\n",
       "      <th>institution</th>\n",
       "      <th>funding</th>\n",
       "      <th>year</th>\n",
       "      <th>old_name</th>\n",
       "      <th>new_name</th>\n",
       "    </tr>\n",
       "  </thead>\n",
       "  <tbody>\n",
       "    <tr>\n",
       "      <th>0</th>\n",
       "      <td>1</td>\n",
       "      <td>University Of Pennsylvania</td>\n",
       "      <td>19621244</td>\n",
       "      <td>2016</td>\n",
       "      <td>University Of Pennsylvania</td>\n",
       "      <td>Hospital Of The University Of Pennsylvania</td>\n",
       "    </tr>\n",
       "    <tr>\n",
       "      <th>1</th>\n",
       "      <td>2</td>\n",
       "      <td>Washington University</td>\n",
       "      <td>19280840</td>\n",
       "      <td>2016</td>\n",
       "      <td>Washington University</td>\n",
       "      <td>Washington University In St. Louis</td>\n",
       "    </tr>\n",
       "    <tr>\n",
       "      <th>2</th>\n",
       "      <td>3</td>\n",
       "      <td>Duke University</td>\n",
       "      <td>16546762</td>\n",
       "      <td>2016</td>\n",
       "      <td>Duke University</td>\n",
       "      <td>Duke University Medical Center</td>\n",
       "    </tr>\n",
       "    <tr>\n",
       "      <th>3</th>\n",
       "      <td>4</td>\n",
       "      <td>University Of Michigan</td>\n",
       "      <td>16531254</td>\n",
       "      <td>2016</td>\n",
       "      <td>NaN</td>\n",
       "      <td>NaN</td>\n",
       "    </tr>\n",
       "    <tr>\n",
       "      <th>4</th>\n",
       "      <td>5</td>\n",
       "      <td>University Of Pittsburgh At Pittsburgh</td>\n",
       "      <td>15586617</td>\n",
       "      <td>2016</td>\n",
       "      <td>University Of Pittsburgh At Pittsburgh</td>\n",
       "      <td>University Of Pittsburgh</td>\n",
       "    </tr>\n",
       "    <tr>\n",
       "      <th>...</th>\n",
       "      <td>...</td>\n",
       "      <td>...</td>\n",
       "      <td>...</td>\n",
       "      <td>...</td>\n",
       "      <td>...</td>\n",
       "      <td>...</td>\n",
       "    </tr>\n",
       "    <tr>\n",
       "      <th>605</th>\n",
       "      <td>73</td>\n",
       "      <td>University Of Mississippi Med Ctr</td>\n",
       "      <td>268394</td>\n",
       "      <td>2023</td>\n",
       "      <td>University Of Mississippi Med Ctr</td>\n",
       "      <td>University Of Mississippi</td>\n",
       "    </tr>\n",
       "    <tr>\n",
       "      <th>606</th>\n",
       "      <td>74</td>\n",
       "      <td>Temple University</td>\n",
       "      <td>220778</td>\n",
       "      <td>2023</td>\n",
       "      <td>NaN</td>\n",
       "      <td>NaN</td>\n",
       "    </tr>\n",
       "    <tr>\n",
       "      <th>607</th>\n",
       "      <td>75</td>\n",
       "      <td>Suny Upstate Medical Center</td>\n",
       "      <td>203750</td>\n",
       "      <td>2023</td>\n",
       "      <td>Suny Upstate Medical Center</td>\n",
       "      <td>Suny Upstate Medical University</td>\n",
       "    </tr>\n",
       "    <tr>\n",
       "      <th>608</th>\n",
       "      <td>76</td>\n",
       "      <td>University Of Massachusetts Med Sch Worcester</td>\n",
       "      <td>163058</td>\n",
       "      <td>2023</td>\n",
       "      <td>University Of Massachusetts Med Sch Worcester</td>\n",
       "      <td>University Of Massachusetts Medical School</td>\n",
       "    </tr>\n",
       "    <tr>\n",
       "      <th>609</th>\n",
       "      <td>77</td>\n",
       "      <td>University Of South Alabama</td>\n",
       "      <td>161950</td>\n",
       "      <td>2023</td>\n",
       "      <td>NaN</td>\n",
       "      <td>NaN</td>\n",
       "    </tr>\n",
       "  </tbody>\n",
       "</table>\n",
       "<p>610 rows × 6 columns</p>\n",
       "</div>"
      ],
      "text/plain": [
       "     rank                                    institution   funding  year  \\\n",
       "0       1                     University Of Pennsylvania  19621244  2016   \n",
       "1       2                          Washington University  19280840  2016   \n",
       "2       3                                Duke University  16546762  2016   \n",
       "3       4                         University Of Michigan  16531254  2016   \n",
       "4       5         University Of Pittsburgh At Pittsburgh  15586617  2016   \n",
       "..    ...                                            ...       ...   ...   \n",
       "605    73              University Of Mississippi Med Ctr    268394  2023   \n",
       "606    74                              Temple University    220778  2023   \n",
       "607    75                    Suny Upstate Medical Center    203750  2023   \n",
       "608    76  University Of Massachusetts Med Sch Worcester    163058  2023   \n",
       "609    77                    University Of South Alabama    161950  2023   \n",
       "\n",
       "                                          old_name  \\\n",
       "0                       University Of Pennsylvania   \n",
       "1                            Washington University   \n",
       "2                                  Duke University   \n",
       "3                                              NaN   \n",
       "4           University Of Pittsburgh At Pittsburgh   \n",
       "..                                             ...   \n",
       "605              University Of Mississippi Med Ctr   \n",
       "606                                            NaN   \n",
       "607                    Suny Upstate Medical Center   \n",
       "608  University Of Massachusetts Med Sch Worcester   \n",
       "609                                            NaN   \n",
       "\n",
       "                                       new_name  \n",
       "0    Hospital Of The University Of Pennsylvania  \n",
       "1            Washington University In St. Louis  \n",
       "2                Duke University Medical Center  \n",
       "3                                           NaN  \n",
       "4                      University Of Pittsburgh  \n",
       "..                                          ...  \n",
       "605                   University Of Mississippi  \n",
       "606                                         NaN  \n",
       "607             Suny Upstate Medical University  \n",
       "608  University Of Massachusetts Medical School  \n",
       "609                                         NaN  \n",
       "\n",
       "[610 rows x 6 columns]"
      ]
     },
     "execution_count": 9,
     "metadata": {},
     "output_type": "execute_result"
    }
   ],
   "source": [
    "## Use institution map to replace institution in df_funding if institution is not in old_name\n",
    "## Create a new column called new_name\n",
    "\n",
    "df_funding_renamed = df_funding.merge(df_institution_map, left_on='institution', right_on='old_name', how='left')\n",
    "# df_funding_renamed['institution_clean'] = df_funding_renamed['new_name'].fillna(df_funding['institution'])\n",
    "df_funding_renamed"
   ]
  },
  {
   "cell_type": "code",
   "execution_count": 10,
   "metadata": {},
   "outputs": [
    {
     "name": "stderr",
     "output_type": "stream",
     "text": [
      "/var/folders/tc/rrbf67xd4h98qrpph8v1h9c00000gn/T/ipykernel_59000/1578134069.py:8: SettingWithCopyWarning:\n",
      "\n",
      "\n",
      "A value is trying to be set on a copy of a slice from a DataFrame\n",
      "\n",
      "See the caveats in the documentation: https://pandas.pydata.org/pandas-docs/stable/user_guide/indexing.html#returning-a-view-versus-a-copy\n",
      "\n",
      "/var/folders/tc/rrbf67xd4h98qrpph8v1h9c00000gn/T/ipykernel_59000/1578134069.py:10: SettingWithCopyWarning:\n",
      "\n",
      "\n",
      "A value is trying to be set on a copy of a slice from a DataFrame.\n",
      "Try using .loc[row_indexer,col_indexer] = value instead\n",
      "\n",
      "See the caveats in the documentation: https://pandas.pydata.org/pandas-docs/stable/user_guide/indexing.html#returning-a-view-versus-a-copy\n",
      "\n"
     ]
    },
    {
     "data": {
      "text/html": [
       "<div>\n",
       "<style scoped>\n",
       "    .dataframe tbody tr th:only-of-type {\n",
       "        vertical-align: middle;\n",
       "    }\n",
       "\n",
       "    .dataframe tbody tr th {\n",
       "        vertical-align: top;\n",
       "    }\n",
       "\n",
       "    .dataframe thead th {\n",
       "        text-align: right;\n",
       "    }\n",
       "</style>\n",
       "<table border=\"1\" class=\"dataframe\">\n",
       "  <thead>\n",
       "    <tr style=\"text-align: right;\">\n",
       "      <th></th>\n",
       "      <th>rank</th>\n",
       "      <th>funding</th>\n",
       "      <th>year</th>\n",
       "      <th>institution</th>\n",
       "    </tr>\n",
       "  </thead>\n",
       "  <tbody>\n",
       "    <tr>\n",
       "      <th>0</th>\n",
       "      <td>1</td>\n",
       "      <td>19621244</td>\n",
       "      <td>2016</td>\n",
       "      <td>Hospital Of The University Of Pennsylvania</td>\n",
       "    </tr>\n",
       "    <tr>\n",
       "      <th>1</th>\n",
       "      <td>2</td>\n",
       "      <td>19280840</td>\n",
       "      <td>2016</td>\n",
       "      <td>Washington University In St. Louis</td>\n",
       "    </tr>\n",
       "    <tr>\n",
       "      <th>2</th>\n",
       "      <td>3</td>\n",
       "      <td>16546762</td>\n",
       "      <td>2016</td>\n",
       "      <td>Duke University Medical Center</td>\n",
       "    </tr>\n",
       "    <tr>\n",
       "      <th>3</th>\n",
       "      <td>4</td>\n",
       "      <td>16531254</td>\n",
       "      <td>2016</td>\n",
       "      <td>University Of Michigan</td>\n",
       "    </tr>\n",
       "    <tr>\n",
       "      <th>4</th>\n",
       "      <td>5</td>\n",
       "      <td>15586617</td>\n",
       "      <td>2016</td>\n",
       "      <td>University Of Pittsburgh</td>\n",
       "    </tr>\n",
       "    <tr>\n",
       "      <th>...</th>\n",
       "      <td>...</td>\n",
       "      <td>...</td>\n",
       "      <td>...</td>\n",
       "      <td>...</td>\n",
       "    </tr>\n",
       "    <tr>\n",
       "      <th>605</th>\n",
       "      <td>73</td>\n",
       "      <td>268394</td>\n",
       "      <td>2023</td>\n",
       "      <td>University Of Mississippi</td>\n",
       "    </tr>\n",
       "    <tr>\n",
       "      <th>606</th>\n",
       "      <td>74</td>\n",
       "      <td>220778</td>\n",
       "      <td>2023</td>\n",
       "      <td>Temple University</td>\n",
       "    </tr>\n",
       "    <tr>\n",
       "      <th>607</th>\n",
       "      <td>75</td>\n",
       "      <td>203750</td>\n",
       "      <td>2023</td>\n",
       "      <td>Suny Upstate Medical University</td>\n",
       "    </tr>\n",
       "    <tr>\n",
       "      <th>608</th>\n",
       "      <td>76</td>\n",
       "      <td>163058</td>\n",
       "      <td>2023</td>\n",
       "      <td>University Of Massachusetts Medical School</td>\n",
       "    </tr>\n",
       "    <tr>\n",
       "      <th>609</th>\n",
       "      <td>77</td>\n",
       "      <td>161950</td>\n",
       "      <td>2023</td>\n",
       "      <td>University Of South Alabama</td>\n",
       "    </tr>\n",
       "  </tbody>\n",
       "</table>\n",
       "<p>610 rows × 4 columns</p>\n",
       "</div>"
      ],
      "text/plain": [
       "     rank   funding  year                                 institution\n",
       "0       1  19621244  2016  Hospital Of The University Of Pennsylvania\n",
       "1       2  19280840  2016          Washington University In St. Louis\n",
       "2       3  16546762  2016              Duke University Medical Center\n",
       "3       4  16531254  2016                      University Of Michigan\n",
       "4       5  15586617  2016                    University Of Pittsburgh\n",
       "..    ...       ...   ...                                         ...\n",
       "605    73    268394  2023                   University Of Mississippi\n",
       "606    74    220778  2023                           Temple University\n",
       "607    75    203750  2023             Suny Upstate Medical University\n",
       "608    76    163058  2023  University Of Massachusetts Medical School\n",
       "609    77    161950  2023                 University Of South Alabama\n",
       "\n",
       "[610 rows x 4 columns]"
      ]
     },
     "execution_count": 10,
     "metadata": {},
     "output_type": "execute_result"
    }
   ],
   "source": [
    "## If new_name is not null, use new_name, otherwise use institution\n",
    "df_funding_renamed['institution_clean'] = df_funding_renamed['new_name'].fillna(df_funding_renamed['institution'])\n",
    "\n",
    "## Get rid of columns we don't need\n",
    "df_funding_final = df_funding_renamed[['rank', 'funding', 'year', 'institution_clean']]\n",
    "\n",
    "## rename institution_clean to institution\n",
    "df_funding_final.rename(columns={'institution_clean': 'institution'}, inplace=True)\n",
    "\n",
    "df_funding_final['year'] = df_funding_final['year'].astype(int)\n",
    "\n",
    "df_funding_final"
   ]
  },
  {
   "cell_type": "code",
   "execution_count": 11,
   "metadata": {},
   "outputs": [],
   "source": [
    "## Merge in abstract data\n",
    "df_merge_by_year = df_funding_final.merge(df_abstracts_institution_year, on=['institution', 'year'], how='left')\n",
    "df_merge_by_year\n",
    "\n",
    "## Fill in missing values with 0\n",
    "df_merge_by_year['count'] = df_merge_by_year['count'].fillna(0)\n",
    "\n",
    "# df_merge_by_year.to_csv('merge_by_year.csv')"
   ]
  },
  {
   "cell_type": "code",
   "execution_count": 12,
   "metadata": {},
   "outputs": [
    {
     "data": {
      "text/html": [
       "<div>\n",
       "<style scoped>\n",
       "    .dataframe tbody tr th:only-of-type {\n",
       "        vertical-align: middle;\n",
       "    }\n",
       "\n",
       "    .dataframe tbody tr th {\n",
       "        vertical-align: top;\n",
       "    }\n",
       "\n",
       "    .dataframe thead th {\n",
       "        text-align: right;\n",
       "    }\n",
       "</style>\n",
       "<table border=\"1\" class=\"dataframe\">\n",
       "  <thead>\n",
       "    <tr style=\"text-align: right;\">\n",
       "      <th></th>\n",
       "      <th>Year</th>\n",
       "      <th>Correlation</th>\n",
       "      <th>P_Value</th>\n",
       "    </tr>\n",
       "  </thead>\n",
       "  <tbody>\n",
       "    <tr>\n",
       "      <th>0</th>\n",
       "      <td>2016</td>\n",
       "      <td>0.451344</td>\n",
       "      <td>4.274601e-05</td>\n",
       "    </tr>\n",
       "    <tr>\n",
       "      <th>1</th>\n",
       "      <td>2017</td>\n",
       "      <td>0.532693</td>\n",
       "      <td>7.296328e-07</td>\n",
       "    </tr>\n",
       "    <tr>\n",
       "      <th>2</th>\n",
       "      <td>2018</td>\n",
       "      <td>0.494084</td>\n",
       "      <td>4.956143e-06</td>\n",
       "    </tr>\n",
       "    <tr>\n",
       "      <th>3</th>\n",
       "      <td>2019</td>\n",
       "      <td>0.444701</td>\n",
       "      <td>6.410049e-05</td>\n",
       "    </tr>\n",
       "    <tr>\n",
       "      <th>4</th>\n",
       "      <td>2020</td>\n",
       "      <td>0.517669</td>\n",
       "      <td>1.426389e-06</td>\n",
       "    </tr>\n",
       "    <tr>\n",
       "      <th>5</th>\n",
       "      <td>2021</td>\n",
       "      <td>0.474273</td>\n",
       "      <td>1.504741e-05</td>\n",
       "    </tr>\n",
       "    <tr>\n",
       "      <th>6</th>\n",
       "      <td>2022</td>\n",
       "      <td>0.520749</td>\n",
       "      <td>1.418942e-06</td>\n",
       "    </tr>\n",
       "    <tr>\n",
       "      <th>7</th>\n",
       "      <td>2023</td>\n",
       "      <td>0.505725</td>\n",
       "      <td>2.711483e-06</td>\n",
       "    </tr>\n",
       "  </tbody>\n",
       "</table>\n",
       "</div>"
      ],
      "text/plain": [
       "   Year  Correlation       P_Value\n",
       "0  2016     0.451344  4.274601e-05\n",
       "1  2017     0.532693  7.296328e-07\n",
       "2  2018     0.494084  4.956143e-06\n",
       "3  2019     0.444701  6.410049e-05\n",
       "4  2020     0.517669  1.426389e-06\n",
       "5  2021     0.474273  1.504741e-05\n",
       "6  2022     0.520749  1.418942e-06\n",
       "7  2023     0.505725  2.711483e-06"
      ]
     },
     "execution_count": 12,
     "metadata": {},
     "output_type": "execute_result"
    }
   ],
   "source": [
    "# Calculate spearmanr correlation by year\n",
    "correlations_list = []\n",
    "for year, group in df_merge_by_year.groupby('year'):\n",
    "    correlation, p_value = spearmanr(group['funding'], group['count'])\n",
    "    correlations_list.append([year, correlation, p_value])\n",
    "\n",
    "# Creating a df_merge_by_year dataframe from the list\n",
    "correlations_df_corrected = pd.DataFrame(correlations_list, columns=['Year', 'Correlation', 'P_Value'])\n",
    "\n",
    "correlations_df_corrected"
   ]
  },
  {
   "cell_type": "code",
   "execution_count": 13,
   "metadata": {},
   "outputs": [],
   "source": [
    "## Create a dataframe that groups df_merge_by_year by institution and provides the total number of abstracts and avg NIH funding\n",
    "df_merge_by_institution = df_merge_by_year.groupby('institution').agg(\n",
    "    count = ('count', 'sum'),\n",
    "    funding = ('funding', 'mean')\n",
    ")\n",
    "\n",
    "df_merge_by_institution.dropna(inplace=True)\n",
    "df_merge_by_institution.reset_index(inplace=True)\n",
    "df_merge_by_institution.sort_values(['funding', 'count'], ascending=[False, False], inplace=True)\n",
    "\n",
    "df_merge_by_institution['funding'] = df_merge_by_institution['funding'].astype(float)"
   ]
  },
  {
   "cell_type": "code",
   "execution_count": 14,
   "metadata": {},
   "outputs": [
    {
     "data": {
      "text/html": [
       "<div>\n",
       "<style scoped>\n",
       "    .dataframe tbody tr th:only-of-type {\n",
       "        vertical-align: middle;\n",
       "    }\n",
       "\n",
       "    .dataframe tbody tr th {\n",
       "        vertical-align: top;\n",
       "    }\n",
       "\n",
       "    .dataframe thead th {\n",
       "        text-align: right;\n",
       "    }\n",
       "</style>\n",
       "<table border=\"1\" class=\"dataframe\">\n",
       "  <thead>\n",
       "    <tr style=\"text-align: right;\">\n",
       "      <th></th>\n",
       "      <th>institution</th>\n",
       "      <th>count</th>\n",
       "      <th>funding</th>\n",
       "      <th>log_average_funding</th>\n",
       "    </tr>\n",
       "  </thead>\n",
       "  <tbody>\n",
       "    <tr>\n",
       "      <th>11</th>\n",
       "      <td>Duke University Medical Center</td>\n",
       "      <td>118.0</td>\n",
       "      <td>2.873265e+07</td>\n",
       "      <td>17.173545</td>\n",
       "    </tr>\n",
       "    <tr>\n",
       "      <th>65</th>\n",
       "      <td>University Of Michigan</td>\n",
       "      <td>373.0</td>\n",
       "      <td>2.407716e+07</td>\n",
       "      <td>16.996774</td>\n",
       "    </tr>\n",
       "    <tr>\n",
       "      <th>93</th>\n",
       "      <td>Washington University In St. Louis</td>\n",
       "      <td>51.0</td>\n",
       "      <td>2.321553e+07</td>\n",
       "      <td>16.960332</td>\n",
       "    </tr>\n",
       "    <tr>\n",
       "      <th>75</th>\n",
       "      <td>University Of Pittsburgh</td>\n",
       "      <td>160.0</td>\n",
       "      <td>1.850336e+07</td>\n",
       "      <td>16.733463</td>\n",
       "    </tr>\n",
       "    <tr>\n",
       "      <th>17</th>\n",
       "      <td>Hospital Of The University Of Pennsylvania</td>\n",
       "      <td>228.0</td>\n",
       "      <td>1.415646e+07</td>\n",
       "      <td>16.465682</td>\n",
       "    </tr>\n",
       "    <tr>\n",
       "      <th>...</th>\n",
       "      <td>...</td>\n",
       "      <td>...</td>\n",
       "      <td>...</td>\n",
       "      <td>...</td>\n",
       "    </tr>\n",
       "    <tr>\n",
       "      <th>67</th>\n",
       "      <td>University Of Mississippi</td>\n",
       "      <td>8.0</td>\n",
       "      <td>2.296840e+05</td>\n",
       "      <td>12.344464</td>\n",
       "    </tr>\n",
       "    <tr>\n",
       "      <th>39</th>\n",
       "      <td>Temple University</td>\n",
       "      <td>16.0</td>\n",
       "      <td>2.207780e+05</td>\n",
       "      <td>12.304917</td>\n",
       "    </tr>\n",
       "    <tr>\n",
       "      <th>77</th>\n",
       "      <td>University Of South Alabama</td>\n",
       "      <td>8.0</td>\n",
       "      <td>1.835900e+05</td>\n",
       "      <td>12.120466</td>\n",
       "    </tr>\n",
       "    <tr>\n",
       "      <th>63</th>\n",
       "      <td>University Of Massachusetts Worcester</td>\n",
       "      <td>0.0</td>\n",
       "      <td>1.645590e+05</td>\n",
       "      <td>12.011031</td>\n",
       "    </tr>\n",
       "    <tr>\n",
       "      <th>41</th>\n",
       "      <td>Texas Tech University Health Sciences Center</td>\n",
       "      <td>11.0</td>\n",
       "      <td>1.428060e+05</td>\n",
       "      <td>11.869249</td>\n",
       "    </tr>\n",
       "  </tbody>\n",
       "</table>\n",
       "<p>96 rows × 4 columns</p>\n",
       "</div>"
      ],
      "text/plain": [
       "                                     institution  count       funding  \\\n",
       "11                Duke University Medical Center  118.0  2.873265e+07   \n",
       "65                        University Of Michigan  373.0  2.407716e+07   \n",
       "93            Washington University In St. Louis   51.0  2.321553e+07   \n",
       "75                      University Of Pittsburgh  160.0  1.850336e+07   \n",
       "17    Hospital Of The University Of Pennsylvania  228.0  1.415646e+07   \n",
       "..                                           ...    ...           ...   \n",
       "67                     University Of Mississippi    8.0  2.296840e+05   \n",
       "39                             Temple University   16.0  2.207780e+05   \n",
       "77                   University Of South Alabama    8.0  1.835900e+05   \n",
       "63         University Of Massachusetts Worcester    0.0  1.645590e+05   \n",
       "41  Texas Tech University Health Sciences Center   11.0  1.428060e+05   \n",
       "\n",
       "    log_average_funding  \n",
       "11            17.173545  \n",
       "65            16.996774  \n",
       "93            16.960332  \n",
       "75            16.733463  \n",
       "17            16.465682  \n",
       "..                  ...  \n",
       "67            12.344464  \n",
       "39            12.304917  \n",
       "77            12.120466  \n",
       "63            12.011031  \n",
       "41            11.869249  \n",
       "\n",
       "[96 rows x 4 columns]"
      ]
     },
     "execution_count": 14,
     "metadata": {},
     "output_type": "execute_result"
    }
   ],
   "source": [
    "## Create a log transform of NIH Funding\n",
    "\n",
    "df_merge_by_institution['log_average_funding'] = np.log1p(df_merge_by_institution['funding'])\n",
    "df_merge_by_institution\n",
    "\n",
    "df_merge_by_institution"
   ]
  },
  {
   "cell_type": "code",
   "execution_count": 15,
   "metadata": {},
   "outputs": [
    {
     "data": {
      "text/plain": [
       "(0.6540039427710439, 5.015828644235987e-13)"
      ]
     },
     "execution_count": 15,
     "metadata": {},
     "output_type": "execute_result"
    }
   ],
   "source": [
    "# Calculate spearmanr correlation overall\n",
    "correlations_list = []\n",
    "correlation, p_value = spearmanr(df_merge_by_institution['funding'], df_merge_by_institution['count'])\n",
    "\n",
    "correlation, p_value"
   ]
  },
  {
   "cell_type": "markdown",
   "metadata": {},
   "source": [
    "## Create a Linear Regression \n",
    "We want to compare actual abstracts from predicated abstracts"
   ]
  },
  {
   "cell_type": "markdown",
   "metadata": {},
   "source": [
    "## Linear Regression (untransformed)"
   ]
  },
  {
   "cell_type": "code",
   "execution_count": 16,
   "metadata": {},
   "outputs": [
    {
     "data": {
      "text/plain": [
       "(0.306628976616373, array([8.37053907e-06]), 26.079870601461387)"
      ]
     },
     "execution_count": 16,
     "metadata": {},
     "output_type": "execute_result"
    }
   ],
   "source": [
    "# Prepare data for linear regression model\n",
    "X = df_merge_by_institution[['funding']]  # Independent variable\n",
    "y = df_merge_by_institution['count']  # Dependent variable\n",
    "\n",
    "# Fit a linear regression model\n",
    "model = LinearRegression()\n",
    "\n",
    "# Linear only transformation\n",
    "## model.fit(X, y)\n",
    "\n",
    "model.fit(X, y)\n",
    "\n",
    "# Predict abstract counts based on NIH funding\n",
    "y_pred = model.predict(X)\n",
    "\n",
    "# Calculating the R-squared value\n",
    "r2 = r2_score(y, y_pred)\n",
    "\n",
    "# Coefficients\n",
    "coefficients = model.coef_\n",
    "\n",
    "# Intercept\n",
    "intercept = model.intercept_\n",
    "\n",
    "## Print all the values\n",
    "r2, coefficients, intercept"
   ]
  },
  {
   "cell_type": "markdown",
   "metadata": {},
   "source": [
    "## Linear Regression (Log Transform NIH Funding)"
   ]
  },
  {
   "cell_type": "code",
   "execution_count": 17,
   "metadata": {},
   "outputs": [
    {
     "data": {
      "text/plain": [
       "(0.3191499815560267, array([36.44807757]), -468.4964490229051)"
      ]
     },
     "execution_count": 17,
     "metadata": {},
     "output_type": "execute_result"
    }
   ],
   "source": [
    "# Prepare the data for regression analysis\n",
    "X_log = df_merge_by_institution['log_average_funding'].values.reshape(-1, 1)  # Independent variable\n",
    "y = df_merge_by_institution['count'].values  # Dependent variable\n",
    "\n",
    "# Fit the linear regression model\n",
    "model = LinearRegression()\n",
    "model.fit(X_log, y)\n",
    "\n",
    "# Predict the total abstracts based on log-transformed average NIH funding\n",
    "y_pred = model.predict(X_log)\n",
    "\n",
    "# Calculating the R-squared value\n",
    "r2 = r2_score(y, y_pred)\n",
    "\n",
    "# Coefficients\n",
    "coefficients = model.coef_\n",
    "\n",
    "# Intercept\n",
    "intercept = model.intercept_\n",
    "\n",
    "## Print all the values\n",
    "r2, coefficients, intercept"
   ]
  },
  {
   "cell_type": "markdown",
   "metadata": {},
   "source": [
    "## Poisson Regression"
   ]
  },
  {
   "cell_type": "code",
   "execution_count": 18,
   "metadata": {},
   "outputs": [],
   "source": [
    "# # Prepare the data for regression analysis\n",
    "# X_log_glm = df_merge_by_institution['log_average_funding'].values.reshape(-1, 1)  # Independent variable\n",
    "# y_glm = df_merge_by_institution['count'].values  # Dependent variable\n",
    "\n",
    "# # Fit the linear regression model\n",
    "# poisson_glm = PoissonRegressor(alpha=0, max_iter=1000)  # alpha=0 implies no regularization\n",
    "# poisson_glm.fit(X_log_glm, y_glm)\n",
    "\n",
    "# # Predict the total abstracts based on log-transformed average NIH funding\n",
    "# y_pred_glm = poisson_glm.predict(X_log_glm)\n",
    "\n",
    "# # Calculate the residuals\n",
    "# residuals = y_glm - y_pred_glm\n",
    "\n",
    "# # Calculating the R-squared value\n",
    "# r2 = r2_score(y_glm, y_pred_glm)\n",
    "\n",
    "# # Coefficients\n",
    "# coefficients = poisson_glm.coef_\n",
    "\n",
    "# # Intercept\n",
    "# intercept = poisson_glm.intercept_\n",
    "\n",
    "# ## Print all the values\n",
    "# r2, coefficients, intercept"
   ]
  },
  {
   "cell_type": "code",
   "execution_count": 21,
   "metadata": {},
   "outputs": [
    {
     "data": {
      "text/html": [
       "<div>\n",
       "<style scoped>\n",
       "    .dataframe tbody tr th:only-of-type {\n",
       "        vertical-align: middle;\n",
       "    }\n",
       "\n",
       "    .dataframe tbody tr th {\n",
       "        vertical-align: top;\n",
       "    }\n",
       "\n",
       "    .dataframe thead th {\n",
       "        text-align: right;\n",
       "    }\n",
       "</style>\n",
       "<table border=\"1\" class=\"dataframe\">\n",
       "  <thead>\n",
       "    <tr style=\"text-align: right;\">\n",
       "      <th></th>\n",
       "      <th>institution</th>\n",
       "      <th>count</th>\n",
       "      <th>funding</th>\n",
       "      <th>log_average_funding</th>\n",
       "      <th>residuals</th>\n",
       "    </tr>\n",
       "  </thead>\n",
       "  <tbody>\n",
       "    <tr>\n",
       "      <th>11</th>\n",
       "      <td>Duke University Medical Center</td>\n",
       "      <td>118.0</td>\n",
       "      <td>2.873265e+07</td>\n",
       "      <td>17.173545</td>\n",
       "      <td>-39.446239</td>\n",
       "    </tr>\n",
       "    <tr>\n",
       "      <th>65</th>\n",
       "      <td>University Of Michigan</td>\n",
       "      <td>373.0</td>\n",
       "      <td>2.407716e+07</td>\n",
       "      <td>16.996774</td>\n",
       "      <td>221.996701</td>\n",
       "    </tr>\n",
       "    <tr>\n",
       "      <th>93</th>\n",
       "      <td>Washington University In St. Louis</td>\n",
       "      <td>51.0</td>\n",
       "      <td>2.321553e+07</td>\n",
       "      <td>16.960332</td>\n",
       "      <td>-98.675048</td>\n",
       "    </tr>\n",
       "    <tr>\n",
       "      <th>75</th>\n",
       "      <td>University Of Pittsburgh</td>\n",
       "      <td>160.0</td>\n",
       "      <td>1.850336e+07</td>\n",
       "      <td>16.733463</td>\n",
       "      <td>18.593893</td>\n",
       "    </tr>\n",
       "    <tr>\n",
       "      <th>17</th>\n",
       "      <td>Hospital Of The University Of Pennsylvania</td>\n",
       "      <td>228.0</td>\n",
       "      <td>1.415646e+07</td>\n",
       "      <td>16.465682</td>\n",
       "      <td>96.354011</td>\n",
       "    </tr>\n",
       "    <tr>\n",
       "      <th>...</th>\n",
       "      <td>...</td>\n",
       "      <td>...</td>\n",
       "      <td>...</td>\n",
       "      <td>...</td>\n",
       "      <td>...</td>\n",
       "    </tr>\n",
       "    <tr>\n",
       "      <th>67</th>\n",
       "      <td>University Of Mississippi</td>\n",
       "      <td>8.0</td>\n",
       "      <td>2.296840e+05</td>\n",
       "      <td>12.344464</td>\n",
       "      <td>26.564465</td>\n",
       "    </tr>\n",
       "    <tr>\n",
       "      <th>39</th>\n",
       "      <td>Temple University</td>\n",
       "      <td>16.0</td>\n",
       "      <td>2.207780e+05</td>\n",
       "      <td>12.304917</td>\n",
       "      <td>36.005862</td>\n",
       "    </tr>\n",
       "    <tr>\n",
       "      <th>77</th>\n",
       "      <td>University Of South Alabama</td>\n",
       "      <td>8.0</td>\n",
       "      <td>1.835900e+05</td>\n",
       "      <td>12.120466</td>\n",
       "      <td>34.728774</td>\n",
       "    </tr>\n",
       "    <tr>\n",
       "      <th>63</th>\n",
       "      <td>University Of Massachusetts Worcester</td>\n",
       "      <td>0.0</td>\n",
       "      <td>1.645590e+05</td>\n",
       "      <td>12.011031</td>\n",
       "      <td>30.717477</td>\n",
       "    </tr>\n",
       "    <tr>\n",
       "      <th>41</th>\n",
       "      <td>Texas Tech University Health Sciences Center</td>\n",
       "      <td>11.0</td>\n",
       "      <td>1.428060e+05</td>\n",
       "      <td>11.869249</td>\n",
       "      <td>46.885128</td>\n",
       "    </tr>\n",
       "  </tbody>\n",
       "</table>\n",
       "<p>96 rows × 5 columns</p>\n",
       "</div>"
      ],
      "text/plain": [
       "                                     institution  count       funding  \\\n",
       "11                Duke University Medical Center  118.0  2.873265e+07   \n",
       "65                        University Of Michigan  373.0  2.407716e+07   \n",
       "93            Washington University In St. Louis   51.0  2.321553e+07   \n",
       "75                      University Of Pittsburgh  160.0  1.850336e+07   \n",
       "17    Hospital Of The University Of Pennsylvania  228.0  1.415646e+07   \n",
       "..                                           ...    ...           ...   \n",
       "67                     University Of Mississippi    8.0  2.296840e+05   \n",
       "39                             Temple University   16.0  2.207780e+05   \n",
       "77                   University Of South Alabama    8.0  1.835900e+05   \n",
       "63         University Of Massachusetts Worcester    0.0  1.645590e+05   \n",
       "41  Texas Tech University Health Sciences Center   11.0  1.428060e+05   \n",
       "\n",
       "    log_average_funding   residuals  \n",
       "11            17.173545  -39.446239  \n",
       "65            16.996774  221.996701  \n",
       "93            16.960332  -98.675048  \n",
       "75            16.733463   18.593893  \n",
       "17            16.465682   96.354011  \n",
       "..                  ...         ...  \n",
       "67            12.344464   26.564465  \n",
       "39            12.304917   36.005862  \n",
       "77            12.120466   34.728774  \n",
       "63            12.011031   30.717477  \n",
       "41            11.869249   46.885128  \n",
       "\n",
       "[96 rows x 5 columns]"
      ]
     },
     "execution_count": 21,
     "metadata": {},
     "output_type": "execute_result"
    }
   ],
   "source": [
    "# Calculate residuals (difference between actual and predicted abstract counts)\n",
    "df_merge_by_institution['residuals'] = y - y_pred\n",
    "\n",
    "# # Calculate residuals (difference between actual and predicted abstract counts)\n",
    "# df_merge_by_institution['residuals_glm'] = y_glm - y_pred_glm\n",
    "\n",
    "df_merge_by_institution"
   ]
  },
  {
   "cell_type": "code",
   "execution_count": 22,
   "metadata": {},
   "outputs": [],
   "source": [
    "\n",
    "# # Identify overperformers and underperformers based on residuals_glm\n",
    "# overperformers = df_merge_by_institution[df_merge_by_institution['residuals_glm'] > 0]  # Actual count is higher than predicted\n",
    "# underperformers = df_merge_by_institution[df_merge_by_institution['residuals_glm'] < 0]  # Actual count is lower than predicted\n",
    "\n",
    "# # Recalculate residuals_glm for all (in case of previous filtering)\n",
    "# df_merge_by_institution['predicted_count'] = poisson_glm.predict(X_log_glm)\n",
    "# df_merge_by_institution['residuals_glm'] = df_merge_by_institution['count'] - df_merge_by_institution['predicted_count']\n",
    "\n",
    "# ## Turn residuals_glm into percentiles from 0 to 100\n",
    "# df_merge_by_institution['residual_percentile'] = df_merge_by_institution['residuals_glm'].rank(pct=True) * 100\n",
    "\n",
    "# ## Calculate the median\n",
    "# df_merge_by_institution['residual_percentile'].median()\n",
    "\n",
    "# df_merge_by_institution"
   ]
  },
  {
   "cell_type": "code",
   "execution_count": 23,
   "metadata": {},
   "outputs": [
    {
     "data": {
      "text/html": [
       "<div>\n",
       "<style scoped>\n",
       "    .dataframe tbody tr th:only-of-type {\n",
       "        vertical-align: middle;\n",
       "    }\n",
       "\n",
       "    .dataframe tbody tr th {\n",
       "        vertical-align: top;\n",
       "    }\n",
       "\n",
       "    .dataframe thead th {\n",
       "        text-align: right;\n",
       "    }\n",
       "</style>\n",
       "<table border=\"1\" class=\"dataframe\">\n",
       "  <thead>\n",
       "    <tr style=\"text-align: right;\">\n",
       "      <th></th>\n",
       "      <th>institution</th>\n",
       "      <th>count</th>\n",
       "      <th>funding</th>\n",
       "      <th>log_average_funding</th>\n",
       "      <th>residuals</th>\n",
       "      <th>predicted_count</th>\n",
       "      <th>residual_percentile</th>\n",
       "    </tr>\n",
       "  </thead>\n",
       "  <tbody>\n",
       "    <tr>\n",
       "      <th>11</th>\n",
       "      <td>Duke University Medical Center</td>\n",
       "      <td>118.0</td>\n",
       "      <td>2.873265e+07</td>\n",
       "      <td>17.173545</td>\n",
       "      <td>-39.446239</td>\n",
       "      <td>157.446239</td>\n",
       "      <td>27.083333</td>\n",
       "    </tr>\n",
       "    <tr>\n",
       "      <th>65</th>\n",
       "      <td>University Of Michigan</td>\n",
       "      <td>373.0</td>\n",
       "      <td>2.407716e+07</td>\n",
       "      <td>16.996774</td>\n",
       "      <td>221.996701</td>\n",
       "      <td>151.003299</td>\n",
       "      <td>98.958333</td>\n",
       "    </tr>\n",
       "    <tr>\n",
       "      <th>93</th>\n",
       "      <td>Washington University In St. Louis</td>\n",
       "      <td>51.0</td>\n",
       "      <td>2.321553e+07</td>\n",
       "      <td>16.960332</td>\n",
       "      <td>-98.675048</td>\n",
       "      <td>149.675048</td>\n",
       "      <td>3.125000</td>\n",
       "    </tr>\n",
       "    <tr>\n",
       "      <th>75</th>\n",
       "      <td>University Of Pittsburgh</td>\n",
       "      <td>160.0</td>\n",
       "      <td>1.850336e+07</td>\n",
       "      <td>16.733463</td>\n",
       "      <td>18.593893</td>\n",
       "      <td>141.406107</td>\n",
       "      <td>67.708333</td>\n",
       "    </tr>\n",
       "    <tr>\n",
       "      <th>17</th>\n",
       "      <td>Hospital Of The University Of Pennsylvania</td>\n",
       "      <td>228.0</td>\n",
       "      <td>1.415646e+07</td>\n",
       "      <td>16.465682</td>\n",
       "      <td>96.354011</td>\n",
       "      <td>131.645989</td>\n",
       "      <td>96.875000</td>\n",
       "    </tr>\n",
       "    <tr>\n",
       "      <th>...</th>\n",
       "      <td>...</td>\n",
       "      <td>...</td>\n",
       "      <td>...</td>\n",
       "      <td>...</td>\n",
       "      <td>...</td>\n",
       "      <td>...</td>\n",
       "      <td>...</td>\n",
       "    </tr>\n",
       "    <tr>\n",
       "      <th>67</th>\n",
       "      <td>University Of Mississippi</td>\n",
       "      <td>8.0</td>\n",
       "      <td>2.296840e+05</td>\n",
       "      <td>12.344464</td>\n",
       "      <td>26.564465</td>\n",
       "      <td>-18.564465</td>\n",
       "      <td>70.833333</td>\n",
       "    </tr>\n",
       "    <tr>\n",
       "      <th>39</th>\n",
       "      <td>Temple University</td>\n",
       "      <td>16.0</td>\n",
       "      <td>2.207780e+05</td>\n",
       "      <td>12.304917</td>\n",
       "      <td>36.005862</td>\n",
       "      <td>-20.005862</td>\n",
       "      <td>75.000000</td>\n",
       "    </tr>\n",
       "    <tr>\n",
       "      <th>77</th>\n",
       "      <td>University Of South Alabama</td>\n",
       "      <td>8.0</td>\n",
       "      <td>1.835900e+05</td>\n",
       "      <td>12.120466</td>\n",
       "      <td>34.728774</td>\n",
       "      <td>-26.728774</td>\n",
       "      <td>73.958333</td>\n",
       "    </tr>\n",
       "    <tr>\n",
       "      <th>63</th>\n",
       "      <td>University Of Massachusetts Worcester</td>\n",
       "      <td>0.0</td>\n",
       "      <td>1.645590e+05</td>\n",
       "      <td>12.011031</td>\n",
       "      <td>30.717477</td>\n",
       "      <td>-30.717477</td>\n",
       "      <td>71.875000</td>\n",
       "    </tr>\n",
       "    <tr>\n",
       "      <th>41</th>\n",
       "      <td>Texas Tech University Health Sciences Center</td>\n",
       "      <td>11.0</td>\n",
       "      <td>1.428060e+05</td>\n",
       "      <td>11.869249</td>\n",
       "      <td>46.885128</td>\n",
       "      <td>-35.885128</td>\n",
       "      <td>84.375000</td>\n",
       "    </tr>\n",
       "  </tbody>\n",
       "</table>\n",
       "<p>96 rows × 7 columns</p>\n",
       "</div>"
      ],
      "text/plain": [
       "                                     institution  count       funding  \\\n",
       "11                Duke University Medical Center  118.0  2.873265e+07   \n",
       "65                        University Of Michigan  373.0  2.407716e+07   \n",
       "93            Washington University In St. Louis   51.0  2.321553e+07   \n",
       "75                      University Of Pittsburgh  160.0  1.850336e+07   \n",
       "17    Hospital Of The University Of Pennsylvania  228.0  1.415646e+07   \n",
       "..                                           ...    ...           ...   \n",
       "67                     University Of Mississippi    8.0  2.296840e+05   \n",
       "39                             Temple University   16.0  2.207780e+05   \n",
       "77                   University Of South Alabama    8.0  1.835900e+05   \n",
       "63         University Of Massachusetts Worcester    0.0  1.645590e+05   \n",
       "41  Texas Tech University Health Sciences Center   11.0  1.428060e+05   \n",
       "\n",
       "    log_average_funding   residuals  predicted_count  residual_percentile  \n",
       "11            17.173545  -39.446239       157.446239            27.083333  \n",
       "65            16.996774  221.996701       151.003299            98.958333  \n",
       "93            16.960332  -98.675048       149.675048             3.125000  \n",
       "75            16.733463   18.593893       141.406107            67.708333  \n",
       "17            16.465682   96.354011       131.645989            96.875000  \n",
       "..                  ...         ...              ...                  ...  \n",
       "67            12.344464   26.564465       -18.564465            70.833333  \n",
       "39            12.304917   36.005862       -20.005862            75.000000  \n",
       "77            12.120466   34.728774       -26.728774            73.958333  \n",
       "63            12.011031   30.717477       -30.717477            71.875000  \n",
       "41            11.869249   46.885128       -35.885128            84.375000  \n",
       "\n",
       "[96 rows x 7 columns]"
      ]
     },
     "execution_count": 23,
     "metadata": {},
     "output_type": "execute_result"
    }
   ],
   "source": [
    "\n",
    "# Identify overperformers and underperformers based on residuals\n",
    "overperformers = df_merge_by_institution[df_merge_by_institution['residuals'] > 0]  # Actual count is higher than predicted\n",
    "underperformers = df_merge_by_institution[df_merge_by_institution['residuals'] < 0]  # Actual count is lower than predicted\n",
    "\n",
    "# Recalculate residuals for all (in case of previous filtering)\n",
    "df_merge_by_institution['predicted_count'] = model.predict(X_log)\n",
    "df_merge_by_institution['residuals'] = df_merge_by_institution['count'] - df_merge_by_institution['predicted_count']\n",
    "\n",
    "## Turn residuals into percentiles from 0 to 100\n",
    "df_merge_by_institution['residual_percentile'] = df_merge_by_institution['residuals'].rank(pct=True) * 100\n",
    "\n",
    "## Calculate the median\n",
    "df_merge_by_institution['residual_percentile'].median()\n",
    "\n",
    "df_merge_by_institution"
   ]
  },
  {
   "cell_type": "code",
   "execution_count": 24,
   "metadata": {},
   "outputs": [
    {
     "data": {
      "application/vnd.plotly.v1+json": {
       "config": {
        "plotlyServerURL": "https://plot.ly"
       },
       "data": [
        {
         "customdata": [
          [
           28732648.625,
           -39.44623852186845
          ],
          [
           24077160.625,
           221.99670101514874
          ],
          [
           23215529.375,
           -98.67504817926061
          ],
          [
           18503360.375,
           18.5938927676479
          ],
          [
           14156458.125,
           96.35401060050054
          ],
          [
           13940784.75,
           -16.086430316038275
          ],
          [
           13934995.25,
           17.928709431295204
          ],
          [
           13111457.75,
           76.1490107841708
          ],
          [
           11565365.25,
           51.72220930572354
          ],
          [
           11248953.375,
           -65.26672889087052
          ],
          [
           10420675,
           36.52093928208052
          ],
          [
           10329094.5,
           -99.15732658782582
          ],
          [
           9640581.375,
           90.35697842383757
          ],
          [
           9345913.75,
           76.48840680803261
          ],
          [
           9292803.375,
           48.69612240197665
          ],
          [
           9188325.625,
           -86.89177579503445
          ],
          [
           8377609.875,
           41.474971687541085
          ],
          [
           8312621.25,
           -31.241182976262678
          ],
          [
           8312177.375,
           -73.23923668038839
          ],
          [
           8157704.875,
           -75.55551715000973
          ],
          [
           7952440,
           60.37332788621217
          ],
          [
           7136235.125,
           -80.67958435569159
          ],
          [
           7025520.5,
           -106.10968087883367
          ],
          [
           6829220.375,
           -45.076786791267466
          ],
          [
           6706131.75,
           407.5861389640792
          ],
          [
           5460956.5,
           -52.9274877610041
          ],
          [
           5344120.25,
           -22.139224614950933
          ],
          [
           5295616.875,
           -52.806910636205714
          ],
          [
           5243254.125,
           -16.4447206224184
          ],
          [
           5099440,
           -1.4310417551546948
          ],
          [
           4928462.2,
           -72.18802706741502
          ],
          [
           4923204.625,
           -57.1491243143883
          ],
          [
           4452713.333333333,
           37.51193911570118
          ],
          [
           4357510.75,
           107.29967967491808
          ],
          [
           3976324,
           -78.36374780030968
          ],
          [
           3926776.875,
           86.09326791724112
          ],
          [
           3586319.75,
           -40.601168663807414
          ],
          [
           3532806.714285714,
           -31.0532128227548
          ],
          [
           3366800.125,
           37.70102836761413
          ],
          [
           3141299.625,
           -55.77216686527646
          ],
          [
           3092595.25,
           79.79736997304639
          ],
          [
           3042282,
           -47.60478212175752
          ],
          [
           2937433.5,
           -45.32648830089096
          ],
          [
           2746859.75,
           -71.8816289947992
          ],
          [
           2550943.5,
           94.81534764971838
          ],
          [
           2529065.875,
           -15.870715138771232
          ],
          [
           2390185.625,
           -14.81216555360669
          ],
          [
           2373332.75,
           -66.55426492142891
          ],
          [
           2180609.6,
           -28.467452338648684
          ],
          [
           2179213.25,
           -10.44410540311793
          ],
          [
           2158682.75,
           -63.09909828505005
          ],
          [
           2121198.125,
           79.53936659592858
          ],
          [
           2099720.875,
           -53.08971377313077
          ],
          [
           2067080.25,
           -60.51867053853533
          ],
          [
           1818283,
           -53.844409103564146
          ],
          [
           1703641.375,
           -12.470740203075081
          ],
          [
           1620420.125,
           -42.6453306928135
          ],
          [
           1398056.142857143,
           -17.265501447912072
          ],
          [
           1344024.25,
           -27.828919111357607
          ],
          [
           1247270.375,
           37.894144603048176
          ],
          [
           1210935.2857142857,
           -22.02828930289553
          ],
          [
           1172086,
           18.16020704998084
          ],
          [
           1104215,
           4.334347254188174
          ],
          [
           1076925.6,
           -30.753563758342466
          ],
          [
           1050068.875,
           -3.8330845441273027
          ],
          [
           1035446.75,
           -13.321981618966504
          ],
          [
           965166.1428571428,
           -16.7601217136027
          ],
          [
           860230.875,
           -11.564972902605405
          ],
          [
           858389.5,
           -25.48687010878018
          ],
          [
           847376.5,
           -29.0162219834167
          ],
          [
           824372,
           -20.01305466878523
          ],
          [
           793161.5,
           -14.606341890988915
          ],
          [
           766464.5,
           -16.358416896316953
          ],
          [
           744281.5,
           -24.28797256094657
          ],
          [
           724013.25,
           25.718344009956752
          ],
          [
           665578.6666666666,
           -17.21445060107527
          ],
          [
           661259.8571428572,
           -14.97717587572754
          ],
          [
           645178.6666666666,
           -10.079839835772077
          ],
          [
           641370,
           -4.864039576655557
          ],
          [
           615638.6666666666,
           -9.371627955475617
          ],
          [
           607476,
           -11.885136465501432
          ],
          [
           591796.5,
           -12.932026568373544
          ],
          [
           562408,
           -9.075537455966867
          ],
          [
           525051.4285714285,
           39.42958344236564
          ],
          [
           510075.71428571426,
           41.48428098820989
          ],
          [
           490395.5,
           -7.081600622118856
          ],
          [
           401191.3333333333,
           5.236200225820426
          ],
          [
           364506.5,
           49.731345586017085
          ],
          [
           336213.6666666667,
           22.67625120637871
          ],
          [
           292236.6,
           30.785640211746852
          ],
          [
           232073.66666666666,
           38.18721407829236
          ],
          [
           229684,
           26.564464582751384
          ],
          [
           220778,
           36.0058622658799
          ],
          [
           183590,
           34.72877373129626
          ],
          [
           164559,
           30.71747682787344
          ],
          [
           142806,
           46.88512816572552
          ]
         ],
         "hovertemplate": "<b>%{hovertext}</b><br><br>log_average_funding=%{x}<br>Abstract Count (2016-2023)=%{y}<br>NIH Funding ($)=%{customdata[0]}<br>residuals=%{customdata[1]}<br>residual_percentile=%{marker.color}<extra></extra>",
         "hovertext": [
          "Duke University Medical Center",
          "University Of Michigan",
          "Washington University In St. Louis",
          "University Of Pittsburgh",
          "Hospital Of The University Of Pennsylvania",
          "University Of California - San Francisco",
          "Ohio State University",
          "University Of Wisconsin",
          "Stanford University",
          "Emory University School Of Medicine",
          "Northwestern University",
          "Columbia University Irving Medical Center",
          "Johns Hopkins University School Of Medicine",
          "University Of California - Los Angeles",
          "University Of Florida",
          "University Of California - Davis",
          "University Of Colorado Denver",
          "Vanderbilt University Medical Center",
          "University Of Maryland",
          "University Of Rochester",
          "University Of Miami",
          "University Of Minnesota",
          "Indiana Univ-Purdue Univ Indianapolis",
          "University Of California - San Diego",
          "University Of Alabama At Birmingham",
          "University Of Kentucky",
          "University Of Virginia",
          "Weill Cornell Medical College",
          "University Of Chicago",
          "University Of Utah",
          "Case Western Reserve University School Of Medicine",
          "New York University School Of Medicine",
          "University Of Texas Health Science Center At Houston",
          "Baylor College Of Medicine",
          "Cleveland Clinic",
          "Yale University School Of Medicine",
          "University Of Nebraska College Of Medicine",
          "New Jersey Medical School",
          "University Of North Carolina At Chapel Hill",
          "Medical University Of South Carolina",
          "University Of Texas Southwestern Medical Center",
          "University Of Southern California",
          "Wake Forest University School Of Medicine",
          "University Of Missouri Columbia",
          "Medical College Of Wisconsin",
          "Penn State Hershey Medical Center",
          "University Of Texas Medical Branch",
          "Indiana Univ-Purdue Univ At Indianapolis",
          "University Of Louisville",
          "University Of Iowa",
          "University Of Missouri-Columbia",
          "University Of Arizona",
          "University Of Washington",
          "Loyola University Chicago",
          "Rush University Medical Center",
          "University Of California - Irvine",
          "East Tennessee State University",
          "Virginia Commonwealth University",
          "University Of Illinois At Chicago",
          "University Of Cincinnati",
          "Albert Einstein College Of Medicine",
          "Harvard Medical School",
          "University Of South Florida College Of Medicine",
          "University Of Kansas Medical Center",
          "University Of Vermont College Of Medicine / Fletcher Allen Health Care",
          "University Of Oklahoma College Of Medicine",
          "George Washington University",
          "University Of New Mexico Hsc",
          "University Of Connecticut School Of Medicine",
          "Case Western Reserve University",
          "Dartmouth Hitchcock Medical Center",
          "Southern Illinois University School Of Medicine",
          "University Of Texas Health Science Center At San Antonio",
          "Texas A&M University",
          "Boston University",
          "Augusta University",
          "Suny Upstate Medical University",
          "State University Of New York At Buffalo",
          "Albany Medical College",
          "Oregon Health And Science University",
          "Brown University School Of Medicine",
          "Robert Wood Johnson - Umdnj",
          "Tulane University School Of Medicine",
          "University Of Tennessee Health Science Center",
          "Georgetown University Medical Center",
          "University Of Nevada",
          "Louisiana State University Health Sciences Center",
          "Thomas Jefferson University",
          "Stony Brook University Medical Center",
          "University Of Massachusetts Medical School",
          "Mount Sinai School Of Medicine",
          "University Of Mississippi",
          "Temple University",
          "University Of South Alabama",
          "University Of Massachusetts Worcester",
          "Texas Tech University Health Sciences Center"
         ],
         "legendgroup": "",
         "line": {
          "color": "black",
          "width": 6
         },
         "marker": {
          "color": [
           27.083333333333332,
           98.95833333333334,
           3.125,
           67.70833333333334,
           96.875,
           44.79166666666667,
           65.625,
           89.58333333333334,
           87.5,
           12.5,
           76.04166666666666,
           2.083333333333333,
           94.79166666666666,
           90.625,
           85.41666666666666,
           4.166666666666666,
           82.29166666666666,
           28.125,
           8.333333333333332,
           7.291666666666667,
           88.54166666666666,
           5.208333333333334,
           1.0416666666666665,
           23.958333333333336,
           100,
           19.791666666666664,
           36.45833333333333,
           20.833333333333336,
           42.70833333333333,
           62.5,
           9.375,
           15.625,
           77.08333333333334,
           97.91666666666666,
           6.25,
           93.75,
           26.041666666666668,
           29.166666666666668,
           78.125,
           16.666666666666664,
           92.70833333333334,
           21.875,
           22.916666666666664,
           10.416666666666668,
           95.83333333333334,
           45.83333333333333,
           47.91666666666667,
           11.458333333333332,
           32.29166666666667,
           55.208333333333336,
           13.541666666666666,
           91.66666666666666,
           18.75,
           14.583333333333334,
           17.708333333333336,
           52.083333333333336,
           25,
           39.58333333333333,
           33.33333333333333,
           79.16666666666666,
           37.5,
           66.66666666666666,
           63.541666666666664,
           30.208333333333332,
           61.458333333333336,
           50,
           41.66666666666667,
           54.166666666666664,
           34.375,
           31.25,
           38.54166666666667,
           48.95833333333333,
           43.75,
           35.41666666666667,
           69.79166666666666,
           40.625,
           46.875,
           56.25,
           60.416666666666664,
           57.291666666666664,
           53.125,
           51.041666666666664,
           58.333333333333336,
           81.25,
           83.33333333333334,
           59.375,
           64.58333333333334,
           86.45833333333334,
           68.75,
           72.91666666666666,
           80.20833333333334,
           70.83333333333334,
           75,
           73.95833333333334,
           71.875,
           84.375
          ],
          "coloraxis": "coloraxis",
          "size": 12,
          "symbol": "circle"
         },
         "mode": "markers",
         "name": "",
         "orientation": "v",
         "showlegend": false,
         "type": "scatter",
         "x": [
          17.17354465172911,
          16.996774298741414,
          16.960332025395303,
          16.73346296948979,
          16.4656815531654,
          16.450329328279135,
          16.449913949791583,
          16.388997119572718,
          16.263525521974593,
          16.235785737850655,
          16.15930246742511,
          16.150475276758787,
          16.081492077106375,
          16.05044988065158,
          16.044750935526988,
          16.033444391245038,
          15.94107333336129,
          15.93328567060502,
          15.933232271468379,
          15.914473544642645,
          15.888989483527302,
          15.78069604196024,
          15.765060005304257,
          15.73672122431633,
          15.718533001517716,
          15.513134698646581,
          15.491507682938233,
          15.482390220483706,
          15.472453070489058,
          15.444641483844038,
          15.410537773284874,
          15.409470426098823,
          15.309024430737697,
          15.287411752872964,
          15.19586858386069,
          15.183329768425866,
          15.092637374211382,
          15.077603499240487,
          15.029473630464684,
          14.960147483905857,
          14.944521506450785,
          14.928118778374992,
          14.89304713931361,
          14.825969272128912,
          14.75197424071323,
          14.74336096856069,
          14.686882006633217,
          14.67980617028183,
          14.595115487290022,
          14.594474934012867,
          14.585009218915939,
          14.56749211174267,
          14.557315453446448,
          14.54164814606746,
          14.413403757140733,
          14.348279090518513,
          14.29819662713016,
          14.15059407565953,
          14.111179587091135,
          14.036468823279382,
          14.006904408198423,
          13.974296478445941,
          13.9146461388557,
          13.889621801541216,
          13.86436726753856,
          13.850344499829095,
          13.780056570356171,
          13.664957253981209,
          13.662814403135801,
          13.649901565016568,
          13.62237837637041,
          13.583783397656939,
          13.549544966496299,
          13.52017594604687,
          13.4925663534946,
          13.408413619144305,
          13.401903681139487,
          13.37728410996081,
          13.371363351623765,
          13.330417114651775,
          13.317069593397825,
          13.290919794539189,
          13.239984622195498,
          13.171253400533267,
          13.142316413556596,
          13.102969526547675,
          12.90219622554868,
          12.806302406350852,
          12.72550512383161,
          12.5853224490073,
          12.35481443794982,
          12.344464083976316,
          12.304917480166306,
          12.120465736359185,
          12.01103052432684,
          11.869249347294042
         ],
         "xaxis": "x",
         "y": [
          118,
          373,
          51,
          160,
          228,
          115,
          149,
          205,
          176,
          58,
          157,
          21,
          208,
          193,
          165,
          29,
          154,
          81,
          39,
          36,
          171,
          26,
          0,
          60,
          512,
          44,
          74,
          43,
          79,
          93,
          21,
          36,
          127,
          196,
          7,
          171,
          41,
          50,
          117,
          21,
          156,
          28,
          29,
          0,
          164,
          53,
          52,
          0,
          35,
          53,
          0,
          142,
          9,
          1,
          3,
          42,
          10,
          30,
          18,
          81,
          20,
          59,
          43,
          7,
          33,
          23,
          17,
          18,
          4,
          0,
          8,
          12,
          9,
          0,
          49,
          3,
          5,
          9,
          14,
          8,
          5,
          3,
          5,
          51,
          52,
          2,
          7,
          48,
          18,
          21,
          20,
          8,
          16,
          8,
          0,
          11
         ],
         "yaxis": "y"
        },
        {
         "hovertemplate": "log_average_funding=%{x}<br>predicted_count=%{y}<extra></extra>",
         "legendgroup": "",
         "line": {
          "color": "black",
          "dash": "solid",
          "width": 6
         },
         "marker": {
          "symbol": "circle"
         },
         "mode": "lines",
         "name": "",
         "orientation": "v",
         "showlegend": false,
         "type": "scatter",
         "x": [
          17.17354465172911,
          16.996774298741414,
          16.960332025395303,
          16.73346296948979,
          16.4656815531654,
          16.450329328279135,
          16.449913949791583,
          16.388997119572718,
          16.263525521974593,
          16.235785737850655,
          16.15930246742511,
          16.150475276758787,
          16.081492077106375,
          16.05044988065158,
          16.044750935526988,
          16.033444391245038,
          15.94107333336129,
          15.93328567060502,
          15.933232271468379,
          15.914473544642645,
          15.888989483527302,
          15.78069604196024,
          15.765060005304257,
          15.73672122431633,
          15.718533001517716,
          15.513134698646581,
          15.491507682938233,
          15.482390220483706,
          15.472453070489058,
          15.444641483844038,
          15.410537773284874,
          15.409470426098823,
          15.309024430737697,
          15.287411752872964,
          15.19586858386069,
          15.183329768425866,
          15.092637374211382,
          15.077603499240487,
          15.029473630464684,
          14.960147483905857,
          14.944521506450785,
          14.928118778374992,
          14.89304713931361,
          14.825969272128912,
          14.75197424071323,
          14.74336096856069,
          14.686882006633217,
          14.67980617028183,
          14.595115487290022,
          14.594474934012867,
          14.585009218915939,
          14.56749211174267,
          14.557315453446448,
          14.54164814606746,
          14.413403757140733,
          14.348279090518513,
          14.29819662713016,
          14.15059407565953,
          14.111179587091135,
          14.036468823279382,
          14.006904408198423,
          13.974296478445941,
          13.9146461388557,
          13.889621801541216,
          13.86436726753856,
          13.850344499829095,
          13.780056570356171,
          13.664957253981209,
          13.662814403135801,
          13.649901565016568,
          13.62237837637041,
          13.583783397656939,
          13.549544966496299,
          13.52017594604687,
          13.4925663534946,
          13.408413619144305,
          13.401903681139487,
          13.37728410996081,
          13.371363351623765,
          13.330417114651775,
          13.317069593397825,
          13.290919794539189,
          13.239984622195498,
          13.171253400533267,
          13.142316413556596,
          13.102969526547675,
          12.90219622554868,
          12.806302406350852,
          12.72550512383161,
          12.5853224490073,
          12.35481443794982,
          12.344464083976316,
          12.304917480166306,
          12.120465736359185,
          12.01103052432684,
          11.869249347294042
         ],
         "xaxis": "x",
         "y": [
          157.44623852186845,
          151.00329898485126,
          149.6750481792606,
          141.4061072323521,
          131.64598939949946,
          131.08643031603827,
          131.0712905687048,
          128.8509892158292,
          124.27779069427646,
          123.26672889087052,
          120.47906071791948,
          120.15732658782582,
          117.64302157616243,
          116.51159319196739,
          116.30387759802335,
          115.89177579503445,
          112.52502831245891,
          112.24118297626268,
          112.23923668038839,
          111.55551715000973,
          110.62667211378783,
          106.67958435569159,
          106.10968087883367,
          105.07678679126747,
          104.41386103592077,
          96.9274877610041,
          96.13922461495093,
          95.80691063620571,
          95.4447206224184,
          94.4310417551547,
          93.18802706741502,
          93.1491243143883,
          89.48806088429882,
          88.70032032508192,
          85.36374780030968,
          84.90673208275888,
          81.60116866380741,
          81.0532128227548,
          79.29897163238587,
          76.77216686527646,
          76.20263002695361,
          75.60478212175752,
          74.32648830089096,
          71.8816289947992,
          69.18465235028162,
          68.87071513877123,
          66.81216555360669,
          66.55426492142891,
          63.467452338648684,
          63.44410540311793,
          63.09909828505005,
          62.460633404071416,
          62.08971377313077,
          61.51867053853533,
          56.844409103564146,
          54.47074020307508,
          52.6453306928135,
          47.26550144791207,
          45.82891911135761,
          43.105855396951824,
          42.02828930289553,
          40.83979295001916,
          38.665652745811826,
          37.753563758342466,
          36.8330845441273,
          36.321981618966504,
          33.7601217136027,
          29.564972902605405,
          29.48687010878018,
          29.0162219834167,
          28.01305466878523,
          26.606341890988915,
          25.358416896316953,
          24.28797256094657,
          23.281655990043248,
          20.21445060107527,
          19.97717587572754,
          19.079839835772077,
          18.864039576655557,
          17.371627955475617,
          16.885136465501432,
          15.932026568373544,
          14.075537455966867,
          11.57041655763436,
          10.515719011790111,
          9.081600622118856,
          1.7637997741795743,
          -1.7313455860170848,
          -4.6762512063787085,
          -9.785640211746852,
          -18.187214078292357,
          -18.564464582751384,
          -20.005862265879898,
          -26.728773731296258,
          -30.71747682787344,
          -35.88512816572552
         ],
         "yaxis": "y"
        }
       ],
       "layout": {
        "coloraxis": {
         "cmid": 50.52083333333333,
         "colorbar": {
          "title": {
           "text": "residual_percentile"
          }
         },
         "colorscale": [
          [
           0,
           "rgb(103,0,31)"
          ],
          [
           0.1,
           "rgb(178,24,43)"
          ],
          [
           0.2,
           "rgb(214,96,77)"
          ],
          [
           0.3,
           "rgb(244,165,130)"
          ],
          [
           0.4,
           "rgb(253,219,199)"
          ],
          [
           0.5,
           "rgb(247,247,247)"
          ],
          [
           0.6,
           "rgb(209,229,240)"
          ],
          [
           0.7,
           "rgb(146,197,222)"
          ],
          [
           0.8,
           "rgb(67,147,195)"
          ],
          [
           0.9,
           "rgb(33,102,172)"
          ],
          [
           1,
           "rgb(5,48,97)"
          ]
         ],
         "showscale": false
        },
        "font": {
         "family": "Inter",
         "size": 16
        },
        "height": 720,
        "legend": {
         "tracegroupgap": 0
        },
        "template": {
         "data": {
          "bar": [
           {
            "error_x": {
             "color": "#2a3f5f"
            },
            "error_y": {
             "color": "#2a3f5f"
            },
            "marker": {
             "line": {
              "color": "#E5ECF6",
              "width": 0.5
             },
             "pattern": {
              "fillmode": "overlay",
              "size": 10,
              "solidity": 0.2
             }
            },
            "type": "bar"
           }
          ],
          "barpolar": [
           {
            "marker": {
             "line": {
              "color": "#E5ECF6",
              "width": 0.5
             },
             "pattern": {
              "fillmode": "overlay",
              "size": 10,
              "solidity": 0.2
             }
            },
            "type": "barpolar"
           }
          ],
          "carpet": [
           {
            "aaxis": {
             "endlinecolor": "#2a3f5f",
             "gridcolor": "white",
             "linecolor": "white",
             "minorgridcolor": "white",
             "startlinecolor": "#2a3f5f"
            },
            "baxis": {
             "endlinecolor": "#2a3f5f",
             "gridcolor": "white",
             "linecolor": "white",
             "minorgridcolor": "white",
             "startlinecolor": "#2a3f5f"
            },
            "type": "carpet"
           }
          ],
          "choropleth": [
           {
            "colorbar": {
             "outlinewidth": 0,
             "ticks": ""
            },
            "type": "choropleth"
           }
          ],
          "contour": [
           {
            "colorbar": {
             "outlinewidth": 0,
             "ticks": ""
            },
            "colorscale": [
             [
              0,
              "#0d0887"
             ],
             [
              0.1111111111111111,
              "#46039f"
             ],
             [
              0.2222222222222222,
              "#7201a8"
             ],
             [
              0.3333333333333333,
              "#9c179e"
             ],
             [
              0.4444444444444444,
              "#bd3786"
             ],
             [
              0.5555555555555556,
              "#d8576b"
             ],
             [
              0.6666666666666666,
              "#ed7953"
             ],
             [
              0.7777777777777778,
              "#fb9f3a"
             ],
             [
              0.8888888888888888,
              "#fdca26"
             ],
             [
              1,
              "#f0f921"
             ]
            ],
            "type": "contour"
           }
          ],
          "contourcarpet": [
           {
            "colorbar": {
             "outlinewidth": 0,
             "ticks": ""
            },
            "type": "contourcarpet"
           }
          ],
          "heatmap": [
           {
            "colorbar": {
             "outlinewidth": 0,
             "ticks": ""
            },
            "colorscale": [
             [
              0,
              "#0d0887"
             ],
             [
              0.1111111111111111,
              "#46039f"
             ],
             [
              0.2222222222222222,
              "#7201a8"
             ],
             [
              0.3333333333333333,
              "#9c179e"
             ],
             [
              0.4444444444444444,
              "#bd3786"
             ],
             [
              0.5555555555555556,
              "#d8576b"
             ],
             [
              0.6666666666666666,
              "#ed7953"
             ],
             [
              0.7777777777777778,
              "#fb9f3a"
             ],
             [
              0.8888888888888888,
              "#fdca26"
             ],
             [
              1,
              "#f0f921"
             ]
            ],
            "type": "heatmap"
           }
          ],
          "heatmapgl": [
           {
            "colorbar": {
             "outlinewidth": 0,
             "ticks": ""
            },
            "colorscale": [
             [
              0,
              "#0d0887"
             ],
             [
              0.1111111111111111,
              "#46039f"
             ],
             [
              0.2222222222222222,
              "#7201a8"
             ],
             [
              0.3333333333333333,
              "#9c179e"
             ],
             [
              0.4444444444444444,
              "#bd3786"
             ],
             [
              0.5555555555555556,
              "#d8576b"
             ],
             [
              0.6666666666666666,
              "#ed7953"
             ],
             [
              0.7777777777777778,
              "#fb9f3a"
             ],
             [
              0.8888888888888888,
              "#fdca26"
             ],
             [
              1,
              "#f0f921"
             ]
            ],
            "type": "heatmapgl"
           }
          ],
          "histogram": [
           {
            "marker": {
             "pattern": {
              "fillmode": "overlay",
              "size": 10,
              "solidity": 0.2
             }
            },
            "type": "histogram"
           }
          ],
          "histogram2d": [
           {
            "colorbar": {
             "outlinewidth": 0,
             "ticks": ""
            },
            "colorscale": [
             [
              0,
              "#0d0887"
             ],
             [
              0.1111111111111111,
              "#46039f"
             ],
             [
              0.2222222222222222,
              "#7201a8"
             ],
             [
              0.3333333333333333,
              "#9c179e"
             ],
             [
              0.4444444444444444,
              "#bd3786"
             ],
             [
              0.5555555555555556,
              "#d8576b"
             ],
             [
              0.6666666666666666,
              "#ed7953"
             ],
             [
              0.7777777777777778,
              "#fb9f3a"
             ],
             [
              0.8888888888888888,
              "#fdca26"
             ],
             [
              1,
              "#f0f921"
             ]
            ],
            "type": "histogram2d"
           }
          ],
          "histogram2dcontour": [
           {
            "colorbar": {
             "outlinewidth": 0,
             "ticks": ""
            },
            "colorscale": [
             [
              0,
              "#0d0887"
             ],
             [
              0.1111111111111111,
              "#46039f"
             ],
             [
              0.2222222222222222,
              "#7201a8"
             ],
             [
              0.3333333333333333,
              "#9c179e"
             ],
             [
              0.4444444444444444,
              "#bd3786"
             ],
             [
              0.5555555555555556,
              "#d8576b"
             ],
             [
              0.6666666666666666,
              "#ed7953"
             ],
             [
              0.7777777777777778,
              "#fb9f3a"
             ],
             [
              0.8888888888888888,
              "#fdca26"
             ],
             [
              1,
              "#f0f921"
             ]
            ],
            "type": "histogram2dcontour"
           }
          ],
          "mesh3d": [
           {
            "colorbar": {
             "outlinewidth": 0,
             "ticks": ""
            },
            "type": "mesh3d"
           }
          ],
          "parcoords": [
           {
            "line": {
             "colorbar": {
              "outlinewidth": 0,
              "ticks": ""
             }
            },
            "type": "parcoords"
           }
          ],
          "pie": [
           {
            "automargin": true,
            "type": "pie"
           }
          ],
          "scatter": [
           {
            "fillpattern": {
             "fillmode": "overlay",
             "size": 10,
             "solidity": 0.2
            },
            "type": "scatter"
           }
          ],
          "scatter3d": [
           {
            "line": {
             "colorbar": {
              "outlinewidth": 0,
              "ticks": ""
             }
            },
            "marker": {
             "colorbar": {
              "outlinewidth": 0,
              "ticks": ""
             }
            },
            "type": "scatter3d"
           }
          ],
          "scattercarpet": [
           {
            "marker": {
             "colorbar": {
              "outlinewidth": 0,
              "ticks": ""
             }
            },
            "type": "scattercarpet"
           }
          ],
          "scattergeo": [
           {
            "marker": {
             "colorbar": {
              "outlinewidth": 0,
              "ticks": ""
             }
            },
            "type": "scattergeo"
           }
          ],
          "scattergl": [
           {
            "marker": {
             "colorbar": {
              "outlinewidth": 0,
              "ticks": ""
             }
            },
            "type": "scattergl"
           }
          ],
          "scattermapbox": [
           {
            "marker": {
             "colorbar": {
              "outlinewidth": 0,
              "ticks": ""
             }
            },
            "type": "scattermapbox"
           }
          ],
          "scatterpolar": [
           {
            "marker": {
             "colorbar": {
              "outlinewidth": 0,
              "ticks": ""
             }
            },
            "type": "scatterpolar"
           }
          ],
          "scatterpolargl": [
           {
            "marker": {
             "colorbar": {
              "outlinewidth": 0,
              "ticks": ""
             }
            },
            "type": "scatterpolargl"
           }
          ],
          "scatterternary": [
           {
            "marker": {
             "colorbar": {
              "outlinewidth": 0,
              "ticks": ""
             }
            },
            "type": "scatterternary"
           }
          ],
          "surface": [
           {
            "colorbar": {
             "outlinewidth": 0,
             "ticks": ""
            },
            "colorscale": [
             [
              0,
              "#0d0887"
             ],
             [
              0.1111111111111111,
              "#46039f"
             ],
             [
              0.2222222222222222,
              "#7201a8"
             ],
             [
              0.3333333333333333,
              "#9c179e"
             ],
             [
              0.4444444444444444,
              "#bd3786"
             ],
             [
              0.5555555555555556,
              "#d8576b"
             ],
             [
              0.6666666666666666,
              "#ed7953"
             ],
             [
              0.7777777777777778,
              "#fb9f3a"
             ],
             [
              0.8888888888888888,
              "#fdca26"
             ],
             [
              1,
              "#f0f921"
             ]
            ],
            "type": "surface"
           }
          ],
          "table": [
           {
            "cells": {
             "fill": {
              "color": "#EBF0F8"
             },
             "line": {
              "color": "white"
             }
            },
            "header": {
             "fill": {
              "color": "#C8D4E3"
             },
             "line": {
              "color": "white"
             }
            },
            "type": "table"
           }
          ]
         },
         "layout": {
          "annotationdefaults": {
           "arrowcolor": "#2a3f5f",
           "arrowhead": 0,
           "arrowwidth": 1
          },
          "autotypenumbers": "strict",
          "coloraxis": {
           "colorbar": {
            "outlinewidth": 0,
            "ticks": ""
           }
          },
          "colorscale": {
           "diverging": [
            [
             0,
             "#8e0152"
            ],
            [
             0.1,
             "#c51b7d"
            ],
            [
             0.2,
             "#de77ae"
            ],
            [
             0.3,
             "#f1b6da"
            ],
            [
             0.4,
             "#fde0ef"
            ],
            [
             0.5,
             "#f7f7f7"
            ],
            [
             0.6,
             "#e6f5d0"
            ],
            [
             0.7,
             "#b8e186"
            ],
            [
             0.8,
             "#7fbc41"
            ],
            [
             0.9,
             "#4d9221"
            ],
            [
             1,
             "#276419"
            ]
           ],
           "sequential": [
            [
             0,
             "#0d0887"
            ],
            [
             0.1111111111111111,
             "#46039f"
            ],
            [
             0.2222222222222222,
             "#7201a8"
            ],
            [
             0.3333333333333333,
             "#9c179e"
            ],
            [
             0.4444444444444444,
             "#bd3786"
            ],
            [
             0.5555555555555556,
             "#d8576b"
            ],
            [
             0.6666666666666666,
             "#ed7953"
            ],
            [
             0.7777777777777778,
             "#fb9f3a"
            ],
            [
             0.8888888888888888,
             "#fdca26"
            ],
            [
             1,
             "#f0f921"
            ]
           ],
           "sequentialminus": [
            [
             0,
             "#0d0887"
            ],
            [
             0.1111111111111111,
             "#46039f"
            ],
            [
             0.2222222222222222,
             "#7201a8"
            ],
            [
             0.3333333333333333,
             "#9c179e"
            ],
            [
             0.4444444444444444,
             "#bd3786"
            ],
            [
             0.5555555555555556,
             "#d8576b"
            ],
            [
             0.6666666666666666,
             "#ed7953"
            ],
            [
             0.7777777777777778,
             "#fb9f3a"
            ],
            [
             0.8888888888888888,
             "#fdca26"
            ],
            [
             1,
             "#f0f921"
            ]
           ]
          },
          "colorway": [
           "#636efa",
           "#EF553B",
           "#00cc96",
           "#ab63fa",
           "#FFA15A",
           "#19d3f3",
           "#FF6692",
           "#B6E880",
           "#FF97FF",
           "#FECB52"
          ],
          "font": {
           "color": "#2a3f5f"
          },
          "geo": {
           "bgcolor": "white",
           "lakecolor": "white",
           "landcolor": "#E5ECF6",
           "showlakes": true,
           "showland": true,
           "subunitcolor": "white"
          },
          "hoverlabel": {
           "align": "left"
          },
          "hovermode": "closest",
          "mapbox": {
           "style": "light"
          },
          "paper_bgcolor": "white",
          "plot_bgcolor": "#E5ECF6",
          "polar": {
           "angularaxis": {
            "gridcolor": "white",
            "linecolor": "white",
            "ticks": ""
           },
           "bgcolor": "#E5ECF6",
           "radialaxis": {
            "gridcolor": "white",
            "linecolor": "white",
            "ticks": ""
           }
          },
          "scene": {
           "xaxis": {
            "backgroundcolor": "#E5ECF6",
            "gridcolor": "white",
            "gridwidth": 2,
            "linecolor": "white",
            "showbackground": true,
            "ticks": "",
            "zerolinecolor": "white"
           },
           "yaxis": {
            "backgroundcolor": "#E5ECF6",
            "gridcolor": "white",
            "gridwidth": 2,
            "linecolor": "white",
            "showbackground": true,
            "ticks": "",
            "zerolinecolor": "white"
           },
           "zaxis": {
            "backgroundcolor": "#E5ECF6",
            "gridcolor": "white",
            "gridwidth": 2,
            "linecolor": "white",
            "showbackground": true,
            "ticks": "",
            "zerolinecolor": "white"
           }
          },
          "shapedefaults": {
           "line": {
            "color": "#2a3f5f"
           }
          },
          "ternary": {
           "aaxis": {
            "gridcolor": "white",
            "linecolor": "white",
            "ticks": ""
           },
           "baxis": {
            "gridcolor": "white",
            "linecolor": "white",
            "ticks": ""
           },
           "bgcolor": "#E5ECF6",
           "caxis": {
            "gridcolor": "white",
            "linecolor": "white",
            "ticks": ""
           }
          },
          "title": {
           "x": 0.05
          },
          "xaxis": {
           "automargin": true,
           "gridcolor": "white",
           "linecolor": "white",
           "ticks": "",
           "title": {
            "standoff": 15
           },
           "zerolinecolor": "white",
           "zerolinewidth": 2
          },
          "yaxis": {
           "automargin": true,
           "gridcolor": "white",
           "linecolor": "white",
           "ticks": "",
           "title": {
            "standoff": 15
           },
           "zerolinecolor": "white",
           "zerolinewidth": 2
          }
         }
        },
        "title": {
         "text": "NIH Funding vs. Abstract Count: Overperformers and Underperformers"
        },
        "width": 1600,
        "xaxis": {
         "anchor": "y",
         "domain": [
          0,
          1
         ],
         "title": {
          "text": "log_average_funding"
         }
        },
        "yaxis": {
         "anchor": "x",
         "domain": [
          0,
          1
         ],
         "title": {
          "text": "Abstract Count (2016-2023)"
         }
        }
       }
      }
     },
     "metadata": {},
     "output_type": "display_data"
    }
   ],
   "source": [
    "## Create a correlation plot between 'Surgery' and 'count'\n",
    "## use plotly express\n",
    "\n",
    "fig = px.scatter(\n",
    "    df_merge_by_institution,\n",
    "    x='log_average_funding',\n",
    "    y='count',\n",
    "    color='residual_percentile',\n",
    "    color_continuous_scale='RdBu',\n",
    "    color_continuous_midpoint=df_merge_by_institution['residual_percentile'].median(),\n",
    "    hover_name='institution',\n",
    "    hover_data=['funding', 'count', 'residuals'],\n",
    "    title=\"NIH Funding vs. Abstract Count: Overperformers and Underperformers\",\n",
    "    labels={'funding': 'NIH Funding ($)', 'count': 'Abstract Count (2016-2023)'}\n",
    ")\n",
    "\n",
    "# Increase marker size\n",
    "fig.update_traces(marker=dict(size=12))\n",
    "\n",
    "fig.add_traces(px.line(df_merge_by_institution, \n",
    "                       x='log_average_funding', \n",
    "                       y='predicted_count',\n",
    "                       labels={'x': 'funding', \n",
    "                               'y': 'Predicted Abstract Count'}).data)\n",
    "\n",
    "## Change line color to black and thickness to 6\n",
    "fig.update_traces(line=dict(color='black', width=6))\n",
    "\n",
    "fig.update_layout(\n",
    "    width=1600,\n",
    "    height=720,\n",
    "    font=dict(\n",
    "        family=\"Inter\",\n",
    "        size=16)\n",
    ")\n",
    "\n",
    "## Remove colorbar\n",
    "fig.update_layout(coloraxis_showscale=False)\n",
    "\n",
    "fig.show()\n",
    "\n",
    "fig.write_image('funding_vs_abstracts.svg')\n"
   ]
  },
  {
   "cell_type": "code",
   "execution_count": 25,
   "metadata": {},
   "outputs": [
    {
     "name": "stdout",
     "output_type": "stream",
     "text": [
      "                            OLS Regression Results                            \n",
      "==============================================================================\n",
      "Dep. Variable:                  count   R-squared:                       0.307\n",
      "Model:                            OLS   Adj. R-squared:                  0.299\n",
      "Method:                 Least Squares   F-statistic:                     41.57\n",
      "Date:                Tue, 21 May 2024   Prob (F-statistic):           4.86e-09\n",
      "Time:                        16:15:51   Log-Likelihood:                -542.55\n",
      "No. Observations:                  96   AIC:                             1089.\n",
      "Df Residuals:                      94   BIC:                             1094.\n",
      "Df Model:                           1                                         \n",
      "Covariance Type:            nonrobust                                         \n",
      "==============================================================================\n",
      "                 coef    std err          t      P>|t|      [0.025      0.975]\n",
      "------------------------------------------------------------------------------\n",
      "const         26.0799      9.207      2.833      0.006       7.799      44.361\n",
      "funding     8.371e-06    1.3e-06      6.447      0.000    5.79e-06    1.09e-05\n",
      "==============================================================================\n",
      "Omnibus:                       83.258   Durbin-Watson:                   2.366\n",
      "Prob(Omnibus):                  0.000   Jarque-Bera (JB):              923.779\n",
      "Skew:                           2.620   Prob(JB):                    2.54e-201\n",
      "Kurtosis:                      17.265   Cond. No.                     9.19e+06\n",
      "==============================================================================\n",
      "\n",
      "Notes:\n",
      "[1] Standard Errors assume that the covariance matrix of the errors is correctly specified.\n",
      "[2] The condition number is large, 9.19e+06. This might indicate that there are\n",
      "strong multicollinearity or other numerical problems.\n"
     ]
    }
   ],
   "source": [
    "# Prepare the independent variables, adding a constant term for the intercept\n",
    "X_log = df_merge_by_institution[['log_average_funding']]\n",
    "X_log = sm.add_constant(X)  # Adds a constant term to the predictor\n",
    "y = df_merge_by_institution['count']\n",
    "\n",
    "# Fit the linear regression model\n",
    "model = sm.OLS(y, X_log).fit()\n",
    "\n",
    "# Obtain the model summary\n",
    "summary = model.summary()\n",
    "\n",
    "# Print the summary\n",
    "print(summary)"
   ]
  },
  {
   "cell_type": "code",
   "execution_count": 26,
   "metadata": {},
   "outputs": [
    {
     "data": {
      "text/html": [
       "<div>\n",
       "<style scoped>\n",
       "    .dataframe tbody tr th:only-of-type {\n",
       "        vertical-align: middle;\n",
       "    }\n",
       "\n",
       "    .dataframe tbody tr th {\n",
       "        vertical-align: top;\n",
       "    }\n",
       "\n",
       "    .dataframe thead th {\n",
       "        text-align: right;\n",
       "    }\n",
       "</style>\n",
       "<table border=\"1\" class=\"dataframe\">\n",
       "  <thead>\n",
       "    <tr style=\"text-align: right;\">\n",
       "      <th></th>\n",
       "      <th>institution</th>\n",
       "      <th>count</th>\n",
       "      <th>funding</th>\n",
       "      <th>log_average_funding</th>\n",
       "      <th>residuals</th>\n",
       "    </tr>\n",
       "  </thead>\n",
       "  <tbody>\n",
       "    <tr>\n",
       "      <th>44</th>\n",
       "      <td>University Of Alabama At Birmingham</td>\n",
       "      <td>512.0</td>\n",
       "      <td>6.706132e+06</td>\n",
       "      <td>15.718533</td>\n",
       "      <td>407.586139</td>\n",
       "    </tr>\n",
       "    <tr>\n",
       "      <th>65</th>\n",
       "      <td>University Of Michigan</td>\n",
       "      <td>373.0</td>\n",
       "      <td>2.407716e+07</td>\n",
       "      <td>16.996774</td>\n",
       "      <td>221.996701</td>\n",
       "    </tr>\n",
       "    <tr>\n",
       "      <th>3</th>\n",
       "      <td>Baylor College Of Medicine</td>\n",
       "      <td>196.0</td>\n",
       "      <td>4.357511e+06</td>\n",
       "      <td>15.287412</td>\n",
       "      <td>107.299680</td>\n",
       "    </tr>\n",
       "    <tr>\n",
       "      <th>17</th>\n",
       "      <td>Hospital Of The University Of Pennsylvania</td>\n",
       "      <td>228.0</td>\n",
       "      <td>1.415646e+07</td>\n",
       "      <td>16.465682</td>\n",
       "      <td>96.354011</td>\n",
       "    </tr>\n",
       "    <tr>\n",
       "      <th>23</th>\n",
       "      <td>Medical College Of Wisconsin</td>\n",
       "      <td>164.0</td>\n",
       "      <td>2.550944e+06</td>\n",
       "      <td>14.751974</td>\n",
       "      <td>94.815348</td>\n",
       "    </tr>\n",
       "    <tr>\n",
       "      <th>20</th>\n",
       "      <td>Johns Hopkins University School Of Medicine</td>\n",
       "      <td>208.0</td>\n",
       "      <td>9.640581e+06</td>\n",
       "      <td>16.081492</td>\n",
       "      <td>90.356978</td>\n",
       "    </tr>\n",
       "    <tr>\n",
       "      <th>95</th>\n",
       "      <td>Yale University School Of Medicine</td>\n",
       "      <td>171.0</td>\n",
       "      <td>3.926777e+06</td>\n",
       "      <td>15.183330</td>\n",
       "      <td>86.093268</td>\n",
       "    </tr>\n",
       "    <tr>\n",
       "      <th>84</th>\n",
       "      <td>University Of Texas Southwestern Medical Center</td>\n",
       "      <td>156.0</td>\n",
       "      <td>3.092595e+06</td>\n",
       "      <td>14.944522</td>\n",
       "      <td>79.797370</td>\n",
       "    </tr>\n",
       "    <tr>\n",
       "      <th>45</th>\n",
       "      <td>University Of Arizona</td>\n",
       "      <td>142.0</td>\n",
       "      <td>2.121198e+06</td>\n",
       "      <td>14.567492</td>\n",
       "      <td>79.539367</td>\n",
       "    </tr>\n",
       "    <tr>\n",
       "      <th>48</th>\n",
       "      <td>University Of California - Los Angeles</td>\n",
       "      <td>193.0</td>\n",
       "      <td>9.345914e+06</td>\n",
       "      <td>16.050450</td>\n",
       "      <td>76.488407</td>\n",
       "    </tr>\n",
       "  </tbody>\n",
       "</table>\n",
       "</div>"
      ],
      "text/plain": [
       "                                        institution  count       funding  \\\n",
       "44              University Of Alabama At Birmingham  512.0  6.706132e+06   \n",
       "65                           University Of Michigan  373.0  2.407716e+07   \n",
       "3                        Baylor College Of Medicine  196.0  4.357511e+06   \n",
       "17       Hospital Of The University Of Pennsylvania  228.0  1.415646e+07   \n",
       "23                     Medical College Of Wisconsin  164.0  2.550944e+06   \n",
       "20      Johns Hopkins University School Of Medicine  208.0  9.640581e+06   \n",
       "95               Yale University School Of Medicine  171.0  3.926777e+06   \n",
       "84  University Of Texas Southwestern Medical Center  156.0  3.092595e+06   \n",
       "45                            University Of Arizona  142.0  2.121198e+06   \n",
       "48           University Of California - Los Angeles  193.0  9.345914e+06   \n",
       "\n",
       "    log_average_funding   residuals  \n",
       "44            15.718533  407.586139  \n",
       "65            16.996774  221.996701  \n",
       "3             15.287412  107.299680  \n",
       "17            16.465682   96.354011  \n",
       "23            14.751974   94.815348  \n",
       "20            16.081492   90.356978  \n",
       "95            15.183330   86.093268  \n",
       "84            14.944522   79.797370  \n",
       "45            14.567492   79.539367  \n",
       "48            16.050450   76.488407  "
      ]
     },
     "execution_count": 26,
     "metadata": {},
     "output_type": "execute_result"
    }
   ],
   "source": [
    "overperformers.sort_values('residuals', ascending=False).head(10)"
   ]
  }
 ],
 "metadata": {
  "kernelspec": {
   "display_name": "Python 3",
   "language": "python",
   "name": "python3"
  },
  "language_info": {
   "codemirror_mode": {
    "name": "ipython",
    "version": 3
   },
   "file_extension": ".py",
   "mimetype": "text/x-python",
   "name": "python",
   "nbconvert_exporter": "python",
   "pygments_lexer": "ipython3",
   "version": "3.10.5"
  }
 },
 "nbformat": 4,
 "nbformat_minor": 2
}
