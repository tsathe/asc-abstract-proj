{
 "cells": [
  {
   "cell_type": "code",
   "execution_count": 1,
   "metadata": {},
   "outputs": [],
   "source": [
    "import pandas as pd\n",
    "import plotly.express as px\n",
    "from fuzzywuzzy import process, fuzz\n",
    "import numpy as np\n",
    "from collections import Counter\n",
    "import re \n",
    "import collections"
   ]
  },
  {
   "attachments": {},
   "cell_type": "markdown",
   "metadata": {},
   "source": [
    "### Merging Files into One Dataframe\n",
    "\n",
    "Our dataset contains one CSV file per year so we read each file in as a dataframe and then concatenate the dataframe. The final dataset contains 10,529 entries spanning 2016 to 2023."
   ]
  },
  {
   "cell_type": "code",
   "execution_count": 2,
   "metadata": {},
   "outputs": [
    {
     "name": "stdout",
     "output_type": "stream",
     "text": [
      "12294\n"
     ]
    }
   ],
   "source": [
    "df_2016 = pd.read_csv('2016Export.csv', encoding_errors='ignore')\n",
    "df_2016['year'] = 2016\n",
    "\n",
    "df_2017 = pd.read_csv('2017Export.csv', encoding_errors='ignore')\n",
    "df_2017['year'] = 2017\n",
    "\n",
    "df_2018 = pd.read_csv('2018Export.csv', encoding_errors='ignore')\n",
    "df_2018['year'] = 2018\n",
    "\n",
    "df_2019 = pd.read_csv('2019Export.csv', encoding_errors='ignore')\n",
    "df_2019['year'] = 2019\n",
    "\n",
    "df_2020 = pd.read_csv('2020Export.csv', encoding_errors='ignore')\n",
    "df_2020['year'] = 2020\n",
    "\n",
    "df_2021 = pd.read_csv('2021Export.csv', encoding_errors='ignore')\n",
    "df_2021['year'] = 2021\n",
    "\n",
    "df_2022 = pd.read_csv('2022Export.csv', encoding_errors='ignore')\n",
    "df_2022['year'] = 2022\n",
    "\n",
    "df_2023 = pd.read_csv('2023Export.csv', encoding_errors='ignore')\n",
    "df_2023['year'] = 2023\n",
    "\n",
    "df_2024 = pd.read_csv('2024Export.csv', encoding_errors='ignore')\n",
    "df_2024['year'] = 2024\n",
    "\n",
    "df = pd.concat([df_2016, df_2017, df_2018, df_2019, df_2020, df_2021, df_2022, df_2023, df_2024], axis=0)\n",
    "\n",
    "\n",
    "print(len(df))"
   ]
  },
  {
   "attachments": {},
   "cell_type": "markdown",
   "metadata": {},
   "source": [
    "### Removing Entries with Incomplete Data\n",
    "\n",
    "Next, we remove any entries that are missing an author block as this will prevent subsequent data cleaning. It looks like only one such entry is affected as the new total is 10,528 entries."
   ]
  },
  {
   "cell_type": "code",
   "execution_count": 3,
   "metadata": {},
   "outputs": [
    {
     "name": "stdout",
     "output_type": "stream",
     "text": [
      "12293\n"
     ]
    }
   ],
   "source": [
    "df.dropna(subset=['author_block'], inplace=True)\n",
    "print(len(df))"
   ]
  },
  {
   "cell_type": "code",
   "execution_count": 4,
   "metadata": {},
   "outputs": [
    {
     "name": "stdout",
     "output_type": "stream",
     "text": [
      "12142\n"
     ]
    }
   ],
   "source": [
    "df.drop_duplicates(subset=['control_number'], inplace=True)\n",
    "print(len(df))"
   ]
  },
  {
   "attachments": {},
   "cell_type": "markdown",
   "metadata": {},
   "source": [
    "### Filtering Authors\n",
    "\n",
    "We do data cleaning to separate the author portion and institution portion of the author block. We obtain the first and last authors in author block. We also remove middle initials so that each author is in the format F. Lastname (as opposed to F.M. Lastname). This is to make sure that authors are grouped properly even if their middle initial was used variably in the abstract. However, we do lose resolution if two authors with the same first initial and last name are merged (however this appears to be rare). We unfortunately do not have full first and last name information in this data."
   ]
  },
  {
   "cell_type": "code",
   "execution_count": 5,
   "metadata": {},
   "outputs": [],
   "source": [
    "df['author_block'] = df['author_block'].str.replace('(&nbsp;)', ' ', regex=True)\n",
    "\n",
    "## Remove all non-ascii characters from the author_block\n",
    "df['author_block'] = df['author_block'].str.replace(r'[^\\x00-\\x7F]+', '', regex=True)\n",
    "\n",
    "## Remove &nbsp; from the author_block\n",
    "df['author_block'] = df['author_block'].str.replace('(&nbsp;)', ' ')\n",
    "\n",
    "## For some reason its not working to remove the &nbsp; from the author_block\n",
    "## Can we do it another way\n",
    "\n",
    "## Remove all non-ascii characters from the author_block\n",
    "df['author_block'] = df['author_block'].str.replace(r'[^\\x00-\\x7F]+', '', regex=True)\n",
    "\n",
    "## Remove &nbsp; from the author_block\n",
    "df['author_block'] = df['author_block'].str.replace('(&nbsp;)', ' ')\n",
    "\n",
    "df['author_block'] = df['author_block'].str.replace('\\D', '')\n"
   ]
  },
  {
   "cell_type": "code",
   "execution_count": 6,
   "metadata": {},
   "outputs": [
    {
     "data": {
      "text/html": [
       "<div>\n",
       "<style scoped>\n",
       "    .dataframe tbody tr th:only-of-type {\n",
       "        vertical-align: middle;\n",
       "    }\n",
       "\n",
       "    .dataframe tbody tr th {\n",
       "        vertical-align: top;\n",
       "    }\n",
       "\n",
       "    .dataframe thead th {\n",
       "        text-align: right;\n",
       "    }\n",
       "</style>\n",
       "<table border=\"1\" class=\"dataframe\">\n",
       "  <thead>\n",
       "    <tr style=\"text-align: right;\">\n",
       "      <th></th>\n",
       "      <th>0</th>\n",
       "      <th>1</th>\n",
       "      <th>2</th>\n",
       "      <th>3</th>\n",
       "      <th>4</th>\n",
       "      <th>5</th>\n",
       "      <th>authors</th>\n",
       "      <th>author_list</th>\n",
       "      <th>first_author</th>\n",
       "      <th>senior_author</th>\n",
       "    </tr>\n",
       "  </thead>\n",
       "  <tbody>\n",
       "    <tr>\n",
       "      <th>0</th>\n",
       "      <td>P. T. White&lt;sup&gt;1&lt;/sup&gt;, C. Subramanian&lt;sup&gt;1&lt;...</td>\n",
       "      <td>&lt;sup&gt;1,4&lt;/sup&gt;</td>\n",
       "      <td></td>\n",
       "      <td>&lt;sup&gt;5&lt;/sup&gt;</td>\n",
       "      <td>None</td>\n",
       "      <td>University Of Michigan,Department Of Biomedica...</td>\n",
       "      <td>P. T. White&lt;sup&gt;1&lt;/sup&gt;, C. Subramanian&lt;sup&gt;1&lt;...</td>\n",
       "      <td>[P. T. White&lt;sup&gt;1&lt;/sup&gt;,  C. Subramanian&lt;sup&gt;...</td>\n",
       "      <td>P. White</td>\n",
       "      <td>M. Cohen</td>\n",
       "    </tr>\n",
       "    <tr>\n",
       "      <th>1</th>\n",
       "      <td>P. Patel&lt;sup&gt;1&lt;/sup&gt;, T. Kato&lt;sup&gt;1&lt;/sup&gt;, H. ...</td>\n",
       "      <td>&lt;sup&gt;1,2,3&lt;/sup&gt;</td>\n",
       "      <td></td>\n",
       "      <td>&lt;sup&gt;1&lt;/sup&gt;</td>\n",
       "      <td>None</td>\n",
       "      <td>University of Toronto,Division Of Thoracic Sur...</td>\n",
       "      <td>P. Patel&lt;sup&gt;1&lt;/sup&gt;, T. Kato&lt;sup&gt;1&lt;/sup&gt;, H. ...</td>\n",
       "      <td>[P. Patel&lt;sup&gt;1&lt;/sup&gt;,  T. Kato&lt;sup&gt;1&lt;/sup&gt;,  ...</td>\n",
       "      <td>P. Patel</td>\n",
       "      <td>K. Yasufuku</td>\n",
       "    </tr>\n",
       "    <tr>\n",
       "      <th>2</th>\n",
       "      <td>R. Jaskula Sztul&lt;sup&gt;1,3&lt;/sup&gt;, G. Chen&lt;sup&gt;2&lt;...</td>\n",
       "      <td>&lt;sup&gt;1,3&lt;/sup&gt;</td>\n",
       "      <td></td>\n",
       "      <td>&lt;sup&gt;1&lt;/sup&gt;</td>\n",
       "      <td>None</td>\n",
       "      <td>University Of Wisconsin,Surgery,Madison, WI, U...</td>\n",
       "      <td>R. Jaskula Sztul&lt;sup&gt;1,3&lt;/sup&gt;, G. Chen&lt;sup&gt;2&lt;...</td>\n",
       "      <td>[R. Jaskula Sztul&lt;sup&gt;1, 3&lt;/sup&gt;,  G. Chen&lt;sup...</td>\n",
       "      <td>R. Jaskula Sztul</td>\n",
       "      <td>H. Chen</td>\n",
       "    </tr>\n",
       "    <tr>\n",
       "      <th>3</th>\n",
       "      <td>M. M. Hodges&lt;sup&gt;1&lt;/sup&gt;, C. Zgheib&lt;sup&gt;1&lt;/sup...</td>\n",
       "      <td>&lt;sup&gt;1&lt;/sup&gt;</td>\n",
       "      <td></td>\n",
       "      <td>&lt;sup&gt;1&lt;/sup&gt;</td>\n",
       "      <td>None</td>\n",
       "      <td>University Of Colorado Denver,Laboratory For F...</td>\n",
       "      <td>M. M. Hodges&lt;sup&gt;1&lt;/sup&gt;, C. Zgheib&lt;sup&gt;1&lt;/sup...</td>\n",
       "      <td>[M. M. Hodges&lt;sup&gt;1&lt;/sup&gt;,  C. Zgheib&lt;sup&gt;1&lt;/s...</td>\n",
       "      <td>M. Hodges</td>\n",
       "      <td>K. Liechty</td>\n",
       "    </tr>\n",
       "    <tr>\n",
       "      <th>4</th>\n",
       "      <td>I. J. Lawandy&lt;sup&gt;1&lt;/sup&gt;, B. A. Potz&lt;sup&gt;1&lt;/s...</td>\n",
       "      <td>&lt;sup&gt;1&lt;/sup&gt;</td>\n",
       "      <td></td>\n",
       "      <td>&lt;sup&gt;1&lt;/sup&gt;</td>\n",
       "      <td>None</td>\n",
       "      <td>Brown University,Surgery/Cardiothoracic Surger...</td>\n",
       "      <td>I. J. Lawandy&lt;sup&gt;1&lt;/sup&gt;, B. A. Potz&lt;sup&gt;1&lt;/s...</td>\n",
       "      <td>[I. J. Lawandy&lt;sup&gt;1&lt;/sup&gt;,  B. A. Potz&lt;sup&gt;1&lt;...</td>\n",
       "      <td>I. Lawandy</td>\n",
       "      <td>F. Sellke</td>\n",
       "    </tr>\n",
       "    <tr>\n",
       "      <th>...</th>\n",
       "      <td>...</td>\n",
       "      <td>...</td>\n",
       "      <td>...</td>\n",
       "      <td>...</td>\n",
       "      <td>...</td>\n",
       "      <td>...</td>\n",
       "      <td>...</td>\n",
       "      <td>...</td>\n",
       "      <td>...</td>\n",
       "      <td>...</td>\n",
       "    </tr>\n",
       "    <tr>\n",
       "      <th>1760</th>\n",
       "      <td>P. W. Wachira&lt;sup&gt;1&lt;/sup&gt;, A. Savage&lt;sup&gt;2&lt;/su...</td>\n",
       "      <td>&lt;sup&gt;1&lt;/sup&gt;</td>\n",
       "      <td></td>\n",
       "      <td>&lt;sup&gt;1&lt;/sup&gt;</td>\n",
       "      <td>None</td>\n",
       "      <td>The University of Alabama at Birmingham (UAB),...</td>\n",
       "      <td>P. W. Wachira&lt;sup&gt;1&lt;/sup&gt;, A. Savage&lt;sup&gt;2&lt;/su...</td>\n",
       "      <td>[P. W. Wachira&lt;sup&gt;1&lt;/sup&gt;,  A. Savage&lt;sup&gt;2&lt;/...</td>\n",
       "      <td>P. Wachira</td>\n",
       "      <td>A. Gillis</td>\n",
       "    </tr>\n",
       "    <tr>\n",
       "      <th>1761</th>\n",
       "      <td>M. Kheng&lt;sup&gt;1&lt;/sup&gt;, A. Manzella&lt;sup&gt;1&lt;/sup&gt;,...</td>\n",
       "      <td>&lt;sup&gt;1,2&lt;/sup&gt;</td>\n",
       "      <td></td>\n",
       "      <td>&lt;sup&gt;2&lt;/sup&gt;</td>\n",
       "      <td>None</td>\n",
       "      <td>Rutgers Cancer Institute of New Jersey, Endocr...</td>\n",
       "      <td>M. Kheng&lt;sup&gt;1&lt;/sup&gt;, A. Manzella&lt;sup&gt;1&lt;/sup&gt;,...</td>\n",
       "      <td>[M. Kheng&lt;sup&gt;1&lt;/sup&gt;,  A. Manzella&lt;sup&gt;1&lt;/sup...</td>\n",
       "      <td>M. Kheng</td>\n",
       "      <td>A. Laird</td>\n",
       "    </tr>\n",
       "    <tr>\n",
       "      <th>1762</th>\n",
       "      <td>B. N. Titanji&lt;sup&gt;1,2&lt;/sup&gt;, M. Earley&lt;sup&gt;1&lt;/...</td>\n",
       "      <td>&lt;sup&gt;1&lt;/sup&gt;</td>\n",
       "      <td></td>\n",
       "      <td>&lt;sup&gt;1&lt;/sup&gt;</td>\n",
       "      <td>None</td>\n",
       "      <td>Stanford University, Department Of Surgery, Pa...</td>\n",
       "      <td>B. N. Titanji&lt;sup&gt;1,2&lt;/sup&gt;, M. Earley&lt;sup&gt;1&lt;/...</td>\n",
       "      <td>[B. N. Titanji&lt;sup&gt;1, 2&lt;/sup&gt;,  M. Earley&lt;sup&gt;...</td>\n",
       "      <td>B. Titanji</td>\n",
       "      <td>E. Kebebew</td>\n",
       "    </tr>\n",
       "    <tr>\n",
       "      <th>1763</th>\n",
       "      <td>J. Hwang&lt;sup&gt;1,2&lt;/sup&gt;, J. Sharpe&lt;sup&gt;2&lt;/sup&gt;,...</td>\n",
       "      <td>&lt;sup&gt;2,3&lt;/sup&gt;</td>\n",
       "      <td></td>\n",
       "      <td>&lt;sup&gt;1&lt;/sup&gt;</td>\n",
       "      <td>None</td>\n",
       "      <td>Hospital Of The University Of Pennsylvania, Ge...</td>\n",
       "      <td>J. Hwang&lt;sup&gt;1,2&lt;/sup&gt;, J. Sharpe&lt;sup&gt;2&lt;/sup&gt;,...</td>\n",
       "      <td>[J. Hwang&lt;sup&gt;1, 2&lt;/sup&gt;,  J. Sharpe&lt;sup&gt;2&lt;/su...</td>\n",
       "      <td>J. Hwang</td>\n",
       "      <td>R. Kelz</td>\n",
       "    </tr>\n",
       "    <tr>\n",
       "      <th>1764</th>\n",
       "      <td>Z. Song&lt;sup&gt;1&lt;/sup&gt;, R. Wang&lt;sup&gt;1&lt;/sup&gt;, A. G...</td>\n",
       "      <td>&lt;sup&gt;1&lt;/sup&gt;</td>\n",
       "      <td></td>\n",
       "      <td>&lt;sup&gt;1&lt;/sup&gt;</td>\n",
       "      <td>None</td>\n",
       "      <td>University Of Alabama at Birmingham, Endocrine...</td>\n",
       "      <td>Z. Song&lt;sup&gt;1&lt;/sup&gt;, R. Wang&lt;sup&gt;1&lt;/sup&gt;, A. G...</td>\n",
       "      <td>[Z. Song&lt;sup&gt;1&lt;/sup&gt;,  R. Wang&lt;sup&gt;1&lt;/sup&gt;,  A...</td>\n",
       "      <td>Z. Song</td>\n",
       "      <td>H. Chen</td>\n",
       "    </tr>\n",
       "  </tbody>\n",
       "</table>\n",
       "<p>12142 rows × 10 columns</p>\n",
       "</div>"
      ],
      "text/plain": [
       "                                                      0                 1 2   \\\n",
       "0     P. T. White<sup>1</sup>, C. Subramanian<sup>1<...    <sup>1,4</sup>      \n",
       "1     P. Patel<sup>1</sup>, T. Kato<sup>1</sup>, H. ...  <sup>1,2,3</sup>      \n",
       "2     R. Jaskula Sztul<sup>1,3</sup>, G. Chen<sup>2<...    <sup>1,3</sup>      \n",
       "3     M. M. Hodges<sup>1</sup>, C. Zgheib<sup>1</sup...      <sup>1</sup>      \n",
       "4     I. J. Lawandy<sup>1</sup>, B. A. Potz<sup>1</s...      <sup>1</sup>      \n",
       "...                                                 ...               ... ..   \n",
       "1760  P. W. Wachira<sup>1</sup>, A. Savage<sup>2</su...      <sup>1</sup>      \n",
       "1761  M. Kheng<sup>1</sup>, A. Manzella<sup>1</sup>,...    <sup>1,2</sup>      \n",
       "1762  B. N. Titanji<sup>1,2</sup>, M. Earley<sup>1</...      <sup>1</sup>      \n",
       "1763  J. Hwang<sup>1,2</sup>, J. Sharpe<sup>2</sup>,...    <sup>2,3</sup>      \n",
       "1764  Z. Song<sup>1</sup>, R. Wang<sup>1</sup>, A. G...      <sup>1</sup>      \n",
       "\n",
       "                 3     4                                                  5  \\\n",
       "0     <sup>5</sup>  None  University Of Michigan,Department Of Biomedica...   \n",
       "1     <sup>1</sup>  None  University of Toronto,Division Of Thoracic Sur...   \n",
       "2     <sup>1</sup>  None  University Of Wisconsin,Surgery,Madison, WI, U...   \n",
       "3     <sup>1</sup>  None  University Of Colorado Denver,Laboratory For F...   \n",
       "4     <sup>1</sup>  None  Brown University,Surgery/Cardiothoracic Surger...   \n",
       "...            ...   ...                                                ...   \n",
       "1760  <sup>1</sup>  None  The University of Alabama at Birmingham (UAB),...   \n",
       "1761  <sup>2</sup>  None  Rutgers Cancer Institute of New Jersey, Endocr...   \n",
       "1762  <sup>1</sup>  None  Stanford University, Department Of Surgery, Pa...   \n",
       "1763  <sup>1</sup>  None  Hospital Of The University Of Pennsylvania, Ge...   \n",
       "1764  <sup>1</sup>  None  University Of Alabama at Birmingham, Endocrine...   \n",
       "\n",
       "                                                authors  \\\n",
       "0     P. T. White<sup>1</sup>, C. Subramanian<sup>1<...   \n",
       "1     P. Patel<sup>1</sup>, T. Kato<sup>1</sup>, H. ...   \n",
       "2     R. Jaskula Sztul<sup>1,3</sup>, G. Chen<sup>2<...   \n",
       "3     M. M. Hodges<sup>1</sup>, C. Zgheib<sup>1</sup...   \n",
       "4     I. J. Lawandy<sup>1</sup>, B. A. Potz<sup>1</s...   \n",
       "...                                                 ...   \n",
       "1760  P. W. Wachira<sup>1</sup>, A. Savage<sup>2</su...   \n",
       "1761  M. Kheng<sup>1</sup>, A. Manzella<sup>1</sup>,...   \n",
       "1762  B. N. Titanji<sup>1,2</sup>, M. Earley<sup>1</...   \n",
       "1763  J. Hwang<sup>1,2</sup>, J. Sharpe<sup>2</sup>,...   \n",
       "1764  Z. Song<sup>1</sup>, R. Wang<sup>1</sup>, A. G...   \n",
       "\n",
       "                                            author_list      first_author  \\\n",
       "0     [P. T. White<sup>1</sup>,  C. Subramanian<sup>...          P. White   \n",
       "1     [P. Patel<sup>1</sup>,  T. Kato<sup>1</sup>,  ...          P. Patel   \n",
       "2     [R. Jaskula Sztul<sup>1, 3</sup>,  G. Chen<sup...  R. Jaskula Sztul   \n",
       "3     [M. M. Hodges<sup>1</sup>,  C. Zgheib<sup>1</s...         M. Hodges   \n",
       "4     [I. J. Lawandy<sup>1</sup>,  B. A. Potz<sup>1<...        I. Lawandy   \n",
       "...                                                 ...               ...   \n",
       "1760  [P. W. Wachira<sup>1</sup>,  A. Savage<sup>2</...        P. Wachira   \n",
       "1761  [M. Kheng<sup>1</sup>,  A. Manzella<sup>1</sup...          M. Kheng   \n",
       "1762  [B. N. Titanji<sup>1, 2</sup>,  M. Earley<sup>...        B. Titanji   \n",
       "1763  [J. Hwang<sup>1, 2</sup>,  J. Sharpe<sup>2</su...          J. Hwang   \n",
       "1764  [Z. Song<sup>1</sup>,  R. Wang<sup>1</sup>,  A...           Z. Song   \n",
       "\n",
       "     senior_author  \n",
       "0         M. Cohen  \n",
       "1      K. Yasufuku  \n",
       "2          H. Chen  \n",
       "3       K. Liechty  \n",
       "4        F. Sellke  \n",
       "...            ...  \n",
       "1760     A. Gillis  \n",
       "1761      A. Laird  \n",
       "1762    E. Kebebew  \n",
       "1763       R. Kelz  \n",
       "1764       H. Chen  \n",
       "\n",
       "[12142 rows x 10 columns]"
      ]
     },
     "execution_count": 6,
     "metadata": {},
     "output_type": "execute_result"
    }
   ],
   "source": [
    "df_author = df['author_block'].str.split('(<sup>,?[\\d*]+(,?\\.? ?[\\d*]?)*<\\/sup>)[\\s\\r\\n]*[;]*[ ]*[\\t]*(<sup>,?[\\d*]*(,?\\.? ?[\\d*])*<\\/sup>)', \n",
    "                                     expand=True)\n",
    "\n",
    "\n",
    "df_author['authors'] = df_author[0].str.replace('(<sup>,?[0-9]+(,[0-9]+)*,?</sup>)', '')\n",
    "\n",
    "df_author['author_list'] = df_author.apply(lambda x: x['authors'].split(','), axis=1)\n",
    "\n",
    "\n",
    "df_author['first_author'] = df_author.apply(lambda x: x['author_list'][0], axis=1)\n",
    "\n",
    "## Remove html tags from the first author\n",
    "df_author['first_author'] = df_author['first_author'].str.replace('<[^<]+?>', '', regex=True)\n",
    "\n",
    "## Remove numbers from the first author\n",
    "df_author['first_author'] = df_author['first_author'].str.replace('\\d+', '', regex=True)\n",
    "\n",
    "## Remove middle initials from the first author\n",
    "df_author['first_author'] = df_author['first_author'].str.replace('(. \\w. )', '. ', regex=True)\n",
    "\n",
    "## Extract senior author\n",
    "df_author['senior_author'] = df_author.apply(lambda x: x['author_list'][-1], axis=1)\n",
    "\n",
    "## Remove middle initial from senior author\n",
    "df_author['senior_author'] = df_author['senior_author'].str.replace('(. \\w. )', '. ', regex=True)\n",
    "\n",
    "df_author"
   ]
  },
  {
   "attachments": {},
   "cell_type": "markdown",
   "metadata": {},
   "source": [
    "### Filtering Institutions\n",
    "\n",
    "For the institution list, we make the assumption that the first institution listed in the block is the main institution that contributed the work. In the string of the first assumption, we look for the words \"university\", \"hospital\", \"institute\", or \"medical center\" or if none of those words exist, the first expression separated by a comma. "
   ]
  },
  {
   "cell_type": "code",
   "execution_count": 7,
   "metadata": {},
   "outputs": [
    {
     "data": {
      "text/html": [
       "<div>\n",
       "<style scoped>\n",
       "    .dataframe tbody tr th:only-of-type {\n",
       "        vertical-align: middle;\n",
       "    }\n",
       "\n",
       "    .dataframe tbody tr th {\n",
       "        vertical-align: top;\n",
       "    }\n",
       "\n",
       "    .dataframe thead th {\n",
       "        text-align: right;\n",
       "    }\n",
       "</style>\n",
       "<table border=\"1\" class=\"dataframe\">\n",
       "  <thead>\n",
       "    <tr style=\"text-align: right;\">\n",
       "      <th></th>\n",
       "      <th>0</th>\n",
       "      <th>1</th>\n",
       "      <th>2</th>\n",
       "      <th>3</th>\n",
       "      <th>4</th>\n",
       "      <th>5</th>\n",
       "      <th>authors</th>\n",
       "      <th>author_list</th>\n",
       "      <th>first_author</th>\n",
       "      <th>senior_author</th>\n",
       "      <th>institutions</th>\n",
       "      <th>institution_list</th>\n",
       "      <th>first_institution</th>\n",
       "      <th>smart_institution</th>\n",
       "      <th>smart_institution2</th>\n",
       "    </tr>\n",
       "  </thead>\n",
       "  <tbody>\n",
       "    <tr>\n",
       "      <th>0</th>\n",
       "      <td>P. T. White&lt;sup&gt;1&lt;/sup&gt;, C. Subramanian&lt;sup&gt;1&lt;...</td>\n",
       "      <td>&lt;sup&gt;1,4&lt;/sup&gt;</td>\n",
       "      <td></td>\n",
       "      <td>&lt;sup&gt;5&lt;/sup&gt;</td>\n",
       "      <td>None</td>\n",
       "      <td>University Of Michigan,Department Of Biomedica...</td>\n",
       "      <td>P. T. White&lt;sup&gt;1&lt;/sup&gt;, C. Subramanian&lt;sup&gt;1&lt;...</td>\n",
       "      <td>[P. T. White&lt;sup&gt;1&lt;/sup&gt;,  C. Subramanian&lt;sup&gt;...</td>\n",
       "      <td>P. White</td>\n",
       "      <td>M. Cohen</td>\n",
       "      <td>University Of Michigan,Department Of Biomedica...</td>\n",
       "      <td>[University Of Michigan,Department Of Biomedic...</td>\n",
       "      <td>[University Of Michigan, Department Of Biomedi...</td>\n",
       "      <td>University Of Michigan,Department Of Biomedica...</td>\n",
       "      <td>University Of Michigan</td>\n",
       "    </tr>\n",
       "    <tr>\n",
       "      <th>1</th>\n",
       "      <td>P. Patel&lt;sup&gt;1&lt;/sup&gt;, T. Kato&lt;sup&gt;1&lt;/sup&gt;, H. ...</td>\n",
       "      <td>&lt;sup&gt;1,2,3&lt;/sup&gt;</td>\n",
       "      <td></td>\n",
       "      <td>&lt;sup&gt;1&lt;/sup&gt;</td>\n",
       "      <td>None</td>\n",
       "      <td>University of Toronto,Division Of Thoracic Sur...</td>\n",
       "      <td>P. Patel&lt;sup&gt;1&lt;/sup&gt;, T. Kato&lt;sup&gt;1&lt;/sup&gt;, H. ...</td>\n",
       "      <td>[P. Patel&lt;sup&gt;1&lt;/sup&gt;,  T. Kato&lt;sup&gt;1&lt;/sup&gt;,  ...</td>\n",
       "      <td>P. Patel</td>\n",
       "      <td>K. Yasufuku</td>\n",
       "      <td>University of Toronto,Division Of Thoracic Sur...</td>\n",
       "      <td>[University of Toronto,Division Of Thoracic Su...</td>\n",
       "      <td>[University of Toronto, Division Of Thoracic S...</td>\n",
       "      <td>University of Toronto,Division Of Thoracic Sur...</td>\n",
       "      <td>University Of Toronto</td>\n",
       "    </tr>\n",
       "    <tr>\n",
       "      <th>2</th>\n",
       "      <td>R. Jaskula Sztul&lt;sup&gt;1,3&lt;/sup&gt;, G. Chen&lt;sup&gt;2&lt;...</td>\n",
       "      <td>&lt;sup&gt;1,3&lt;/sup&gt;</td>\n",
       "      <td></td>\n",
       "      <td>&lt;sup&gt;1&lt;/sup&gt;</td>\n",
       "      <td>None</td>\n",
       "      <td>University Of Wisconsin,Surgery,Madison, WI, U...</td>\n",
       "      <td>R. Jaskula Sztul&lt;sup&gt;1,3&lt;/sup&gt;, G. Chen&lt;sup&gt;2&lt;...</td>\n",
       "      <td>[R. Jaskula Sztul&lt;sup&gt;1, 3&lt;/sup&gt;,  G. Chen&lt;sup...</td>\n",
       "      <td>R. Jaskula Sztul</td>\n",
       "      <td>H. Chen</td>\n",
       "      <td>University Of Wisconsin,Surgery,Madison, WI, U...</td>\n",
       "      <td>[University Of Wisconsin,Surgery,Madison, WI, ...</td>\n",
       "      <td>[University Of Wisconsin, Surgery, Madison,  W...</td>\n",
       "      <td>University Of Wisconsin,Surgery,Madison, WI, U...</td>\n",
       "      <td>University Of Wisconsin</td>\n",
       "    </tr>\n",
       "    <tr>\n",
       "      <th>3</th>\n",
       "      <td>M. M. Hodges&lt;sup&gt;1&lt;/sup&gt;, C. Zgheib&lt;sup&gt;1&lt;/sup...</td>\n",
       "      <td>&lt;sup&gt;1&lt;/sup&gt;</td>\n",
       "      <td></td>\n",
       "      <td>&lt;sup&gt;1&lt;/sup&gt;</td>\n",
       "      <td>None</td>\n",
       "      <td>University Of Colorado Denver,Laboratory For F...</td>\n",
       "      <td>M. M. Hodges&lt;sup&gt;1&lt;/sup&gt;, C. Zgheib&lt;sup&gt;1&lt;/sup...</td>\n",
       "      <td>[M. M. Hodges&lt;sup&gt;1&lt;/sup&gt;,  C. Zgheib&lt;sup&gt;1&lt;/s...</td>\n",
       "      <td>M. Hodges</td>\n",
       "      <td>K. Liechty</td>\n",
       "      <td>University Of Colorado Denver,Laboratory For F...</td>\n",
       "      <td>[University Of Colorado Denver,Laboratory For ...</td>\n",
       "      <td>[University Of Colorado Denver, Laboratory For...</td>\n",
       "      <td>University Of Colorado Denver,Laboratory For F...</td>\n",
       "      <td>University Of Colorado Denver</td>\n",
       "    </tr>\n",
       "    <tr>\n",
       "      <th>4</th>\n",
       "      <td>I. J. Lawandy&lt;sup&gt;1&lt;/sup&gt;, B. A. Potz&lt;sup&gt;1&lt;/s...</td>\n",
       "      <td>&lt;sup&gt;1&lt;/sup&gt;</td>\n",
       "      <td></td>\n",
       "      <td>&lt;sup&gt;1&lt;/sup&gt;</td>\n",
       "      <td>None</td>\n",
       "      <td>Brown University,Surgery/Cardiothoracic Surger...</td>\n",
       "      <td>I. J. Lawandy&lt;sup&gt;1&lt;/sup&gt;, B. A. Potz&lt;sup&gt;1&lt;/s...</td>\n",
       "      <td>[I. J. Lawandy&lt;sup&gt;1&lt;/sup&gt;,  B. A. Potz&lt;sup&gt;1&lt;...</td>\n",
       "      <td>I. Lawandy</td>\n",
       "      <td>F. Sellke</td>\n",
       "      <td>Brown University,Surgery/Cardiothoracic Surger...</td>\n",
       "      <td>[Brown University,Surgery/Cardiothoracic Surge...</td>\n",
       "      <td>[Brown University, Surgery/Cardiothoracic Surg...</td>\n",
       "      <td>Brown University,Surgery/Cardiothoracic Surger...</td>\n",
       "      <td>Brown University</td>\n",
       "    </tr>\n",
       "    <tr>\n",
       "      <th>...</th>\n",
       "      <td>...</td>\n",
       "      <td>...</td>\n",
       "      <td>...</td>\n",
       "      <td>...</td>\n",
       "      <td>...</td>\n",
       "      <td>...</td>\n",
       "      <td>...</td>\n",
       "      <td>...</td>\n",
       "      <td>...</td>\n",
       "      <td>...</td>\n",
       "      <td>...</td>\n",
       "      <td>...</td>\n",
       "      <td>...</td>\n",
       "      <td>...</td>\n",
       "      <td>...</td>\n",
       "    </tr>\n",
       "    <tr>\n",
       "      <th>1760</th>\n",
       "      <td>P. W. Wachira&lt;sup&gt;1&lt;/sup&gt;, A. Savage&lt;sup&gt;2&lt;/su...</td>\n",
       "      <td>&lt;sup&gt;1&lt;/sup&gt;</td>\n",
       "      <td></td>\n",
       "      <td>&lt;sup&gt;1&lt;/sup&gt;</td>\n",
       "      <td>None</td>\n",
       "      <td>The University of Alabama at Birmingham (UAB),...</td>\n",
       "      <td>P. W. Wachira&lt;sup&gt;1&lt;/sup&gt;, A. Savage&lt;sup&gt;2&lt;/su...</td>\n",
       "      <td>[P. W. Wachira&lt;sup&gt;1&lt;/sup&gt;,  A. Savage&lt;sup&gt;2&lt;/...</td>\n",
       "      <td>P. Wachira</td>\n",
       "      <td>A. Gillis</td>\n",
       "      <td>The University of Alabama at Birmingham (UAB),...</td>\n",
       "      <td>[The University of Alabama at Birmingham (UAB)...</td>\n",
       "      <td>[The University of Alabama at Birmingham (UAB)...</td>\n",
       "      <td>The University of Alabama at Birmingham (UAB),...</td>\n",
       "      <td>The University Of Alabama At Birmingham (Uab)</td>\n",
       "    </tr>\n",
       "    <tr>\n",
       "      <th>1761</th>\n",
       "      <td>M. Kheng&lt;sup&gt;1&lt;/sup&gt;, A. Manzella&lt;sup&gt;1&lt;/sup&gt;,...</td>\n",
       "      <td>&lt;sup&gt;1,2&lt;/sup&gt;</td>\n",
       "      <td></td>\n",
       "      <td>&lt;sup&gt;2&lt;/sup&gt;</td>\n",
       "      <td>None</td>\n",
       "      <td>Rutgers Cancer Institute of New Jersey, Endocr...</td>\n",
       "      <td>M. Kheng&lt;sup&gt;1&lt;/sup&gt;, A. Manzella&lt;sup&gt;1&lt;/sup&gt;,...</td>\n",
       "      <td>[M. Kheng&lt;sup&gt;1&lt;/sup&gt;,  A. Manzella&lt;sup&gt;1&lt;/sup...</td>\n",
       "      <td>M. Kheng</td>\n",
       "      <td>A. Laird</td>\n",
       "      <td>Rutgers Cancer Institute of New Jersey, Endocr...</td>\n",
       "      <td>[Rutgers Cancer Institute of New Jersey, Endoc...</td>\n",
       "      <td>[Rutgers Cancer Institute of New Jersey,  Endo...</td>\n",
       "      <td>Rutgers Cancer Institute of New Jersey, Endocr...</td>\n",
       "      <td>Rutgers Cancer Institute Of New Jersey</td>\n",
       "    </tr>\n",
       "    <tr>\n",
       "      <th>1762</th>\n",
       "      <td>B. N. Titanji&lt;sup&gt;1,2&lt;/sup&gt;, M. Earley&lt;sup&gt;1&lt;/...</td>\n",
       "      <td>&lt;sup&gt;1&lt;/sup&gt;</td>\n",
       "      <td></td>\n",
       "      <td>&lt;sup&gt;1&lt;/sup&gt;</td>\n",
       "      <td>None</td>\n",
       "      <td>Stanford University, Department Of Surgery, Pa...</td>\n",
       "      <td>B. N. Titanji&lt;sup&gt;1,2&lt;/sup&gt;, M. Earley&lt;sup&gt;1&lt;/...</td>\n",
       "      <td>[B. N. Titanji&lt;sup&gt;1, 2&lt;/sup&gt;,  M. Earley&lt;sup&gt;...</td>\n",
       "      <td>B. Titanji</td>\n",
       "      <td>E. Kebebew</td>\n",
       "      <td>Stanford University, Department Of Surgery, Pa...</td>\n",
       "      <td>[Stanford University, Department Of Surgery, P...</td>\n",
       "      <td>[Stanford University,  Department Of Surgery, ...</td>\n",
       "      <td>Stanford University, Department Of Surgery, Pa...</td>\n",
       "      <td>Stanford University</td>\n",
       "    </tr>\n",
       "    <tr>\n",
       "      <th>1763</th>\n",
       "      <td>J. Hwang&lt;sup&gt;1,2&lt;/sup&gt;, J. Sharpe&lt;sup&gt;2&lt;/sup&gt;,...</td>\n",
       "      <td>&lt;sup&gt;2,3&lt;/sup&gt;</td>\n",
       "      <td></td>\n",
       "      <td>&lt;sup&gt;1&lt;/sup&gt;</td>\n",
       "      <td>None</td>\n",
       "      <td>Hospital Of The University Of Pennsylvania, Ge...</td>\n",
       "      <td>J. Hwang&lt;sup&gt;1,2&lt;/sup&gt;, J. Sharpe&lt;sup&gt;2&lt;/sup&gt;,...</td>\n",
       "      <td>[J. Hwang&lt;sup&gt;1, 2&lt;/sup&gt;,  J. Sharpe&lt;sup&gt;2&lt;/su...</td>\n",
       "      <td>J. Hwang</td>\n",
       "      <td>R. Kelz</td>\n",
       "      <td>Hospital Of The University Of Pennsylvania, Ge...</td>\n",
       "      <td>[Hospital Of The University Of Pennsylvania, G...</td>\n",
       "      <td>[Hospital Of The University Of Pennsylvania,  ...</td>\n",
       "      <td>Hospital Of The University Of Pennsylvania, Ge...</td>\n",
       "      <td>Hospital Of The University Of Pennsylvania</td>\n",
       "    </tr>\n",
       "    <tr>\n",
       "      <th>1764</th>\n",
       "      <td>Z. Song&lt;sup&gt;1&lt;/sup&gt;, R. Wang&lt;sup&gt;1&lt;/sup&gt;, A. G...</td>\n",
       "      <td>&lt;sup&gt;1&lt;/sup&gt;</td>\n",
       "      <td></td>\n",
       "      <td>&lt;sup&gt;1&lt;/sup&gt;</td>\n",
       "      <td>None</td>\n",
       "      <td>University Of Alabama at Birmingham, Endocrine...</td>\n",
       "      <td>Z. Song&lt;sup&gt;1&lt;/sup&gt;, R. Wang&lt;sup&gt;1&lt;/sup&gt;, A. G...</td>\n",
       "      <td>[Z. Song&lt;sup&gt;1&lt;/sup&gt;,  R. Wang&lt;sup&gt;1&lt;/sup&gt;,  A...</td>\n",
       "      <td>Z. Song</td>\n",
       "      <td>H. Chen</td>\n",
       "      <td>University Of Alabama at Birmingham, Endocrine...</td>\n",
       "      <td>[University Of Alabama at Birmingham, Endocrin...</td>\n",
       "      <td>[University Of Alabama at Birmingham,  Endocri...</td>\n",
       "      <td>University Of Alabama at Birmingham, Endocrine...</td>\n",
       "      <td>University Of Alabama At Birmingham</td>\n",
       "    </tr>\n",
       "  </tbody>\n",
       "</table>\n",
       "<p>12142 rows × 15 columns</p>\n",
       "</div>"
      ],
      "text/plain": [
       "                                                      0                 1 2   \\\n",
       "0     P. T. White<sup>1</sup>, C. Subramanian<sup>1<...    <sup>1,4</sup>      \n",
       "1     P. Patel<sup>1</sup>, T. Kato<sup>1</sup>, H. ...  <sup>1,2,3</sup>      \n",
       "2     R. Jaskula Sztul<sup>1,3</sup>, G. Chen<sup>2<...    <sup>1,3</sup>      \n",
       "3     M. M. Hodges<sup>1</sup>, C. Zgheib<sup>1</sup...      <sup>1</sup>      \n",
       "4     I. J. Lawandy<sup>1</sup>, B. A. Potz<sup>1</s...      <sup>1</sup>      \n",
       "...                                                 ...               ... ..   \n",
       "1760  P. W. Wachira<sup>1</sup>, A. Savage<sup>2</su...      <sup>1</sup>      \n",
       "1761  M. Kheng<sup>1</sup>, A. Manzella<sup>1</sup>,...    <sup>1,2</sup>      \n",
       "1762  B. N. Titanji<sup>1,2</sup>, M. Earley<sup>1</...      <sup>1</sup>      \n",
       "1763  J. Hwang<sup>1,2</sup>, J. Sharpe<sup>2</sup>,...    <sup>2,3</sup>      \n",
       "1764  Z. Song<sup>1</sup>, R. Wang<sup>1</sup>, A. G...      <sup>1</sup>      \n",
       "\n",
       "                 3     4                                                  5  \\\n",
       "0     <sup>5</sup>  None  University Of Michigan,Department Of Biomedica...   \n",
       "1     <sup>1</sup>  None  University of Toronto,Division Of Thoracic Sur...   \n",
       "2     <sup>1</sup>  None  University Of Wisconsin,Surgery,Madison, WI, U...   \n",
       "3     <sup>1</sup>  None  University Of Colorado Denver,Laboratory For F...   \n",
       "4     <sup>1</sup>  None  Brown University,Surgery/Cardiothoracic Surger...   \n",
       "...            ...   ...                                                ...   \n",
       "1760  <sup>1</sup>  None  The University of Alabama at Birmingham (UAB),...   \n",
       "1761  <sup>2</sup>  None  Rutgers Cancer Institute of New Jersey, Endocr...   \n",
       "1762  <sup>1</sup>  None  Stanford University, Department Of Surgery, Pa...   \n",
       "1763  <sup>1</sup>  None  Hospital Of The University Of Pennsylvania, Ge...   \n",
       "1764  <sup>1</sup>  None  University Of Alabama at Birmingham, Endocrine...   \n",
       "\n",
       "                                                authors  \\\n",
       "0     P. T. White<sup>1</sup>, C. Subramanian<sup>1<...   \n",
       "1     P. Patel<sup>1</sup>, T. Kato<sup>1</sup>, H. ...   \n",
       "2     R. Jaskula Sztul<sup>1,3</sup>, G. Chen<sup>2<...   \n",
       "3     M. M. Hodges<sup>1</sup>, C. Zgheib<sup>1</sup...   \n",
       "4     I. J. Lawandy<sup>1</sup>, B. A. Potz<sup>1</s...   \n",
       "...                                                 ...   \n",
       "1760  P. W. Wachira<sup>1</sup>, A. Savage<sup>2</su...   \n",
       "1761  M. Kheng<sup>1</sup>, A. Manzella<sup>1</sup>,...   \n",
       "1762  B. N. Titanji<sup>1,2</sup>, M. Earley<sup>1</...   \n",
       "1763  J. Hwang<sup>1,2</sup>, J. Sharpe<sup>2</sup>,...   \n",
       "1764  Z. Song<sup>1</sup>, R. Wang<sup>1</sup>, A. G...   \n",
       "\n",
       "                                            author_list      first_author  \\\n",
       "0     [P. T. White<sup>1</sup>,  C. Subramanian<sup>...          P. White   \n",
       "1     [P. Patel<sup>1</sup>,  T. Kato<sup>1</sup>,  ...          P. Patel   \n",
       "2     [R. Jaskula Sztul<sup>1, 3</sup>,  G. Chen<sup...  R. Jaskula Sztul   \n",
       "3     [M. M. Hodges<sup>1</sup>,  C. Zgheib<sup>1</s...         M. Hodges   \n",
       "4     [I. J. Lawandy<sup>1</sup>,  B. A. Potz<sup>1<...        I. Lawandy   \n",
       "...                                                 ...               ...   \n",
       "1760  [P. W. Wachira<sup>1</sup>,  A. Savage<sup>2</...        P. Wachira   \n",
       "1761  [M. Kheng<sup>1</sup>,  A. Manzella<sup>1</sup...          M. Kheng   \n",
       "1762  [B. N. Titanji<sup>1, 2</sup>,  M. Earley<sup>...        B. Titanji   \n",
       "1763  [J. Hwang<sup>1, 2</sup>,  J. Sharpe<sup>2</su...          J. Hwang   \n",
       "1764  [Z. Song<sup>1</sup>,  R. Wang<sup>1</sup>,  A...           Z. Song   \n",
       "\n",
       "     senior_author                                       institutions  \\\n",
       "0         M. Cohen  University Of Michigan,Department Of Biomedica...   \n",
       "1      K. Yasufuku  University of Toronto,Division Of Thoracic Sur...   \n",
       "2          H. Chen  University Of Wisconsin,Surgery,Madison, WI, U...   \n",
       "3       K. Liechty  University Of Colorado Denver,Laboratory For F...   \n",
       "4        F. Sellke  Brown University,Surgery/Cardiothoracic Surger...   \n",
       "...            ...                                                ...   \n",
       "1760     A. Gillis  The University of Alabama at Birmingham (UAB),...   \n",
       "1761      A. Laird  Rutgers Cancer Institute of New Jersey, Endocr...   \n",
       "1762    E. Kebebew  Stanford University, Department Of Surgery, Pa...   \n",
       "1763       R. Kelz  Hospital Of The University Of Pennsylvania, Ge...   \n",
       "1764       H. Chen  University Of Alabama at Birmingham, Endocrine...   \n",
       "\n",
       "                                       institution_list  \\\n",
       "0     [University Of Michigan,Department Of Biomedic...   \n",
       "1     [University of Toronto,Division Of Thoracic Su...   \n",
       "2     [University Of Wisconsin,Surgery,Madison, WI, ...   \n",
       "3     [University Of Colorado Denver,Laboratory For ...   \n",
       "4     [Brown University,Surgery/Cardiothoracic Surge...   \n",
       "...                                                 ...   \n",
       "1760  [The University of Alabama at Birmingham (UAB)...   \n",
       "1761  [Rutgers Cancer Institute of New Jersey, Endoc...   \n",
       "1762  [Stanford University, Department Of Surgery, P...   \n",
       "1763  [Hospital Of The University Of Pennsylvania, G...   \n",
       "1764  [University Of Alabama at Birmingham, Endocrin...   \n",
       "\n",
       "                                      first_institution  \\\n",
       "0     [University Of Michigan, Department Of Biomedi...   \n",
       "1     [University of Toronto, Division Of Thoracic S...   \n",
       "2     [University Of Wisconsin, Surgery, Madison,  W...   \n",
       "3     [University Of Colorado Denver, Laboratory For...   \n",
       "4     [Brown University, Surgery/Cardiothoracic Surg...   \n",
       "...                                                 ...   \n",
       "1760  [The University of Alabama at Birmingham (UAB)...   \n",
       "1761  [Rutgers Cancer Institute of New Jersey,  Endo...   \n",
       "1762  [Stanford University,  Department Of Surgery, ...   \n",
       "1763  [Hospital Of The University Of Pennsylvania,  ...   \n",
       "1764  [University Of Alabama at Birmingham,  Endocri...   \n",
       "\n",
       "                                      smart_institution  \\\n",
       "0     University Of Michigan,Department Of Biomedica...   \n",
       "1     University of Toronto,Division Of Thoracic Sur...   \n",
       "2     University Of Wisconsin,Surgery,Madison, WI, U...   \n",
       "3     University Of Colorado Denver,Laboratory For F...   \n",
       "4     Brown University,Surgery/Cardiothoracic Surger...   \n",
       "...                                                 ...   \n",
       "1760  The University of Alabama at Birmingham (UAB),...   \n",
       "1761  Rutgers Cancer Institute of New Jersey, Endocr...   \n",
       "1762  Stanford University, Department Of Surgery, Pa...   \n",
       "1763  Hospital Of The University Of Pennsylvania, Ge...   \n",
       "1764  University Of Alabama at Birmingham, Endocrine...   \n",
       "\n",
       "                                 smart_institution2  \n",
       "0                            University Of Michigan  \n",
       "1                             University Of Toronto  \n",
       "2                           University Of Wisconsin  \n",
       "3                     University Of Colorado Denver  \n",
       "4                                  Brown University  \n",
       "...                                             ...  \n",
       "1760  The University Of Alabama At Birmingham (Uab)  \n",
       "1761         Rutgers Cancer Institute Of New Jersey  \n",
       "1762                            Stanford University  \n",
       "1763     Hospital Of The University Of Pennsylvania  \n",
       "1764            University Of Alabama At Birmingham  \n",
       "\n",
       "[12142 rows x 15 columns]"
      ]
     },
     "execution_count": 7,
     "metadata": {},
     "output_type": "execute_result"
    }
   ],
   "source": [
    "df_author['institutions'] = df_author[5].str.replace('(<sup>,?[0-9]+(,[0-9]+)*,?</sup>)', '|', n=1)\n",
    "\n",
    "df_author['institution_list'] = df_author.apply(lambda x: x['institutions'].split('|'), axis=1)\n",
    "df_author['first_institution'] = df_author.apply(lambda x: x['institution_list'][0].split(',')[:-3], axis=1)\n",
    "\n",
    "df_author['institution_list']\n",
    "\n",
    "KEYWORDS = ['university', 'hospital', 'institute', 'medical center']\n",
    "\n",
    "\n",
    "def smart_institution(list):\n",
    "    for item in list:\n",
    "        for word in KEYWORDS:\n",
    "            if word in item.lower():\n",
    "                return item\n",
    "    return list[0]\n",
    "            \n",
    "\n",
    "df_author['smart_institution'] = df_author.apply(lambda x: smart_institution(x['institution_list']), axis=1)\n",
    "df_author['smart_institution2'] = df_author['smart_institution'].str.split(',', expand=True)[0]\n",
    "df_author['smart_institution2'] = df_author['smart_institution2'].str.title()\n",
    "\n",
    "df_author"
   ]
  },
  {
   "attachments": {},
   "cell_type": "markdown",
   "metadata": {},
   "source": [
    "### Combine Dataframes\n",
    "\n",
    "Now, we combine the new columns into the existing dataframe."
   ]
  },
  {
   "cell_type": "code",
   "execution_count": 8,
   "metadata": {},
   "outputs": [],
   "source": [
    "df2 = pd.concat([df, df_author], axis=1)\n",
    "df2.to_csv('data.csv')"
   ]
  },
  {
   "cell_type": "code",
   "execution_count": 9,
   "metadata": {},
   "outputs": [
    {
     "data": {
      "text/plain": [
       "12142"
      ]
     },
     "execution_count": 9,
     "metadata": {},
     "output_type": "execute_result"
    }
   ],
   "source": [
    "len(df2['control_number'].unique())"
   ]
  },
  {
   "attachments": {},
   "cell_type": "markdown",
   "metadata": {},
   "source": [
    "### Number of Abstracts By Institution\n",
    "\n",
    "Here, we calculate the number of abstracts by institution for the duration of the study period"
   ]
  },
  {
   "cell_type": "code",
   "execution_count": 10,
   "metadata": {},
   "outputs": [
    {
     "data": {
      "text/html": [
       "<div>\n",
       "<style scoped>\n",
       "    .dataframe tbody tr th:only-of-type {\n",
       "        vertical-align: middle;\n",
       "    }\n",
       "\n",
       "    .dataframe tbody tr th {\n",
       "        vertical-align: top;\n",
       "    }\n",
       "\n",
       "    .dataframe thead th {\n",
       "        text-align: right;\n",
       "    }\n",
       "</style>\n",
       "<table border=\"1\" class=\"dataframe\">\n",
       "  <thead>\n",
       "    <tr style=\"text-align: right;\">\n",
       "      <th></th>\n",
       "      <th>smart_institution2</th>\n",
       "      <th>count</th>\n",
       "    </tr>\n",
       "  </thead>\n",
       "  <tbody>\n",
       "    <tr>\n",
       "      <th>0</th>\n",
       "      <td>University Of Alabama At Birmingham</td>\n",
       "      <td>543</td>\n",
       "    </tr>\n",
       "    <tr>\n",
       "      <th>1</th>\n",
       "      <td>University Of Michigan</td>\n",
       "      <td>390</td>\n",
       "    </tr>\n",
       "    <tr>\n",
       "      <th>2</th>\n",
       "      <td>Baylor College Of Medicine</td>\n",
       "      <td>218</td>\n",
       "    </tr>\n",
       "    <tr>\n",
       "      <th>3</th>\n",
       "      <td>Massachusetts General Hospital</td>\n",
       "      <td>192</td>\n",
       "    </tr>\n",
       "    <tr>\n",
       "      <th>4</th>\n",
       "      <td>Medical College Of Wisconsin</td>\n",
       "      <td>188</td>\n",
       "    </tr>\n",
       "    <tr>\n",
       "      <th>...</th>\n",
       "      <td>...</td>\n",
       "      <td>...</td>\n",
       "    </tr>\n",
       "    <tr>\n",
       "      <th>1609</th>\n",
       "      <td>Mount Sinai St. Luke'S Roosevelt General Surge...</td>\n",
       "      <td>1</td>\n",
       "    </tr>\n",
       "    <tr>\n",
       "      <th>1610</th>\n",
       "      <td>Morsani College Of Medicine</td>\n",
       "      <td>1</td>\n",
       "    </tr>\n",
       "    <tr>\n",
       "      <th>1611</th>\n",
       "      <td>Morristown Medical Center</td>\n",
       "      <td>1</td>\n",
       "    </tr>\n",
       "    <tr>\n",
       "      <th>1612</th>\n",
       "      <td>Moores Cancer Center</td>\n",
       "      <td>1</td>\n",
       "    </tr>\n",
       "    <tr>\n",
       "      <th>1613</th>\n",
       "      <td>Zucker Som At Hofstra/Northwell Health</td>\n",
       "      <td>1</td>\n",
       "    </tr>\n",
       "  </tbody>\n",
       "</table>\n",
       "<p>1614 rows × 2 columns</p>\n",
       "</div>"
      ],
      "text/plain": [
       "                                     smart_institution2  count\n",
       "0                   University Of Alabama At Birmingham    543\n",
       "1                                University Of Michigan    390\n",
       "2                            Baylor College Of Medicine    218\n",
       "3                        Massachusetts General Hospital    192\n",
       "4                          Medical College Of Wisconsin    188\n",
       "...                                                 ...    ...\n",
       "1609  Mount Sinai St. Luke'S Roosevelt General Surge...      1\n",
       "1610                        Morsani College Of Medicine      1\n",
       "1611                          Morristown Medical Center      1\n",
       "1612                               Moores Cancer Center      1\n",
       "1613             Zucker Som At Hofstra/Northwell Health      1\n",
       "\n",
       "[1614 rows x 2 columns]"
      ]
     },
     "execution_count": 10,
     "metadata": {},
     "output_type": "execute_result"
    }
   ],
   "source": [
    "df_institutions = df2.groupby(['smart_institution2']).agg(\n",
    "    count = ('control_number', 'nunique')\n",
    ")\n",
    "df_institutions.sort_values(by='count', ascending=False, inplace=True)\n",
    "df_institutions.reset_index(inplace=True)\n",
    "\n",
    "df_institutions"
   ]
  },
  {
   "attachments": {},
   "cell_type": "markdown",
   "metadata": {},
   "source": [
    "### Correcting Institution Duplicates Using Fuzzy Matching\n",
    "\n",
    "We need to combine data for institutions that are the same in reality even if the name is written differently. One example of this is \"University of Alabama - Birmingham\" vs \"University of Alabama Birmingham\" vs \"University of Alabama\". We will attempt to resolve this using fuzzy string matching. While not perfect, we can get pretty close with this and at least avoid errors among the most frequent institutions. Another example is \"University of California\" and \"David Geffen School of Medicine\". Given no string relation in this case, we will need to resolve these differences manually.\n"
   ]
  },
  {
   "cell_type": "code",
   "execution_count": 11,
   "metadata": {},
   "outputs": [],
   "source": [
    "def _normalize_name(name) -> str:\n",
    "    \"\"\"\n",
    "    Normalize the name of a university\n",
    "    :param str name:\n",
    "    :rtype: str\n",
    "    \"\"\"\n",
    "    norm = name.lower()\n",
    "    norm = re.sub(\n",
    "        r'( +at +)|( *of *)|(university)|(hospital)|(medical center)|(institution)',\n",
    "        ' ',\n",
    "        norm,\n",
    "    )\n",
    "    return norm.replace(\"'\", \"\").strip()\n",
    "\n",
    "\n",
    "def process_unis(uni_list, uni_to_pub):\n",
    "    \"\"\"\n",
    "    Process the list of unis\n",
    "    :param List[str] uni_list:\n",
    "    :param Dict[str, int] uni_to_pub:\n",
    "    :rtype: Dict[str, str]\n",
    "    \"\"\"\n",
    "    # Normalize unis\n",
    "    uni_list_norm = [(uni, _normalize_name(uni)) for uni in uni_list]\n",
    "\n",
    "    # Construct empty choices list - we will iterate through the\n",
    "    # list of universities from highest to lowest number of publications\n",
    "    # We'll normalize each one and then try to match it to the choices list\n",
    "    #\n",
    "    # If the normalized name is not in the choices list (i.e. there is\n",
    "    # no match), we'll add it so that future universities can be matched to it\n",
    "    # and map the original name to the normalized name\n",
    "    #\n",
    "    # If the normalized name is in the choices list, we'll map the original\n",
    "    # name to the normalized name\n",
    "    choices = []\n",
    "    bad_to_good = collections.OrderedDict()\n",
    "    for item, normalized_item in uni_list_norm:\n",
    "\n",
    "        # if normalized name has cardinal directions in it or \"washington\", skip it\n",
    "        if re.search(r'(north)|(south)|(east)|(west)|(central)|(washington)|(medical college)|(atlantic)|(commonwealth)|(children)|(illinois)|(atlantic)|(florida state)|(michigan state)|(mayo)|(york hospital)|(university college london)|(loyola)', normalized_item):\n",
    "            bad_to_good[item] = normalized_item\n",
    "            choices.append(normalized_item)\n",
    "            continue\n",
    "\n",
    "        potential_match = process.extractOne(normalized_item, choices)\n",
    "\n",
    "        if not potential_match or potential_match[1] < 90:\n",
    "            bad_to_good[item] = normalized_item\n",
    "            choices.append(normalized_item)\n",
    "        else:\n",
    "            bad_to_good[item] = potential_match[0]\n",
    "\n",
    "    # Now that we have a mapping of original name to normalized name\n",
    "    # we can count the number of publications for each normalized name\n",
    "    norm_counts = collections.defaultdict(int)\n",
    "    for uni, norm in bad_to_good.items():\n",
    "        norm_counts[norm] += uni_to_pub[uni]\n",
    "\n",
    "    # Now we can go through the list of universities again and get the\n",
    "    # normalized name from the bad_to_good mapping and add the number of\n",
    "    # publications to the final map.\n",
    "    #\n",
    "    # Once we see a normalized name we'll add it to the seen_norms set\n",
    "    # so that we don't double count and we'll assign the total number\n",
    "    # of normalized publications to the most common name for that\n",
    "    # university pre-normalization.\n",
    "    #\n",
    "    # Example - if we have Hospital of University of Pennsylvania (100) and\n",
    "    # University of Pennsylvania Hospital (90), we'll assign the total number\n",
    "    # of publications to Hospital of University of Pennsylvania (190) and\n",
    "    # skip University of Pennsylvania Hospital (as they normalize to the same\n",
    "    # thing)\n",
    "\n",
    "    final_map = collections.defaultdict(int)\n",
    "    norm_to_first_good_name = {}\n",
    "    seen_norms = set()\n",
    "    for uni in uni_list:\n",
    "        norm = bad_to_good[uni]\n",
    "        if norm not in seen_norms:\n",
    "            norm_to_first_good_name[norm] = uni\n",
    "            final_map[uni] += norm_counts[norm]\n",
    "            seen_norms.add(norm)\n",
    "\n",
    "    # print(norm_to_first_good_name)\n",
    "\n",
    "    return {bad: norm_to_first_good_name.get(norm, None) for bad, norm in bad_to_good.items()}\n",
    "\n",
    "\n",
    "\n",
    "l = df_institutions['smart_institution2'].to_list()\n",
    "d = dict(zip(df_institutions['smart_institution2'], df_institutions['count']))\n",
    "\n",
    "bad_to_good = process_unis(l, d)"
   ]
  },
  {
   "cell_type": "code",
   "execution_count": 12,
   "metadata": {},
   "outputs": [],
   "source": [
    "## Create a dataframe from the bad to good mapping\n",
    "df_bg = pd.DataFrame(bad_to_good.items(), columns=['smart_institution2', 'smart_institution3'])\n",
    "\n",
    "## Create a new dataframe df_institution_map merging the original df_institutions with the df_bg\n",
    "df_institution_map = pd.merge(df_institutions, df_bg, on='smart_institution2', how='left')\n",
    "\n",
    "df_institution_grp = df_institution_map.groupby(['smart_institution3', 'smart_institution2']).agg(\n",
    "    count = ('count', 'sum')\n",
    ").reset_index()\n",
    "\n",
    "\n",
    "## Create a new column with the sum of all count per smart_institution3\n",
    "df_institution_grp['total_count'] = df_institution_grp.groupby('smart_institution3')['count'].transform('sum')\n",
    "\n",
    "df_institution_grp\n",
    "\n",
    "df_institution_grp.sort_values(by=['total_count', 'smart_institution3', 'count'], ascending=False, inplace=True)\n",
    "\n",
    "df_institution_grp.to_csv('prelim_map.csv')"
   ]
  },
  {
   "cell_type": "code",
   "execution_count": 13,
   "metadata": {},
   "outputs": [
    {
     "data": {
      "text/html": [
       "<div>\n",
       "<style scoped>\n",
       "    .dataframe tbody tr th:only-of-type {\n",
       "        vertical-align: middle;\n",
       "    }\n",
       "\n",
       "    .dataframe tbody tr th {\n",
       "        vertical-align: top;\n",
       "    }\n",
       "\n",
       "    .dataframe thead th {\n",
       "        text-align: right;\n",
       "    }\n",
       "</style>\n",
       "<table border=\"1\" class=\"dataframe\">\n",
       "  <thead>\n",
       "    <tr style=\"text-align: right;\">\n",
       "      <th></th>\n",
       "      <th>smart_institution2</th>\n",
       "      <th>smart_institution5</th>\n",
       "    </tr>\n",
       "  </thead>\n",
       "  <tbody>\n",
       "    <tr>\n",
       "      <th>0</th>\n",
       "      <td>University Of Alabama At Birmingham</td>\n",
       "      <td>University Of Alabama At Birmingham</td>\n",
       "    </tr>\n",
       "    <tr>\n",
       "      <th>1</th>\n",
       "      <td>University Of Alabama</td>\n",
       "      <td>University Of Alabama At Birmingham</td>\n",
       "    </tr>\n",
       "    <tr>\n",
       "      <th>2</th>\n",
       "      <td>The University Of Alabama At Birmingham</td>\n",
       "      <td>University Of Alabama At Birmingham</td>\n",
       "    </tr>\n",
       "    <tr>\n",
       "      <th>3</th>\n",
       "      <td>University Of Alabama At Birmingham School Of ...</td>\n",
       "      <td>University Of Alabama At Birmingham</td>\n",
       "    </tr>\n",
       "    <tr>\n",
       "      <th>4</th>\n",
       "      <td>University Of Alabama Birmingham</td>\n",
       "      <td>University Of Alabama At Birmingham</td>\n",
       "    </tr>\n",
       "    <tr>\n",
       "      <th>...</th>\n",
       "      <td>...</td>\n",
       "      <td>...</td>\n",
       "    </tr>\n",
       "    <tr>\n",
       "      <th>1609</th>\n",
       "      <td>Adventhealth Cancer Institute</td>\n",
       "      <td>Adventhealth Cancer Institute</td>\n",
       "    </tr>\n",
       "    <tr>\n",
       "      <th>1610</th>\n",
       "      <td>Academic Medical Center</td>\n",
       "      <td>Academic Medical Center</td>\n",
       "    </tr>\n",
       "    <tr>\n",
       "      <th>1611</th>\n",
       "      <td>Abilene Christian University</td>\n",
       "      <td>Abilene Christian University</td>\n",
       "    </tr>\n",
       "    <tr>\n",
       "      <th>1612</th>\n",
       "      <td>Aberdeen Royal Infirmary</td>\n",
       "      <td>Aberdeen Royal Infirmary</td>\n",
       "    </tr>\n",
       "    <tr>\n",
       "      <th>1613</th>\n",
       "      <td>A.T. Still University</td>\n",
       "      <td>A.T. Still University</td>\n",
       "    </tr>\n",
       "  </tbody>\n",
       "</table>\n",
       "<p>1614 rows × 2 columns</p>\n",
       "</div>"
      ],
      "text/plain": [
       "                                     smart_institution2  \\\n",
       "0                   University Of Alabama At Birmingham   \n",
       "1                                 University Of Alabama   \n",
       "2               The University Of Alabama At Birmingham   \n",
       "3     University Of Alabama At Birmingham School Of ...   \n",
       "4                      University Of Alabama Birmingham   \n",
       "...                                                 ...   \n",
       "1609                      Adventhealth Cancer Institute   \n",
       "1610                            Academic Medical Center   \n",
       "1611                       Abilene Christian University   \n",
       "1612                           Aberdeen Royal Infirmary   \n",
       "1613                              A.T. Still University   \n",
       "\n",
       "                       smart_institution5  \n",
       "0     University Of Alabama At Birmingham  \n",
       "1     University Of Alabama At Birmingham  \n",
       "2     University Of Alabama At Birmingham  \n",
       "3     University Of Alabama At Birmingham  \n",
       "4     University Of Alabama At Birmingham  \n",
       "...                                   ...  \n",
       "1609        Adventhealth Cancer Institute  \n",
       "1610              Academic Medical Center  \n",
       "1611         Abilene Christian University  \n",
       "1612             Aberdeen Royal Infirmary  \n",
       "1613                A.T. Still University  \n",
       "\n",
       "[1614 rows x 2 columns]"
      ]
     },
     "execution_count": 13,
     "metadata": {},
     "output_type": "execute_result"
    }
   ],
   "source": [
    "## I did some manual updating in prelim_map.csv to fix some of the mappings\n",
    "## I saved the file as 'updated_map.csv'\n",
    "## read in the updated_map.csv\n",
    "\n",
    "df_updated_map = pd.read_csv('updated_map.csv')\n",
    "\n",
    "## count how many smart_institution4 are not null\n",
    "len(df_updated_map[df_updated_map['smart_institution4'].notnull()])\n",
    "\n",
    "## replace smart_institution4 with smart_institution3 if not null\n",
    "df_updated_map['smart_institution5'] = df_updated_map['smart_institution4'].fillna(df_updated_map['smart_institution3'])\n",
    "\n",
    "df_updated_map[0:50]\n",
    "\n",
    "## Create a new dataframe called df_map_final with just smart_institution2 and smart_institution4\n",
    "df_map_final = df_updated_map[['smart_institution2', 'smart_institution5']]\n",
    "\n",
    "df_map_final"
   ]
  },
  {
   "cell_type": "code",
   "execution_count": 14,
   "metadata": {},
   "outputs": [],
   "source": [
    "## Merge df_map_final with df2 on smart_institution2\n",
    "df3 = pd.merge(df2, df_map_final, on='smart_institution2', how='left')\n",
    "\n",
    "df3.columns\n",
    "\n",
    "## Drop the following columns:\n",
    "## session_type, 0, 1, 2, 3, 4, 5, 'authors', 'institutions', 'first_instiution', 'smart_institution', 'smart_institution2'\n",
    "\n",
    "df3.drop(columns=['session_type', 0, 1, 2, 3, 4, 5, 'authors', 'institutions', 'first_institution', 'smart_institution', 'smart_institution2'], inplace=True)\n"
   ]
  },
  {
   "cell_type": "markdown",
   "metadata": {},
   "source": [
    "# Start Data Analysis"
   ]
  },
  {
   "cell_type": "markdown",
   "metadata": {},
   "source": [
    "### Number of Abstracts by Year\n",
    "\n",
    "First, we calculate the number of abstracts by year"
   ]
  },
  {
   "cell_type": "code",
   "execution_count": 15,
   "metadata": {},
   "outputs": [
    {
     "data": {
      "application/vnd.plotly.v1+json": {
       "config": {
        "plotlyServerURL": "https://plot.ly"
       },
       "data": [
        {
         "alignmentgroup": "True",
         "hovertemplate": "Year=%{x}<br>Total Abstracts (2016-2023)=%{y}<extra></extra>",
         "legendgroup": "",
         "marker": {
          "color": "#636efa",
          "pattern": {
           "shape": ""
          }
         },
         "name": "",
         "offsetgroup": "",
         "orientation": "v",
         "showlegend": false,
         "textfont": {
          "size": 24
         },
         "textposition": "auto",
         "texttemplate": "%{y:}",
         "type": "bar",
         "x": [
          2016,
          2017,
          2018,
          2019,
          2020,
          2021,
          2022,
          2023,
          2024
         ],
         "xaxis": "x",
         "y": [
          1125,
          1386,
          1368,
          1536,
          1742,
          922,
          848,
          1469,
          1746
         ],
         "yaxis": "y"
        }
       ],
       "layout": {
        "barmode": "relative",
        "font": {
         "family": "Inter",
         "size": 24
        },
        "height": 720,
        "legend": {
         "tracegroupgap": 0
        },
        "margin": {
         "t": 60
        },
        "template": {
         "data": {
          "bar": [
           {
            "error_x": {
             "color": "#2a3f5f"
            },
            "error_y": {
             "color": "#2a3f5f"
            },
            "marker": {
             "line": {
              "color": "#E5ECF6",
              "width": 0.5
             },
             "pattern": {
              "fillmode": "overlay",
              "size": 10,
              "solidity": 0.2
             }
            },
            "type": "bar"
           }
          ],
          "barpolar": [
           {
            "marker": {
             "line": {
              "color": "#E5ECF6",
              "width": 0.5
             },
             "pattern": {
              "fillmode": "overlay",
              "size": 10,
              "solidity": 0.2
             }
            },
            "type": "barpolar"
           }
          ],
          "carpet": [
           {
            "aaxis": {
             "endlinecolor": "#2a3f5f",
             "gridcolor": "white",
             "linecolor": "white",
             "minorgridcolor": "white",
             "startlinecolor": "#2a3f5f"
            },
            "baxis": {
             "endlinecolor": "#2a3f5f",
             "gridcolor": "white",
             "linecolor": "white",
             "minorgridcolor": "white",
             "startlinecolor": "#2a3f5f"
            },
            "type": "carpet"
           }
          ],
          "choropleth": [
           {
            "colorbar": {
             "outlinewidth": 0,
             "ticks": ""
            },
            "type": "choropleth"
           }
          ],
          "contour": [
           {
            "colorbar": {
             "outlinewidth": 0,
             "ticks": ""
            },
            "colorscale": [
             [
              0,
              "#0d0887"
             ],
             [
              0.1111111111111111,
              "#46039f"
             ],
             [
              0.2222222222222222,
              "#7201a8"
             ],
             [
              0.3333333333333333,
              "#9c179e"
             ],
             [
              0.4444444444444444,
              "#bd3786"
             ],
             [
              0.5555555555555556,
              "#d8576b"
             ],
             [
              0.6666666666666666,
              "#ed7953"
             ],
             [
              0.7777777777777778,
              "#fb9f3a"
             ],
             [
              0.8888888888888888,
              "#fdca26"
             ],
             [
              1,
              "#f0f921"
             ]
            ],
            "type": "contour"
           }
          ],
          "contourcarpet": [
           {
            "colorbar": {
             "outlinewidth": 0,
             "ticks": ""
            },
            "type": "contourcarpet"
           }
          ],
          "heatmap": [
           {
            "colorbar": {
             "outlinewidth": 0,
             "ticks": ""
            },
            "colorscale": [
             [
              0,
              "#0d0887"
             ],
             [
              0.1111111111111111,
              "#46039f"
             ],
             [
              0.2222222222222222,
              "#7201a8"
             ],
             [
              0.3333333333333333,
              "#9c179e"
             ],
             [
              0.4444444444444444,
              "#bd3786"
             ],
             [
              0.5555555555555556,
              "#d8576b"
             ],
             [
              0.6666666666666666,
              "#ed7953"
             ],
             [
              0.7777777777777778,
              "#fb9f3a"
             ],
             [
              0.8888888888888888,
              "#fdca26"
             ],
             [
              1,
              "#f0f921"
             ]
            ],
            "type": "heatmap"
           }
          ],
          "heatmapgl": [
           {
            "colorbar": {
             "outlinewidth": 0,
             "ticks": ""
            },
            "colorscale": [
             [
              0,
              "#0d0887"
             ],
             [
              0.1111111111111111,
              "#46039f"
             ],
             [
              0.2222222222222222,
              "#7201a8"
             ],
             [
              0.3333333333333333,
              "#9c179e"
             ],
             [
              0.4444444444444444,
              "#bd3786"
             ],
             [
              0.5555555555555556,
              "#d8576b"
             ],
             [
              0.6666666666666666,
              "#ed7953"
             ],
             [
              0.7777777777777778,
              "#fb9f3a"
             ],
             [
              0.8888888888888888,
              "#fdca26"
             ],
             [
              1,
              "#f0f921"
             ]
            ],
            "type": "heatmapgl"
           }
          ],
          "histogram": [
           {
            "marker": {
             "pattern": {
              "fillmode": "overlay",
              "size": 10,
              "solidity": 0.2
             }
            },
            "type": "histogram"
           }
          ],
          "histogram2d": [
           {
            "colorbar": {
             "outlinewidth": 0,
             "ticks": ""
            },
            "colorscale": [
             [
              0,
              "#0d0887"
             ],
             [
              0.1111111111111111,
              "#46039f"
             ],
             [
              0.2222222222222222,
              "#7201a8"
             ],
             [
              0.3333333333333333,
              "#9c179e"
             ],
             [
              0.4444444444444444,
              "#bd3786"
             ],
             [
              0.5555555555555556,
              "#d8576b"
             ],
             [
              0.6666666666666666,
              "#ed7953"
             ],
             [
              0.7777777777777778,
              "#fb9f3a"
             ],
             [
              0.8888888888888888,
              "#fdca26"
             ],
             [
              1,
              "#f0f921"
             ]
            ],
            "type": "histogram2d"
           }
          ],
          "histogram2dcontour": [
           {
            "colorbar": {
             "outlinewidth": 0,
             "ticks": ""
            },
            "colorscale": [
             [
              0,
              "#0d0887"
             ],
             [
              0.1111111111111111,
              "#46039f"
             ],
             [
              0.2222222222222222,
              "#7201a8"
             ],
             [
              0.3333333333333333,
              "#9c179e"
             ],
             [
              0.4444444444444444,
              "#bd3786"
             ],
             [
              0.5555555555555556,
              "#d8576b"
             ],
             [
              0.6666666666666666,
              "#ed7953"
             ],
             [
              0.7777777777777778,
              "#fb9f3a"
             ],
             [
              0.8888888888888888,
              "#fdca26"
             ],
             [
              1,
              "#f0f921"
             ]
            ],
            "type": "histogram2dcontour"
           }
          ],
          "mesh3d": [
           {
            "colorbar": {
             "outlinewidth": 0,
             "ticks": ""
            },
            "type": "mesh3d"
           }
          ],
          "parcoords": [
           {
            "line": {
             "colorbar": {
              "outlinewidth": 0,
              "ticks": ""
             }
            },
            "type": "parcoords"
           }
          ],
          "pie": [
           {
            "automargin": true,
            "type": "pie"
           }
          ],
          "scatter": [
           {
            "fillpattern": {
             "fillmode": "overlay",
             "size": 10,
             "solidity": 0.2
            },
            "type": "scatter"
           }
          ],
          "scatter3d": [
           {
            "line": {
             "colorbar": {
              "outlinewidth": 0,
              "ticks": ""
             }
            },
            "marker": {
             "colorbar": {
              "outlinewidth": 0,
              "ticks": ""
             }
            },
            "type": "scatter3d"
           }
          ],
          "scattercarpet": [
           {
            "marker": {
             "colorbar": {
              "outlinewidth": 0,
              "ticks": ""
             }
            },
            "type": "scattercarpet"
           }
          ],
          "scattergeo": [
           {
            "marker": {
             "colorbar": {
              "outlinewidth": 0,
              "ticks": ""
             }
            },
            "type": "scattergeo"
           }
          ],
          "scattergl": [
           {
            "marker": {
             "colorbar": {
              "outlinewidth": 0,
              "ticks": ""
             }
            },
            "type": "scattergl"
           }
          ],
          "scattermapbox": [
           {
            "marker": {
             "colorbar": {
              "outlinewidth": 0,
              "ticks": ""
             }
            },
            "type": "scattermapbox"
           }
          ],
          "scatterpolar": [
           {
            "marker": {
             "colorbar": {
              "outlinewidth": 0,
              "ticks": ""
             }
            },
            "type": "scatterpolar"
           }
          ],
          "scatterpolargl": [
           {
            "marker": {
             "colorbar": {
              "outlinewidth": 0,
              "ticks": ""
             }
            },
            "type": "scatterpolargl"
           }
          ],
          "scatterternary": [
           {
            "marker": {
             "colorbar": {
              "outlinewidth": 0,
              "ticks": ""
             }
            },
            "type": "scatterternary"
           }
          ],
          "surface": [
           {
            "colorbar": {
             "outlinewidth": 0,
             "ticks": ""
            },
            "colorscale": [
             [
              0,
              "#0d0887"
             ],
             [
              0.1111111111111111,
              "#46039f"
             ],
             [
              0.2222222222222222,
              "#7201a8"
             ],
             [
              0.3333333333333333,
              "#9c179e"
             ],
             [
              0.4444444444444444,
              "#bd3786"
             ],
             [
              0.5555555555555556,
              "#d8576b"
             ],
             [
              0.6666666666666666,
              "#ed7953"
             ],
             [
              0.7777777777777778,
              "#fb9f3a"
             ],
             [
              0.8888888888888888,
              "#fdca26"
             ],
             [
              1,
              "#f0f921"
             ]
            ],
            "type": "surface"
           }
          ],
          "table": [
           {
            "cells": {
             "fill": {
              "color": "#EBF0F8"
             },
             "line": {
              "color": "white"
             }
            },
            "header": {
             "fill": {
              "color": "#C8D4E3"
             },
             "line": {
              "color": "white"
             }
            },
            "type": "table"
           }
          ]
         },
         "layout": {
          "annotationdefaults": {
           "arrowcolor": "#2a3f5f",
           "arrowhead": 0,
           "arrowwidth": 1
          },
          "autotypenumbers": "strict",
          "coloraxis": {
           "colorbar": {
            "outlinewidth": 0,
            "ticks": ""
           }
          },
          "colorscale": {
           "diverging": [
            [
             0,
             "#8e0152"
            ],
            [
             0.1,
             "#c51b7d"
            ],
            [
             0.2,
             "#de77ae"
            ],
            [
             0.3,
             "#f1b6da"
            ],
            [
             0.4,
             "#fde0ef"
            ],
            [
             0.5,
             "#f7f7f7"
            ],
            [
             0.6,
             "#e6f5d0"
            ],
            [
             0.7,
             "#b8e186"
            ],
            [
             0.8,
             "#7fbc41"
            ],
            [
             0.9,
             "#4d9221"
            ],
            [
             1,
             "#276419"
            ]
           ],
           "sequential": [
            [
             0,
             "#0d0887"
            ],
            [
             0.1111111111111111,
             "#46039f"
            ],
            [
             0.2222222222222222,
             "#7201a8"
            ],
            [
             0.3333333333333333,
             "#9c179e"
            ],
            [
             0.4444444444444444,
             "#bd3786"
            ],
            [
             0.5555555555555556,
             "#d8576b"
            ],
            [
             0.6666666666666666,
             "#ed7953"
            ],
            [
             0.7777777777777778,
             "#fb9f3a"
            ],
            [
             0.8888888888888888,
             "#fdca26"
            ],
            [
             1,
             "#f0f921"
            ]
           ],
           "sequentialminus": [
            [
             0,
             "#0d0887"
            ],
            [
             0.1111111111111111,
             "#46039f"
            ],
            [
             0.2222222222222222,
             "#7201a8"
            ],
            [
             0.3333333333333333,
             "#9c179e"
            ],
            [
             0.4444444444444444,
             "#bd3786"
            ],
            [
             0.5555555555555556,
             "#d8576b"
            ],
            [
             0.6666666666666666,
             "#ed7953"
            ],
            [
             0.7777777777777778,
             "#fb9f3a"
            ],
            [
             0.8888888888888888,
             "#fdca26"
            ],
            [
             1,
             "#f0f921"
            ]
           ]
          },
          "colorway": [
           "#636efa",
           "#EF553B",
           "#00cc96",
           "#ab63fa",
           "#FFA15A",
           "#19d3f3",
           "#FF6692",
           "#B6E880",
           "#FF97FF",
           "#FECB52"
          ],
          "font": {
           "color": "#2a3f5f"
          },
          "geo": {
           "bgcolor": "white",
           "lakecolor": "white",
           "landcolor": "#E5ECF6",
           "showlakes": true,
           "showland": true,
           "subunitcolor": "white"
          },
          "hoverlabel": {
           "align": "left"
          },
          "hovermode": "closest",
          "mapbox": {
           "style": "light"
          },
          "paper_bgcolor": "white",
          "plot_bgcolor": "#E5ECF6",
          "polar": {
           "angularaxis": {
            "gridcolor": "white",
            "linecolor": "white",
            "ticks": ""
           },
           "bgcolor": "#E5ECF6",
           "radialaxis": {
            "gridcolor": "white",
            "linecolor": "white",
            "ticks": ""
           }
          },
          "scene": {
           "xaxis": {
            "backgroundcolor": "#E5ECF6",
            "gridcolor": "white",
            "gridwidth": 2,
            "linecolor": "white",
            "showbackground": true,
            "ticks": "",
            "zerolinecolor": "white"
           },
           "yaxis": {
            "backgroundcolor": "#E5ECF6",
            "gridcolor": "white",
            "gridwidth": 2,
            "linecolor": "white",
            "showbackground": true,
            "ticks": "",
            "zerolinecolor": "white"
           },
           "zaxis": {
            "backgroundcolor": "#E5ECF6",
            "gridcolor": "white",
            "gridwidth": 2,
            "linecolor": "white",
            "showbackground": true,
            "ticks": "",
            "zerolinecolor": "white"
           }
          },
          "shapedefaults": {
           "line": {
            "color": "#2a3f5f"
           }
          },
          "ternary": {
           "aaxis": {
            "gridcolor": "white",
            "linecolor": "white",
            "ticks": ""
           },
           "baxis": {
            "gridcolor": "white",
            "linecolor": "white",
            "ticks": ""
           },
           "bgcolor": "#E5ECF6",
           "caxis": {
            "gridcolor": "white",
            "linecolor": "white",
            "ticks": ""
           }
          },
          "title": {
           "x": 0.05
          },
          "xaxis": {
           "automargin": true,
           "gridcolor": "white",
           "linecolor": "white",
           "ticks": "",
           "title": {
            "standoff": 15
           },
           "zerolinecolor": "white",
           "zerolinewidth": 2
          },
          "yaxis": {
           "automargin": true,
           "gridcolor": "white",
           "linecolor": "white",
           "ticks": "",
           "title": {
            "standoff": 15
           },
           "zerolinecolor": "white",
           "zerolinewidth": 2
          }
         }
        },
        "width": 1600,
        "xaxis": {
         "anchor": "y",
         "domain": [
          0,
          1
         ],
         "title": {
          "text": "Year"
         }
        },
        "yaxis": {
         "anchor": "x",
         "domain": [
          0,
          1
         ],
         "showticklabels": false,
         "title": {
          "text": "Total Abstracts (2016-2023)"
         }
        }
       }
      }
     },
     "metadata": {},
     "output_type": "display_data"
    }
   ],
   "source": [
    "## Group number of abstracts by year\n",
    "df_years = df3.groupby('year').agg(\n",
    "    total_count = ('control_number', 'nunique')\n",
    ")\n",
    "\n",
    "df_years.reset_index(inplace=True)\n",
    "df_years\n",
    "fig = px.bar(df_years, x='year', y='total_count', text_auto='',\n",
    "labels = dict(year = 'Year', total_count = 'Total Abstracts (2016-2023)'))\n",
    "# fig.show()\n",
    "\n",
    "fig.update_layout(\n",
    "    width=1600,\n",
    "    height=720,\n",
    "    font=dict(\n",
    "        family=\"Inter\",\n",
    "        size=24))\n",
    "\n",
    "fig.update_traces(textfont_size=24)\n",
    "fig.update_yaxes(showticklabels=False)\n",
    "\n",
    "\n",
    "fig.write_image('fig1_num_abstracts.svg')\n",
    "fig.show()"
   ]
  },
  {
   "cell_type": "markdown",
   "metadata": {},
   "source": [
    "## Identify Top 20 Institutions"
   ]
  },
  {
   "cell_type": "code",
   "execution_count": 16,
   "metadata": {},
   "outputs": [
    {
     "name": "stderr",
     "output_type": "stream",
     "text": [
      "/var/folders/tc/rrbf67xd4h98qrpph8v1h9c00000gn/T/ipykernel_80221/1225109093.py:43: SettingWithCopyWarning:\n",
      "\n",
      "\n",
      "A value is trying to be set on a copy of a slice from a DataFrame.\n",
      "Try using .loc[row_indexer,col_indexer] = value instead\n",
      "\n",
      "See the caveats in the documentation: https://pandas.pydata.org/pandas-docs/stable/user_guide/indexing.html#returning-a-view-versus-a-copy\n",
      "\n",
      "/var/folders/tc/rrbf67xd4h98qrpph8v1h9c00000gn/T/ipykernel_80221/1225109093.py:45: SettingWithCopyWarning:\n",
      "\n",
      "\n",
      "A value is trying to be set on a copy of a slice from a DataFrame.\n",
      "Try using .loc[row_indexer,col_indexer] = value instead\n",
      "\n",
      "See the caveats in the documentation: https://pandas.pydata.org/pandas-docs/stable/user_guide/indexing.html#returning-a-view-versus-a-copy\n",
      "\n",
      "/var/folders/tc/rrbf67xd4h98qrpph8v1h9c00000gn/T/ipykernel_80221/1225109093.py:46: SettingWithCopyWarning:\n",
      "\n",
      "\n",
      "A value is trying to be set on a copy of a slice from a DataFrame.\n",
      "Try using .loc[row_indexer,col_indexer] = value instead\n",
      "\n",
      "See the caveats in the documentation: https://pandas.pydata.org/pandas-docs/stable/user_guide/indexing.html#returning-a-view-versus-a-copy\n",
      "\n",
      "/var/folders/tc/rrbf67xd4h98qrpph8v1h9c00000gn/T/ipykernel_80221/1225109093.py:47: SettingWithCopyWarning:\n",
      "\n",
      "\n",
      "A value is trying to be set on a copy of a slice from a DataFrame.\n",
      "Try using .loc[row_indexer,col_indexer] = value instead\n",
      "\n",
      "See the caveats in the documentation: https://pandas.pydata.org/pandas-docs/stable/user_guide/indexing.html#returning-a-view-versus-a-copy\n",
      "\n",
      "/var/folders/tc/rrbf67xd4h98qrpph8v1h9c00000gn/T/ipykernel_80221/1225109093.py:48: SettingWithCopyWarning:\n",
      "\n",
      "\n",
      "A value is trying to be set on a copy of a slice from a DataFrame.\n",
      "Try using .loc[row_indexer,col_indexer] = value instead\n",
      "\n",
      "See the caveats in the documentation: https://pandas.pydata.org/pandas-docs/stable/user_guide/indexing.html#returning-a-view-versus-a-copy\n",
      "\n",
      "/var/folders/tc/rrbf67xd4h98qrpph8v1h9c00000gn/T/ipykernel_80221/1225109093.py:49: SettingWithCopyWarning:\n",
      "\n",
      "\n",
      "A value is trying to be set on a copy of a slice from a DataFrame.\n",
      "Try using .loc[row_indexer,col_indexer] = value instead\n",
      "\n",
      "See the caveats in the documentation: https://pandas.pydata.org/pandas-docs/stable/user_guide/indexing.html#returning-a-view-versus-a-copy\n",
      "\n",
      "/var/folders/tc/rrbf67xd4h98qrpph8v1h9c00000gn/T/ipykernel_80221/1225109093.py:50: SettingWithCopyWarning:\n",
      "\n",
      "\n",
      "A value is trying to be set on a copy of a slice from a DataFrame.\n",
      "Try using .loc[row_indexer,col_indexer] = value instead\n",
      "\n",
      "See the caveats in the documentation: https://pandas.pydata.org/pandas-docs/stable/user_guide/indexing.html#returning-a-view-versus-a-copy\n",
      "\n",
      "/var/folders/tc/rrbf67xd4h98qrpph8v1h9c00000gn/T/ipykernel_80221/1225109093.py:51: SettingWithCopyWarning:\n",
      "\n",
      "\n",
      "A value is trying to be set on a copy of a slice from a DataFrame.\n",
      "Try using .loc[row_indexer,col_indexer] = value instead\n",
      "\n",
      "See the caveats in the documentation: https://pandas.pydata.org/pandas-docs/stable/user_guide/indexing.html#returning-a-view-versus-a-copy\n",
      "\n",
      "/var/folders/tc/rrbf67xd4h98qrpph8v1h9c00000gn/T/ipykernel_80221/1225109093.py:52: SettingWithCopyWarning:\n",
      "\n",
      "\n",
      "A value is trying to be set on a copy of a slice from a DataFrame.\n",
      "Try using .loc[row_indexer,col_indexer] = value instead\n",
      "\n",
      "See the caveats in the documentation: https://pandas.pydata.org/pandas-docs/stable/user_guide/indexing.html#returning-a-view-versus-a-copy\n",
      "\n",
      "/var/folders/tc/rrbf67xd4h98qrpph8v1h9c00000gn/T/ipykernel_80221/1225109093.py:53: SettingWithCopyWarning:\n",
      "\n",
      "\n",
      "A value is trying to be set on a copy of a slice from a DataFrame.\n",
      "Try using .loc[row_indexer,col_indexer] = value instead\n",
      "\n",
      "See the caveats in the documentation: https://pandas.pydata.org/pandas-docs/stable/user_guide/indexing.html#returning-a-view-versus-a-copy\n",
      "\n",
      "/var/folders/tc/rrbf67xd4h98qrpph8v1h9c00000gn/T/ipykernel_80221/1225109093.py:54: SettingWithCopyWarning:\n",
      "\n",
      "\n",
      "A value is trying to be set on a copy of a slice from a DataFrame.\n",
      "Try using .loc[row_indexer,col_indexer] = value instead\n",
      "\n",
      "See the caveats in the documentation: https://pandas.pydata.org/pandas-docs/stable/user_guide/indexing.html#returning-a-view-versus-a-copy\n",
      "\n",
      "/var/folders/tc/rrbf67xd4h98qrpph8v1h9c00000gn/T/ipykernel_80221/1225109093.py:55: SettingWithCopyWarning:\n",
      "\n",
      "\n",
      "A value is trying to be set on a copy of a slice from a DataFrame.\n",
      "Try using .loc[row_indexer,col_indexer] = value instead\n",
      "\n",
      "See the caveats in the documentation: https://pandas.pydata.org/pandas-docs/stable/user_guide/indexing.html#returning-a-view-versus-a-copy\n",
      "\n",
      "/var/folders/tc/rrbf67xd4h98qrpph8v1h9c00000gn/T/ipykernel_80221/1225109093.py:56: SettingWithCopyWarning:\n",
      "\n",
      "\n",
      "A value is trying to be set on a copy of a slice from a DataFrame.\n",
      "Try using .loc[row_indexer,col_indexer] = value instead\n",
      "\n",
      "See the caveats in the documentation: https://pandas.pydata.org/pandas-docs/stable/user_guide/indexing.html#returning-a-view-versus-a-copy\n",
      "\n",
      "/var/folders/tc/rrbf67xd4h98qrpph8v1h9c00000gn/T/ipykernel_80221/1225109093.py:57: SettingWithCopyWarning:\n",
      "\n",
      "\n",
      "A value is trying to be set on a copy of a slice from a DataFrame.\n",
      "Try using .loc[row_indexer,col_indexer] = value instead\n",
      "\n",
      "See the caveats in the documentation: https://pandas.pydata.org/pandas-docs/stable/user_guide/indexing.html#returning-a-view-versus-a-copy\n",
      "\n",
      "/var/folders/tc/rrbf67xd4h98qrpph8v1h9c00000gn/T/ipykernel_80221/1225109093.py:58: SettingWithCopyWarning:\n",
      "\n",
      "\n",
      "A value is trying to be set on a copy of a slice from a DataFrame.\n",
      "Try using .loc[row_indexer,col_indexer] = value instead\n",
      "\n",
      "See the caveats in the documentation: https://pandas.pydata.org/pandas-docs/stable/user_guide/indexing.html#returning-a-view-versus-a-copy\n",
      "\n",
      "/var/folders/tc/rrbf67xd4h98qrpph8v1h9c00000gn/T/ipykernel_80221/1225109093.py:59: SettingWithCopyWarning:\n",
      "\n",
      "\n",
      "A value is trying to be set on a copy of a slice from a DataFrame.\n",
      "Try using .loc[row_indexer,col_indexer] = value instead\n",
      "\n",
      "See the caveats in the documentation: https://pandas.pydata.org/pandas-docs/stable/user_guide/indexing.html#returning-a-view-versus-a-copy\n",
      "\n",
      "/var/folders/tc/rrbf67xd4h98qrpph8v1h9c00000gn/T/ipykernel_80221/1225109093.py:60: SettingWithCopyWarning:\n",
      "\n",
      "\n",
      "A value is trying to be set on a copy of a slice from a DataFrame.\n",
      "Try using .loc[row_indexer,col_indexer] = value instead\n",
      "\n",
      "See the caveats in the documentation: https://pandas.pydata.org/pandas-docs/stable/user_guide/indexing.html#returning-a-view-versus-a-copy\n",
      "\n",
      "/var/folders/tc/rrbf67xd4h98qrpph8v1h9c00000gn/T/ipykernel_80221/1225109093.py:61: SettingWithCopyWarning:\n",
      "\n",
      "\n",
      "A value is trying to be set on a copy of a slice from a DataFrame.\n",
      "Try using .loc[row_indexer,col_indexer] = value instead\n",
      "\n",
      "See the caveats in the documentation: https://pandas.pydata.org/pandas-docs/stable/user_guide/indexing.html#returning-a-view-versus-a-copy\n",
      "\n",
      "/var/folders/tc/rrbf67xd4h98qrpph8v1h9c00000gn/T/ipykernel_80221/1225109093.py:62: SettingWithCopyWarning:\n",
      "\n",
      "\n",
      "A value is trying to be set on a copy of a slice from a DataFrame.\n",
      "Try using .loc[row_indexer,col_indexer] = value instead\n",
      "\n",
      "See the caveats in the documentation: https://pandas.pydata.org/pandas-docs/stable/user_guide/indexing.html#returning-a-view-versus-a-copy\n",
      "\n",
      "/var/folders/tc/rrbf67xd4h98qrpph8v1h9c00000gn/T/ipykernel_80221/1225109093.py:63: SettingWithCopyWarning:\n",
      "\n",
      "\n",
      "A value is trying to be set on a copy of a slice from a DataFrame.\n",
      "Try using .loc[row_indexer,col_indexer] = value instead\n",
      "\n",
      "See the caveats in the documentation: https://pandas.pydata.org/pandas-docs/stable/user_guide/indexing.html#returning-a-view-versus-a-copy\n",
      "\n",
      "/var/folders/tc/rrbf67xd4h98qrpph8v1h9c00000gn/T/ipykernel_80221/1225109093.py:64: SettingWithCopyWarning:\n",
      "\n",
      "\n",
      "A value is trying to be set on a copy of a slice from a DataFrame.\n",
      "Try using .loc[row_indexer,col_indexer] = value instead\n",
      "\n",
      "See the caveats in the documentation: https://pandas.pydata.org/pandas-docs/stable/user_guide/indexing.html#returning-a-view-versus-a-copy\n",
      "\n"
     ]
    }
   ],
   "source": [
    "## Identify the top 20 institutions\n",
    "\n",
    "## Group df3 by smart_institution5\n",
    "df_institution_new = df3.groupby('smart_institution5').agg(\n",
    "    count = ('control_number', 'nunique')\n",
    ")\n",
    "\n",
    "## Use the same code above to plot the number of abstracts per institution\n",
    "\n",
    "df_institution_new.sort_values(by='count', ascending=False, inplace=True)\n",
    "df_institution_new.reset_index(inplace=True)\n",
    "\n",
    "## Create a subset of the top 20 institutions\n",
    "df_institution_subset = df_institution_new[0:20]\n",
    "\n",
    "df_institution_subset['smart_institution5'].to_list()\n",
    "\n",
    "## Renaming Schema\n",
    "\n",
    "## 'University Of Alabama At Birmingham' to 'U. Alabama'\n",
    "## 'University Of Michigan' to 'U. Michigan'\n",
    "## 'Hospital Of The University Of Pennsylvania' to 'Penn'\n",
    "## 'Johns Hopkins University School Of Medicine' to 'Johns Hopkins'\n",
    "## 'University Of California - Los Angeles' to 'UCLA'\n",
    "## 'Baylor College Of Medicine' to 'Baylor'\n",
    "## 'Stanford University' to 'Stanford'\n",
    "## 'Massachusetts General Hospital' to 'Mass General'\n",
    "## 'Indiana University School Of Medicine' to 'Indiana U.'\n",
    "## 'University Of Pittsburgh' to 'UPMC'\n",
    "## 'University Of Miami' to 'U. Miami'\n",
    "## 'Medical College Of Wisconsin' to 'MCW'\n",
    "## 'University Of Texas Southwestern Medical Center' to 'U.T. Southwestern'\n",
    "## 'Northwestern University' to 'Northwestern'\n",
    "## 'Yale University School Of Medicine' to 'Yale'\n",
    "## 'University Of Colorado Denver' to 'U. Colorado'\n",
    "## 'University Of Wisconsin' to 'U. Wisconsin'\n",
    "## \"Brigham And Women'S Hospital\" to 'BWH'\n",
    "## 'Ohio State University' to 'Ohio State U.'\n",
    "## 'University Of Florida' to 'U. Florida'\n",
    "\n",
    "## Make a new column called clean_institution and rename as above\n",
    "\n",
    "df_institution_subset['clean_institution'] = df_institution_subset['smart_institution5'].copy()\n",
    "\n",
    "df_institution_subset['clean_institution'] = df_institution_subset['clean_institution'].str.replace('University Of Alabama At Birmingham', 'U. Alabama')\n",
    "df_institution_subset['clean_institution'] = df_institution_subset['clean_institution'].str.replace('University Of Michigan', 'U. Michigan')\n",
    "df_institution_subset['clean_institution'] = df_institution_subset['clean_institution'].str.replace('Hospital Of The University Of Pennsylvania', 'Penn')\n",
    "df_institution_subset['clean_institution'] = df_institution_subset['clean_institution'].str.replace('Johns Hopkins University School Of Medicine', 'Johns Hopkins')\n",
    "df_institution_subset['clean_institution'] = df_institution_subset['clean_institution'].str.replace('University Of California - Los Angeles', 'UCLA')\n",
    "df_institution_subset['clean_institution'] = df_institution_subset['clean_institution'].str.replace('Baylor College Of Medicine', 'Baylor')\n",
    "df_institution_subset['clean_institution'] = df_institution_subset['clean_institution'].str.replace('Stanford University', 'Stanford')\n",
    "df_institution_subset['clean_institution'] = df_institution_subset['clean_institution'].str.replace('Massachusetts General Hospital', 'Mass General')\n",
    "df_institution_subset['clean_institution'] = df_institution_subset['clean_institution'].str.replace('Indiana University School Of Medicine', 'Indiana U.')\n",
    "df_institution_subset['clean_institution'] = df_institution_subset['clean_institution'].str.replace('University Of Pittsburgh', 'UPMC')\n",
    "df_institution_subset['clean_institution'] = df_institution_subset['clean_institution'].str.replace('University Of Miami', 'U. Miami')\n",
    "df_institution_subset['clean_institution'] = df_institution_subset['clean_institution'].str.replace('Medical College Of Wisconsin', 'MCW')\n",
    "df_institution_subset['clean_institution'] = df_institution_subset['clean_institution'].str.replace('University Of Texas Southwestern Medical Center', 'U.T. Southwestern')\n",
    "df_institution_subset['clean_institution'] = df_institution_subset['clean_institution'].str.replace('Northwestern University', 'Northwestern')\n",
    "df_institution_subset['clean_institution'] = df_institution_subset['clean_institution'].str.replace('Yale University School Of Medicine', 'Yale')\n",
    "df_institution_subset['clean_institution'] = df_institution_subset['clean_institution'].str.replace('University Of Colorado Denver', 'U. Colorado')\n",
    "df_institution_subset['clean_institution'] = df_institution_subset['clean_institution'].str.replace('University Of Wisconsin', 'U. Wisconsin')\n",
    "df_institution_subset['clean_institution'] = df_institution_subset['clean_institution'].str.replace('Brigham And Women\\'S Hospital', 'BWH')\n",
    "df_institution_subset['clean_institution'] = df_institution_subset['clean_institution'].str.replace('Ohio State University', 'Ohio State U.')\n",
    "df_institution_subset['clean_institution'] = df_institution_subset['clean_institution'].str.replace('University Of Florida', 'U. Florida')\n",
    "\n",
    "## Save top institutions to list\n",
    "top_institutions = df_institution_subset['smart_institution5'].to_list()"
   ]
  },
  {
   "cell_type": "markdown",
   "metadata": {},
   "source": [
    "## Graph Top 20 Institutions"
   ]
  },
  {
   "cell_type": "code",
   "execution_count": 17,
   "metadata": {},
   "outputs": [
    {
     "data": {
      "application/vnd.plotly.v1+json": {
       "config": {
        "plotlyServerURL": "https://plot.ly"
       },
       "data": [
        {
         "alignmentgroup": "True",
         "hovertemplate": "clean_institution=%{x}<br>count=%{y}<extra></extra>",
         "legendgroup": "",
         "marker": {
          "color": "#636efa",
          "pattern": {
           "shape": ""
          }
         },
         "name": "",
         "offsetgroup": "",
         "orientation": "v",
         "showlegend": false,
         "textfont": {
          "size": 24
         },
         "textposition": "auto",
         "texttemplate": "%{y:}",
         "type": "bar",
         "x": [
          "U. Alabama",
          "U. Michigan",
          "Penn",
          "Johns Hopkins",
          "UCLA",
          "Baylor",
          "Stanford",
          "Mass General",
          "Indiana U.",
          "UPMC",
          "U. Miami",
          "MCW",
          "U.T. Southwestern",
          "Northwestern",
          "Yale",
          "U. Colorado",
          "U. Wisconsin",
          "BWH",
          "Ohio State U.",
          "U. Florida"
         ],
         "xaxis": "x",
         "y": [
          589,
          429,
          256,
          246,
          245,
          227,
          204,
          195,
          194,
          194,
          193,
          191,
          190,
          187,
          182,
          182,
          181,
          174,
          171,
          170
         ],
         "yaxis": "y"
        }
       ],
       "layout": {
        "barmode": "relative",
        "font": {
         "family": "Inter",
         "size": 24
        },
        "height": 720,
        "legend": {
         "tracegroupgap": 0
        },
        "margin": {
         "t": 60
        },
        "template": {
         "data": {
          "bar": [
           {
            "error_x": {
             "color": "#2a3f5f"
            },
            "error_y": {
             "color": "#2a3f5f"
            },
            "marker": {
             "line": {
              "color": "#E5ECF6",
              "width": 0.5
             },
             "pattern": {
              "fillmode": "overlay",
              "size": 10,
              "solidity": 0.2
             }
            },
            "type": "bar"
           }
          ],
          "barpolar": [
           {
            "marker": {
             "line": {
              "color": "#E5ECF6",
              "width": 0.5
             },
             "pattern": {
              "fillmode": "overlay",
              "size": 10,
              "solidity": 0.2
             }
            },
            "type": "barpolar"
           }
          ],
          "carpet": [
           {
            "aaxis": {
             "endlinecolor": "#2a3f5f",
             "gridcolor": "white",
             "linecolor": "white",
             "minorgridcolor": "white",
             "startlinecolor": "#2a3f5f"
            },
            "baxis": {
             "endlinecolor": "#2a3f5f",
             "gridcolor": "white",
             "linecolor": "white",
             "minorgridcolor": "white",
             "startlinecolor": "#2a3f5f"
            },
            "type": "carpet"
           }
          ],
          "choropleth": [
           {
            "colorbar": {
             "outlinewidth": 0,
             "ticks": ""
            },
            "type": "choropleth"
           }
          ],
          "contour": [
           {
            "colorbar": {
             "outlinewidth": 0,
             "ticks": ""
            },
            "colorscale": [
             [
              0,
              "#0d0887"
             ],
             [
              0.1111111111111111,
              "#46039f"
             ],
             [
              0.2222222222222222,
              "#7201a8"
             ],
             [
              0.3333333333333333,
              "#9c179e"
             ],
             [
              0.4444444444444444,
              "#bd3786"
             ],
             [
              0.5555555555555556,
              "#d8576b"
             ],
             [
              0.6666666666666666,
              "#ed7953"
             ],
             [
              0.7777777777777778,
              "#fb9f3a"
             ],
             [
              0.8888888888888888,
              "#fdca26"
             ],
             [
              1,
              "#f0f921"
             ]
            ],
            "type": "contour"
           }
          ],
          "contourcarpet": [
           {
            "colorbar": {
             "outlinewidth": 0,
             "ticks": ""
            },
            "type": "contourcarpet"
           }
          ],
          "heatmap": [
           {
            "colorbar": {
             "outlinewidth": 0,
             "ticks": ""
            },
            "colorscale": [
             [
              0,
              "#0d0887"
             ],
             [
              0.1111111111111111,
              "#46039f"
             ],
             [
              0.2222222222222222,
              "#7201a8"
             ],
             [
              0.3333333333333333,
              "#9c179e"
             ],
             [
              0.4444444444444444,
              "#bd3786"
             ],
             [
              0.5555555555555556,
              "#d8576b"
             ],
             [
              0.6666666666666666,
              "#ed7953"
             ],
             [
              0.7777777777777778,
              "#fb9f3a"
             ],
             [
              0.8888888888888888,
              "#fdca26"
             ],
             [
              1,
              "#f0f921"
             ]
            ],
            "type": "heatmap"
           }
          ],
          "heatmapgl": [
           {
            "colorbar": {
             "outlinewidth": 0,
             "ticks": ""
            },
            "colorscale": [
             [
              0,
              "#0d0887"
             ],
             [
              0.1111111111111111,
              "#46039f"
             ],
             [
              0.2222222222222222,
              "#7201a8"
             ],
             [
              0.3333333333333333,
              "#9c179e"
             ],
             [
              0.4444444444444444,
              "#bd3786"
             ],
             [
              0.5555555555555556,
              "#d8576b"
             ],
             [
              0.6666666666666666,
              "#ed7953"
             ],
             [
              0.7777777777777778,
              "#fb9f3a"
             ],
             [
              0.8888888888888888,
              "#fdca26"
             ],
             [
              1,
              "#f0f921"
             ]
            ],
            "type": "heatmapgl"
           }
          ],
          "histogram": [
           {
            "marker": {
             "pattern": {
              "fillmode": "overlay",
              "size": 10,
              "solidity": 0.2
             }
            },
            "type": "histogram"
           }
          ],
          "histogram2d": [
           {
            "colorbar": {
             "outlinewidth": 0,
             "ticks": ""
            },
            "colorscale": [
             [
              0,
              "#0d0887"
             ],
             [
              0.1111111111111111,
              "#46039f"
             ],
             [
              0.2222222222222222,
              "#7201a8"
             ],
             [
              0.3333333333333333,
              "#9c179e"
             ],
             [
              0.4444444444444444,
              "#bd3786"
             ],
             [
              0.5555555555555556,
              "#d8576b"
             ],
             [
              0.6666666666666666,
              "#ed7953"
             ],
             [
              0.7777777777777778,
              "#fb9f3a"
             ],
             [
              0.8888888888888888,
              "#fdca26"
             ],
             [
              1,
              "#f0f921"
             ]
            ],
            "type": "histogram2d"
           }
          ],
          "histogram2dcontour": [
           {
            "colorbar": {
             "outlinewidth": 0,
             "ticks": ""
            },
            "colorscale": [
             [
              0,
              "#0d0887"
             ],
             [
              0.1111111111111111,
              "#46039f"
             ],
             [
              0.2222222222222222,
              "#7201a8"
             ],
             [
              0.3333333333333333,
              "#9c179e"
             ],
             [
              0.4444444444444444,
              "#bd3786"
             ],
             [
              0.5555555555555556,
              "#d8576b"
             ],
             [
              0.6666666666666666,
              "#ed7953"
             ],
             [
              0.7777777777777778,
              "#fb9f3a"
             ],
             [
              0.8888888888888888,
              "#fdca26"
             ],
             [
              1,
              "#f0f921"
             ]
            ],
            "type": "histogram2dcontour"
           }
          ],
          "mesh3d": [
           {
            "colorbar": {
             "outlinewidth": 0,
             "ticks": ""
            },
            "type": "mesh3d"
           }
          ],
          "parcoords": [
           {
            "line": {
             "colorbar": {
              "outlinewidth": 0,
              "ticks": ""
             }
            },
            "type": "parcoords"
           }
          ],
          "pie": [
           {
            "automargin": true,
            "type": "pie"
           }
          ],
          "scatter": [
           {
            "fillpattern": {
             "fillmode": "overlay",
             "size": 10,
             "solidity": 0.2
            },
            "type": "scatter"
           }
          ],
          "scatter3d": [
           {
            "line": {
             "colorbar": {
              "outlinewidth": 0,
              "ticks": ""
             }
            },
            "marker": {
             "colorbar": {
              "outlinewidth": 0,
              "ticks": ""
             }
            },
            "type": "scatter3d"
           }
          ],
          "scattercarpet": [
           {
            "marker": {
             "colorbar": {
              "outlinewidth": 0,
              "ticks": ""
             }
            },
            "type": "scattercarpet"
           }
          ],
          "scattergeo": [
           {
            "marker": {
             "colorbar": {
              "outlinewidth": 0,
              "ticks": ""
             }
            },
            "type": "scattergeo"
           }
          ],
          "scattergl": [
           {
            "marker": {
             "colorbar": {
              "outlinewidth": 0,
              "ticks": ""
             }
            },
            "type": "scattergl"
           }
          ],
          "scattermapbox": [
           {
            "marker": {
             "colorbar": {
              "outlinewidth": 0,
              "ticks": ""
             }
            },
            "type": "scattermapbox"
           }
          ],
          "scatterpolar": [
           {
            "marker": {
             "colorbar": {
              "outlinewidth": 0,
              "ticks": ""
             }
            },
            "type": "scatterpolar"
           }
          ],
          "scatterpolargl": [
           {
            "marker": {
             "colorbar": {
              "outlinewidth": 0,
              "ticks": ""
             }
            },
            "type": "scatterpolargl"
           }
          ],
          "scatterternary": [
           {
            "marker": {
             "colorbar": {
              "outlinewidth": 0,
              "ticks": ""
             }
            },
            "type": "scatterternary"
           }
          ],
          "surface": [
           {
            "colorbar": {
             "outlinewidth": 0,
             "ticks": ""
            },
            "colorscale": [
             [
              0,
              "#0d0887"
             ],
             [
              0.1111111111111111,
              "#46039f"
             ],
             [
              0.2222222222222222,
              "#7201a8"
             ],
             [
              0.3333333333333333,
              "#9c179e"
             ],
             [
              0.4444444444444444,
              "#bd3786"
             ],
             [
              0.5555555555555556,
              "#d8576b"
             ],
             [
              0.6666666666666666,
              "#ed7953"
             ],
             [
              0.7777777777777778,
              "#fb9f3a"
             ],
             [
              0.8888888888888888,
              "#fdca26"
             ],
             [
              1,
              "#f0f921"
             ]
            ],
            "type": "surface"
           }
          ],
          "table": [
           {
            "cells": {
             "fill": {
              "color": "#EBF0F8"
             },
             "line": {
              "color": "white"
             }
            },
            "header": {
             "fill": {
              "color": "#C8D4E3"
             },
             "line": {
              "color": "white"
             }
            },
            "type": "table"
           }
          ]
         },
         "layout": {
          "annotationdefaults": {
           "arrowcolor": "#2a3f5f",
           "arrowhead": 0,
           "arrowwidth": 1
          },
          "autotypenumbers": "strict",
          "coloraxis": {
           "colorbar": {
            "outlinewidth": 0,
            "ticks": ""
           }
          },
          "colorscale": {
           "diverging": [
            [
             0,
             "#8e0152"
            ],
            [
             0.1,
             "#c51b7d"
            ],
            [
             0.2,
             "#de77ae"
            ],
            [
             0.3,
             "#f1b6da"
            ],
            [
             0.4,
             "#fde0ef"
            ],
            [
             0.5,
             "#f7f7f7"
            ],
            [
             0.6,
             "#e6f5d0"
            ],
            [
             0.7,
             "#b8e186"
            ],
            [
             0.8,
             "#7fbc41"
            ],
            [
             0.9,
             "#4d9221"
            ],
            [
             1,
             "#276419"
            ]
           ],
           "sequential": [
            [
             0,
             "#0d0887"
            ],
            [
             0.1111111111111111,
             "#46039f"
            ],
            [
             0.2222222222222222,
             "#7201a8"
            ],
            [
             0.3333333333333333,
             "#9c179e"
            ],
            [
             0.4444444444444444,
             "#bd3786"
            ],
            [
             0.5555555555555556,
             "#d8576b"
            ],
            [
             0.6666666666666666,
             "#ed7953"
            ],
            [
             0.7777777777777778,
             "#fb9f3a"
            ],
            [
             0.8888888888888888,
             "#fdca26"
            ],
            [
             1,
             "#f0f921"
            ]
           ],
           "sequentialminus": [
            [
             0,
             "#0d0887"
            ],
            [
             0.1111111111111111,
             "#46039f"
            ],
            [
             0.2222222222222222,
             "#7201a8"
            ],
            [
             0.3333333333333333,
             "#9c179e"
            ],
            [
             0.4444444444444444,
             "#bd3786"
            ],
            [
             0.5555555555555556,
             "#d8576b"
            ],
            [
             0.6666666666666666,
             "#ed7953"
            ],
            [
             0.7777777777777778,
             "#fb9f3a"
            ],
            [
             0.8888888888888888,
             "#fdca26"
            ],
            [
             1,
             "#f0f921"
            ]
           ]
          },
          "colorway": [
           "#636efa",
           "#EF553B",
           "#00cc96",
           "#ab63fa",
           "#FFA15A",
           "#19d3f3",
           "#FF6692",
           "#B6E880",
           "#FF97FF",
           "#FECB52"
          ],
          "font": {
           "color": "#2a3f5f"
          },
          "geo": {
           "bgcolor": "white",
           "lakecolor": "white",
           "landcolor": "#E5ECF6",
           "showlakes": true,
           "showland": true,
           "subunitcolor": "white"
          },
          "hoverlabel": {
           "align": "left"
          },
          "hovermode": "closest",
          "mapbox": {
           "style": "light"
          },
          "paper_bgcolor": "white",
          "plot_bgcolor": "#E5ECF6",
          "polar": {
           "angularaxis": {
            "gridcolor": "white",
            "linecolor": "white",
            "ticks": ""
           },
           "bgcolor": "#E5ECF6",
           "radialaxis": {
            "gridcolor": "white",
            "linecolor": "white",
            "ticks": ""
           }
          },
          "scene": {
           "xaxis": {
            "backgroundcolor": "#E5ECF6",
            "gridcolor": "white",
            "gridwidth": 2,
            "linecolor": "white",
            "showbackground": true,
            "ticks": "",
            "zerolinecolor": "white"
           },
           "yaxis": {
            "backgroundcolor": "#E5ECF6",
            "gridcolor": "white",
            "gridwidth": 2,
            "linecolor": "white",
            "showbackground": true,
            "ticks": "",
            "zerolinecolor": "white"
           },
           "zaxis": {
            "backgroundcolor": "#E5ECF6",
            "gridcolor": "white",
            "gridwidth": 2,
            "linecolor": "white",
            "showbackground": true,
            "ticks": "",
            "zerolinecolor": "white"
           }
          },
          "shapedefaults": {
           "line": {
            "color": "#2a3f5f"
           }
          },
          "ternary": {
           "aaxis": {
            "gridcolor": "white",
            "linecolor": "white",
            "ticks": ""
           },
           "baxis": {
            "gridcolor": "white",
            "linecolor": "white",
            "ticks": ""
           },
           "bgcolor": "#E5ECF6",
           "caxis": {
            "gridcolor": "white",
            "linecolor": "white",
            "ticks": ""
           }
          },
          "title": {
           "x": 0.05
          },
          "xaxis": {
           "automargin": true,
           "gridcolor": "white",
           "linecolor": "white",
           "ticks": "",
           "title": {
            "standoff": 15
           },
           "zerolinecolor": "white",
           "zerolinewidth": 2
          },
          "yaxis": {
           "automargin": true,
           "gridcolor": "white",
           "linecolor": "white",
           "ticks": "",
           "title": {
            "standoff": 15
           },
           "zerolinecolor": "white",
           "zerolinewidth": 2
          }
         }
        },
        "width": 1600,
        "xaxis": {
         "anchor": "y",
         "domain": [
          0,
          1
         ],
         "showticklabels": true,
         "tickangle": -90,
         "title": {
          "text": "Institution"
         }
        },
        "yaxis": {
         "anchor": "x",
         "domain": [
          0,
          1
         ],
         "showticklabels": false,
         "title": {
          "text": "Total Abstracts (2016-2023)"
         }
        }
       }
      }
     },
     "metadata": {},
     "output_type": "display_data"
    }
   ],
   "source": [
    "## Graph top 20 institutions\n",
    "fig = px.bar(\n",
    "    df_institution_subset,\n",
    "    x='clean_institution',\n",
    "    y='count',\n",
    "    text_auto=''\n",
    ")\n",
    "\n",
    "fig.update_layout(\n",
    "    width=1600,\n",
    "    height=720,\n",
    "    font=dict(\n",
    "        family=\"Inter\",\n",
    "        size=24)\n",
    ")\n",
    "\n",
    "fig.update_traces(textfont_size=24)\n",
    "fig.update_xaxes(tickangle=-90)\n",
    "fig.update_yaxes(showticklabels=False)\n",
    "\n",
    "fig.update_layout(\n",
    "    xaxis_title=\"Institution\",\n",
    "    yaxis_title=\"Total Abstracts (2016-2023)\"\n",
    ")\n",
    "\n",
    "\n",
    "# Remove tick labels from x-axis\n",
    "fig.update_xaxes(showticklabels=False)\n",
    "\n",
    "\n",
    "\n",
    "fig.write_image('fig2_top_institutions.svg')\n",
    "\n",
    "fig.update_xaxes(showticklabels=True)\n",
    "\n",
    "fig.show()\n",
    "\n",
    "\n",
    "\n"
   ]
  },
  {
   "cell_type": "markdown",
   "metadata": {},
   "source": [
    "## Create Graph for Institution and Year"
   ]
  },
  {
   "cell_type": "code",
   "execution_count": 18,
   "metadata": {},
   "outputs": [
    {
     "data": {
      "text/html": [
       "<div>\n",
       "<style scoped>\n",
       "    .dataframe tbody tr th:only-of-type {\n",
       "        vertical-align: middle;\n",
       "    }\n",
       "\n",
       "    .dataframe tbody tr th {\n",
       "        vertical-align: top;\n",
       "    }\n",
       "\n",
       "    .dataframe thead th {\n",
       "        text-align: right;\n",
       "    }\n",
       "</style>\n",
       "<table border=\"1\" class=\"dataframe\">\n",
       "  <thead>\n",
       "    <tr style=\"text-align: right;\">\n",
       "      <th></th>\n",
       "      <th>smart_institution5</th>\n",
       "      <th>year</th>\n",
       "      <th>count</th>\n",
       "      <th>total_count</th>\n",
       "      <th>clean_institution</th>\n",
       "      <th>abstracts_per_year</th>\n",
       "      <th>percent</th>\n",
       "    </tr>\n",
       "  </thead>\n",
       "  <tbody>\n",
       "    <tr>\n",
       "      <th>0</th>\n",
       "      <td>University Of Alabama At Birmingham</td>\n",
       "      <td>2024</td>\n",
       "      <td>77</td>\n",
       "      <td>589</td>\n",
       "      <td>U. Alabama</td>\n",
       "      <td>1746</td>\n",
       "      <td>0.044101</td>\n",
       "    </tr>\n",
       "    <tr>\n",
       "      <th>1</th>\n",
       "      <td>University Of Alabama At Birmingham</td>\n",
       "      <td>2023</td>\n",
       "      <td>75</td>\n",
       "      <td>589</td>\n",
       "      <td>U. Alabama</td>\n",
       "      <td>1469</td>\n",
       "      <td>0.051055</td>\n",
       "    </tr>\n",
       "    <tr>\n",
       "      <th>2</th>\n",
       "      <td>University Of Alabama At Birmingham</td>\n",
       "      <td>2022</td>\n",
       "      <td>67</td>\n",
       "      <td>589</td>\n",
       "      <td>U. Alabama</td>\n",
       "      <td>848</td>\n",
       "      <td>0.079009</td>\n",
       "    </tr>\n",
       "    <tr>\n",
       "      <th>3</th>\n",
       "      <td>University Of Alabama At Birmingham</td>\n",
       "      <td>2021</td>\n",
       "      <td>66</td>\n",
       "      <td>589</td>\n",
       "      <td>U. Alabama</td>\n",
       "      <td>922</td>\n",
       "      <td>0.071584</td>\n",
       "    </tr>\n",
       "    <tr>\n",
       "      <th>4</th>\n",
       "      <td>University Of Alabama At Birmingham</td>\n",
       "      <td>2020</td>\n",
       "      <td>94</td>\n",
       "      <td>589</td>\n",
       "      <td>U. Alabama</td>\n",
       "      <td>1742</td>\n",
       "      <td>0.053961</td>\n",
       "    </tr>\n",
       "    <tr>\n",
       "      <th>...</th>\n",
       "      <td>...</td>\n",
       "      <td>...</td>\n",
       "      <td>...</td>\n",
       "      <td>...</td>\n",
       "      <td>...</td>\n",
       "      <td>...</td>\n",
       "      <td>...</td>\n",
       "    </tr>\n",
       "    <tr>\n",
       "      <th>175</th>\n",
       "      <td>University Of Florida</td>\n",
       "      <td>2020</td>\n",
       "      <td>36</td>\n",
       "      <td>170</td>\n",
       "      <td>U. Florida</td>\n",
       "      <td>1742</td>\n",
       "      <td>0.020666</td>\n",
       "    </tr>\n",
       "    <tr>\n",
       "      <th>176</th>\n",
       "      <td>University Of Florida</td>\n",
       "      <td>2019</td>\n",
       "      <td>14</td>\n",
       "      <td>170</td>\n",
       "      <td>U. Florida</td>\n",
       "      <td>1536</td>\n",
       "      <td>0.009115</td>\n",
       "    </tr>\n",
       "    <tr>\n",
       "      <th>177</th>\n",
       "      <td>University Of Florida</td>\n",
       "      <td>2018</td>\n",
       "      <td>27</td>\n",
       "      <td>170</td>\n",
       "      <td>U. Florida</td>\n",
       "      <td>1368</td>\n",
       "      <td>0.019737</td>\n",
       "    </tr>\n",
       "    <tr>\n",
       "      <th>178</th>\n",
       "      <td>University Of Florida</td>\n",
       "      <td>2017</td>\n",
       "      <td>16</td>\n",
       "      <td>170</td>\n",
       "      <td>U. Florida</td>\n",
       "      <td>1386</td>\n",
       "      <td>0.011544</td>\n",
       "    </tr>\n",
       "    <tr>\n",
       "      <th>179</th>\n",
       "      <td>University Of Florida</td>\n",
       "      <td>2016</td>\n",
       "      <td>14</td>\n",
       "      <td>170</td>\n",
       "      <td>U. Florida</td>\n",
       "      <td>1125</td>\n",
       "      <td>0.012444</td>\n",
       "    </tr>\n",
       "  </tbody>\n",
       "</table>\n",
       "<p>180 rows × 7 columns</p>\n",
       "</div>"
      ],
      "text/plain": [
       "                      smart_institution5  year  count  total_count  \\\n",
       "0    University Of Alabama At Birmingham  2024     77          589   \n",
       "1    University Of Alabama At Birmingham  2023     75          589   \n",
       "2    University Of Alabama At Birmingham  2022     67          589   \n",
       "3    University Of Alabama At Birmingham  2021     66          589   \n",
       "4    University Of Alabama At Birmingham  2020     94          589   \n",
       "..                                   ...   ...    ...          ...   \n",
       "175                University Of Florida  2020     36          170   \n",
       "176                University Of Florida  2019     14          170   \n",
       "177                University Of Florida  2018     27          170   \n",
       "178                University Of Florida  2017     16          170   \n",
       "179                University Of Florida  2016     14          170   \n",
       "\n",
       "    clean_institution  abstracts_per_year   percent  \n",
       "0          U. Alabama                1746  0.044101  \n",
       "1          U. Alabama                1469  0.051055  \n",
       "2          U. Alabama                 848  0.079009  \n",
       "3          U. Alabama                 922  0.071584  \n",
       "4          U. Alabama                1742  0.053961  \n",
       "..                ...                 ...       ...  \n",
       "175        U. Florida                1742  0.020666  \n",
       "176        U. Florida                1536  0.009115  \n",
       "177        U. Florida                1368  0.019737  \n",
       "178        U. Florida                1386  0.011544  \n",
       "179        U. Florida                1125  0.012444  \n",
       "\n",
       "[180 rows x 7 columns]"
      ]
     },
     "execution_count": 18,
     "metadata": {},
     "output_type": "execute_result"
    }
   ],
   "source": [
    "## Create a new dataframe called df_institution_year\n",
    "\n",
    "df_institution_year = df3.groupby(['smart_institution5', 'year']).agg(\n",
    "    count = ('control_number', 'nunique')\n",
    ")\n",
    "\n",
    "\n",
    "\n",
    "df_institution_year.reset_index(inplace=True)\n",
    "\n",
    "## Create a dataframe called df_institution_year_subset with the top 20 institutions\n",
    "df_institution_year_subset = df_institution_year[df_institution_year['smart_institution5'].isin(top_institutions)]\n",
    "\n",
    "\n",
    "## Merge in df_institution_year_subset with df_institution_subset to get the clean name\n",
    "df_institution_year_subset = pd.merge(df_institution_year_subset, df_institution_subset, on='smart_institution5', how='left')\n",
    "\n",
    "## Rename 'count_x' to 'count' and 'count_y' to 'total_count'\n",
    "df_institution_year_subset.rename(columns={'count_x': 'count', 'count_y': 'total_count'}, inplace=True)\n",
    "\n",
    "df_institution_year_subset\n",
    "\n",
    "## Sort by year (most recent first) and then by count (most to least) but we want all 'smart\n",
    "df_institution_year_subset.sort_values(by=['total_count', 'year', 'count'], ascending=False, inplace=True)\n",
    "\n",
    "## Calculate the sum of 'count' for each 'smart_institution5'\n",
    "df_institution_year_subset['total_count_verify'] = df_institution_year_subset.groupby('smart_institution5')['count'].transform('sum')\n",
    "\n",
    "## Confirm that the total_count and total_count_verify are the same for all rows\n",
    "df_institution_year_subset['total_count'].equals(df_institution_year_subset['total_count_verify'])\n",
    "\n",
    "## Drop the total_count_verify column\n",
    "df_institution_year_subset.drop(columns=['total_count_verify'], inplace=True)\n",
    "\n",
    "## Merge in df_year with df_institution_year_subset\n",
    "df_institution_year_subset = pd.merge(df_institution_year_subset, df_years, on='year', how='left')\n",
    "\n",
    "## Rename 'total_count_x' to 'total_count' and 'total_count_y' to 'abstracts_per_year'\n",
    "df_institution_year_subset.rename(columns={'total_count_x': 'total_count', 'total_count_y': 'abstracts_per_year'}, inplace=True)\n",
    "\n",
    "## Create a new column called percent\n",
    "df_institution_year_subset['percent'] = df_institution_year_subset['count'] / df_institution_year_subset['abstracts_per_year']\n",
    "\n",
    "df_institution_year_subset\n",
    "\n"
   ]
  },
  {
   "cell_type": "markdown",
   "metadata": {},
   "source": [
    "## Graph the Results"
   ]
  },
  {
   "cell_type": "code",
   "execution_count": 19,
   "metadata": {},
   "outputs": [
    {
     "name": "stderr",
     "output_type": "stream",
     "text": [
      "/Library/Frameworks/Python.framework/Versions/3.10/lib/python3.10/site-packages/plotly/express/_core.py:1979: FutureWarning:\n",
      "\n",
      "When grouping with a length-1 list-like, you will need to pass a length-1 tuple to get_group in a future version of pandas. Pass `(name,)` instead of `name` to silence this warning.\n",
      "\n"
     ]
    },
    {
     "data": {
      "application/vnd.plotly.v1+json": {
       "config": {
        "plotlyServerURL": "https://plot.ly"
       },
       "data": [
        {
         "hovertemplate": "clean_institution=U. Alabama<br>year=%{x}<br>count=%{y}<extra></extra>",
         "legendgroup": "U. Alabama",
         "line": {
          "color": "#636efa",
          "dash": "solid",
          "width": 5
         },
         "marker": {
          "symbol": "circle"
         },
         "mode": "lines",
         "name": "U. Alabama",
         "orientation": "v",
         "showlegend": true,
         "textfont": {
          "size": 24
         },
         "type": "scatter",
         "x": [
          2024,
          2023,
          2022,
          2021,
          2020,
          2019,
          2018,
          2017,
          2016
         ],
         "xaxis": "x",
         "y": [
          77,
          75,
          67,
          66,
          94,
          67,
          68,
          60,
          15
         ],
         "yaxis": "y"
        },
        {
         "hovertemplate": "clean_institution=U. Michigan<br>year=%{x}<br>count=%{y}<extra></extra>",
         "legendgroup": "U. Michigan",
         "line": {
          "color": "#EF553B",
          "dash": "solid",
          "width": 5
         },
         "marker": {
          "symbol": "circle"
         },
         "mode": "lines",
         "name": "U. Michigan",
         "orientation": "v",
         "showlegend": true,
         "textfont": {
          "size": 24
         },
         "type": "scatter",
         "x": [
          2024,
          2023,
          2022,
          2021,
          2020,
          2019,
          2018,
          2017,
          2016
         ],
         "xaxis": "x",
         "y": [
          56,
          51,
          42,
          37,
          47,
          51,
          48,
          55,
          42
         ],
         "yaxis": "y"
        },
        {
         "hovertemplate": "clean_institution=Penn<br>year=%{x}<br>count=%{y}<extra></extra>",
         "legendgroup": "Penn",
         "line": {
          "color": "#00cc96",
          "dash": "solid",
          "width": 5
         },
         "marker": {
          "symbol": "circle"
         },
         "mode": "lines",
         "name": "Penn",
         "orientation": "v",
         "showlegend": true,
         "textfont": {
          "size": 24
         },
         "type": "scatter",
         "x": [
          2024,
          2023,
          2022,
          2021,
          2020,
          2019,
          2018,
          2017,
          2016
         ],
         "xaxis": "x",
         "y": [
          28,
          36,
          18,
          25,
          31,
          23,
          24,
          34,
          37
         ],
         "yaxis": "y"
        },
        {
         "hovertemplate": "clean_institution=Johns Hopkins<br>year=%{x}<br>count=%{y}<extra></extra>",
         "legendgroup": "Johns Hopkins",
         "line": {
          "color": "#ab63fa",
          "dash": "solid",
          "width": 5
         },
         "marker": {
          "symbol": "circle"
         },
         "mode": "lines",
         "name": "Johns Hopkins",
         "orientation": "v",
         "showlegend": true,
         "textfont": {
          "size": 24
         },
         "type": "scatter",
         "x": [
          2024,
          2023,
          2022,
          2021,
          2020,
          2019,
          2018,
          2017,
          2016
         ],
         "xaxis": "x",
         "y": [
          38,
          15,
          3,
          20,
          59,
          28,
          23,
          29,
          31
         ],
         "yaxis": "y"
        },
        {
         "hovertemplate": "clean_institution=UCLA<br>year=%{x}<br>count=%{y}<extra></extra>",
         "legendgroup": "UCLA",
         "line": {
          "color": "#FFA15A",
          "dash": "solid",
          "width": 5
         },
         "marker": {
          "symbol": "circle"
         },
         "mode": "lines",
         "name": "UCLA",
         "orientation": "v",
         "showlegend": true,
         "textfont": {
          "size": 24
         },
         "type": "scatter",
         "x": [
          2024,
          2023,
          2022,
          2021,
          2020,
          2019,
          2018,
          2017,
          2016
         ],
         "xaxis": "x",
         "y": [
          52,
          37,
          27,
          20,
          25,
          27,
          19,
          31,
          7
         ],
         "yaxis": "y"
        },
        {
         "hovertemplate": "clean_institution=Baylor<br>year=%{x}<br>count=%{y}<extra></extra>",
         "legendgroup": "Baylor",
         "line": {
          "color": "#19d3f3",
          "dash": "solid",
          "width": 5
         },
         "marker": {
          "symbol": "circle"
         },
         "mode": "lines",
         "name": "Baylor",
         "orientation": "v",
         "showlegend": true,
         "textfont": {
          "size": 24
         },
         "type": "scatter",
         "x": [
          2024,
          2023,
          2022,
          2021,
          2020,
          2019,
          2018,
          2017,
          2016
         ],
         "xaxis": "x",
         "y": [
          31,
          42,
          10,
          36,
          26,
          36,
          21,
          20,
          5
         ],
         "yaxis": "y"
        },
        {
         "hovertemplate": "clean_institution=Stanford<br>year=%{x}<br>count=%{y}<extra></extra>",
         "legendgroup": "Stanford",
         "line": {
          "color": "#FF6692",
          "dash": "solid",
          "width": 5
         },
         "marker": {
          "symbol": "circle"
         },
         "mode": "lines",
         "name": "Stanford",
         "orientation": "v",
         "showlegend": true,
         "textfont": {
          "size": 24
         },
         "type": "scatter",
         "x": [
          2024,
          2023,
          2022,
          2021,
          2020,
          2019,
          2018,
          2017,
          2016
         ],
         "xaxis": "x",
         "y": [
          28,
          26,
          14,
          13,
          26,
          22,
          24,
          29,
          22
         ],
         "yaxis": "y"
        },
        {
         "hovertemplate": "clean_institution=Mass General<br>year=%{x}<br>count=%{y}<extra></extra>",
         "legendgroup": "Mass General",
         "line": {
          "color": "#B6E880",
          "dash": "solid",
          "width": 5
         },
         "marker": {
          "symbol": "circle"
         },
         "mode": "lines",
         "name": "Mass General",
         "orientation": "v",
         "showlegend": true,
         "textfont": {
          "size": 24
         },
         "type": "scatter",
         "x": [
          2024,
          2023,
          2022,
          2021,
          2020,
          2019,
          2018,
          2017,
          2016
         ],
         "xaxis": "x",
         "y": [
          35,
          34,
          7,
          12,
          25,
          23,
          14,
          23,
          22
         ],
         "yaxis": "y"
        },
        {
         "hovertemplate": "clean_institution=UPMC<br>year=%{x}<br>count=%{y}<extra></extra>",
         "legendgroup": "UPMC",
         "line": {
          "color": "#FF97FF",
          "dash": "solid",
          "width": 5
         },
         "marker": {
          "symbol": "circle"
         },
         "mode": "lines",
         "name": "UPMC",
         "orientation": "v",
         "showlegend": true,
         "textfont": {
          "size": 24
         },
         "type": "scatter",
         "x": [
          2024,
          2023,
          2022,
          2021,
          2020,
          2019,
          2018,
          2017,
          2016
         ],
         "xaxis": "x",
         "y": [
          34,
          23,
          18,
          9,
          27,
          21,
          21,
          24,
          17
         ],
         "yaxis": "y"
        },
        {
         "hovertemplate": "clean_institution=Indiana U.<br>year=%{x}<br>count=%{y}<extra></extra>",
         "legendgroup": "Indiana U.",
         "line": {
          "color": "#FECB52",
          "dash": "solid",
          "width": 5
         },
         "marker": {
          "symbol": "circle"
         },
         "mode": "lines",
         "name": "Indiana U.",
         "orientation": "v",
         "showlegend": true,
         "textfont": {
          "size": 24
         },
         "type": "scatter",
         "x": [
          2024,
          2023,
          2022,
          2021,
          2020,
          2019,
          2018,
          2017,
          2016
         ],
         "xaxis": "x",
         "y": [
          33,
          22,
          11,
          11,
          25,
          26,
          27,
          15,
          24
         ],
         "yaxis": "y"
        },
        {
         "hovertemplate": "clean_institution=U. Miami<br>year=%{x}<br>count=%{y}<extra></extra>",
         "legendgroup": "U. Miami",
         "line": {
          "color": "#636efa",
          "dash": "solid",
          "width": 5
         },
         "marker": {
          "symbol": "circle"
         },
         "mode": "lines",
         "name": "U. Miami",
         "orientation": "v",
         "showlegend": true,
         "textfont": {
          "size": 24
         },
         "type": "scatter",
         "x": [
          2024,
          2023,
          2022,
          2021,
          2020,
          2019,
          2018,
          2017,
          2016
         ],
         "xaxis": "x",
         "y": [
          22,
          17,
          15,
          16,
          26,
          24,
          30,
          35,
          8
         ],
         "yaxis": "y"
        },
        {
         "hovertemplate": "clean_institution=MCW<br>year=%{x}<br>count=%{y}<extra></extra>",
         "legendgroup": "MCW",
         "line": {
          "color": "#EF553B",
          "dash": "solid",
          "width": 5
         },
         "marker": {
          "symbol": "circle"
         },
         "mode": "lines",
         "name": "MCW",
         "orientation": "v",
         "showlegend": true,
         "textfont": {
          "size": 24
         },
         "type": "scatter",
         "x": [
          2024,
          2023,
          2022,
          2021,
          2020,
          2019,
          2018,
          2017,
          2016
         ],
         "xaxis": "x",
         "y": [
          27,
          24,
          7,
          18,
          25,
          34,
          20,
          17,
          19
         ],
         "yaxis": "y"
        },
        {
         "hovertemplate": "clean_institution=U.T. Southwestern<br>year=%{x}<br>count=%{y}<extra></extra>",
         "legendgroup": "U.T. Southwestern",
         "line": {
          "color": "#00cc96",
          "dash": "solid",
          "width": 5
         },
         "marker": {
          "symbol": "circle"
         },
         "mode": "lines",
         "name": "U.T. Southwestern",
         "orientation": "v",
         "showlegend": true,
         "textfont": {
          "size": 24
         },
         "type": "scatter",
         "x": [
          2024,
          2023,
          2022,
          2021,
          2020,
          2019,
          2018,
          2017,
          2016
         ],
         "xaxis": "x",
         "y": [
          34,
          21,
          13,
          14,
          25,
          24,
          21,
          26,
          12
         ],
         "yaxis": "y"
        },
        {
         "hovertemplate": "clean_institution=Northwestern<br>year=%{x}<br>count=%{y}<extra></extra>",
         "legendgroup": "Northwestern",
         "line": {
          "color": "#ab63fa",
          "dash": "solid",
          "width": 5
         },
         "marker": {
          "symbol": "circle"
         },
         "mode": "lines",
         "name": "Northwestern",
         "orientation": "v",
         "showlegend": true,
         "textfont": {
          "size": 24
         },
         "type": "scatter",
         "x": [
          2024,
          2023,
          2022,
          2021,
          2020,
          2019,
          2018,
          2017,
          2016
         ],
         "xaxis": "x",
         "y": [
          30,
          28,
          13,
          15,
          26,
          23,
          23,
          17,
          12
         ],
         "yaxis": "y"
        },
        {
         "hovertemplate": "clean_institution=U. Colorado<br>year=%{x}<br>count=%{y}<extra></extra>",
         "legendgroup": "U. Colorado",
         "line": {
          "color": "#FFA15A",
          "dash": "solid",
          "width": 5
         },
         "marker": {
          "symbol": "circle"
         },
         "mode": "lines",
         "name": "U. Colorado",
         "orientation": "v",
         "showlegend": true,
         "textfont": {
          "size": 24
         },
         "type": "scatter",
         "x": [
          2024,
          2023,
          2022,
          2021,
          2020,
          2019,
          2018,
          2017,
          2016
         ],
         "xaxis": "x",
         "y": [
          28,
          27,
          19,
          14,
          22,
          25,
          18,
          17,
          12
         ],
         "yaxis": "y"
        },
        {
         "hovertemplate": "clean_institution=Yale<br>year=%{x}<br>count=%{y}<extra></extra>",
         "legendgroup": "Yale",
         "line": {
          "color": "#19d3f3",
          "dash": "solid",
          "width": 5
         },
         "marker": {
          "symbol": "circle"
         },
         "mode": "lines",
         "name": "Yale",
         "orientation": "v",
         "showlegend": true,
         "textfont": {
          "size": 24
         },
         "type": "scatter",
         "x": [
          2024,
          2023,
          2022,
          2021,
          2020,
          2019,
          2018,
          2017,
          2016
         ],
         "xaxis": "x",
         "y": [
          11,
          15,
          4,
          9,
          29,
          33,
          34,
          22,
          25
         ],
         "yaxis": "y"
        },
        {
         "hovertemplate": "clean_institution=U. Wisconsin<br>year=%{x}<br>count=%{y}<extra></extra>",
         "legendgroup": "U. Wisconsin",
         "line": {
          "color": "#FF6692",
          "dash": "solid",
          "width": 5
         },
         "marker": {
          "symbol": "circle"
         },
         "mode": "lines",
         "name": "U. Wisconsin",
         "orientation": "v",
         "showlegend": true,
         "textfont": {
          "size": 24
         },
         "type": "scatter",
         "x": [
          2024,
          2023,
          2022,
          2021,
          2020,
          2019,
          2018,
          2017,
          2016
         ],
         "xaxis": "x",
         "y": [
          9,
          12,
          13,
          10,
          23,
          26,
          19,
          29,
          40
         ],
         "yaxis": "y"
        },
        {
         "hovertemplate": "clean_institution=BWH<br>year=%{x}<br>count=%{y}<extra></extra>",
         "legendgroup": "BWH",
         "line": {
          "color": "#B6E880",
          "dash": "solid",
          "width": 5
         },
         "marker": {
          "symbol": "circle"
         },
         "mode": "lines",
         "name": "BWH",
         "orientation": "v",
         "showlegend": true,
         "textfont": {
          "size": 24
         },
         "type": "scatter",
         "x": [
          2024,
          2023,
          2022,
          2021,
          2020,
          2019,
          2018,
          2017,
          2016
         ],
         "xaxis": "x",
         "y": [
          16,
          16,
          3,
          11,
          22,
          33,
          31,
          16,
          26
         ],
         "yaxis": "y"
        },
        {
         "hovertemplate": "clean_institution=Ohio State U.<br>year=%{x}<br>count=%{y}<extra></extra>",
         "legendgroup": "Ohio State U.",
         "line": {
          "color": "#FF97FF",
          "dash": "solid",
          "width": 5
         },
         "marker": {
          "symbol": "circle"
         },
         "mode": "lines",
         "name": "Ohio State U.",
         "orientation": "v",
         "showlegend": true,
         "textfont": {
          "size": 24
         },
         "type": "scatter",
         "x": [
          2024,
          2023,
          2022,
          2021,
          2020,
          2019,
          2018,
          2017,
          2016
         ],
         "xaxis": "x",
         "y": [
          22,
          22,
          10,
          12,
          35,
          24,
          28,
          11,
          7
         ],
         "yaxis": "y"
        },
        {
         "hovertemplate": "clean_institution=U. Florida<br>year=%{x}<br>count=%{y}<extra></extra>",
         "legendgroup": "U. Florida",
         "line": {
          "color": "#FECB52",
          "dash": "solid",
          "width": 5
         },
         "marker": {
          "symbol": "circle"
         },
         "mode": "lines",
         "name": "U. Florida",
         "orientation": "v",
         "showlegend": true,
         "textfont": {
          "size": 24
         },
         "type": "scatter",
         "x": [
          2024,
          2023,
          2022,
          2021,
          2020,
          2019,
          2018,
          2017,
          2016
         ],
         "xaxis": "x",
         "y": [
          13,
          20,
          20,
          10,
          36,
          14,
          27,
          16,
          14
         ],
         "yaxis": "y"
        }
       ],
       "layout": {
        "font": {
         "family": "Inter",
         "size": 24
        },
        "height": 800,
        "legend": {
         "title": {
          "text": "clean_institution"
         },
         "tracegroupgap": 0
        },
        "margin": {
         "t": 60
        },
        "template": {
         "data": {
          "bar": [
           {
            "error_x": {
             "color": "#2a3f5f"
            },
            "error_y": {
             "color": "#2a3f5f"
            },
            "marker": {
             "line": {
              "color": "#E5ECF6",
              "width": 0.5
             },
             "pattern": {
              "fillmode": "overlay",
              "size": 10,
              "solidity": 0.2
             }
            },
            "type": "bar"
           }
          ],
          "barpolar": [
           {
            "marker": {
             "line": {
              "color": "#E5ECF6",
              "width": 0.5
             },
             "pattern": {
              "fillmode": "overlay",
              "size": 10,
              "solidity": 0.2
             }
            },
            "type": "barpolar"
           }
          ],
          "carpet": [
           {
            "aaxis": {
             "endlinecolor": "#2a3f5f",
             "gridcolor": "white",
             "linecolor": "white",
             "minorgridcolor": "white",
             "startlinecolor": "#2a3f5f"
            },
            "baxis": {
             "endlinecolor": "#2a3f5f",
             "gridcolor": "white",
             "linecolor": "white",
             "minorgridcolor": "white",
             "startlinecolor": "#2a3f5f"
            },
            "type": "carpet"
           }
          ],
          "choropleth": [
           {
            "colorbar": {
             "outlinewidth": 0,
             "ticks": ""
            },
            "type": "choropleth"
           }
          ],
          "contour": [
           {
            "colorbar": {
             "outlinewidth": 0,
             "ticks": ""
            },
            "colorscale": [
             [
              0,
              "#0d0887"
             ],
             [
              0.1111111111111111,
              "#46039f"
             ],
             [
              0.2222222222222222,
              "#7201a8"
             ],
             [
              0.3333333333333333,
              "#9c179e"
             ],
             [
              0.4444444444444444,
              "#bd3786"
             ],
             [
              0.5555555555555556,
              "#d8576b"
             ],
             [
              0.6666666666666666,
              "#ed7953"
             ],
             [
              0.7777777777777778,
              "#fb9f3a"
             ],
             [
              0.8888888888888888,
              "#fdca26"
             ],
             [
              1,
              "#f0f921"
             ]
            ],
            "type": "contour"
           }
          ],
          "contourcarpet": [
           {
            "colorbar": {
             "outlinewidth": 0,
             "ticks": ""
            },
            "type": "contourcarpet"
           }
          ],
          "heatmap": [
           {
            "colorbar": {
             "outlinewidth": 0,
             "ticks": ""
            },
            "colorscale": [
             [
              0,
              "#0d0887"
             ],
             [
              0.1111111111111111,
              "#46039f"
             ],
             [
              0.2222222222222222,
              "#7201a8"
             ],
             [
              0.3333333333333333,
              "#9c179e"
             ],
             [
              0.4444444444444444,
              "#bd3786"
             ],
             [
              0.5555555555555556,
              "#d8576b"
             ],
             [
              0.6666666666666666,
              "#ed7953"
             ],
             [
              0.7777777777777778,
              "#fb9f3a"
             ],
             [
              0.8888888888888888,
              "#fdca26"
             ],
             [
              1,
              "#f0f921"
             ]
            ],
            "type": "heatmap"
           }
          ],
          "heatmapgl": [
           {
            "colorbar": {
             "outlinewidth": 0,
             "ticks": ""
            },
            "colorscale": [
             [
              0,
              "#0d0887"
             ],
             [
              0.1111111111111111,
              "#46039f"
             ],
             [
              0.2222222222222222,
              "#7201a8"
             ],
             [
              0.3333333333333333,
              "#9c179e"
             ],
             [
              0.4444444444444444,
              "#bd3786"
             ],
             [
              0.5555555555555556,
              "#d8576b"
             ],
             [
              0.6666666666666666,
              "#ed7953"
             ],
             [
              0.7777777777777778,
              "#fb9f3a"
             ],
             [
              0.8888888888888888,
              "#fdca26"
             ],
             [
              1,
              "#f0f921"
             ]
            ],
            "type": "heatmapgl"
           }
          ],
          "histogram": [
           {
            "marker": {
             "pattern": {
              "fillmode": "overlay",
              "size": 10,
              "solidity": 0.2
             }
            },
            "type": "histogram"
           }
          ],
          "histogram2d": [
           {
            "colorbar": {
             "outlinewidth": 0,
             "ticks": ""
            },
            "colorscale": [
             [
              0,
              "#0d0887"
             ],
             [
              0.1111111111111111,
              "#46039f"
             ],
             [
              0.2222222222222222,
              "#7201a8"
             ],
             [
              0.3333333333333333,
              "#9c179e"
             ],
             [
              0.4444444444444444,
              "#bd3786"
             ],
             [
              0.5555555555555556,
              "#d8576b"
             ],
             [
              0.6666666666666666,
              "#ed7953"
             ],
             [
              0.7777777777777778,
              "#fb9f3a"
             ],
             [
              0.8888888888888888,
              "#fdca26"
             ],
             [
              1,
              "#f0f921"
             ]
            ],
            "type": "histogram2d"
           }
          ],
          "histogram2dcontour": [
           {
            "colorbar": {
             "outlinewidth": 0,
             "ticks": ""
            },
            "colorscale": [
             [
              0,
              "#0d0887"
             ],
             [
              0.1111111111111111,
              "#46039f"
             ],
             [
              0.2222222222222222,
              "#7201a8"
             ],
             [
              0.3333333333333333,
              "#9c179e"
             ],
             [
              0.4444444444444444,
              "#bd3786"
             ],
             [
              0.5555555555555556,
              "#d8576b"
             ],
             [
              0.6666666666666666,
              "#ed7953"
             ],
             [
              0.7777777777777778,
              "#fb9f3a"
             ],
             [
              0.8888888888888888,
              "#fdca26"
             ],
             [
              1,
              "#f0f921"
             ]
            ],
            "type": "histogram2dcontour"
           }
          ],
          "mesh3d": [
           {
            "colorbar": {
             "outlinewidth": 0,
             "ticks": ""
            },
            "type": "mesh3d"
           }
          ],
          "parcoords": [
           {
            "line": {
             "colorbar": {
              "outlinewidth": 0,
              "ticks": ""
             }
            },
            "type": "parcoords"
           }
          ],
          "pie": [
           {
            "automargin": true,
            "type": "pie"
           }
          ],
          "scatter": [
           {
            "fillpattern": {
             "fillmode": "overlay",
             "size": 10,
             "solidity": 0.2
            },
            "type": "scatter"
           }
          ],
          "scatter3d": [
           {
            "line": {
             "colorbar": {
              "outlinewidth": 0,
              "ticks": ""
             }
            },
            "marker": {
             "colorbar": {
              "outlinewidth": 0,
              "ticks": ""
             }
            },
            "type": "scatter3d"
           }
          ],
          "scattercarpet": [
           {
            "marker": {
             "colorbar": {
              "outlinewidth": 0,
              "ticks": ""
             }
            },
            "type": "scattercarpet"
           }
          ],
          "scattergeo": [
           {
            "marker": {
             "colorbar": {
              "outlinewidth": 0,
              "ticks": ""
             }
            },
            "type": "scattergeo"
           }
          ],
          "scattergl": [
           {
            "marker": {
             "colorbar": {
              "outlinewidth": 0,
              "ticks": ""
             }
            },
            "type": "scattergl"
           }
          ],
          "scattermapbox": [
           {
            "marker": {
             "colorbar": {
              "outlinewidth": 0,
              "ticks": ""
             }
            },
            "type": "scattermapbox"
           }
          ],
          "scatterpolar": [
           {
            "marker": {
             "colorbar": {
              "outlinewidth": 0,
              "ticks": ""
             }
            },
            "type": "scatterpolar"
           }
          ],
          "scatterpolargl": [
           {
            "marker": {
             "colorbar": {
              "outlinewidth": 0,
              "ticks": ""
             }
            },
            "type": "scatterpolargl"
           }
          ],
          "scatterternary": [
           {
            "marker": {
             "colorbar": {
              "outlinewidth": 0,
              "ticks": ""
             }
            },
            "type": "scatterternary"
           }
          ],
          "surface": [
           {
            "colorbar": {
             "outlinewidth": 0,
             "ticks": ""
            },
            "colorscale": [
             [
              0,
              "#0d0887"
             ],
             [
              0.1111111111111111,
              "#46039f"
             ],
             [
              0.2222222222222222,
              "#7201a8"
             ],
             [
              0.3333333333333333,
              "#9c179e"
             ],
             [
              0.4444444444444444,
              "#bd3786"
             ],
             [
              0.5555555555555556,
              "#d8576b"
             ],
             [
              0.6666666666666666,
              "#ed7953"
             ],
             [
              0.7777777777777778,
              "#fb9f3a"
             ],
             [
              0.8888888888888888,
              "#fdca26"
             ],
             [
              1,
              "#f0f921"
             ]
            ],
            "type": "surface"
           }
          ],
          "table": [
           {
            "cells": {
             "fill": {
              "color": "#EBF0F8"
             },
             "line": {
              "color": "white"
             }
            },
            "header": {
             "fill": {
              "color": "#C8D4E3"
             },
             "line": {
              "color": "white"
             }
            },
            "type": "table"
           }
          ]
         },
         "layout": {
          "annotationdefaults": {
           "arrowcolor": "#2a3f5f",
           "arrowhead": 0,
           "arrowwidth": 1
          },
          "autotypenumbers": "strict",
          "coloraxis": {
           "colorbar": {
            "outlinewidth": 0,
            "ticks": ""
           }
          },
          "colorscale": {
           "diverging": [
            [
             0,
             "#8e0152"
            ],
            [
             0.1,
             "#c51b7d"
            ],
            [
             0.2,
             "#de77ae"
            ],
            [
             0.3,
             "#f1b6da"
            ],
            [
             0.4,
             "#fde0ef"
            ],
            [
             0.5,
             "#f7f7f7"
            ],
            [
             0.6,
             "#e6f5d0"
            ],
            [
             0.7,
             "#b8e186"
            ],
            [
             0.8,
             "#7fbc41"
            ],
            [
             0.9,
             "#4d9221"
            ],
            [
             1,
             "#276419"
            ]
           ],
           "sequential": [
            [
             0,
             "#0d0887"
            ],
            [
             0.1111111111111111,
             "#46039f"
            ],
            [
             0.2222222222222222,
             "#7201a8"
            ],
            [
             0.3333333333333333,
             "#9c179e"
            ],
            [
             0.4444444444444444,
             "#bd3786"
            ],
            [
             0.5555555555555556,
             "#d8576b"
            ],
            [
             0.6666666666666666,
             "#ed7953"
            ],
            [
             0.7777777777777778,
             "#fb9f3a"
            ],
            [
             0.8888888888888888,
             "#fdca26"
            ],
            [
             1,
             "#f0f921"
            ]
           ],
           "sequentialminus": [
            [
             0,
             "#0d0887"
            ],
            [
             0.1111111111111111,
             "#46039f"
            ],
            [
             0.2222222222222222,
             "#7201a8"
            ],
            [
             0.3333333333333333,
             "#9c179e"
            ],
            [
             0.4444444444444444,
             "#bd3786"
            ],
            [
             0.5555555555555556,
             "#d8576b"
            ],
            [
             0.6666666666666666,
             "#ed7953"
            ],
            [
             0.7777777777777778,
             "#fb9f3a"
            ],
            [
             0.8888888888888888,
             "#fdca26"
            ],
            [
             1,
             "#f0f921"
            ]
           ]
          },
          "colorway": [
           "#636efa",
           "#EF553B",
           "#00cc96",
           "#ab63fa",
           "#FFA15A",
           "#19d3f3",
           "#FF6692",
           "#B6E880",
           "#FF97FF",
           "#FECB52"
          ],
          "font": {
           "color": "#2a3f5f"
          },
          "geo": {
           "bgcolor": "white",
           "lakecolor": "white",
           "landcolor": "#E5ECF6",
           "showlakes": true,
           "showland": true,
           "subunitcolor": "white"
          },
          "hoverlabel": {
           "align": "left"
          },
          "hovermode": "closest",
          "mapbox": {
           "style": "light"
          },
          "paper_bgcolor": "white",
          "plot_bgcolor": "#E5ECF6",
          "polar": {
           "angularaxis": {
            "gridcolor": "white",
            "linecolor": "white",
            "ticks": ""
           },
           "bgcolor": "#E5ECF6",
           "radialaxis": {
            "gridcolor": "white",
            "linecolor": "white",
            "ticks": ""
           }
          },
          "scene": {
           "xaxis": {
            "backgroundcolor": "#E5ECF6",
            "gridcolor": "white",
            "gridwidth": 2,
            "linecolor": "white",
            "showbackground": true,
            "ticks": "",
            "zerolinecolor": "white"
           },
           "yaxis": {
            "backgroundcolor": "#E5ECF6",
            "gridcolor": "white",
            "gridwidth": 2,
            "linecolor": "white",
            "showbackground": true,
            "ticks": "",
            "zerolinecolor": "white"
           },
           "zaxis": {
            "backgroundcolor": "#E5ECF6",
            "gridcolor": "white",
            "gridwidth": 2,
            "linecolor": "white",
            "showbackground": true,
            "ticks": "",
            "zerolinecolor": "white"
           }
          },
          "shapedefaults": {
           "line": {
            "color": "#2a3f5f"
           }
          },
          "ternary": {
           "aaxis": {
            "gridcolor": "white",
            "linecolor": "white",
            "ticks": ""
           },
           "baxis": {
            "gridcolor": "white",
            "linecolor": "white",
            "ticks": ""
           },
           "bgcolor": "#E5ECF6",
           "caxis": {
            "gridcolor": "white",
            "linecolor": "white",
            "ticks": ""
           }
          },
          "title": {
           "x": 0.05
          },
          "xaxis": {
           "automargin": true,
           "gridcolor": "white",
           "linecolor": "white",
           "ticks": "",
           "title": {
            "standoff": 15
           },
           "zerolinecolor": "white",
           "zerolinewidth": 2
          },
          "yaxis": {
           "automargin": true,
           "gridcolor": "white",
           "linecolor": "white",
           "ticks": "",
           "title": {
            "standoff": 15
           },
           "zerolinecolor": "white",
           "zerolinewidth": 2
          }
         }
        },
        "width": 1500,
        "xaxis": {
         "anchor": "y",
         "domain": [
          0,
          1
         ],
         "tickangle": -90,
         "title": {
          "text": "Year"
         }
        },
        "yaxis": {
         "anchor": "x",
         "domain": [
          0,
          1
         ],
         "title": {
          "text": "Total Abstracts"
         }
        }
       }
      }
     },
     "metadata": {},
     "output_type": "display_data"
    }
   ],
   "source": [
    "## Create a line graph for the top 20 institutions\n",
    "\n",
    "fig = px.line(\n",
    "    df_institution_year_subset,\n",
    "    x='year',\n",
    "    y='count',\n",
    "    color='clean_institution',\n",
    ")\n",
    "\n",
    "fig.update_layout(\n",
    "    width=1500,\n",
    "    height=800,\n",
    "    font=dict(\n",
    "        family=\"Inter\",\n",
    "        size=24)\n",
    ")\n",
    "\n",
    "fig.update_traces(textfont_size=24)\n",
    "fig.update_xaxes(tickangle=-90)\n",
    "\n",
    "fig.update_layout(\n",
    "    xaxis_title=\"Year\",\n",
    "    yaxis_title=\"Total Abstracts\"\n",
    ")\n",
    "\n",
    "fig.update_traces(line=dict(width=5))\n",
    "\n",
    "fig.write_image('top_institutions_year.svg')\n",
    "\n",
    "fig.show()"
   ]
  },
  {
   "cell_type": "code",
   "execution_count": 20,
   "metadata": {},
   "outputs": [
    {
     "name": "stderr",
     "output_type": "stream",
     "text": [
      "/Library/Frameworks/Python.framework/Versions/3.10/lib/python3.10/site-packages/plotly/express/_core.py:1979: FutureWarning:\n",
      "\n",
      "When grouping with a length-1 list-like, you will need to pass a length-1 tuple to get_group in a future version of pandas. Pass `(name,)` instead of `name` to silence this warning.\n",
      "\n"
     ]
    },
    {
     "data": {
      "application/vnd.plotly.v1+json": {
       "config": {
        "plotlyServerURL": "https://plot.ly"
       },
       "data": [
        {
         "hovertemplate": "clean_institution=U. Alabama<br>year=%{x}<br>percent=%{y}<extra></extra>",
         "legendgroup": "U. Alabama",
         "line": {
          "color": "#636efa",
          "dash": "solid",
          "width": 5
         },
         "marker": {
          "symbol": "circle"
         },
         "mode": "lines",
         "name": "U. Alabama",
         "orientation": "v",
         "showlegend": true,
         "textfont": {
          "size": 24
         },
         "type": "scatter",
         "x": [
          2024,
          2023,
          2022,
          2021,
          2020,
          2019,
          2018,
          2017,
          2016
         ],
         "xaxis": "x",
         "y": [
          0.0441008018327606,
          0.05105513955071477,
          0.07900943396226415,
          0.07158351409978309,
          0.0539609644087256,
          0.043619791666666664,
          0.049707602339181284,
          0.04329004329004329,
          0.013333333333333334
         ],
         "yaxis": "y"
        },
        {
         "hovertemplate": "clean_institution=U. Michigan<br>year=%{x}<br>percent=%{y}<extra></extra>",
         "legendgroup": "U. Michigan",
         "line": {
          "color": "#EF553B",
          "dash": "solid",
          "width": 5
         },
         "marker": {
          "symbol": "circle"
         },
         "mode": "lines",
         "name": "U. Michigan",
         "orientation": "v",
         "showlegend": true,
         "textfont": {
          "size": 24
         },
         "type": "scatter",
         "x": [
          2024,
          2023,
          2022,
          2021,
          2020,
          2019,
          2018,
          2017,
          2016
         ],
         "xaxis": "x",
         "y": [
          0.032073310423825885,
          0.03471749489448604,
          0.049528301886792456,
          0.04013015184381779,
          0.0269804822043628,
          0.033203125,
          0.03508771929824561,
          0.03968253968253968,
          0.037333333333333336
         ],
         "yaxis": "y"
        },
        {
         "hovertemplate": "clean_institution=Penn<br>year=%{x}<br>percent=%{y}<extra></extra>",
         "legendgroup": "Penn",
         "line": {
          "color": "#00cc96",
          "dash": "solid",
          "width": 5
         },
         "marker": {
          "symbol": "circle"
         },
         "mode": "lines",
         "name": "Penn",
         "orientation": "v",
         "showlegend": true,
         "textfont": {
          "size": 24
         },
         "type": "scatter",
         "x": [
          2024,
          2023,
          2022,
          2021,
          2020,
          2019,
          2018,
          2017,
          2016
         ],
         "xaxis": "x",
         "y": [
          0.016036655211912942,
          0.02450646698434309,
          0.02122641509433962,
          0.027114967462039046,
          0.017795637198622274,
          0.014973958333333334,
          0.017543859649122806,
          0.024531024531024532,
          0.03288888888888889
         ],
         "yaxis": "y"
        },
        {
         "hovertemplate": "clean_institution=Johns Hopkins<br>year=%{x}<br>percent=%{y}<extra></extra>",
         "legendgroup": "Johns Hopkins",
         "line": {
          "color": "#ab63fa",
          "dash": "solid",
          "width": 5
         },
         "marker": {
          "symbol": "circle"
         },
         "mode": "lines",
         "name": "Johns Hopkins",
         "orientation": "v",
         "showlegend": true,
         "textfont": {
          "size": 24
         },
         "type": "scatter",
         "x": [
          2024,
          2023,
          2022,
          2021,
          2020,
          2019,
          2018,
          2017,
          2016
         ],
         "xaxis": "x",
         "y": [
          0.021764032073310423,
          0.010211027910142955,
          0.003537735849056604,
          0.021691973969631236,
          0.0338691159586682,
          0.018229166666666668,
          0.016812865497076022,
          0.020923520923520924,
          0.027555555555555555
         ],
         "yaxis": "y"
        },
        {
         "hovertemplate": "clean_institution=UCLA<br>year=%{x}<br>percent=%{y}<extra></extra>",
         "legendgroup": "UCLA",
         "line": {
          "color": "#FFA15A",
          "dash": "solid",
          "width": 5
         },
         "marker": {
          "symbol": "circle"
         },
         "mode": "lines",
         "name": "UCLA",
         "orientation": "v",
         "showlegend": true,
         "textfont": {
          "size": 24
         },
         "type": "scatter",
         "x": [
          2024,
          2023,
          2022,
          2021,
          2020,
          2019,
          2018,
          2017,
          2016
         ],
         "xaxis": "x",
         "y": [
          0.029782359679266894,
          0.02518720217835262,
          0.031839622641509434,
          0.021691973969631236,
          0.014351320321469576,
          0.017578125,
          0.013888888888888888,
          0.022366522366522368,
          0.006222222222222222
         ],
         "yaxis": "y"
        },
        {
         "hovertemplate": "clean_institution=Baylor<br>year=%{x}<br>percent=%{y}<extra></extra>",
         "legendgroup": "Baylor",
         "line": {
          "color": "#19d3f3",
          "dash": "solid",
          "width": 5
         },
         "marker": {
          "symbol": "circle"
         },
         "mode": "lines",
         "name": "Baylor",
         "orientation": "v",
         "showlegend": true,
         "textfont": {
          "size": 24
         },
         "type": "scatter",
         "x": [
          2024,
          2023,
          2022,
          2021,
          2020,
          2019,
          2018,
          2017,
          2016
         ],
         "xaxis": "x",
         "y": [
          0.017754868270332187,
          0.02859087814840027,
          0.01179245283018868,
          0.039045553145336226,
          0.014925373134328358,
          0.0234375,
          0.015350877192982455,
          0.01443001443001443,
          0.0044444444444444444
         ],
         "yaxis": "y"
        },
        {
         "hovertemplate": "clean_institution=Stanford<br>year=%{x}<br>percent=%{y}<extra></extra>",
         "legendgroup": "Stanford",
         "line": {
          "color": "#FF6692",
          "dash": "solid",
          "width": 5
         },
         "marker": {
          "symbol": "circle"
         },
         "mode": "lines",
         "name": "Stanford",
         "orientation": "v",
         "showlegend": true,
         "textfont": {
          "size": 24
         },
         "type": "scatter",
         "x": [
          2024,
          2023,
          2022,
          2021,
          2020,
          2019,
          2018,
          2017,
          2016
         ],
         "xaxis": "x",
         "y": [
          0.016036655211912942,
          0.017699115044247787,
          0.01650943396226415,
          0.014099783080260303,
          0.014925373134328358,
          0.014322916666666666,
          0.017543859649122806,
          0.020923520923520924,
          0.019555555555555555
         ],
         "yaxis": "y"
        },
        {
         "hovertemplate": "clean_institution=Mass General<br>year=%{x}<br>percent=%{y}<extra></extra>",
         "legendgroup": "Mass General",
         "line": {
          "color": "#B6E880",
          "dash": "solid",
          "width": 5
         },
         "marker": {
          "symbol": "circle"
         },
         "mode": "lines",
         "name": "Mass General",
         "orientation": "v",
         "showlegend": true,
         "textfont": {
          "size": 24
         },
         "type": "scatter",
         "x": [
          2024,
          2023,
          2022,
          2021,
          2020,
          2019,
          2018,
          2017,
          2016
         ],
         "xaxis": "x",
         "y": [
          0.02004581901489118,
          0.02314499659632403,
          0.008254716981132075,
          0.013015184381778741,
          0.014351320321469576,
          0.014973958333333334,
          0.01023391812865497,
          0.016594516594516596,
          0.019555555555555555
         ],
         "yaxis": "y"
        },
        {
         "hovertemplate": "clean_institution=UPMC<br>year=%{x}<br>percent=%{y}<extra></extra>",
         "legendgroup": "UPMC",
         "line": {
          "color": "#FF97FF",
          "dash": "solid",
          "width": 5
         },
         "marker": {
          "symbol": "circle"
         },
         "mode": "lines",
         "name": "UPMC",
         "orientation": "v",
         "showlegend": true,
         "textfont": {
          "size": 24
         },
         "type": "scatter",
         "x": [
          2024,
          2023,
          2022,
          2021,
          2020,
          2019,
          2018,
          2017,
          2016
         ],
         "xaxis": "x",
         "y": [
          0.019473081328751432,
          0.015656909462219197,
          0.02122641509433962,
          0.009761388286334056,
          0.015499425947187142,
          0.013671875,
          0.015350877192982455,
          0.017316017316017316,
          0.015111111111111112
         ],
         "yaxis": "y"
        },
        {
         "hovertemplate": "clean_institution=Indiana U.<br>year=%{x}<br>percent=%{y}<extra></extra>",
         "legendgroup": "Indiana U.",
         "line": {
          "color": "#FECB52",
          "dash": "solid",
          "width": 5
         },
         "marker": {
          "symbol": "circle"
         },
         "mode": "lines",
         "name": "Indiana U.",
         "orientation": "v",
         "showlegend": true,
         "textfont": {
          "size": 24
         },
         "type": "scatter",
         "x": [
          2024,
          2023,
          2022,
          2021,
          2020,
          2019,
          2018,
          2017,
          2016
         ],
         "xaxis": "x",
         "y": [
          0.018900343642611683,
          0.014976174268209666,
          0.012971698113207548,
          0.01193058568329718,
          0.014351320321469576,
          0.016927083333333332,
          0.019736842105263157,
          0.010822510822510822,
          0.021333333333333333
         ],
         "yaxis": "y"
        },
        {
         "hovertemplate": "clean_institution=U. Miami<br>year=%{x}<br>percent=%{y}<extra></extra>",
         "legendgroup": "U. Miami",
         "line": {
          "color": "#636efa",
          "dash": "solid",
          "width": 5
         },
         "marker": {
          "symbol": "circle"
         },
         "mode": "lines",
         "name": "U. Miami",
         "orientation": "v",
         "showlegend": true,
         "textfont": {
          "size": 24
         },
         "type": "scatter",
         "x": [
          2024,
          2023,
          2022,
          2021,
          2020,
          2019,
          2018,
          2017,
          2016
         ],
         "xaxis": "x",
         "y": [
          0.012600229095074456,
          0.011572498298162015,
          0.01768867924528302,
          0.01735357917570499,
          0.014925373134328358,
          0.015625,
          0.021929824561403508,
          0.025252525252525252,
          0.0071111111111111115
         ],
         "yaxis": "y"
        },
        {
         "hovertemplate": "clean_institution=MCW<br>year=%{x}<br>percent=%{y}<extra></extra>",
         "legendgroup": "MCW",
         "line": {
          "color": "#EF553B",
          "dash": "solid",
          "width": 5
         },
         "marker": {
          "symbol": "circle"
         },
         "mode": "lines",
         "name": "MCW",
         "orientation": "v",
         "showlegend": true,
         "textfont": {
          "size": 24
         },
         "type": "scatter",
         "x": [
          2024,
          2023,
          2022,
          2021,
          2020,
          2019,
          2018,
          2017,
          2016
         ],
         "xaxis": "x",
         "y": [
          0.015463917525773196,
          0.016337644656228726,
          0.008254716981132075,
          0.019522776572668113,
          0.014351320321469576,
          0.022135416666666668,
          0.014619883040935672,
          0.012265512265512266,
          0.016888888888888887
         ],
         "yaxis": "y"
        },
        {
         "hovertemplate": "clean_institution=U.T. Southwestern<br>year=%{x}<br>percent=%{y}<extra></extra>",
         "legendgroup": "U.T. Southwestern",
         "line": {
          "color": "#00cc96",
          "dash": "solid",
          "width": 5
         },
         "marker": {
          "symbol": "circle"
         },
         "mode": "lines",
         "name": "U.T. Southwestern",
         "orientation": "v",
         "showlegend": true,
         "textfont": {
          "size": 24
         },
         "type": "scatter",
         "x": [
          2024,
          2023,
          2022,
          2021,
          2020,
          2019,
          2018,
          2017,
          2016
         ],
         "xaxis": "x",
         "y": [
          0.019473081328751432,
          0.014295439074200136,
          0.015330188679245283,
          0.015184381778741865,
          0.014351320321469576,
          0.015625,
          0.015350877192982455,
          0.01875901875901876,
          0.010666666666666666
         ],
         "yaxis": "y"
        },
        {
         "hovertemplate": "clean_institution=Northwestern<br>year=%{x}<br>percent=%{y}<extra></extra>",
         "legendgroup": "Northwestern",
         "line": {
          "color": "#ab63fa",
          "dash": "solid",
          "width": 5
         },
         "marker": {
          "symbol": "circle"
         },
         "mode": "lines",
         "name": "Northwestern",
         "orientation": "v",
         "showlegend": true,
         "textfont": {
          "size": 24
         },
         "type": "scatter",
         "x": [
          2024,
          2023,
          2022,
          2021,
          2020,
          2019,
          2018,
          2017,
          2016
         ],
         "xaxis": "x",
         "y": [
          0.01718213058419244,
          0.01906058543226685,
          0.015330188679245283,
          0.016268980477223426,
          0.014925373134328358,
          0.014973958333333334,
          0.016812865497076022,
          0.012265512265512266,
          0.010666666666666666
         ],
         "yaxis": "y"
        },
        {
         "hovertemplate": "clean_institution=U. Colorado<br>year=%{x}<br>percent=%{y}<extra></extra>",
         "legendgroup": "U. Colorado",
         "line": {
          "color": "#FFA15A",
          "dash": "solid",
          "width": 5
         },
         "marker": {
          "symbol": "circle"
         },
         "mode": "lines",
         "name": "U. Colorado",
         "orientation": "v",
         "showlegend": true,
         "textfont": {
          "size": 24
         },
         "type": "scatter",
         "x": [
          2024,
          2023,
          2022,
          2021,
          2020,
          2019,
          2018,
          2017,
          2016
         ],
         "xaxis": "x",
         "y": [
          0.016036655211912942,
          0.018379850238257316,
          0.02240566037735849,
          0.015184381778741865,
          0.012629161882893225,
          0.016276041666666668,
          0.013157894736842105,
          0.012265512265512266,
          0.010666666666666666
         ],
         "yaxis": "y"
        },
        {
         "hovertemplate": "clean_institution=Yale<br>year=%{x}<br>percent=%{y}<extra></extra>",
         "legendgroup": "Yale",
         "line": {
          "color": "#19d3f3",
          "dash": "solid",
          "width": 5
         },
         "marker": {
          "symbol": "circle"
         },
         "mode": "lines",
         "name": "Yale",
         "orientation": "v",
         "showlegend": true,
         "textfont": {
          "size": 24
         },
         "type": "scatter",
         "x": [
          2024,
          2023,
          2022,
          2021,
          2020,
          2019,
          2018,
          2017,
          2016
         ],
         "xaxis": "x",
         "y": [
          0.006300114547537228,
          0.010211027910142955,
          0.0047169811320754715,
          0.009761388286334056,
          0.016647531572904706,
          0.021484375,
          0.024853801169590642,
          0.015873015873015872,
          0.022222222222222223
         ],
         "yaxis": "y"
        },
        {
         "hovertemplate": "clean_institution=U. Wisconsin<br>year=%{x}<br>percent=%{y}<extra></extra>",
         "legendgroup": "U. Wisconsin",
         "line": {
          "color": "#FF6692",
          "dash": "solid",
          "width": 5
         },
         "marker": {
          "symbol": "circle"
         },
         "mode": "lines",
         "name": "U. Wisconsin",
         "orientation": "v",
         "showlegend": true,
         "textfont": {
          "size": 24
         },
         "type": "scatter",
         "x": [
          2024,
          2023,
          2022,
          2021,
          2020,
          2019,
          2018,
          2017,
          2016
         ],
         "xaxis": "x",
         "y": [
          0.005154639175257732,
          0.008168822328114363,
          0.015330188679245283,
          0.010845986984815618,
          0.01320321469575201,
          0.016927083333333332,
          0.013888888888888888,
          0.020923520923520924,
          0.035555555555555556
         ],
         "yaxis": "y"
        },
        {
         "hovertemplate": "clean_institution=BWH<br>year=%{x}<br>percent=%{y}<extra></extra>",
         "legendgroup": "BWH",
         "line": {
          "color": "#B6E880",
          "dash": "solid",
          "width": 5
         },
         "marker": {
          "symbol": "circle"
         },
         "mode": "lines",
         "name": "BWH",
         "orientation": "v",
         "showlegend": true,
         "textfont": {
          "size": 24
         },
         "type": "scatter",
         "x": [
          2024,
          2023,
          2022,
          2021,
          2020,
          2019,
          2018,
          2017,
          2016
         ],
         "xaxis": "x",
         "y": [
          0.009163802978235968,
          0.010891763104152484,
          0.003537735849056604,
          0.01193058568329718,
          0.012629161882893225,
          0.021484375,
          0.02266081871345029,
          0.011544011544011544,
          0.02311111111111111
         ],
         "yaxis": "y"
        },
        {
         "hovertemplate": "clean_institution=Ohio State U.<br>year=%{x}<br>percent=%{y}<extra></extra>",
         "legendgroup": "Ohio State U.",
         "line": {
          "color": "#FF97FF",
          "dash": "solid",
          "width": 5
         },
         "marker": {
          "symbol": "circle"
         },
         "mode": "lines",
         "name": "Ohio State U.",
         "orientation": "v",
         "showlegend": true,
         "textfont": {
          "size": 24
         },
         "type": "scatter",
         "x": [
          2024,
          2023,
          2022,
          2021,
          2020,
          2019,
          2018,
          2017,
          2016
         ],
         "xaxis": "x",
         "y": [
          0.012600229095074456,
          0.014976174268209666,
          0.01179245283018868,
          0.013015184381778741,
          0.020091848450057407,
          0.015625,
          0.02046783625730994,
          0.007936507936507936,
          0.006222222222222222
         ],
         "yaxis": "y"
        },
        {
         "hovertemplate": "clean_institution=U. Florida<br>year=%{x}<br>percent=%{y}<extra></extra>",
         "legendgroup": "U. Florida",
         "line": {
          "color": "#FECB52",
          "dash": "solid",
          "width": 5
         },
         "marker": {
          "symbol": "circle"
         },
         "mode": "lines",
         "name": "U. Florida",
         "orientation": "v",
         "showlegend": true,
         "textfont": {
          "size": 24
         },
         "type": "scatter",
         "x": [
          2024,
          2023,
          2022,
          2021,
          2020,
          2019,
          2018,
          2017,
          2016
         ],
         "xaxis": "x",
         "y": [
          0.0074455899198167235,
          0.013614703880190605,
          0.02358490566037736,
          0.010845986984815618,
          0.02066590126291619,
          0.009114583333333334,
          0.019736842105263157,
          0.011544011544011544,
          0.012444444444444444
         ],
         "yaxis": "y"
        }
       ],
       "layout": {
        "font": {
         "family": "Inter",
         "size": 24
        },
        "height": 800,
        "legend": {
         "title": {
          "text": "clean_institution"
         },
         "tracegroupgap": 0
        },
        "margin": {
         "t": 60
        },
        "template": {
         "data": {
          "bar": [
           {
            "error_x": {
             "color": "#2a3f5f"
            },
            "error_y": {
             "color": "#2a3f5f"
            },
            "marker": {
             "line": {
              "color": "#E5ECF6",
              "width": 0.5
             },
             "pattern": {
              "fillmode": "overlay",
              "size": 10,
              "solidity": 0.2
             }
            },
            "type": "bar"
           }
          ],
          "barpolar": [
           {
            "marker": {
             "line": {
              "color": "#E5ECF6",
              "width": 0.5
             },
             "pattern": {
              "fillmode": "overlay",
              "size": 10,
              "solidity": 0.2
             }
            },
            "type": "barpolar"
           }
          ],
          "carpet": [
           {
            "aaxis": {
             "endlinecolor": "#2a3f5f",
             "gridcolor": "white",
             "linecolor": "white",
             "minorgridcolor": "white",
             "startlinecolor": "#2a3f5f"
            },
            "baxis": {
             "endlinecolor": "#2a3f5f",
             "gridcolor": "white",
             "linecolor": "white",
             "minorgridcolor": "white",
             "startlinecolor": "#2a3f5f"
            },
            "type": "carpet"
           }
          ],
          "choropleth": [
           {
            "colorbar": {
             "outlinewidth": 0,
             "ticks": ""
            },
            "type": "choropleth"
           }
          ],
          "contour": [
           {
            "colorbar": {
             "outlinewidth": 0,
             "ticks": ""
            },
            "colorscale": [
             [
              0,
              "#0d0887"
             ],
             [
              0.1111111111111111,
              "#46039f"
             ],
             [
              0.2222222222222222,
              "#7201a8"
             ],
             [
              0.3333333333333333,
              "#9c179e"
             ],
             [
              0.4444444444444444,
              "#bd3786"
             ],
             [
              0.5555555555555556,
              "#d8576b"
             ],
             [
              0.6666666666666666,
              "#ed7953"
             ],
             [
              0.7777777777777778,
              "#fb9f3a"
             ],
             [
              0.8888888888888888,
              "#fdca26"
             ],
             [
              1,
              "#f0f921"
             ]
            ],
            "type": "contour"
           }
          ],
          "contourcarpet": [
           {
            "colorbar": {
             "outlinewidth": 0,
             "ticks": ""
            },
            "type": "contourcarpet"
           }
          ],
          "heatmap": [
           {
            "colorbar": {
             "outlinewidth": 0,
             "ticks": ""
            },
            "colorscale": [
             [
              0,
              "#0d0887"
             ],
             [
              0.1111111111111111,
              "#46039f"
             ],
             [
              0.2222222222222222,
              "#7201a8"
             ],
             [
              0.3333333333333333,
              "#9c179e"
             ],
             [
              0.4444444444444444,
              "#bd3786"
             ],
             [
              0.5555555555555556,
              "#d8576b"
             ],
             [
              0.6666666666666666,
              "#ed7953"
             ],
             [
              0.7777777777777778,
              "#fb9f3a"
             ],
             [
              0.8888888888888888,
              "#fdca26"
             ],
             [
              1,
              "#f0f921"
             ]
            ],
            "type": "heatmap"
           }
          ],
          "heatmapgl": [
           {
            "colorbar": {
             "outlinewidth": 0,
             "ticks": ""
            },
            "colorscale": [
             [
              0,
              "#0d0887"
             ],
             [
              0.1111111111111111,
              "#46039f"
             ],
             [
              0.2222222222222222,
              "#7201a8"
             ],
             [
              0.3333333333333333,
              "#9c179e"
             ],
             [
              0.4444444444444444,
              "#bd3786"
             ],
             [
              0.5555555555555556,
              "#d8576b"
             ],
             [
              0.6666666666666666,
              "#ed7953"
             ],
             [
              0.7777777777777778,
              "#fb9f3a"
             ],
             [
              0.8888888888888888,
              "#fdca26"
             ],
             [
              1,
              "#f0f921"
             ]
            ],
            "type": "heatmapgl"
           }
          ],
          "histogram": [
           {
            "marker": {
             "pattern": {
              "fillmode": "overlay",
              "size": 10,
              "solidity": 0.2
             }
            },
            "type": "histogram"
           }
          ],
          "histogram2d": [
           {
            "colorbar": {
             "outlinewidth": 0,
             "ticks": ""
            },
            "colorscale": [
             [
              0,
              "#0d0887"
             ],
             [
              0.1111111111111111,
              "#46039f"
             ],
             [
              0.2222222222222222,
              "#7201a8"
             ],
             [
              0.3333333333333333,
              "#9c179e"
             ],
             [
              0.4444444444444444,
              "#bd3786"
             ],
             [
              0.5555555555555556,
              "#d8576b"
             ],
             [
              0.6666666666666666,
              "#ed7953"
             ],
             [
              0.7777777777777778,
              "#fb9f3a"
             ],
             [
              0.8888888888888888,
              "#fdca26"
             ],
             [
              1,
              "#f0f921"
             ]
            ],
            "type": "histogram2d"
           }
          ],
          "histogram2dcontour": [
           {
            "colorbar": {
             "outlinewidth": 0,
             "ticks": ""
            },
            "colorscale": [
             [
              0,
              "#0d0887"
             ],
             [
              0.1111111111111111,
              "#46039f"
             ],
             [
              0.2222222222222222,
              "#7201a8"
             ],
             [
              0.3333333333333333,
              "#9c179e"
             ],
             [
              0.4444444444444444,
              "#bd3786"
             ],
             [
              0.5555555555555556,
              "#d8576b"
             ],
             [
              0.6666666666666666,
              "#ed7953"
             ],
             [
              0.7777777777777778,
              "#fb9f3a"
             ],
             [
              0.8888888888888888,
              "#fdca26"
             ],
             [
              1,
              "#f0f921"
             ]
            ],
            "type": "histogram2dcontour"
           }
          ],
          "mesh3d": [
           {
            "colorbar": {
             "outlinewidth": 0,
             "ticks": ""
            },
            "type": "mesh3d"
           }
          ],
          "parcoords": [
           {
            "line": {
             "colorbar": {
              "outlinewidth": 0,
              "ticks": ""
             }
            },
            "type": "parcoords"
           }
          ],
          "pie": [
           {
            "automargin": true,
            "type": "pie"
           }
          ],
          "scatter": [
           {
            "fillpattern": {
             "fillmode": "overlay",
             "size": 10,
             "solidity": 0.2
            },
            "type": "scatter"
           }
          ],
          "scatter3d": [
           {
            "line": {
             "colorbar": {
              "outlinewidth": 0,
              "ticks": ""
             }
            },
            "marker": {
             "colorbar": {
              "outlinewidth": 0,
              "ticks": ""
             }
            },
            "type": "scatter3d"
           }
          ],
          "scattercarpet": [
           {
            "marker": {
             "colorbar": {
              "outlinewidth": 0,
              "ticks": ""
             }
            },
            "type": "scattercarpet"
           }
          ],
          "scattergeo": [
           {
            "marker": {
             "colorbar": {
              "outlinewidth": 0,
              "ticks": ""
             }
            },
            "type": "scattergeo"
           }
          ],
          "scattergl": [
           {
            "marker": {
             "colorbar": {
              "outlinewidth": 0,
              "ticks": ""
             }
            },
            "type": "scattergl"
           }
          ],
          "scattermapbox": [
           {
            "marker": {
             "colorbar": {
              "outlinewidth": 0,
              "ticks": ""
             }
            },
            "type": "scattermapbox"
           }
          ],
          "scatterpolar": [
           {
            "marker": {
             "colorbar": {
              "outlinewidth": 0,
              "ticks": ""
             }
            },
            "type": "scatterpolar"
           }
          ],
          "scatterpolargl": [
           {
            "marker": {
             "colorbar": {
              "outlinewidth": 0,
              "ticks": ""
             }
            },
            "type": "scatterpolargl"
           }
          ],
          "scatterternary": [
           {
            "marker": {
             "colorbar": {
              "outlinewidth": 0,
              "ticks": ""
             }
            },
            "type": "scatterternary"
           }
          ],
          "surface": [
           {
            "colorbar": {
             "outlinewidth": 0,
             "ticks": ""
            },
            "colorscale": [
             [
              0,
              "#0d0887"
             ],
             [
              0.1111111111111111,
              "#46039f"
             ],
             [
              0.2222222222222222,
              "#7201a8"
             ],
             [
              0.3333333333333333,
              "#9c179e"
             ],
             [
              0.4444444444444444,
              "#bd3786"
             ],
             [
              0.5555555555555556,
              "#d8576b"
             ],
             [
              0.6666666666666666,
              "#ed7953"
             ],
             [
              0.7777777777777778,
              "#fb9f3a"
             ],
             [
              0.8888888888888888,
              "#fdca26"
             ],
             [
              1,
              "#f0f921"
             ]
            ],
            "type": "surface"
           }
          ],
          "table": [
           {
            "cells": {
             "fill": {
              "color": "#EBF0F8"
             },
             "line": {
              "color": "white"
             }
            },
            "header": {
             "fill": {
              "color": "#C8D4E3"
             },
             "line": {
              "color": "white"
             }
            },
            "type": "table"
           }
          ]
         },
         "layout": {
          "annotationdefaults": {
           "arrowcolor": "#2a3f5f",
           "arrowhead": 0,
           "arrowwidth": 1
          },
          "autotypenumbers": "strict",
          "coloraxis": {
           "colorbar": {
            "outlinewidth": 0,
            "ticks": ""
           }
          },
          "colorscale": {
           "diverging": [
            [
             0,
             "#8e0152"
            ],
            [
             0.1,
             "#c51b7d"
            ],
            [
             0.2,
             "#de77ae"
            ],
            [
             0.3,
             "#f1b6da"
            ],
            [
             0.4,
             "#fde0ef"
            ],
            [
             0.5,
             "#f7f7f7"
            ],
            [
             0.6,
             "#e6f5d0"
            ],
            [
             0.7,
             "#b8e186"
            ],
            [
             0.8,
             "#7fbc41"
            ],
            [
             0.9,
             "#4d9221"
            ],
            [
             1,
             "#276419"
            ]
           ],
           "sequential": [
            [
             0,
             "#0d0887"
            ],
            [
             0.1111111111111111,
             "#46039f"
            ],
            [
             0.2222222222222222,
             "#7201a8"
            ],
            [
             0.3333333333333333,
             "#9c179e"
            ],
            [
             0.4444444444444444,
             "#bd3786"
            ],
            [
             0.5555555555555556,
             "#d8576b"
            ],
            [
             0.6666666666666666,
             "#ed7953"
            ],
            [
             0.7777777777777778,
             "#fb9f3a"
            ],
            [
             0.8888888888888888,
             "#fdca26"
            ],
            [
             1,
             "#f0f921"
            ]
           ],
           "sequentialminus": [
            [
             0,
             "#0d0887"
            ],
            [
             0.1111111111111111,
             "#46039f"
            ],
            [
             0.2222222222222222,
             "#7201a8"
            ],
            [
             0.3333333333333333,
             "#9c179e"
            ],
            [
             0.4444444444444444,
             "#bd3786"
            ],
            [
             0.5555555555555556,
             "#d8576b"
            ],
            [
             0.6666666666666666,
             "#ed7953"
            ],
            [
             0.7777777777777778,
             "#fb9f3a"
            ],
            [
             0.8888888888888888,
             "#fdca26"
            ],
            [
             1,
             "#f0f921"
            ]
           ]
          },
          "colorway": [
           "#636efa",
           "#EF553B",
           "#00cc96",
           "#ab63fa",
           "#FFA15A",
           "#19d3f3",
           "#FF6692",
           "#B6E880",
           "#FF97FF",
           "#FECB52"
          ],
          "font": {
           "color": "#2a3f5f"
          },
          "geo": {
           "bgcolor": "white",
           "lakecolor": "white",
           "landcolor": "#E5ECF6",
           "showlakes": true,
           "showland": true,
           "subunitcolor": "white"
          },
          "hoverlabel": {
           "align": "left"
          },
          "hovermode": "closest",
          "mapbox": {
           "style": "light"
          },
          "paper_bgcolor": "white",
          "plot_bgcolor": "#E5ECF6",
          "polar": {
           "angularaxis": {
            "gridcolor": "white",
            "linecolor": "white",
            "ticks": ""
           },
           "bgcolor": "#E5ECF6",
           "radialaxis": {
            "gridcolor": "white",
            "linecolor": "white",
            "ticks": ""
           }
          },
          "scene": {
           "xaxis": {
            "backgroundcolor": "#E5ECF6",
            "gridcolor": "white",
            "gridwidth": 2,
            "linecolor": "white",
            "showbackground": true,
            "ticks": "",
            "zerolinecolor": "white"
           },
           "yaxis": {
            "backgroundcolor": "#E5ECF6",
            "gridcolor": "white",
            "gridwidth": 2,
            "linecolor": "white",
            "showbackground": true,
            "ticks": "",
            "zerolinecolor": "white"
           },
           "zaxis": {
            "backgroundcolor": "#E5ECF6",
            "gridcolor": "white",
            "gridwidth": 2,
            "linecolor": "white",
            "showbackground": true,
            "ticks": "",
            "zerolinecolor": "white"
           }
          },
          "shapedefaults": {
           "line": {
            "color": "#2a3f5f"
           }
          },
          "ternary": {
           "aaxis": {
            "gridcolor": "white",
            "linecolor": "white",
            "ticks": ""
           },
           "baxis": {
            "gridcolor": "white",
            "linecolor": "white",
            "ticks": ""
           },
           "bgcolor": "#E5ECF6",
           "caxis": {
            "gridcolor": "white",
            "linecolor": "white",
            "ticks": ""
           }
          },
          "title": {
           "x": 0.05
          },
          "xaxis": {
           "automargin": true,
           "gridcolor": "white",
           "linecolor": "white",
           "ticks": "",
           "title": {
            "standoff": 15
           },
           "zerolinecolor": "white",
           "zerolinewidth": 2
          },
          "yaxis": {
           "automargin": true,
           "gridcolor": "white",
           "linecolor": "white",
           "ticks": "",
           "title": {
            "standoff": 15
           },
           "zerolinecolor": "white",
           "zerolinewidth": 2
          }
         }
        },
        "width": 1500,
        "xaxis": {
         "anchor": "y",
         "domain": [
          0,
          1
         ],
         "tickangle": -90,
         "title": {
          "text": "Year"
         }
        },
        "yaxis": {
         "anchor": "x",
         "domain": [
          0,
          1
         ],
         "title": {
          "text": "Total Abstracts"
         }
        }
       }
      }
     },
     "metadata": {},
     "output_type": "display_data"
    }
   ],
   "source": [
    "## Create a line graph for the top 20 institutions (percent of total abstracts)\n",
    "\n",
    "fig = px.line(\n",
    "    df_institution_year_subset,\n",
    "    x='year',\n",
    "    y='percent',\n",
    "    color='clean_institution',\n",
    ")\n",
    "\n",
    "fig.update_layout(\n",
    "    width=1500,\n",
    "    height=800,\n",
    "    font=dict(\n",
    "        family=\"Inter\",\n",
    "        size=24)\n",
    ")\n",
    "\n",
    "fig.update_traces(textfont_size=24)\n",
    "fig.update_xaxes(tickangle=-90)\n",
    "\n",
    "fig.update_layout(\n",
    "    xaxis_title=\"Year\",\n",
    "    yaxis_title=\"Total Abstracts\"\n",
    ")\n",
    "\n",
    "fig.update_traces(line=dict(width=5))\n",
    "\n",
    "fig.write_image('top_institutions_year.svg')\n",
    "\n",
    "fig.show()"
   ]
  },
  {
   "cell_type": "code",
   "execution_count": 21,
   "metadata": {},
   "outputs": [
    {
     "data": {
      "application/vnd.plotly.v1+json": {
       "config": {
        "plotlyServerURL": "https://plot.ly"
       },
       "data": [
        {
         "hovertemplate": "clean_institution=U. Alabama<br>variable=count<br>Year=%{x}<br>Total Abstracts=%{y}<extra></extra>",
         "legendgroup": "U. Alabama",
         "line": {
          "color": "#636efa",
          "dash": "solid",
          "width": 5
         },
         "marker": {
          "symbol": "circle"
         },
         "mode": "lines",
         "name": "U. Alabama",
         "orientation": "v",
         "showlegend": true,
         "textfont": {
          "size": 24
         },
         "type": "scatter",
         "x": [
          2024,
          2023,
          2022,
          2021,
          2020,
          2019,
          2018,
          2017,
          2016
         ],
         "xaxis": "x",
         "y": [
          77,
          75,
          67,
          66,
          94,
          67,
          68,
          60,
          15
         ],
         "yaxis": "y"
        },
        {
         "hovertemplate": "clean_institution=U. Alabama<br>variable=percent<br>Year=%{x}<br>Total Abstracts=%{y}<extra></extra>",
         "legendgroup": "U. Alabama",
         "line": {
          "color": "#636efa",
          "dash": "solid",
          "width": 5
         },
         "marker": {
          "symbol": "circle"
         },
         "mode": "lines",
         "name": "U. Alabama",
         "orientation": "v",
         "showlegend": false,
         "textfont": {
          "size": 24
         },
         "type": "scatter",
         "x": [
          2024,
          2023,
          2022,
          2021,
          2020,
          2019,
          2018,
          2017,
          2016
         ],
         "xaxis": "x2",
         "y": [
          0.0441008018327606,
          0.05105513955071477,
          0.07900943396226415,
          0.07158351409978309,
          0.0539609644087256,
          0.043619791666666664,
          0.049707602339181284,
          0.04329004329004329,
          0.013333333333333334
         ],
         "yaxis": "y2"
        },
        {
         "hovertemplate": "clean_institution=U. Michigan<br>variable=count<br>Year=%{x}<br>Total Abstracts=%{y}<extra></extra>",
         "legendgroup": "U. Michigan",
         "line": {
          "color": "#EF553B",
          "dash": "solid",
          "width": 5
         },
         "marker": {
          "symbol": "circle"
         },
         "mode": "lines",
         "name": "U. Michigan",
         "orientation": "v",
         "showlegend": true,
         "textfont": {
          "size": 24
         },
         "type": "scatter",
         "x": [
          2024,
          2023,
          2022,
          2021,
          2020,
          2019,
          2018,
          2017,
          2016
         ],
         "xaxis": "x",
         "y": [
          56,
          51,
          42,
          37,
          47,
          51,
          48,
          55,
          42
         ],
         "yaxis": "y"
        },
        {
         "hovertemplate": "clean_institution=U. Michigan<br>variable=percent<br>Year=%{x}<br>Total Abstracts=%{y}<extra></extra>",
         "legendgroup": "U. Michigan",
         "line": {
          "color": "#EF553B",
          "dash": "solid",
          "width": 5
         },
         "marker": {
          "symbol": "circle"
         },
         "mode": "lines",
         "name": "U. Michigan",
         "orientation": "v",
         "showlegend": false,
         "textfont": {
          "size": 24
         },
         "type": "scatter",
         "x": [
          2024,
          2023,
          2022,
          2021,
          2020,
          2019,
          2018,
          2017,
          2016
         ],
         "xaxis": "x2",
         "y": [
          0.032073310423825885,
          0.03471749489448604,
          0.049528301886792456,
          0.04013015184381779,
          0.0269804822043628,
          0.033203125,
          0.03508771929824561,
          0.03968253968253968,
          0.037333333333333336
         ],
         "yaxis": "y2"
        },
        {
         "hovertemplate": "clean_institution=Penn<br>variable=count<br>Year=%{x}<br>Total Abstracts=%{y}<extra></extra>",
         "legendgroup": "Penn",
         "line": {
          "color": "#00cc96",
          "dash": "solid",
          "width": 5
         },
         "marker": {
          "symbol": "circle"
         },
         "mode": "lines",
         "name": "Penn",
         "orientation": "v",
         "showlegend": true,
         "textfont": {
          "size": 24
         },
         "type": "scatter",
         "x": [
          2024,
          2023,
          2022,
          2021,
          2020,
          2019,
          2018,
          2017,
          2016
         ],
         "xaxis": "x",
         "y": [
          28,
          36,
          18,
          25,
          31,
          23,
          24,
          34,
          37
         ],
         "yaxis": "y"
        },
        {
         "hovertemplate": "clean_institution=Penn<br>variable=percent<br>Year=%{x}<br>Total Abstracts=%{y}<extra></extra>",
         "legendgroup": "Penn",
         "line": {
          "color": "#00cc96",
          "dash": "solid",
          "width": 5
         },
         "marker": {
          "symbol": "circle"
         },
         "mode": "lines",
         "name": "Penn",
         "orientation": "v",
         "showlegend": false,
         "textfont": {
          "size": 24
         },
         "type": "scatter",
         "x": [
          2024,
          2023,
          2022,
          2021,
          2020,
          2019,
          2018,
          2017,
          2016
         ],
         "xaxis": "x2",
         "y": [
          0.016036655211912942,
          0.02450646698434309,
          0.02122641509433962,
          0.027114967462039046,
          0.017795637198622274,
          0.014973958333333334,
          0.017543859649122806,
          0.024531024531024532,
          0.03288888888888889
         ],
         "yaxis": "y2"
        },
        {
         "hovertemplate": "clean_institution=Johns Hopkins<br>variable=count<br>Year=%{x}<br>Total Abstracts=%{y}<extra></extra>",
         "legendgroup": "Johns Hopkins",
         "line": {
          "color": "#ab63fa",
          "dash": "solid",
          "width": 5
         },
         "marker": {
          "symbol": "circle"
         },
         "mode": "lines",
         "name": "Johns Hopkins",
         "orientation": "v",
         "showlegend": true,
         "textfont": {
          "size": 24
         },
         "type": "scatter",
         "x": [
          2024,
          2023,
          2022,
          2021,
          2020,
          2019,
          2018,
          2017,
          2016
         ],
         "xaxis": "x",
         "y": [
          38,
          15,
          3,
          20,
          59,
          28,
          23,
          29,
          31
         ],
         "yaxis": "y"
        },
        {
         "hovertemplate": "clean_institution=Johns Hopkins<br>variable=percent<br>Year=%{x}<br>Total Abstracts=%{y}<extra></extra>",
         "legendgroup": "Johns Hopkins",
         "line": {
          "color": "#ab63fa",
          "dash": "solid",
          "width": 5
         },
         "marker": {
          "symbol": "circle"
         },
         "mode": "lines",
         "name": "Johns Hopkins",
         "orientation": "v",
         "showlegend": false,
         "textfont": {
          "size": 24
         },
         "type": "scatter",
         "x": [
          2024,
          2023,
          2022,
          2021,
          2020,
          2019,
          2018,
          2017,
          2016
         ],
         "xaxis": "x2",
         "y": [
          0.021764032073310423,
          0.010211027910142955,
          0.003537735849056604,
          0.021691973969631236,
          0.0338691159586682,
          0.018229166666666668,
          0.016812865497076022,
          0.020923520923520924,
          0.027555555555555555
         ],
         "yaxis": "y2"
        },
        {
         "hovertemplate": "clean_institution=UCLA<br>variable=count<br>Year=%{x}<br>Total Abstracts=%{y}<extra></extra>",
         "legendgroup": "UCLA",
         "line": {
          "color": "#FFA15A",
          "dash": "solid",
          "width": 5
         },
         "marker": {
          "symbol": "circle"
         },
         "mode": "lines",
         "name": "UCLA",
         "orientation": "v",
         "showlegend": true,
         "textfont": {
          "size": 24
         },
         "type": "scatter",
         "x": [
          2024,
          2023,
          2022,
          2021,
          2020,
          2019,
          2018,
          2017,
          2016
         ],
         "xaxis": "x",
         "y": [
          52,
          37,
          27,
          20,
          25,
          27,
          19,
          31,
          7
         ],
         "yaxis": "y"
        },
        {
         "hovertemplate": "clean_institution=UCLA<br>variable=percent<br>Year=%{x}<br>Total Abstracts=%{y}<extra></extra>",
         "legendgroup": "UCLA",
         "line": {
          "color": "#FFA15A",
          "dash": "solid",
          "width": 5
         },
         "marker": {
          "symbol": "circle"
         },
         "mode": "lines",
         "name": "UCLA",
         "orientation": "v",
         "showlegend": false,
         "textfont": {
          "size": 24
         },
         "type": "scatter",
         "x": [
          2024,
          2023,
          2022,
          2021,
          2020,
          2019,
          2018,
          2017,
          2016
         ],
         "xaxis": "x2",
         "y": [
          0.029782359679266894,
          0.02518720217835262,
          0.031839622641509434,
          0.021691973969631236,
          0.014351320321469576,
          0.017578125,
          0.013888888888888888,
          0.022366522366522368,
          0.006222222222222222
         ],
         "yaxis": "y2"
        },
        {
         "hovertemplate": "clean_institution=Baylor<br>variable=count<br>Year=%{x}<br>Total Abstracts=%{y}<extra></extra>",
         "legendgroup": "Baylor",
         "line": {
          "color": "#19d3f3",
          "dash": "solid",
          "width": 5
         },
         "marker": {
          "symbol": "circle"
         },
         "mode": "lines",
         "name": "Baylor",
         "orientation": "v",
         "showlegend": true,
         "textfont": {
          "size": 24
         },
         "type": "scatter",
         "x": [
          2024,
          2023,
          2022,
          2021,
          2020,
          2019,
          2018,
          2017,
          2016
         ],
         "xaxis": "x",
         "y": [
          31,
          42,
          10,
          36,
          26,
          36,
          21,
          20,
          5
         ],
         "yaxis": "y"
        },
        {
         "hovertemplate": "clean_institution=Baylor<br>variable=percent<br>Year=%{x}<br>Total Abstracts=%{y}<extra></extra>",
         "legendgroup": "Baylor",
         "line": {
          "color": "#19d3f3",
          "dash": "solid",
          "width": 5
         },
         "marker": {
          "symbol": "circle"
         },
         "mode": "lines",
         "name": "Baylor",
         "orientation": "v",
         "showlegend": false,
         "textfont": {
          "size": 24
         },
         "type": "scatter",
         "x": [
          2024,
          2023,
          2022,
          2021,
          2020,
          2019,
          2018,
          2017,
          2016
         ],
         "xaxis": "x2",
         "y": [
          0.017754868270332187,
          0.02859087814840027,
          0.01179245283018868,
          0.039045553145336226,
          0.014925373134328358,
          0.0234375,
          0.015350877192982455,
          0.01443001443001443,
          0.0044444444444444444
         ],
         "yaxis": "y2"
        },
        {
         "hovertemplate": "clean_institution=Stanford<br>variable=count<br>Year=%{x}<br>Total Abstracts=%{y}<extra></extra>",
         "legendgroup": "Stanford",
         "line": {
          "color": "#FF6692",
          "dash": "solid",
          "width": 5
         },
         "marker": {
          "symbol": "circle"
         },
         "mode": "lines",
         "name": "Stanford",
         "orientation": "v",
         "showlegend": true,
         "textfont": {
          "size": 24
         },
         "type": "scatter",
         "x": [
          2024,
          2023,
          2022,
          2021,
          2020,
          2019,
          2018,
          2017,
          2016
         ],
         "xaxis": "x",
         "y": [
          28,
          26,
          14,
          13,
          26,
          22,
          24,
          29,
          22
         ],
         "yaxis": "y"
        },
        {
         "hovertemplate": "clean_institution=Stanford<br>variable=percent<br>Year=%{x}<br>Total Abstracts=%{y}<extra></extra>",
         "legendgroup": "Stanford",
         "line": {
          "color": "#FF6692",
          "dash": "solid",
          "width": 5
         },
         "marker": {
          "symbol": "circle"
         },
         "mode": "lines",
         "name": "Stanford",
         "orientation": "v",
         "showlegend": false,
         "textfont": {
          "size": 24
         },
         "type": "scatter",
         "x": [
          2024,
          2023,
          2022,
          2021,
          2020,
          2019,
          2018,
          2017,
          2016
         ],
         "xaxis": "x2",
         "y": [
          0.016036655211912942,
          0.017699115044247787,
          0.01650943396226415,
          0.014099783080260303,
          0.014925373134328358,
          0.014322916666666666,
          0.017543859649122806,
          0.020923520923520924,
          0.019555555555555555
         ],
         "yaxis": "y2"
        },
        {
         "hovertemplate": "clean_institution=Mass General<br>variable=count<br>Year=%{x}<br>Total Abstracts=%{y}<extra></extra>",
         "legendgroup": "Mass General",
         "line": {
          "color": "#B6E880",
          "dash": "solid",
          "width": 5
         },
         "marker": {
          "symbol": "circle"
         },
         "mode": "lines",
         "name": "Mass General",
         "orientation": "v",
         "showlegend": true,
         "textfont": {
          "size": 24
         },
         "type": "scatter",
         "x": [
          2024,
          2023,
          2022,
          2021,
          2020,
          2019,
          2018,
          2017,
          2016
         ],
         "xaxis": "x",
         "y": [
          35,
          34,
          7,
          12,
          25,
          23,
          14,
          23,
          22
         ],
         "yaxis": "y"
        },
        {
         "hovertemplate": "clean_institution=Mass General<br>variable=percent<br>Year=%{x}<br>Total Abstracts=%{y}<extra></extra>",
         "legendgroup": "Mass General",
         "line": {
          "color": "#B6E880",
          "dash": "solid",
          "width": 5
         },
         "marker": {
          "symbol": "circle"
         },
         "mode": "lines",
         "name": "Mass General",
         "orientation": "v",
         "showlegend": false,
         "textfont": {
          "size": 24
         },
         "type": "scatter",
         "x": [
          2024,
          2023,
          2022,
          2021,
          2020,
          2019,
          2018,
          2017,
          2016
         ],
         "xaxis": "x2",
         "y": [
          0.02004581901489118,
          0.02314499659632403,
          0.008254716981132075,
          0.013015184381778741,
          0.014351320321469576,
          0.014973958333333334,
          0.01023391812865497,
          0.016594516594516596,
          0.019555555555555555
         ],
         "yaxis": "y2"
        },
        {
         "hovertemplate": "clean_institution=UPMC<br>variable=count<br>Year=%{x}<br>Total Abstracts=%{y}<extra></extra>",
         "legendgroup": "UPMC",
         "line": {
          "color": "#FF97FF",
          "dash": "solid",
          "width": 5
         },
         "marker": {
          "symbol": "circle"
         },
         "mode": "lines",
         "name": "UPMC",
         "orientation": "v",
         "showlegend": true,
         "textfont": {
          "size": 24
         },
         "type": "scatter",
         "x": [
          2024,
          2023,
          2022,
          2021,
          2020,
          2019,
          2018,
          2017,
          2016
         ],
         "xaxis": "x",
         "y": [
          34,
          23,
          18,
          9,
          27,
          21,
          21,
          24,
          17
         ],
         "yaxis": "y"
        },
        {
         "hovertemplate": "clean_institution=UPMC<br>variable=percent<br>Year=%{x}<br>Total Abstracts=%{y}<extra></extra>",
         "legendgroup": "UPMC",
         "line": {
          "color": "#FF97FF",
          "dash": "solid",
          "width": 5
         },
         "marker": {
          "symbol": "circle"
         },
         "mode": "lines",
         "name": "UPMC",
         "orientation": "v",
         "showlegend": false,
         "textfont": {
          "size": 24
         },
         "type": "scatter",
         "x": [
          2024,
          2023,
          2022,
          2021,
          2020,
          2019,
          2018,
          2017,
          2016
         ],
         "xaxis": "x2",
         "y": [
          0.019473081328751432,
          0.015656909462219197,
          0.02122641509433962,
          0.009761388286334056,
          0.015499425947187142,
          0.013671875,
          0.015350877192982455,
          0.017316017316017316,
          0.015111111111111112
         ],
         "yaxis": "y2"
        },
        {
         "hovertemplate": "clean_institution=Indiana U.<br>variable=count<br>Year=%{x}<br>Total Abstracts=%{y}<extra></extra>",
         "legendgroup": "Indiana U.",
         "line": {
          "color": "#FECB52",
          "dash": "solid",
          "width": 5
         },
         "marker": {
          "symbol": "circle"
         },
         "mode": "lines",
         "name": "Indiana U.",
         "orientation": "v",
         "showlegend": true,
         "textfont": {
          "size": 24
         },
         "type": "scatter",
         "x": [
          2024,
          2023,
          2022,
          2021,
          2020,
          2019,
          2018,
          2017,
          2016
         ],
         "xaxis": "x",
         "y": [
          33,
          22,
          11,
          11,
          25,
          26,
          27,
          15,
          24
         ],
         "yaxis": "y"
        },
        {
         "hovertemplate": "clean_institution=Indiana U.<br>variable=percent<br>Year=%{x}<br>Total Abstracts=%{y}<extra></extra>",
         "legendgroup": "Indiana U.",
         "line": {
          "color": "#FECB52",
          "dash": "solid",
          "width": 5
         },
         "marker": {
          "symbol": "circle"
         },
         "mode": "lines",
         "name": "Indiana U.",
         "orientation": "v",
         "showlegend": false,
         "textfont": {
          "size": 24
         },
         "type": "scatter",
         "x": [
          2024,
          2023,
          2022,
          2021,
          2020,
          2019,
          2018,
          2017,
          2016
         ],
         "xaxis": "x2",
         "y": [
          0.018900343642611683,
          0.014976174268209666,
          0.012971698113207548,
          0.01193058568329718,
          0.014351320321469576,
          0.016927083333333332,
          0.019736842105263157,
          0.010822510822510822,
          0.021333333333333333
         ],
         "yaxis": "y2"
        },
        {
         "hovertemplate": "clean_institution=U. Miami<br>variable=count<br>Year=%{x}<br>Total Abstracts=%{y}<extra></extra>",
         "legendgroup": "U. Miami",
         "line": {
          "color": "#636efa",
          "dash": "solid",
          "width": 5
         },
         "marker": {
          "symbol": "circle"
         },
         "mode": "lines",
         "name": "U. Miami",
         "orientation": "v",
         "showlegend": true,
         "textfont": {
          "size": 24
         },
         "type": "scatter",
         "x": [
          2024,
          2023,
          2022,
          2021,
          2020,
          2019,
          2018,
          2017,
          2016
         ],
         "xaxis": "x",
         "y": [
          22,
          17,
          15,
          16,
          26,
          24,
          30,
          35,
          8
         ],
         "yaxis": "y"
        },
        {
         "hovertemplate": "clean_institution=U. Miami<br>variable=percent<br>Year=%{x}<br>Total Abstracts=%{y}<extra></extra>",
         "legendgroup": "U. Miami",
         "line": {
          "color": "#636efa",
          "dash": "solid",
          "width": 5
         },
         "marker": {
          "symbol": "circle"
         },
         "mode": "lines",
         "name": "U. Miami",
         "orientation": "v",
         "showlegend": false,
         "textfont": {
          "size": 24
         },
         "type": "scatter",
         "x": [
          2024,
          2023,
          2022,
          2021,
          2020,
          2019,
          2018,
          2017,
          2016
         ],
         "xaxis": "x2",
         "y": [
          0.012600229095074456,
          0.011572498298162015,
          0.01768867924528302,
          0.01735357917570499,
          0.014925373134328358,
          0.015625,
          0.021929824561403508,
          0.025252525252525252,
          0.0071111111111111115
         ],
         "yaxis": "y2"
        },
        {
         "hovertemplate": "clean_institution=MCW<br>variable=count<br>Year=%{x}<br>Total Abstracts=%{y}<extra></extra>",
         "legendgroup": "MCW",
         "line": {
          "color": "#EF553B",
          "dash": "solid",
          "width": 5
         },
         "marker": {
          "symbol": "circle"
         },
         "mode": "lines",
         "name": "MCW",
         "orientation": "v",
         "showlegend": true,
         "textfont": {
          "size": 24
         },
         "type": "scatter",
         "x": [
          2024,
          2023,
          2022,
          2021,
          2020,
          2019,
          2018,
          2017,
          2016
         ],
         "xaxis": "x",
         "y": [
          27,
          24,
          7,
          18,
          25,
          34,
          20,
          17,
          19
         ],
         "yaxis": "y"
        },
        {
         "hovertemplate": "clean_institution=MCW<br>variable=percent<br>Year=%{x}<br>Total Abstracts=%{y}<extra></extra>",
         "legendgroup": "MCW",
         "line": {
          "color": "#EF553B",
          "dash": "solid",
          "width": 5
         },
         "marker": {
          "symbol": "circle"
         },
         "mode": "lines",
         "name": "MCW",
         "orientation": "v",
         "showlegend": false,
         "textfont": {
          "size": 24
         },
         "type": "scatter",
         "x": [
          2024,
          2023,
          2022,
          2021,
          2020,
          2019,
          2018,
          2017,
          2016
         ],
         "xaxis": "x2",
         "y": [
          0.015463917525773196,
          0.016337644656228726,
          0.008254716981132075,
          0.019522776572668113,
          0.014351320321469576,
          0.022135416666666668,
          0.014619883040935672,
          0.012265512265512266,
          0.016888888888888887
         ],
         "yaxis": "y2"
        },
        {
         "hovertemplate": "clean_institution=U.T. Southwestern<br>variable=count<br>Year=%{x}<br>Total Abstracts=%{y}<extra></extra>",
         "legendgroup": "U.T. Southwestern",
         "line": {
          "color": "#00cc96",
          "dash": "solid",
          "width": 5
         },
         "marker": {
          "symbol": "circle"
         },
         "mode": "lines",
         "name": "U.T. Southwestern",
         "orientation": "v",
         "showlegend": true,
         "textfont": {
          "size": 24
         },
         "type": "scatter",
         "x": [
          2024,
          2023,
          2022,
          2021,
          2020,
          2019,
          2018,
          2017,
          2016
         ],
         "xaxis": "x",
         "y": [
          34,
          21,
          13,
          14,
          25,
          24,
          21,
          26,
          12
         ],
         "yaxis": "y"
        },
        {
         "hovertemplate": "clean_institution=U.T. Southwestern<br>variable=percent<br>Year=%{x}<br>Total Abstracts=%{y}<extra></extra>",
         "legendgroup": "U.T. Southwestern",
         "line": {
          "color": "#00cc96",
          "dash": "solid",
          "width": 5
         },
         "marker": {
          "symbol": "circle"
         },
         "mode": "lines",
         "name": "U.T. Southwestern",
         "orientation": "v",
         "showlegend": false,
         "textfont": {
          "size": 24
         },
         "type": "scatter",
         "x": [
          2024,
          2023,
          2022,
          2021,
          2020,
          2019,
          2018,
          2017,
          2016
         ],
         "xaxis": "x2",
         "y": [
          0.019473081328751432,
          0.014295439074200136,
          0.015330188679245283,
          0.015184381778741865,
          0.014351320321469576,
          0.015625,
          0.015350877192982455,
          0.01875901875901876,
          0.010666666666666666
         ],
         "yaxis": "y2"
        },
        {
         "hovertemplate": "clean_institution=Northwestern<br>variable=count<br>Year=%{x}<br>Total Abstracts=%{y}<extra></extra>",
         "legendgroup": "Northwestern",
         "line": {
          "color": "#ab63fa",
          "dash": "solid",
          "width": 5
         },
         "marker": {
          "symbol": "circle"
         },
         "mode": "lines",
         "name": "Northwestern",
         "orientation": "v",
         "showlegend": true,
         "textfont": {
          "size": 24
         },
         "type": "scatter",
         "x": [
          2024,
          2023,
          2022,
          2021,
          2020,
          2019,
          2018,
          2017,
          2016
         ],
         "xaxis": "x",
         "y": [
          30,
          28,
          13,
          15,
          26,
          23,
          23,
          17,
          12
         ],
         "yaxis": "y"
        },
        {
         "hovertemplate": "clean_institution=Northwestern<br>variable=percent<br>Year=%{x}<br>Total Abstracts=%{y}<extra></extra>",
         "legendgroup": "Northwestern",
         "line": {
          "color": "#ab63fa",
          "dash": "solid",
          "width": 5
         },
         "marker": {
          "symbol": "circle"
         },
         "mode": "lines",
         "name": "Northwestern",
         "orientation": "v",
         "showlegend": false,
         "textfont": {
          "size": 24
         },
         "type": "scatter",
         "x": [
          2024,
          2023,
          2022,
          2021,
          2020,
          2019,
          2018,
          2017,
          2016
         ],
         "xaxis": "x2",
         "y": [
          0.01718213058419244,
          0.01906058543226685,
          0.015330188679245283,
          0.016268980477223426,
          0.014925373134328358,
          0.014973958333333334,
          0.016812865497076022,
          0.012265512265512266,
          0.010666666666666666
         ],
         "yaxis": "y2"
        },
        {
         "hovertemplate": "clean_institution=U. Colorado<br>variable=count<br>Year=%{x}<br>Total Abstracts=%{y}<extra></extra>",
         "legendgroup": "U. Colorado",
         "line": {
          "color": "#FFA15A",
          "dash": "solid",
          "width": 5
         },
         "marker": {
          "symbol": "circle"
         },
         "mode": "lines",
         "name": "U. Colorado",
         "orientation": "v",
         "showlegend": true,
         "textfont": {
          "size": 24
         },
         "type": "scatter",
         "x": [
          2024,
          2023,
          2022,
          2021,
          2020,
          2019,
          2018,
          2017,
          2016
         ],
         "xaxis": "x",
         "y": [
          28,
          27,
          19,
          14,
          22,
          25,
          18,
          17,
          12
         ],
         "yaxis": "y"
        },
        {
         "hovertemplate": "clean_institution=U. Colorado<br>variable=percent<br>Year=%{x}<br>Total Abstracts=%{y}<extra></extra>",
         "legendgroup": "U. Colorado",
         "line": {
          "color": "#FFA15A",
          "dash": "solid",
          "width": 5
         },
         "marker": {
          "symbol": "circle"
         },
         "mode": "lines",
         "name": "U. Colorado",
         "orientation": "v",
         "showlegend": false,
         "textfont": {
          "size": 24
         },
         "type": "scatter",
         "x": [
          2024,
          2023,
          2022,
          2021,
          2020,
          2019,
          2018,
          2017,
          2016
         ],
         "xaxis": "x2",
         "y": [
          0.016036655211912942,
          0.018379850238257316,
          0.02240566037735849,
          0.015184381778741865,
          0.012629161882893225,
          0.016276041666666668,
          0.013157894736842105,
          0.012265512265512266,
          0.010666666666666666
         ],
         "yaxis": "y2"
        },
        {
         "hovertemplate": "clean_institution=Yale<br>variable=count<br>Year=%{x}<br>Total Abstracts=%{y}<extra></extra>",
         "legendgroup": "Yale",
         "line": {
          "color": "#19d3f3",
          "dash": "solid",
          "width": 5
         },
         "marker": {
          "symbol": "circle"
         },
         "mode": "lines",
         "name": "Yale",
         "orientation": "v",
         "showlegend": true,
         "textfont": {
          "size": 24
         },
         "type": "scatter",
         "x": [
          2024,
          2023,
          2022,
          2021,
          2020,
          2019,
          2018,
          2017,
          2016
         ],
         "xaxis": "x",
         "y": [
          11,
          15,
          4,
          9,
          29,
          33,
          34,
          22,
          25
         ],
         "yaxis": "y"
        },
        {
         "hovertemplate": "clean_institution=Yale<br>variable=percent<br>Year=%{x}<br>Total Abstracts=%{y}<extra></extra>",
         "legendgroup": "Yale",
         "line": {
          "color": "#19d3f3",
          "dash": "solid",
          "width": 5
         },
         "marker": {
          "symbol": "circle"
         },
         "mode": "lines",
         "name": "Yale",
         "orientation": "v",
         "showlegend": false,
         "textfont": {
          "size": 24
         },
         "type": "scatter",
         "x": [
          2024,
          2023,
          2022,
          2021,
          2020,
          2019,
          2018,
          2017,
          2016
         ],
         "xaxis": "x2",
         "y": [
          0.006300114547537228,
          0.010211027910142955,
          0.0047169811320754715,
          0.009761388286334056,
          0.016647531572904706,
          0.021484375,
          0.024853801169590642,
          0.015873015873015872,
          0.022222222222222223
         ],
         "yaxis": "y2"
        },
        {
         "hovertemplate": "clean_institution=U. Wisconsin<br>variable=count<br>Year=%{x}<br>Total Abstracts=%{y}<extra></extra>",
         "legendgroup": "U. Wisconsin",
         "line": {
          "color": "#FF6692",
          "dash": "solid",
          "width": 5
         },
         "marker": {
          "symbol": "circle"
         },
         "mode": "lines",
         "name": "U. Wisconsin",
         "orientation": "v",
         "showlegend": true,
         "textfont": {
          "size": 24
         },
         "type": "scatter",
         "x": [
          2024,
          2023,
          2022,
          2021,
          2020,
          2019,
          2018,
          2017,
          2016
         ],
         "xaxis": "x",
         "y": [
          9,
          12,
          13,
          10,
          23,
          26,
          19,
          29,
          40
         ],
         "yaxis": "y"
        },
        {
         "hovertemplate": "clean_institution=U. Wisconsin<br>variable=percent<br>Year=%{x}<br>Total Abstracts=%{y}<extra></extra>",
         "legendgroup": "U. Wisconsin",
         "line": {
          "color": "#FF6692",
          "dash": "solid",
          "width": 5
         },
         "marker": {
          "symbol": "circle"
         },
         "mode": "lines",
         "name": "U. Wisconsin",
         "orientation": "v",
         "showlegend": false,
         "textfont": {
          "size": 24
         },
         "type": "scatter",
         "x": [
          2024,
          2023,
          2022,
          2021,
          2020,
          2019,
          2018,
          2017,
          2016
         ],
         "xaxis": "x2",
         "y": [
          0.005154639175257732,
          0.008168822328114363,
          0.015330188679245283,
          0.010845986984815618,
          0.01320321469575201,
          0.016927083333333332,
          0.013888888888888888,
          0.020923520923520924,
          0.035555555555555556
         ],
         "yaxis": "y2"
        },
        {
         "hovertemplate": "clean_institution=BWH<br>variable=count<br>Year=%{x}<br>Total Abstracts=%{y}<extra></extra>",
         "legendgroup": "BWH",
         "line": {
          "color": "#B6E880",
          "dash": "solid",
          "width": 5
         },
         "marker": {
          "symbol": "circle"
         },
         "mode": "lines",
         "name": "BWH",
         "orientation": "v",
         "showlegend": true,
         "textfont": {
          "size": 24
         },
         "type": "scatter",
         "x": [
          2024,
          2023,
          2022,
          2021,
          2020,
          2019,
          2018,
          2017,
          2016
         ],
         "xaxis": "x",
         "y": [
          16,
          16,
          3,
          11,
          22,
          33,
          31,
          16,
          26
         ],
         "yaxis": "y"
        },
        {
         "hovertemplate": "clean_institution=BWH<br>variable=percent<br>Year=%{x}<br>Total Abstracts=%{y}<extra></extra>",
         "legendgroup": "BWH",
         "line": {
          "color": "#B6E880",
          "dash": "solid",
          "width": 5
         },
         "marker": {
          "symbol": "circle"
         },
         "mode": "lines",
         "name": "BWH",
         "orientation": "v",
         "showlegend": false,
         "textfont": {
          "size": 24
         },
         "type": "scatter",
         "x": [
          2024,
          2023,
          2022,
          2021,
          2020,
          2019,
          2018,
          2017,
          2016
         ],
         "xaxis": "x2",
         "y": [
          0.009163802978235968,
          0.010891763104152484,
          0.003537735849056604,
          0.01193058568329718,
          0.012629161882893225,
          0.021484375,
          0.02266081871345029,
          0.011544011544011544,
          0.02311111111111111
         ],
         "yaxis": "y2"
        },
        {
         "hovertemplate": "clean_institution=Ohio State U.<br>variable=count<br>Year=%{x}<br>Total Abstracts=%{y}<extra></extra>",
         "legendgroup": "Ohio State U.",
         "line": {
          "color": "#FF97FF",
          "dash": "solid",
          "width": 5
         },
         "marker": {
          "symbol": "circle"
         },
         "mode": "lines",
         "name": "Ohio State U.",
         "orientation": "v",
         "showlegend": true,
         "textfont": {
          "size": 24
         },
         "type": "scatter",
         "x": [
          2024,
          2023,
          2022,
          2021,
          2020,
          2019,
          2018,
          2017,
          2016
         ],
         "xaxis": "x",
         "y": [
          22,
          22,
          10,
          12,
          35,
          24,
          28,
          11,
          7
         ],
         "yaxis": "y"
        },
        {
         "hovertemplate": "clean_institution=Ohio State U.<br>variable=percent<br>Year=%{x}<br>Total Abstracts=%{y}<extra></extra>",
         "legendgroup": "Ohio State U.",
         "line": {
          "color": "#FF97FF",
          "dash": "solid",
          "width": 5
         },
         "marker": {
          "symbol": "circle"
         },
         "mode": "lines",
         "name": "Ohio State U.",
         "orientation": "v",
         "showlegend": false,
         "textfont": {
          "size": 24
         },
         "type": "scatter",
         "x": [
          2024,
          2023,
          2022,
          2021,
          2020,
          2019,
          2018,
          2017,
          2016
         ],
         "xaxis": "x2",
         "y": [
          0.012600229095074456,
          0.014976174268209666,
          0.01179245283018868,
          0.013015184381778741,
          0.020091848450057407,
          0.015625,
          0.02046783625730994,
          0.007936507936507936,
          0.006222222222222222
         ],
         "yaxis": "y2"
        },
        {
         "hovertemplate": "clean_institution=U. Florida<br>variable=count<br>Year=%{x}<br>Total Abstracts=%{y}<extra></extra>",
         "legendgroup": "U. Florida",
         "line": {
          "color": "#FECB52",
          "dash": "solid",
          "width": 5
         },
         "marker": {
          "symbol": "circle"
         },
         "mode": "lines",
         "name": "U. Florida",
         "orientation": "v",
         "showlegend": true,
         "textfont": {
          "size": 24
         },
         "type": "scatter",
         "x": [
          2024,
          2023,
          2022,
          2021,
          2020,
          2019,
          2018,
          2017,
          2016
         ],
         "xaxis": "x",
         "y": [
          13,
          20,
          20,
          10,
          36,
          14,
          27,
          16,
          14
         ],
         "yaxis": "y"
        },
        {
         "hovertemplate": "clean_institution=U. Florida<br>variable=percent<br>Year=%{x}<br>Total Abstracts=%{y}<extra></extra>",
         "legendgroup": "U. Florida",
         "line": {
          "color": "#FECB52",
          "dash": "solid",
          "width": 5
         },
         "marker": {
          "symbol": "circle"
         },
         "mode": "lines",
         "name": "U. Florida",
         "orientation": "v",
         "showlegend": false,
         "textfont": {
          "size": 24
         },
         "type": "scatter",
         "x": [
          2024,
          2023,
          2022,
          2021,
          2020,
          2019,
          2018,
          2017,
          2016
         ],
         "xaxis": "x2",
         "y": [
          0.0074455899198167235,
          0.013614703880190605,
          0.02358490566037736,
          0.010845986984815618,
          0.02066590126291619,
          0.009114583333333334,
          0.019736842105263157,
          0.011544011544011544,
          0.012444444444444444
         ],
         "yaxis": "y2"
        }
       ],
       "layout": {
        "annotations": [
         {
          "font": {},
          "showarrow": false,
          "text": "count",
          "x": 0.2375,
          "xanchor": "center",
          "xref": "paper",
          "y": 1,
          "yanchor": "bottom",
          "yref": "paper"
         },
         {
          "font": {},
          "showarrow": false,
          "text": "percent",
          "x": 0.7625,
          "xanchor": "center",
          "xref": "paper",
          "y": 1,
          "yanchor": "bottom",
          "yref": "paper"
         }
        ],
        "font": {
         "family": "Inter",
         "size": 16
        },
        "height": 720,
        "legend": {
         "title": {
          "text": "clean_institution"
         },
         "tracegroupgap": 0
        },
        "margin": {
         "t": 60
        },
        "template": {
         "data": {
          "bar": [
           {
            "error_x": {
             "color": "#2a3f5f"
            },
            "error_y": {
             "color": "#2a3f5f"
            },
            "marker": {
             "line": {
              "color": "#E5ECF6",
              "width": 0.5
             },
             "pattern": {
              "fillmode": "overlay",
              "size": 10,
              "solidity": 0.2
             }
            },
            "type": "bar"
           }
          ],
          "barpolar": [
           {
            "marker": {
             "line": {
              "color": "#E5ECF6",
              "width": 0.5
             },
             "pattern": {
              "fillmode": "overlay",
              "size": 10,
              "solidity": 0.2
             }
            },
            "type": "barpolar"
           }
          ],
          "carpet": [
           {
            "aaxis": {
             "endlinecolor": "#2a3f5f",
             "gridcolor": "white",
             "linecolor": "white",
             "minorgridcolor": "white",
             "startlinecolor": "#2a3f5f"
            },
            "baxis": {
             "endlinecolor": "#2a3f5f",
             "gridcolor": "white",
             "linecolor": "white",
             "minorgridcolor": "white",
             "startlinecolor": "#2a3f5f"
            },
            "type": "carpet"
           }
          ],
          "choropleth": [
           {
            "colorbar": {
             "outlinewidth": 0,
             "ticks": ""
            },
            "type": "choropleth"
           }
          ],
          "contour": [
           {
            "colorbar": {
             "outlinewidth": 0,
             "ticks": ""
            },
            "colorscale": [
             [
              0,
              "#0d0887"
             ],
             [
              0.1111111111111111,
              "#46039f"
             ],
             [
              0.2222222222222222,
              "#7201a8"
             ],
             [
              0.3333333333333333,
              "#9c179e"
             ],
             [
              0.4444444444444444,
              "#bd3786"
             ],
             [
              0.5555555555555556,
              "#d8576b"
             ],
             [
              0.6666666666666666,
              "#ed7953"
             ],
             [
              0.7777777777777778,
              "#fb9f3a"
             ],
             [
              0.8888888888888888,
              "#fdca26"
             ],
             [
              1,
              "#f0f921"
             ]
            ],
            "type": "contour"
           }
          ],
          "contourcarpet": [
           {
            "colorbar": {
             "outlinewidth": 0,
             "ticks": ""
            },
            "type": "contourcarpet"
           }
          ],
          "heatmap": [
           {
            "colorbar": {
             "outlinewidth": 0,
             "ticks": ""
            },
            "colorscale": [
             [
              0,
              "#0d0887"
             ],
             [
              0.1111111111111111,
              "#46039f"
             ],
             [
              0.2222222222222222,
              "#7201a8"
             ],
             [
              0.3333333333333333,
              "#9c179e"
             ],
             [
              0.4444444444444444,
              "#bd3786"
             ],
             [
              0.5555555555555556,
              "#d8576b"
             ],
             [
              0.6666666666666666,
              "#ed7953"
             ],
             [
              0.7777777777777778,
              "#fb9f3a"
             ],
             [
              0.8888888888888888,
              "#fdca26"
             ],
             [
              1,
              "#f0f921"
             ]
            ],
            "type": "heatmap"
           }
          ],
          "heatmapgl": [
           {
            "colorbar": {
             "outlinewidth": 0,
             "ticks": ""
            },
            "colorscale": [
             [
              0,
              "#0d0887"
             ],
             [
              0.1111111111111111,
              "#46039f"
             ],
             [
              0.2222222222222222,
              "#7201a8"
             ],
             [
              0.3333333333333333,
              "#9c179e"
             ],
             [
              0.4444444444444444,
              "#bd3786"
             ],
             [
              0.5555555555555556,
              "#d8576b"
             ],
             [
              0.6666666666666666,
              "#ed7953"
             ],
             [
              0.7777777777777778,
              "#fb9f3a"
             ],
             [
              0.8888888888888888,
              "#fdca26"
             ],
             [
              1,
              "#f0f921"
             ]
            ],
            "type": "heatmapgl"
           }
          ],
          "histogram": [
           {
            "marker": {
             "pattern": {
              "fillmode": "overlay",
              "size": 10,
              "solidity": 0.2
             }
            },
            "type": "histogram"
           }
          ],
          "histogram2d": [
           {
            "colorbar": {
             "outlinewidth": 0,
             "ticks": ""
            },
            "colorscale": [
             [
              0,
              "#0d0887"
             ],
             [
              0.1111111111111111,
              "#46039f"
             ],
             [
              0.2222222222222222,
              "#7201a8"
             ],
             [
              0.3333333333333333,
              "#9c179e"
             ],
             [
              0.4444444444444444,
              "#bd3786"
             ],
             [
              0.5555555555555556,
              "#d8576b"
             ],
             [
              0.6666666666666666,
              "#ed7953"
             ],
             [
              0.7777777777777778,
              "#fb9f3a"
             ],
             [
              0.8888888888888888,
              "#fdca26"
             ],
             [
              1,
              "#f0f921"
             ]
            ],
            "type": "histogram2d"
           }
          ],
          "histogram2dcontour": [
           {
            "colorbar": {
             "outlinewidth": 0,
             "ticks": ""
            },
            "colorscale": [
             [
              0,
              "#0d0887"
             ],
             [
              0.1111111111111111,
              "#46039f"
             ],
             [
              0.2222222222222222,
              "#7201a8"
             ],
             [
              0.3333333333333333,
              "#9c179e"
             ],
             [
              0.4444444444444444,
              "#bd3786"
             ],
             [
              0.5555555555555556,
              "#d8576b"
             ],
             [
              0.6666666666666666,
              "#ed7953"
             ],
             [
              0.7777777777777778,
              "#fb9f3a"
             ],
             [
              0.8888888888888888,
              "#fdca26"
             ],
             [
              1,
              "#f0f921"
             ]
            ],
            "type": "histogram2dcontour"
           }
          ],
          "mesh3d": [
           {
            "colorbar": {
             "outlinewidth": 0,
             "ticks": ""
            },
            "type": "mesh3d"
           }
          ],
          "parcoords": [
           {
            "line": {
             "colorbar": {
              "outlinewidth": 0,
              "ticks": ""
             }
            },
            "type": "parcoords"
           }
          ],
          "pie": [
           {
            "automargin": true,
            "type": "pie"
           }
          ],
          "scatter": [
           {
            "fillpattern": {
             "fillmode": "overlay",
             "size": 10,
             "solidity": 0.2
            },
            "type": "scatter"
           }
          ],
          "scatter3d": [
           {
            "line": {
             "colorbar": {
              "outlinewidth": 0,
              "ticks": ""
             }
            },
            "marker": {
             "colorbar": {
              "outlinewidth": 0,
              "ticks": ""
             }
            },
            "type": "scatter3d"
           }
          ],
          "scattercarpet": [
           {
            "marker": {
             "colorbar": {
              "outlinewidth": 0,
              "ticks": ""
             }
            },
            "type": "scattercarpet"
           }
          ],
          "scattergeo": [
           {
            "marker": {
             "colorbar": {
              "outlinewidth": 0,
              "ticks": ""
             }
            },
            "type": "scattergeo"
           }
          ],
          "scattergl": [
           {
            "marker": {
             "colorbar": {
              "outlinewidth": 0,
              "ticks": ""
             }
            },
            "type": "scattergl"
           }
          ],
          "scattermapbox": [
           {
            "marker": {
             "colorbar": {
              "outlinewidth": 0,
              "ticks": ""
             }
            },
            "type": "scattermapbox"
           }
          ],
          "scatterpolar": [
           {
            "marker": {
             "colorbar": {
              "outlinewidth": 0,
              "ticks": ""
             }
            },
            "type": "scatterpolar"
           }
          ],
          "scatterpolargl": [
           {
            "marker": {
             "colorbar": {
              "outlinewidth": 0,
              "ticks": ""
             }
            },
            "type": "scatterpolargl"
           }
          ],
          "scatterternary": [
           {
            "marker": {
             "colorbar": {
              "outlinewidth": 0,
              "ticks": ""
             }
            },
            "type": "scatterternary"
           }
          ],
          "surface": [
           {
            "colorbar": {
             "outlinewidth": 0,
             "ticks": ""
            },
            "colorscale": [
             [
              0,
              "#0d0887"
             ],
             [
              0.1111111111111111,
              "#46039f"
             ],
             [
              0.2222222222222222,
              "#7201a8"
             ],
             [
              0.3333333333333333,
              "#9c179e"
             ],
             [
              0.4444444444444444,
              "#bd3786"
             ],
             [
              0.5555555555555556,
              "#d8576b"
             ],
             [
              0.6666666666666666,
              "#ed7953"
             ],
             [
              0.7777777777777778,
              "#fb9f3a"
             ],
             [
              0.8888888888888888,
              "#fdca26"
             ],
             [
              1,
              "#f0f921"
             ]
            ],
            "type": "surface"
           }
          ],
          "table": [
           {
            "cells": {
             "fill": {
              "color": "#EBF0F8"
             },
             "line": {
              "color": "white"
             }
            },
            "header": {
             "fill": {
              "color": "#C8D4E3"
             },
             "line": {
              "color": "white"
             }
            },
            "type": "table"
           }
          ]
         },
         "layout": {
          "annotationdefaults": {
           "arrowcolor": "#2a3f5f",
           "arrowhead": 0,
           "arrowwidth": 1
          },
          "autotypenumbers": "strict",
          "coloraxis": {
           "colorbar": {
            "outlinewidth": 0,
            "ticks": ""
           }
          },
          "colorscale": {
           "diverging": [
            [
             0,
             "#8e0152"
            ],
            [
             0.1,
             "#c51b7d"
            ],
            [
             0.2,
             "#de77ae"
            ],
            [
             0.3,
             "#f1b6da"
            ],
            [
             0.4,
             "#fde0ef"
            ],
            [
             0.5,
             "#f7f7f7"
            ],
            [
             0.6,
             "#e6f5d0"
            ],
            [
             0.7,
             "#b8e186"
            ],
            [
             0.8,
             "#7fbc41"
            ],
            [
             0.9,
             "#4d9221"
            ],
            [
             1,
             "#276419"
            ]
           ],
           "sequential": [
            [
             0,
             "#0d0887"
            ],
            [
             0.1111111111111111,
             "#46039f"
            ],
            [
             0.2222222222222222,
             "#7201a8"
            ],
            [
             0.3333333333333333,
             "#9c179e"
            ],
            [
             0.4444444444444444,
             "#bd3786"
            ],
            [
             0.5555555555555556,
             "#d8576b"
            ],
            [
             0.6666666666666666,
             "#ed7953"
            ],
            [
             0.7777777777777778,
             "#fb9f3a"
            ],
            [
             0.8888888888888888,
             "#fdca26"
            ],
            [
             1,
             "#f0f921"
            ]
           ],
           "sequentialminus": [
            [
             0,
             "#0d0887"
            ],
            [
             0.1111111111111111,
             "#46039f"
            ],
            [
             0.2222222222222222,
             "#7201a8"
            ],
            [
             0.3333333333333333,
             "#9c179e"
            ],
            [
             0.4444444444444444,
             "#bd3786"
            ],
            [
             0.5555555555555556,
             "#d8576b"
            ],
            [
             0.6666666666666666,
             "#ed7953"
            ],
            [
             0.7777777777777778,
             "#fb9f3a"
            ],
            [
             0.8888888888888888,
             "#fdca26"
            ],
            [
             1,
             "#f0f921"
            ]
           ]
          },
          "colorway": [
           "#636efa",
           "#EF553B",
           "#00cc96",
           "#ab63fa",
           "#FFA15A",
           "#19d3f3",
           "#FF6692",
           "#B6E880",
           "#FF97FF",
           "#FECB52"
          ],
          "font": {
           "color": "#2a3f5f"
          },
          "geo": {
           "bgcolor": "white",
           "lakecolor": "white",
           "landcolor": "#E5ECF6",
           "showlakes": true,
           "showland": true,
           "subunitcolor": "white"
          },
          "hoverlabel": {
           "align": "left"
          },
          "hovermode": "closest",
          "mapbox": {
           "style": "light"
          },
          "paper_bgcolor": "white",
          "plot_bgcolor": "#E5ECF6",
          "polar": {
           "angularaxis": {
            "gridcolor": "white",
            "linecolor": "white",
            "ticks": ""
           },
           "bgcolor": "#E5ECF6",
           "radialaxis": {
            "gridcolor": "white",
            "linecolor": "white",
            "ticks": ""
           }
          },
          "scene": {
           "xaxis": {
            "backgroundcolor": "#E5ECF6",
            "gridcolor": "white",
            "gridwidth": 2,
            "linecolor": "white",
            "showbackground": true,
            "ticks": "",
            "zerolinecolor": "white"
           },
           "yaxis": {
            "backgroundcolor": "#E5ECF6",
            "gridcolor": "white",
            "gridwidth": 2,
            "linecolor": "white",
            "showbackground": true,
            "ticks": "",
            "zerolinecolor": "white"
           },
           "zaxis": {
            "backgroundcolor": "#E5ECF6",
            "gridcolor": "white",
            "gridwidth": 2,
            "linecolor": "white",
            "showbackground": true,
            "ticks": "",
            "zerolinecolor": "white"
           }
          },
          "shapedefaults": {
           "line": {
            "color": "#2a3f5f"
           }
          },
          "ternary": {
           "aaxis": {
            "gridcolor": "white",
            "linecolor": "white",
            "ticks": ""
           },
           "baxis": {
            "gridcolor": "white",
            "linecolor": "white",
            "ticks": ""
           },
           "bgcolor": "#E5ECF6",
           "caxis": {
            "gridcolor": "white",
            "linecolor": "white",
            "ticks": ""
           }
          },
          "title": {
           "x": 0.05
          },
          "xaxis": {
           "automargin": true,
           "gridcolor": "white",
           "linecolor": "white",
           "ticks": "",
           "title": {
            "standoff": 15
           },
           "zerolinecolor": "white",
           "zerolinewidth": 2
          },
          "yaxis": {
           "automargin": true,
           "gridcolor": "white",
           "linecolor": "white",
           "ticks": "",
           "title": {
            "standoff": 15
           },
           "zerolinecolor": "white",
           "zerolinewidth": 2
          }
         }
        },
        "width": 1600,
        "xaxis": {
         "anchor": "y",
         "domain": [
          0,
          0.475
         ],
         "tickangle": 0,
         "title": {
          "text": "Year"
         }
        },
        "xaxis2": {
         "anchor": "y2",
         "domain": [
          0.525,
          1
         ],
         "matches": "x",
         "tickangle": 0,
         "title": {
          "text": "Year"
         }
        },
        "yaxis": {
         "anchor": "x",
         "domain": [
          0,
          1
         ],
         "showticklabels": true,
         "title": {
          "text": "Total Abstracts"
         }
        },
        "yaxis2": {
         "anchor": "x2",
         "domain": [
          0,
          1
         ],
         "showticklabels": true
        }
       }
      }
     },
     "metadata": {},
     "output_type": "display_data"
    }
   ],
   "source": [
    "## Melt the df_institution_year_subset dataframe and create a new line plot faceting the count and percent\n",
    "\n",
    "df_institution_year_subset_melt = pd.melt(df_institution_year_subset, id_vars=['year', 'clean_institution'], value_vars=['count', 'percent'])\n",
    "\n",
    "df_institution_year_subset_melt\n",
    "\n",
    "fig = px.line(\n",
    "\n",
    "    df_institution_year_subset_melt,\n",
    "    x='year',\n",
    "    y='value',\n",
    "    color='clean_institution',\n",
    "    facet_col='variable',\n",
    "    facet_col_wrap=2,\n",
    "    facet_col_spacing=0.05,\n",
    "    labels = dict(year = 'Year', value = 'Total Abstracts')\n",
    "\n",
    ")\n",
    "\n",
    "fig.update_layout(\n",
    "    width=1600,\n",
    "    height=720,\n",
    "    font=dict(\n",
    "        family=\"Inter\",\n",
    "        size=16)\n",
    ")\n",
    "\n",
    "fig.update_traces(textfont_size=24)\n",
    "fig.update_xaxes(tickangle=0)\n",
    "\n",
    "fig.update_layout(\n",
    "    xaxis_title=\"Year\",\n",
    "    yaxis_title=\"Total Abstracts\"\n",
    ")\n",
    "\n",
    "## Non standard y-axes\n",
    "fig.update_yaxes(matches=None)\n",
    "\n",
    "## Show y-axes labels for both facets\n",
    "fig.update_yaxes(showticklabels=True)\n",
    "\n",
    "fig.update_traces(line=dict(width=5))\n",
    "\n",
    "fig.write_image('fig3_top_institutions_year_melt.svg')\n",
    "\n",
    "## Get rid of 'variable=' in the facet title\n",
    "fig.for_each_annotation(lambda a: a.update(text=a.text.split(\"=\")[-1]))\n",
    "\n",
    "\n",
    "\n",
    "fig.show()"
   ]
  },
  {
   "cell_type": "markdown",
   "metadata": {},
   "source": [
    "## Show Institution Facets"
   ]
  },
  {
   "cell_type": "code",
   "execution_count": 22,
   "metadata": {},
   "outputs": [
    {
     "data": {
      "application/vnd.plotly.v1+json": {
       "config": {
        "plotlyServerURL": "https://plot.ly"
       },
       "data": [
        {
         "hovertemplate": "clean_institution=U. Alabama<br>year=%{x}<br>percent=%{y}<extra></extra>",
         "legendgroup": "U. Alabama",
         "line": {
          "color": "#636efa",
          "dash": "solid",
          "width": 5
         },
         "marker": {
          "symbol": "circle"
         },
         "mode": "lines",
         "name": "U. Alabama",
         "orientation": "v",
         "showlegend": true,
         "textfont": {
          "size": 24
         },
         "type": "scatter",
         "x": [
          2024,
          2023,
          2022,
          2021,
          2020,
          2019,
          2018,
          2017,
          2016
         ],
         "xaxis": "x16",
         "y": [
          0.0441008018327606,
          0.05105513955071477,
          0.07900943396226415,
          0.07158351409978309,
          0.0539609644087256,
          0.043619791666666664,
          0.049707602339181284,
          0.04329004329004329,
          0.013333333333333334
         ],
         "yaxis": "y16"
        },
        {
         "hovertemplate": "clean_institution=U. Michigan<br>year=%{x}<br>percent=%{y}<extra></extra>",
         "legendgroup": "U. Michigan",
         "line": {
          "color": "#EF553B",
          "dash": "solid",
          "width": 5
         },
         "marker": {
          "symbol": "circle"
         },
         "mode": "lines",
         "name": "U. Michigan",
         "orientation": "v",
         "showlegend": true,
         "textfont": {
          "size": 24
         },
         "type": "scatter",
         "x": [
          2024,
          2023,
          2022,
          2021,
          2020,
          2019,
          2018,
          2017,
          2016
         ],
         "xaxis": "x17",
         "y": [
          0.032073310423825885,
          0.03471749489448604,
          0.049528301886792456,
          0.04013015184381779,
          0.0269804822043628,
          0.033203125,
          0.03508771929824561,
          0.03968253968253968,
          0.037333333333333336
         ],
         "yaxis": "y17"
        },
        {
         "hovertemplate": "clean_institution=Penn<br>year=%{x}<br>percent=%{y}<extra></extra>",
         "legendgroup": "Penn",
         "line": {
          "color": "#00cc96",
          "dash": "solid",
          "width": 5
         },
         "marker": {
          "symbol": "circle"
         },
         "mode": "lines",
         "name": "Penn",
         "orientation": "v",
         "showlegend": true,
         "textfont": {
          "size": 24
         },
         "type": "scatter",
         "x": [
          2024,
          2023,
          2022,
          2021,
          2020,
          2019,
          2018,
          2017,
          2016
         ],
         "xaxis": "x18",
         "y": [
          0.016036655211912942,
          0.02450646698434309,
          0.02122641509433962,
          0.027114967462039046,
          0.017795637198622274,
          0.014973958333333334,
          0.017543859649122806,
          0.024531024531024532,
          0.03288888888888889
         ],
         "yaxis": "y18"
        },
        {
         "hovertemplate": "clean_institution=Johns Hopkins<br>year=%{x}<br>percent=%{y}<extra></extra>",
         "legendgroup": "Johns Hopkins",
         "line": {
          "color": "#ab63fa",
          "dash": "solid",
          "width": 5
         },
         "marker": {
          "symbol": "circle"
         },
         "mode": "lines",
         "name": "Johns Hopkins",
         "orientation": "v",
         "showlegend": true,
         "textfont": {
          "size": 24
         },
         "type": "scatter",
         "x": [
          2024,
          2023,
          2022,
          2021,
          2020,
          2019,
          2018,
          2017,
          2016
         ],
         "xaxis": "x19",
         "y": [
          0.021764032073310423,
          0.010211027910142955,
          0.003537735849056604,
          0.021691973969631236,
          0.0338691159586682,
          0.018229166666666668,
          0.016812865497076022,
          0.020923520923520924,
          0.027555555555555555
         ],
         "yaxis": "y19"
        },
        {
         "hovertemplate": "clean_institution=UCLA<br>year=%{x}<br>percent=%{y}<extra></extra>",
         "legendgroup": "UCLA",
         "line": {
          "color": "#FFA15A",
          "dash": "solid",
          "width": 5
         },
         "marker": {
          "symbol": "circle"
         },
         "mode": "lines",
         "name": "UCLA",
         "orientation": "v",
         "showlegend": true,
         "textfont": {
          "size": 24
         },
         "type": "scatter",
         "x": [
          2024,
          2023,
          2022,
          2021,
          2020,
          2019,
          2018,
          2017,
          2016
         ],
         "xaxis": "x20",
         "y": [
          0.029782359679266894,
          0.02518720217835262,
          0.031839622641509434,
          0.021691973969631236,
          0.014351320321469576,
          0.017578125,
          0.013888888888888888,
          0.022366522366522368,
          0.006222222222222222
         ],
         "yaxis": "y20"
        },
        {
         "hovertemplate": "clean_institution=Baylor<br>year=%{x}<br>percent=%{y}<extra></extra>",
         "legendgroup": "Baylor",
         "line": {
          "color": "#19d3f3",
          "dash": "solid",
          "width": 5
         },
         "marker": {
          "symbol": "circle"
         },
         "mode": "lines",
         "name": "Baylor",
         "orientation": "v",
         "showlegend": true,
         "textfont": {
          "size": 24
         },
         "type": "scatter",
         "x": [
          2024,
          2023,
          2022,
          2021,
          2020,
          2019,
          2018,
          2017,
          2016
         ],
         "xaxis": "x11",
         "y": [
          0.017754868270332187,
          0.02859087814840027,
          0.01179245283018868,
          0.039045553145336226,
          0.014925373134328358,
          0.0234375,
          0.015350877192982455,
          0.01443001443001443,
          0.0044444444444444444
         ],
         "yaxis": "y11"
        },
        {
         "hovertemplate": "clean_institution=Stanford<br>year=%{x}<br>percent=%{y}<extra></extra>",
         "legendgroup": "Stanford",
         "line": {
          "color": "#FF6692",
          "dash": "solid",
          "width": 5
         },
         "marker": {
          "symbol": "circle"
         },
         "mode": "lines",
         "name": "Stanford",
         "orientation": "v",
         "showlegend": true,
         "textfont": {
          "size": 24
         },
         "type": "scatter",
         "x": [
          2024,
          2023,
          2022,
          2021,
          2020,
          2019,
          2018,
          2017,
          2016
         ],
         "xaxis": "x12",
         "y": [
          0.016036655211912942,
          0.017699115044247787,
          0.01650943396226415,
          0.014099783080260303,
          0.014925373134328358,
          0.014322916666666666,
          0.017543859649122806,
          0.020923520923520924,
          0.019555555555555555
         ],
         "yaxis": "y12"
        },
        {
         "hovertemplate": "clean_institution=Mass General<br>year=%{x}<br>percent=%{y}<extra></extra>",
         "legendgroup": "Mass General",
         "line": {
          "color": "#B6E880",
          "dash": "solid",
          "width": 5
         },
         "marker": {
          "symbol": "circle"
         },
         "mode": "lines",
         "name": "Mass General",
         "orientation": "v",
         "showlegend": true,
         "textfont": {
          "size": 24
         },
         "type": "scatter",
         "x": [
          2024,
          2023,
          2022,
          2021,
          2020,
          2019,
          2018,
          2017,
          2016
         ],
         "xaxis": "x13",
         "y": [
          0.02004581901489118,
          0.02314499659632403,
          0.008254716981132075,
          0.013015184381778741,
          0.014351320321469576,
          0.014973958333333334,
          0.01023391812865497,
          0.016594516594516596,
          0.019555555555555555
         ],
         "yaxis": "y13"
        },
        {
         "hovertemplate": "clean_institution=UPMC<br>year=%{x}<br>percent=%{y}<extra></extra>",
         "legendgroup": "UPMC",
         "line": {
          "color": "#FF97FF",
          "dash": "solid",
          "width": 5
         },
         "marker": {
          "symbol": "circle"
         },
         "mode": "lines",
         "name": "UPMC",
         "orientation": "v",
         "showlegend": true,
         "textfont": {
          "size": 24
         },
         "type": "scatter",
         "x": [
          2024,
          2023,
          2022,
          2021,
          2020,
          2019,
          2018,
          2017,
          2016
         ],
         "xaxis": "x14",
         "y": [
          0.019473081328751432,
          0.015656909462219197,
          0.02122641509433962,
          0.009761388286334056,
          0.015499425947187142,
          0.013671875,
          0.015350877192982455,
          0.017316017316017316,
          0.015111111111111112
         ],
         "yaxis": "y14"
        },
        {
         "hovertemplate": "clean_institution=Indiana U.<br>year=%{x}<br>percent=%{y}<extra></extra>",
         "legendgroup": "Indiana U.",
         "line": {
          "color": "#FECB52",
          "dash": "solid",
          "width": 5
         },
         "marker": {
          "symbol": "circle"
         },
         "mode": "lines",
         "name": "Indiana U.",
         "orientation": "v",
         "showlegend": true,
         "textfont": {
          "size": 24
         },
         "type": "scatter",
         "x": [
          2024,
          2023,
          2022,
          2021,
          2020,
          2019,
          2018,
          2017,
          2016
         ],
         "xaxis": "x15",
         "y": [
          0.018900343642611683,
          0.014976174268209666,
          0.012971698113207548,
          0.01193058568329718,
          0.014351320321469576,
          0.016927083333333332,
          0.019736842105263157,
          0.010822510822510822,
          0.021333333333333333
         ],
         "yaxis": "y15"
        },
        {
         "hovertemplate": "clean_institution=U. Miami<br>year=%{x}<br>percent=%{y}<extra></extra>",
         "legendgroup": "U. Miami",
         "line": {
          "color": "#636efa",
          "dash": "solid",
          "width": 5
         },
         "marker": {
          "symbol": "circle"
         },
         "mode": "lines",
         "name": "U. Miami",
         "orientation": "v",
         "showlegend": true,
         "textfont": {
          "size": 24
         },
         "type": "scatter",
         "x": [
          2024,
          2023,
          2022,
          2021,
          2020,
          2019,
          2018,
          2017,
          2016
         ],
         "xaxis": "x6",
         "y": [
          0.012600229095074456,
          0.011572498298162015,
          0.01768867924528302,
          0.01735357917570499,
          0.014925373134328358,
          0.015625,
          0.021929824561403508,
          0.025252525252525252,
          0.0071111111111111115
         ],
         "yaxis": "y6"
        },
        {
         "hovertemplate": "clean_institution=MCW<br>year=%{x}<br>percent=%{y}<extra></extra>",
         "legendgroup": "MCW",
         "line": {
          "color": "#EF553B",
          "dash": "solid",
          "width": 5
         },
         "marker": {
          "symbol": "circle"
         },
         "mode": "lines",
         "name": "MCW",
         "orientation": "v",
         "showlegend": true,
         "textfont": {
          "size": 24
         },
         "type": "scatter",
         "x": [
          2024,
          2023,
          2022,
          2021,
          2020,
          2019,
          2018,
          2017,
          2016
         ],
         "xaxis": "x7",
         "y": [
          0.015463917525773196,
          0.016337644656228726,
          0.008254716981132075,
          0.019522776572668113,
          0.014351320321469576,
          0.022135416666666668,
          0.014619883040935672,
          0.012265512265512266,
          0.016888888888888887
         ],
         "yaxis": "y7"
        },
        {
         "hovertemplate": "clean_institution=U.T. Southwestern<br>year=%{x}<br>percent=%{y}<extra></extra>",
         "legendgroup": "U.T. Southwestern",
         "line": {
          "color": "#00cc96",
          "dash": "solid",
          "width": 5
         },
         "marker": {
          "symbol": "circle"
         },
         "mode": "lines",
         "name": "U.T. Southwestern",
         "orientation": "v",
         "showlegend": true,
         "textfont": {
          "size": 24
         },
         "type": "scatter",
         "x": [
          2024,
          2023,
          2022,
          2021,
          2020,
          2019,
          2018,
          2017,
          2016
         ],
         "xaxis": "x8",
         "y": [
          0.019473081328751432,
          0.014295439074200136,
          0.015330188679245283,
          0.015184381778741865,
          0.014351320321469576,
          0.015625,
          0.015350877192982455,
          0.01875901875901876,
          0.010666666666666666
         ],
         "yaxis": "y8"
        },
        {
         "hovertemplate": "clean_institution=Northwestern<br>year=%{x}<br>percent=%{y}<extra></extra>",
         "legendgroup": "Northwestern",
         "line": {
          "color": "#ab63fa",
          "dash": "solid",
          "width": 5
         },
         "marker": {
          "symbol": "circle"
         },
         "mode": "lines",
         "name": "Northwestern",
         "orientation": "v",
         "showlegend": true,
         "textfont": {
          "size": 24
         },
         "type": "scatter",
         "x": [
          2024,
          2023,
          2022,
          2021,
          2020,
          2019,
          2018,
          2017,
          2016
         ],
         "xaxis": "x9",
         "y": [
          0.01718213058419244,
          0.01906058543226685,
          0.015330188679245283,
          0.016268980477223426,
          0.014925373134328358,
          0.014973958333333334,
          0.016812865497076022,
          0.012265512265512266,
          0.010666666666666666
         ],
         "yaxis": "y9"
        },
        {
         "hovertemplate": "clean_institution=U. Colorado<br>year=%{x}<br>percent=%{y}<extra></extra>",
         "legendgroup": "U. Colorado",
         "line": {
          "color": "#FFA15A",
          "dash": "solid",
          "width": 5
         },
         "marker": {
          "symbol": "circle"
         },
         "mode": "lines",
         "name": "U. Colorado",
         "orientation": "v",
         "showlegend": true,
         "textfont": {
          "size": 24
         },
         "type": "scatter",
         "x": [
          2024,
          2023,
          2022,
          2021,
          2020,
          2019,
          2018,
          2017,
          2016
         ],
         "xaxis": "x10",
         "y": [
          0.016036655211912942,
          0.018379850238257316,
          0.02240566037735849,
          0.015184381778741865,
          0.012629161882893225,
          0.016276041666666668,
          0.013157894736842105,
          0.012265512265512266,
          0.010666666666666666
         ],
         "yaxis": "y10"
        },
        {
         "hovertemplate": "clean_institution=Yale<br>year=%{x}<br>percent=%{y}<extra></extra>",
         "legendgroup": "Yale",
         "line": {
          "color": "#19d3f3",
          "dash": "solid",
          "width": 5
         },
         "marker": {
          "symbol": "circle"
         },
         "mode": "lines",
         "name": "Yale",
         "orientation": "v",
         "showlegend": true,
         "textfont": {
          "size": 24
         },
         "type": "scatter",
         "x": [
          2024,
          2023,
          2022,
          2021,
          2020,
          2019,
          2018,
          2017,
          2016
         ],
         "xaxis": "x",
         "y": [
          0.006300114547537228,
          0.010211027910142955,
          0.0047169811320754715,
          0.009761388286334056,
          0.016647531572904706,
          0.021484375,
          0.024853801169590642,
          0.015873015873015872,
          0.022222222222222223
         ],
         "yaxis": "y"
        },
        {
         "hovertemplate": "clean_institution=U. Wisconsin<br>year=%{x}<br>percent=%{y}<extra></extra>",
         "legendgroup": "U. Wisconsin",
         "line": {
          "color": "#FF6692",
          "dash": "solid",
          "width": 5
         },
         "marker": {
          "symbol": "circle"
         },
         "mode": "lines",
         "name": "U. Wisconsin",
         "orientation": "v",
         "showlegend": true,
         "textfont": {
          "size": 24
         },
         "type": "scatter",
         "x": [
          2024,
          2023,
          2022,
          2021,
          2020,
          2019,
          2018,
          2017,
          2016
         ],
         "xaxis": "x2",
         "y": [
          0.005154639175257732,
          0.008168822328114363,
          0.015330188679245283,
          0.010845986984815618,
          0.01320321469575201,
          0.016927083333333332,
          0.013888888888888888,
          0.020923520923520924,
          0.035555555555555556
         ],
         "yaxis": "y2"
        },
        {
         "hovertemplate": "clean_institution=BWH<br>year=%{x}<br>percent=%{y}<extra></extra>",
         "legendgroup": "BWH",
         "line": {
          "color": "#B6E880",
          "dash": "solid",
          "width": 5
         },
         "marker": {
          "symbol": "circle"
         },
         "mode": "lines",
         "name": "BWH",
         "orientation": "v",
         "showlegend": true,
         "textfont": {
          "size": 24
         },
         "type": "scatter",
         "x": [
          2024,
          2023,
          2022,
          2021,
          2020,
          2019,
          2018,
          2017,
          2016
         ],
         "xaxis": "x3",
         "y": [
          0.009163802978235968,
          0.010891763104152484,
          0.003537735849056604,
          0.01193058568329718,
          0.012629161882893225,
          0.021484375,
          0.02266081871345029,
          0.011544011544011544,
          0.02311111111111111
         ],
         "yaxis": "y3"
        },
        {
         "hovertemplate": "clean_institution=Ohio State U.<br>year=%{x}<br>percent=%{y}<extra></extra>",
         "legendgroup": "Ohio State U.",
         "line": {
          "color": "#FF97FF",
          "dash": "solid",
          "width": 5
         },
         "marker": {
          "symbol": "circle"
         },
         "mode": "lines",
         "name": "Ohio State U.",
         "orientation": "v",
         "showlegend": true,
         "textfont": {
          "size": 24
         },
         "type": "scatter",
         "x": [
          2024,
          2023,
          2022,
          2021,
          2020,
          2019,
          2018,
          2017,
          2016
         ],
         "xaxis": "x4",
         "y": [
          0.012600229095074456,
          0.014976174268209666,
          0.01179245283018868,
          0.013015184381778741,
          0.020091848450057407,
          0.015625,
          0.02046783625730994,
          0.007936507936507936,
          0.006222222222222222
         ],
         "yaxis": "y4"
        },
        {
         "hovertemplate": "clean_institution=U. Florida<br>year=%{x}<br>percent=%{y}<extra></extra>",
         "legendgroup": "U. Florida",
         "line": {
          "color": "#FECB52",
          "dash": "solid",
          "width": 5
         },
         "marker": {
          "symbol": "circle"
         },
         "mode": "lines",
         "name": "U. Florida",
         "orientation": "v",
         "showlegend": true,
         "textfont": {
          "size": 24
         },
         "type": "scatter",
         "x": [
          2024,
          2023,
          2022,
          2021,
          2020,
          2019,
          2018,
          2017,
          2016
         ],
         "xaxis": "x5",
         "y": [
          0.0074455899198167235,
          0.013614703880190605,
          0.02358490566037736,
          0.010845986984815618,
          0.02066590126291619,
          0.009114583333333334,
          0.019736842105263157,
          0.011544011544011544,
          0.012444444444444444
         ],
         "yaxis": "y5"
        }
       ],
       "layout": {
        "annotations": [
         {
          "font": {},
          "showarrow": false,
          "text": "Yale",
          "x": 0,
          "xanchor": "left",
          "xref": "paper",
          "y": 0.1975,
          "yanchor": "bottom",
          "yref": "paper"
         },
         {
          "font": {},
          "showarrow": false,
          "text": "U. Wisconsin",
          "x": 0.202,
          "xanchor": "left",
          "xref": "paper",
          "y": 0.1975,
          "yanchor": "bottom",
          "yref": "paper"
         },
         {
          "font": {},
          "showarrow": false,
          "text": "BWH",
          "x": 0.406,
          "xanchor": "left",
          "xref": "paper",
          "y": 0.1975,
          "yanchor": "bottom",
          "yref": "paper"
         },
         {
          "font": {},
          "showarrow": false,
          "text": "Ohio State U.",
          "x": 0.61,
          "xanchor": "left",
          "xref": "paper",
          "y": 0.1975,
          "yanchor": "bottom",
          "yref": "paper"
         },
         {
          "font": {},
          "showarrow": false,
          "text": "U. Florida",
          "x": 0.814,
          "xanchor": "left",
          "xref": "paper",
          "y": 0.1975,
          "yanchor": "bottom",
          "yref": "paper"
         },
         {
          "font": {},
          "showarrow": false,
          "text": "U. Miami",
          "x": 0,
          "xanchor": "left",
          "xref": "paper",
          "y": 0.465,
          "yanchor": "bottom",
          "yref": "paper"
         },
         {
          "font": {},
          "showarrow": false,
          "text": "MCW",
          "x": 0.202,
          "xanchor": "left",
          "xref": "paper",
          "y": 0.465,
          "yanchor": "bottom",
          "yref": "paper"
         },
         {
          "font": {},
          "showarrow": false,
          "text": "U.T. Southwestern",
          "x": 0.406,
          "xanchor": "left",
          "xref": "paper",
          "y": 0.465,
          "yanchor": "bottom",
          "yref": "paper"
         },
         {
          "font": {},
          "showarrow": false,
          "text": "Northwestern",
          "x": 0.61,
          "xanchor": "left",
          "xref": "paper",
          "y": 0.465,
          "yanchor": "bottom",
          "yref": "paper"
         },
         {
          "font": {},
          "showarrow": false,
          "text": "U. Colorado",
          "x": 0.814,
          "xanchor": "left",
          "xref": "paper",
          "y": 0.465,
          "yanchor": "bottom",
          "yref": "paper"
         },
         {
          "font": {},
          "showarrow": false,
          "text": "Baylor",
          "x": 0,
          "xanchor": "left",
          "xref": "paper",
          "y": 0.7325,
          "yanchor": "bottom",
          "yref": "paper"
         },
         {
          "font": {},
          "showarrow": false,
          "text": "Stanford",
          "x": 0.202,
          "xanchor": "left",
          "xref": "paper",
          "y": 0.7325,
          "yanchor": "bottom",
          "yref": "paper"
         },
         {
          "font": {},
          "showarrow": false,
          "text": "Mass General",
          "x": 0.406,
          "xanchor": "left",
          "xref": "paper",
          "y": 0.7325,
          "yanchor": "bottom",
          "yref": "paper"
         },
         {
          "font": {},
          "showarrow": false,
          "text": "UPMC",
          "x": 0.61,
          "xanchor": "left",
          "xref": "paper",
          "y": 0.7325,
          "yanchor": "bottom",
          "yref": "paper"
         },
         {
          "font": {},
          "showarrow": false,
          "text": "Indiana U.",
          "x": 0.814,
          "xanchor": "left",
          "xref": "paper",
          "y": 0.7325,
          "yanchor": "bottom",
          "yref": "paper"
         },
         {
          "font": {},
          "showarrow": false,
          "text": "U. Alabama",
          "x": 0,
          "xanchor": "left",
          "xref": "paper",
          "y": 1,
          "yanchor": "bottom",
          "yref": "paper"
         },
         {
          "font": {},
          "showarrow": false,
          "text": "U. Michigan",
          "x": 0.202,
          "xanchor": "left",
          "xref": "paper",
          "y": 1,
          "yanchor": "bottom",
          "yref": "paper"
         },
         {
          "font": {},
          "showarrow": false,
          "text": "Penn",
          "x": 0.406,
          "xanchor": "left",
          "xref": "paper",
          "y": 1,
          "yanchor": "bottom",
          "yref": "paper"
         },
         {
          "font": {},
          "showarrow": false,
          "text": "Johns Hopkins",
          "x": 0.61,
          "xanchor": "left",
          "xref": "paper",
          "y": 1,
          "yanchor": "bottom",
          "yref": "paper"
         },
         {
          "font": {},
          "showarrow": false,
          "text": "UCLA",
          "x": 0.814,
          "xanchor": "left",
          "xref": "paper",
          "y": 1,
          "yanchor": "bottom",
          "yref": "paper"
         }
        ],
        "font": {
         "family": "Inter",
         "size": 16
        },
        "height": 720,
        "legend": {
         "title": {
          "text": "clean_institution"
         },
         "tracegroupgap": 0
        },
        "margin": {
         "t": 60
        },
        "showlegend": false,
        "template": {
         "data": {
          "bar": [
           {
            "error_x": {
             "color": "#2a3f5f"
            },
            "error_y": {
             "color": "#2a3f5f"
            },
            "marker": {
             "line": {
              "color": "#E5ECF6",
              "width": 0.5
             },
             "pattern": {
              "fillmode": "overlay",
              "size": 10,
              "solidity": 0.2
             }
            },
            "type": "bar"
           }
          ],
          "barpolar": [
           {
            "marker": {
             "line": {
              "color": "#E5ECF6",
              "width": 0.5
             },
             "pattern": {
              "fillmode": "overlay",
              "size": 10,
              "solidity": 0.2
             }
            },
            "type": "barpolar"
           }
          ],
          "carpet": [
           {
            "aaxis": {
             "endlinecolor": "#2a3f5f",
             "gridcolor": "white",
             "linecolor": "white",
             "minorgridcolor": "white",
             "startlinecolor": "#2a3f5f"
            },
            "baxis": {
             "endlinecolor": "#2a3f5f",
             "gridcolor": "white",
             "linecolor": "white",
             "minorgridcolor": "white",
             "startlinecolor": "#2a3f5f"
            },
            "type": "carpet"
           }
          ],
          "choropleth": [
           {
            "colorbar": {
             "outlinewidth": 0,
             "ticks": ""
            },
            "type": "choropleth"
           }
          ],
          "contour": [
           {
            "colorbar": {
             "outlinewidth": 0,
             "ticks": ""
            },
            "colorscale": [
             [
              0,
              "#0d0887"
             ],
             [
              0.1111111111111111,
              "#46039f"
             ],
             [
              0.2222222222222222,
              "#7201a8"
             ],
             [
              0.3333333333333333,
              "#9c179e"
             ],
             [
              0.4444444444444444,
              "#bd3786"
             ],
             [
              0.5555555555555556,
              "#d8576b"
             ],
             [
              0.6666666666666666,
              "#ed7953"
             ],
             [
              0.7777777777777778,
              "#fb9f3a"
             ],
             [
              0.8888888888888888,
              "#fdca26"
             ],
             [
              1,
              "#f0f921"
             ]
            ],
            "type": "contour"
           }
          ],
          "contourcarpet": [
           {
            "colorbar": {
             "outlinewidth": 0,
             "ticks": ""
            },
            "type": "contourcarpet"
           }
          ],
          "heatmap": [
           {
            "colorbar": {
             "outlinewidth": 0,
             "ticks": ""
            },
            "colorscale": [
             [
              0,
              "#0d0887"
             ],
             [
              0.1111111111111111,
              "#46039f"
             ],
             [
              0.2222222222222222,
              "#7201a8"
             ],
             [
              0.3333333333333333,
              "#9c179e"
             ],
             [
              0.4444444444444444,
              "#bd3786"
             ],
             [
              0.5555555555555556,
              "#d8576b"
             ],
             [
              0.6666666666666666,
              "#ed7953"
             ],
             [
              0.7777777777777778,
              "#fb9f3a"
             ],
             [
              0.8888888888888888,
              "#fdca26"
             ],
             [
              1,
              "#f0f921"
             ]
            ],
            "type": "heatmap"
           }
          ],
          "heatmapgl": [
           {
            "colorbar": {
             "outlinewidth": 0,
             "ticks": ""
            },
            "colorscale": [
             [
              0,
              "#0d0887"
             ],
             [
              0.1111111111111111,
              "#46039f"
             ],
             [
              0.2222222222222222,
              "#7201a8"
             ],
             [
              0.3333333333333333,
              "#9c179e"
             ],
             [
              0.4444444444444444,
              "#bd3786"
             ],
             [
              0.5555555555555556,
              "#d8576b"
             ],
             [
              0.6666666666666666,
              "#ed7953"
             ],
             [
              0.7777777777777778,
              "#fb9f3a"
             ],
             [
              0.8888888888888888,
              "#fdca26"
             ],
             [
              1,
              "#f0f921"
             ]
            ],
            "type": "heatmapgl"
           }
          ],
          "histogram": [
           {
            "marker": {
             "pattern": {
              "fillmode": "overlay",
              "size": 10,
              "solidity": 0.2
             }
            },
            "type": "histogram"
           }
          ],
          "histogram2d": [
           {
            "colorbar": {
             "outlinewidth": 0,
             "ticks": ""
            },
            "colorscale": [
             [
              0,
              "#0d0887"
             ],
             [
              0.1111111111111111,
              "#46039f"
             ],
             [
              0.2222222222222222,
              "#7201a8"
             ],
             [
              0.3333333333333333,
              "#9c179e"
             ],
             [
              0.4444444444444444,
              "#bd3786"
             ],
             [
              0.5555555555555556,
              "#d8576b"
             ],
             [
              0.6666666666666666,
              "#ed7953"
             ],
             [
              0.7777777777777778,
              "#fb9f3a"
             ],
             [
              0.8888888888888888,
              "#fdca26"
             ],
             [
              1,
              "#f0f921"
             ]
            ],
            "type": "histogram2d"
           }
          ],
          "histogram2dcontour": [
           {
            "colorbar": {
             "outlinewidth": 0,
             "ticks": ""
            },
            "colorscale": [
             [
              0,
              "#0d0887"
             ],
             [
              0.1111111111111111,
              "#46039f"
             ],
             [
              0.2222222222222222,
              "#7201a8"
             ],
             [
              0.3333333333333333,
              "#9c179e"
             ],
             [
              0.4444444444444444,
              "#bd3786"
             ],
             [
              0.5555555555555556,
              "#d8576b"
             ],
             [
              0.6666666666666666,
              "#ed7953"
             ],
             [
              0.7777777777777778,
              "#fb9f3a"
             ],
             [
              0.8888888888888888,
              "#fdca26"
             ],
             [
              1,
              "#f0f921"
             ]
            ],
            "type": "histogram2dcontour"
           }
          ],
          "mesh3d": [
           {
            "colorbar": {
             "outlinewidth": 0,
             "ticks": ""
            },
            "type": "mesh3d"
           }
          ],
          "parcoords": [
           {
            "line": {
             "colorbar": {
              "outlinewidth": 0,
              "ticks": ""
             }
            },
            "type": "parcoords"
           }
          ],
          "pie": [
           {
            "automargin": true,
            "type": "pie"
           }
          ],
          "scatter": [
           {
            "fillpattern": {
             "fillmode": "overlay",
             "size": 10,
             "solidity": 0.2
            },
            "type": "scatter"
           }
          ],
          "scatter3d": [
           {
            "line": {
             "colorbar": {
              "outlinewidth": 0,
              "ticks": ""
             }
            },
            "marker": {
             "colorbar": {
              "outlinewidth": 0,
              "ticks": ""
             }
            },
            "type": "scatter3d"
           }
          ],
          "scattercarpet": [
           {
            "marker": {
             "colorbar": {
              "outlinewidth": 0,
              "ticks": ""
             }
            },
            "type": "scattercarpet"
           }
          ],
          "scattergeo": [
           {
            "marker": {
             "colorbar": {
              "outlinewidth": 0,
              "ticks": ""
             }
            },
            "type": "scattergeo"
           }
          ],
          "scattergl": [
           {
            "marker": {
             "colorbar": {
              "outlinewidth": 0,
              "ticks": ""
             }
            },
            "type": "scattergl"
           }
          ],
          "scattermapbox": [
           {
            "marker": {
             "colorbar": {
              "outlinewidth": 0,
              "ticks": ""
             }
            },
            "type": "scattermapbox"
           }
          ],
          "scatterpolar": [
           {
            "marker": {
             "colorbar": {
              "outlinewidth": 0,
              "ticks": ""
             }
            },
            "type": "scatterpolar"
           }
          ],
          "scatterpolargl": [
           {
            "marker": {
             "colorbar": {
              "outlinewidth": 0,
              "ticks": ""
             }
            },
            "type": "scatterpolargl"
           }
          ],
          "scatterternary": [
           {
            "marker": {
             "colorbar": {
              "outlinewidth": 0,
              "ticks": ""
             }
            },
            "type": "scatterternary"
           }
          ],
          "surface": [
           {
            "colorbar": {
             "outlinewidth": 0,
             "ticks": ""
            },
            "colorscale": [
             [
              0,
              "#0d0887"
             ],
             [
              0.1111111111111111,
              "#46039f"
             ],
             [
              0.2222222222222222,
              "#7201a8"
             ],
             [
              0.3333333333333333,
              "#9c179e"
             ],
             [
              0.4444444444444444,
              "#bd3786"
             ],
             [
              0.5555555555555556,
              "#d8576b"
             ],
             [
              0.6666666666666666,
              "#ed7953"
             ],
             [
              0.7777777777777778,
              "#fb9f3a"
             ],
             [
              0.8888888888888888,
              "#fdca26"
             ],
             [
              1,
              "#f0f921"
             ]
            ],
            "type": "surface"
           }
          ],
          "table": [
           {
            "cells": {
             "fill": {
              "color": "#EBF0F8"
             },
             "line": {
              "color": "white"
             }
            },
            "header": {
             "fill": {
              "color": "#C8D4E3"
             },
             "line": {
              "color": "white"
             }
            },
            "type": "table"
           }
          ]
         },
         "layout": {
          "annotationdefaults": {
           "arrowcolor": "#2a3f5f",
           "arrowhead": 0,
           "arrowwidth": 1
          },
          "autotypenumbers": "strict",
          "coloraxis": {
           "colorbar": {
            "outlinewidth": 0,
            "ticks": ""
           }
          },
          "colorscale": {
           "diverging": [
            [
             0,
             "#8e0152"
            ],
            [
             0.1,
             "#c51b7d"
            ],
            [
             0.2,
             "#de77ae"
            ],
            [
             0.3,
             "#f1b6da"
            ],
            [
             0.4,
             "#fde0ef"
            ],
            [
             0.5,
             "#f7f7f7"
            ],
            [
             0.6,
             "#e6f5d0"
            ],
            [
             0.7,
             "#b8e186"
            ],
            [
             0.8,
             "#7fbc41"
            ],
            [
             0.9,
             "#4d9221"
            ],
            [
             1,
             "#276419"
            ]
           ],
           "sequential": [
            [
             0,
             "#0d0887"
            ],
            [
             0.1111111111111111,
             "#46039f"
            ],
            [
             0.2222222222222222,
             "#7201a8"
            ],
            [
             0.3333333333333333,
             "#9c179e"
            ],
            [
             0.4444444444444444,
             "#bd3786"
            ],
            [
             0.5555555555555556,
             "#d8576b"
            ],
            [
             0.6666666666666666,
             "#ed7953"
            ],
            [
             0.7777777777777778,
             "#fb9f3a"
            ],
            [
             0.8888888888888888,
             "#fdca26"
            ],
            [
             1,
             "#f0f921"
            ]
           ],
           "sequentialminus": [
            [
             0,
             "#0d0887"
            ],
            [
             0.1111111111111111,
             "#46039f"
            ],
            [
             0.2222222222222222,
             "#7201a8"
            ],
            [
             0.3333333333333333,
             "#9c179e"
            ],
            [
             0.4444444444444444,
             "#bd3786"
            ],
            [
             0.5555555555555556,
             "#d8576b"
            ],
            [
             0.6666666666666666,
             "#ed7953"
            ],
            [
             0.7777777777777778,
             "#fb9f3a"
            ],
            [
             0.8888888888888888,
             "#fdca26"
            ],
            [
             1,
             "#f0f921"
            ]
           ]
          },
          "colorway": [
           "#636efa",
           "#EF553B",
           "#00cc96",
           "#ab63fa",
           "#FFA15A",
           "#19d3f3",
           "#FF6692",
           "#B6E880",
           "#FF97FF",
           "#FECB52"
          ],
          "font": {
           "color": "#2a3f5f"
          },
          "geo": {
           "bgcolor": "white",
           "lakecolor": "white",
           "landcolor": "#E5ECF6",
           "showlakes": true,
           "showland": true,
           "subunitcolor": "white"
          },
          "hoverlabel": {
           "align": "left"
          },
          "hovermode": "closest",
          "mapbox": {
           "style": "light"
          },
          "paper_bgcolor": "white",
          "plot_bgcolor": "#E5ECF6",
          "polar": {
           "angularaxis": {
            "gridcolor": "white",
            "linecolor": "white",
            "ticks": ""
           },
           "bgcolor": "#E5ECF6",
           "radialaxis": {
            "gridcolor": "white",
            "linecolor": "white",
            "ticks": ""
           }
          },
          "scene": {
           "xaxis": {
            "backgroundcolor": "#E5ECF6",
            "gridcolor": "white",
            "gridwidth": 2,
            "linecolor": "white",
            "showbackground": true,
            "ticks": "",
            "zerolinecolor": "white"
           },
           "yaxis": {
            "backgroundcolor": "#E5ECF6",
            "gridcolor": "white",
            "gridwidth": 2,
            "linecolor": "white",
            "showbackground": true,
            "ticks": "",
            "zerolinecolor": "white"
           },
           "zaxis": {
            "backgroundcolor": "#E5ECF6",
            "gridcolor": "white",
            "gridwidth": 2,
            "linecolor": "white",
            "showbackground": true,
            "ticks": "",
            "zerolinecolor": "white"
           }
          },
          "shapedefaults": {
           "line": {
            "color": "#2a3f5f"
           }
          },
          "ternary": {
           "aaxis": {
            "gridcolor": "white",
            "linecolor": "white",
            "ticks": ""
           },
           "baxis": {
            "gridcolor": "white",
            "linecolor": "white",
            "ticks": ""
           },
           "bgcolor": "#E5ECF6",
           "caxis": {
            "gridcolor": "white",
            "linecolor": "white",
            "ticks": ""
           }
          },
          "title": {
           "x": 0.05
          },
          "xaxis": {
           "automargin": true,
           "gridcolor": "white",
           "linecolor": "white",
           "ticks": "",
           "title": {
            "standoff": 15
           },
           "zerolinecolor": "white",
           "zerolinewidth": 2
          },
          "yaxis": {
           "automargin": true,
           "gridcolor": "white",
           "linecolor": "white",
           "ticks": "",
           "title": {
            "standoff": 15
           },
           "zerolinecolor": "white",
           "zerolinewidth": 2
          }
         }
        },
        "width": 1600,
        "xaxis": {
         "anchor": "y",
         "domain": [
          0,
          0.18400000000000002
         ],
         "title": {
          "text": "year"
         }
        },
        "xaxis10": {
         "anchor": "y10",
         "domain": [
          0.8160000000000001,
          1
         ],
         "matches": "x",
         "showticklabels": false
        },
        "xaxis11": {
         "anchor": "y11",
         "domain": [
          0,
          0.18400000000000002
         ],
         "matches": "x",
         "showticklabels": false
        },
        "xaxis12": {
         "anchor": "y12",
         "domain": [
          0.20400000000000001,
          0.388
         ],
         "matches": "x",
         "showticklabels": false
        },
        "xaxis13": {
         "anchor": "y13",
         "domain": [
          0.40800000000000003,
          0.5920000000000001
         ],
         "matches": "x",
         "showticklabels": false
        },
        "xaxis14": {
         "anchor": "y14",
         "domain": [
          0.6120000000000001,
          0.7960000000000002
         ],
         "matches": "x",
         "showticklabels": false
        },
        "xaxis15": {
         "anchor": "y15",
         "domain": [
          0.8160000000000001,
          1
         ],
         "matches": "x",
         "showticklabels": false
        },
        "xaxis16": {
         "anchor": "y16",
         "domain": [
          0,
          0.18400000000000002
         ],
         "matches": "x",
         "showticklabels": false
        },
        "xaxis17": {
         "anchor": "y17",
         "domain": [
          0.20400000000000001,
          0.388
         ],
         "matches": "x",
         "showticklabels": false
        },
        "xaxis18": {
         "anchor": "y18",
         "domain": [
          0.40800000000000003,
          0.5920000000000001
         ],
         "matches": "x",
         "showticklabels": false
        },
        "xaxis19": {
         "anchor": "y19",
         "domain": [
          0.6120000000000001,
          0.7960000000000002
         ],
         "matches": "x",
         "showticklabels": false
        },
        "xaxis2": {
         "anchor": "y2",
         "domain": [
          0.20400000000000001,
          0.388
         ],
         "matches": "x",
         "title": {
          "text": "year"
         }
        },
        "xaxis20": {
         "anchor": "y20",
         "domain": [
          0.8160000000000001,
          1
         ],
         "matches": "x",
         "showticklabels": false
        },
        "xaxis3": {
         "anchor": "y3",
         "domain": [
          0.40800000000000003,
          0.5920000000000001
         ],
         "matches": "x",
         "title": {
          "text": "year"
         }
        },
        "xaxis4": {
         "anchor": "y4",
         "domain": [
          0.6120000000000001,
          0.7960000000000002
         ],
         "matches": "x",
         "title": {
          "text": "year"
         }
        },
        "xaxis5": {
         "anchor": "y5",
         "domain": [
          0.8160000000000001,
          1
         ],
         "matches": "x",
         "title": {
          "text": "year"
         }
        },
        "xaxis6": {
         "anchor": "y6",
         "domain": [
          0,
          0.18400000000000002
         ],
         "matches": "x",
         "showticklabels": false
        },
        "xaxis7": {
         "anchor": "y7",
         "domain": [
          0.20400000000000001,
          0.388
         ],
         "matches": "x",
         "showticklabels": false
        },
        "xaxis8": {
         "anchor": "y8",
         "domain": [
          0.40800000000000003,
          0.5920000000000001
         ],
         "matches": "x",
         "showticklabels": false
        },
        "xaxis9": {
         "anchor": "y9",
         "domain": [
          0.6120000000000001,
          0.7960000000000002
         ],
         "matches": "x",
         "showticklabels": false
        },
        "yaxis": {
         "anchor": "x",
         "domain": [
          0,
          0.1975
         ],
         "title": {
          "text": "percent"
         }
        },
        "yaxis10": {
         "anchor": "x10",
         "domain": [
          0.2675,
          0.465
         ],
         "matches": "y",
         "showticklabels": false
        },
        "yaxis11": {
         "anchor": "x11",
         "domain": [
          0.535,
          0.7325
         ],
         "matches": "y",
         "title": {
          "text": "percent"
         }
        },
        "yaxis12": {
         "anchor": "x12",
         "domain": [
          0.535,
          0.7325
         ],
         "matches": "y",
         "showticklabels": false
        },
        "yaxis13": {
         "anchor": "x13",
         "domain": [
          0.535,
          0.7325
         ],
         "matches": "y",
         "showticklabels": false
        },
        "yaxis14": {
         "anchor": "x14",
         "domain": [
          0.535,
          0.7325
         ],
         "matches": "y",
         "showticklabels": false
        },
        "yaxis15": {
         "anchor": "x15",
         "domain": [
          0.535,
          0.7325
         ],
         "matches": "y",
         "showticklabels": false
        },
        "yaxis16": {
         "anchor": "x16",
         "domain": [
          0.8025,
          1
         ],
         "matches": "y",
         "title": {
          "text": "percent"
         }
        },
        "yaxis17": {
         "anchor": "x17",
         "domain": [
          0.8025,
          1
         ],
         "matches": "y",
         "showticklabels": false
        },
        "yaxis18": {
         "anchor": "x18",
         "domain": [
          0.8025,
          1
         ],
         "matches": "y",
         "showticklabels": false
        },
        "yaxis19": {
         "anchor": "x19",
         "domain": [
          0.8025,
          1
         ],
         "matches": "y",
         "showticklabels": false
        },
        "yaxis2": {
         "anchor": "x2",
         "domain": [
          0,
          0.1975
         ],
         "matches": "y",
         "showticklabels": false
        },
        "yaxis20": {
         "anchor": "x20",
         "domain": [
          0.8025,
          1
         ],
         "matches": "y",
         "showticklabels": false
        },
        "yaxis3": {
         "anchor": "x3",
         "domain": [
          0,
          0.1975
         ],
         "matches": "y",
         "showticklabels": false
        },
        "yaxis4": {
         "anchor": "x4",
         "domain": [
          0,
          0.1975
         ],
         "matches": "y",
         "showticklabels": false
        },
        "yaxis5": {
         "anchor": "x5",
         "domain": [
          0,
          0.1975
         ],
         "matches": "y",
         "showticklabels": false
        },
        "yaxis6": {
         "anchor": "x6",
         "domain": [
          0.2675,
          0.465
         ],
         "matches": "y",
         "title": {
          "text": "percent"
         }
        },
        "yaxis7": {
         "anchor": "x7",
         "domain": [
          0.2675,
          0.465
         ],
         "matches": "y",
         "showticklabels": false
        },
        "yaxis8": {
         "anchor": "x8",
         "domain": [
          0.2675,
          0.465
         ],
         "matches": "y",
         "showticklabels": false
        },
        "yaxis9": {
         "anchor": "x9",
         "domain": [
          0.2675,
          0.465
         ],
         "matches": "y",
         "showticklabels": false
        }
       }
      }
     },
     "metadata": {},
     "output_type": "display_data"
    }
   ],
   "source": [
    "## Make new line plots for percent with each institution as a facet from df_institution_year_subset\n",
    "\n",
    "fig = px.line(\n",
    "    df_institution_year_subset,\n",
    "    x='year',\n",
    "    y='percent',\n",
    "    color='clean_institution',\n",
    "    facet_col='clean_institution',\n",
    "    facet_col_wrap=5\n",
    ")\n",
    "\n",
    "fig.update_layout(\n",
    "    width=1600,\n",
    "    height=720,\n",
    "    font=dict(\n",
    "        family=\"Inter\",\n",
    "        size=16)\n",
    ")\n",
    "\n",
    "fig.update_traces(textfont_size=24)\n",
    "\n",
    "\n",
    "fig.update_traces(line=dict(width=5))\n",
    "\n",
    "\n",
    "\n",
    "## Remove legend\n",
    "fig.update_layout(showlegend=False)\n",
    "\n",
    "## Remove clean_institution= from the facet title\n",
    "fig.for_each_annotation(lambda a: a.update(text=a.text.split(\"=\")[-1]))\n",
    "\n",
    "\n",
    "\n",
    "## If facet is 1, 6, 11, or 16, left justify the title\n",
    "for i in [0, 5, 10, 15]:\n",
    "    fig.layout.annotations[i].update(x=0, xanchor='left')\n",
    "\n",
    "for i in [1, 6, 11, 16]:\n",
    "    fig.layout.annotations[i].update(x=0.202, xanchor='left')\n",
    "\n",
    "for i in [2, 7, 12, 17]:\n",
    "    fig.layout.annotations[i].update(x=0.406, xanchor='left')\n",
    "\n",
    "for i in [3, 8, 13, 18]:\n",
    "    fig.layout.annotations[i].update(x=0.610, xanchor='left')\n",
    "\n",
    "for i in [4, 9, 14, 19]:\n",
    "    fig.layout.annotations[i].update(x=0.814, xanchor='left')\n",
    "\n",
    "fig.write_image('fig4_top_institutions_year_percent_facet.svg')\n",
    "\n",
    "fig.show()\n"
   ]
  },
  {
   "cell_type": "markdown",
   "metadata": {},
   "source": [
    "## Year over Year Changes"
   ]
  },
  {
   "cell_type": "code",
   "execution_count": 23,
   "metadata": {},
   "outputs": [
    {
     "data": {
      "text/html": [
       "<div>\n",
       "<style scoped>\n",
       "    .dataframe tbody tr th:only-of-type {\n",
       "        vertical-align: middle;\n",
       "    }\n",
       "\n",
       "    .dataframe tbody tr th {\n",
       "        vertical-align: top;\n",
       "    }\n",
       "\n",
       "    .dataframe thead th {\n",
       "        text-align: right;\n",
       "    }\n",
       "</style>\n",
       "<table border=\"1\" class=\"dataframe\">\n",
       "  <thead>\n",
       "    <tr style=\"text-align: right;\">\n",
       "      <th></th>\n",
       "      <th>smart_institution5</th>\n",
       "      <th>year</th>\n",
       "      <th>count</th>\n",
       "      <th>total_count</th>\n",
       "      <th>clean_institution</th>\n",
       "      <th>abstracts_per_year</th>\n",
       "      <th>percent</th>\n",
       "      <th>prev_count</th>\n",
       "      <th>diff</th>\n",
       "      <th>pct_diff</th>\n",
       "    </tr>\n",
       "  </thead>\n",
       "  <tbody>\n",
       "    <tr>\n",
       "      <th>0</th>\n",
       "      <td>University Of Alabama At Birmingham</td>\n",
       "      <td>2024</td>\n",
       "      <td>77</td>\n",
       "      <td>589</td>\n",
       "      <td>U. Alabama</td>\n",
       "      <td>1746</td>\n",
       "      <td>0.044101</td>\n",
       "      <td>75.0</td>\n",
       "      <td>2.0</td>\n",
       "      <td>2.666667</td>\n",
       "    </tr>\n",
       "    <tr>\n",
       "      <th>1</th>\n",
       "      <td>University Of Alabama At Birmingham</td>\n",
       "      <td>2023</td>\n",
       "      <td>75</td>\n",
       "      <td>589</td>\n",
       "      <td>U. Alabama</td>\n",
       "      <td>1469</td>\n",
       "      <td>0.051055</td>\n",
       "      <td>67.0</td>\n",
       "      <td>8.0</td>\n",
       "      <td>11.940299</td>\n",
       "    </tr>\n",
       "    <tr>\n",
       "      <th>2</th>\n",
       "      <td>University Of Alabama At Birmingham</td>\n",
       "      <td>2022</td>\n",
       "      <td>67</td>\n",
       "      <td>589</td>\n",
       "      <td>U. Alabama</td>\n",
       "      <td>848</td>\n",
       "      <td>0.079009</td>\n",
       "      <td>66.0</td>\n",
       "      <td>1.0</td>\n",
       "      <td>1.515152</td>\n",
       "    </tr>\n",
       "    <tr>\n",
       "      <th>3</th>\n",
       "      <td>University Of Alabama At Birmingham</td>\n",
       "      <td>2021</td>\n",
       "      <td>66</td>\n",
       "      <td>589</td>\n",
       "      <td>U. Alabama</td>\n",
       "      <td>922</td>\n",
       "      <td>0.071584</td>\n",
       "      <td>94.0</td>\n",
       "      <td>-28.0</td>\n",
       "      <td>-29.787234</td>\n",
       "    </tr>\n",
       "    <tr>\n",
       "      <th>4</th>\n",
       "      <td>University Of Alabama At Birmingham</td>\n",
       "      <td>2020</td>\n",
       "      <td>94</td>\n",
       "      <td>589</td>\n",
       "      <td>U. Alabama</td>\n",
       "      <td>1742</td>\n",
       "      <td>0.053961</td>\n",
       "      <td>67.0</td>\n",
       "      <td>27.0</td>\n",
       "      <td>40.298507</td>\n",
       "    </tr>\n",
       "    <tr>\n",
       "      <th>5</th>\n",
       "      <td>University Of Alabama At Birmingham</td>\n",
       "      <td>2019</td>\n",
       "      <td>67</td>\n",
       "      <td>589</td>\n",
       "      <td>U. Alabama</td>\n",
       "      <td>1536</td>\n",
       "      <td>0.043620</td>\n",
       "      <td>68.0</td>\n",
       "      <td>-1.0</td>\n",
       "      <td>-1.470588</td>\n",
       "    </tr>\n",
       "    <tr>\n",
       "      <th>6</th>\n",
       "      <td>University Of Alabama At Birmingham</td>\n",
       "      <td>2018</td>\n",
       "      <td>68</td>\n",
       "      <td>589</td>\n",
       "      <td>U. Alabama</td>\n",
       "      <td>1368</td>\n",
       "      <td>0.049708</td>\n",
       "      <td>60.0</td>\n",
       "      <td>8.0</td>\n",
       "      <td>13.333333</td>\n",
       "    </tr>\n",
       "    <tr>\n",
       "      <th>7</th>\n",
       "      <td>University Of Alabama At Birmingham</td>\n",
       "      <td>2017</td>\n",
       "      <td>60</td>\n",
       "      <td>589</td>\n",
       "      <td>U. Alabama</td>\n",
       "      <td>1386</td>\n",
       "      <td>0.043290</td>\n",
       "      <td>15.0</td>\n",
       "      <td>45.0</td>\n",
       "      <td>300.000000</td>\n",
       "    </tr>\n",
       "    <tr>\n",
       "      <th>8</th>\n",
       "      <td>University Of Alabama At Birmingham</td>\n",
       "      <td>2016</td>\n",
       "      <td>15</td>\n",
       "      <td>589</td>\n",
       "      <td>U. Alabama</td>\n",
       "      <td>1125</td>\n",
       "      <td>0.013333</td>\n",
       "      <td>NaN</td>\n",
       "      <td>NaN</td>\n",
       "      <td>NaN</td>\n",
       "    </tr>\n",
       "    <tr>\n",
       "      <th>9</th>\n",
       "      <td>University Of Michigan</td>\n",
       "      <td>2024</td>\n",
       "      <td>56</td>\n",
       "      <td>429</td>\n",
       "      <td>U. Michigan</td>\n",
       "      <td>1746</td>\n",
       "      <td>0.032073</td>\n",
       "      <td>51.0</td>\n",
       "      <td>5.0</td>\n",
       "      <td>9.803922</td>\n",
       "    </tr>\n",
       "    <tr>\n",
       "      <th>10</th>\n",
       "      <td>University Of Michigan</td>\n",
       "      <td>2023</td>\n",
       "      <td>51</td>\n",
       "      <td>429</td>\n",
       "      <td>U. Michigan</td>\n",
       "      <td>1469</td>\n",
       "      <td>0.034717</td>\n",
       "      <td>42.0</td>\n",
       "      <td>9.0</td>\n",
       "      <td>21.428571</td>\n",
       "    </tr>\n",
       "    <tr>\n",
       "      <th>11</th>\n",
       "      <td>University Of Michigan</td>\n",
       "      <td>2022</td>\n",
       "      <td>42</td>\n",
       "      <td>429</td>\n",
       "      <td>U. Michigan</td>\n",
       "      <td>848</td>\n",
       "      <td>0.049528</td>\n",
       "      <td>37.0</td>\n",
       "      <td>5.0</td>\n",
       "      <td>13.513514</td>\n",
       "    </tr>\n",
       "    <tr>\n",
       "      <th>12</th>\n",
       "      <td>University Of Michigan</td>\n",
       "      <td>2021</td>\n",
       "      <td>37</td>\n",
       "      <td>429</td>\n",
       "      <td>U. Michigan</td>\n",
       "      <td>922</td>\n",
       "      <td>0.040130</td>\n",
       "      <td>47.0</td>\n",
       "      <td>-10.0</td>\n",
       "      <td>-21.276596</td>\n",
       "    </tr>\n",
       "    <tr>\n",
       "      <th>13</th>\n",
       "      <td>University Of Michigan</td>\n",
       "      <td>2020</td>\n",
       "      <td>47</td>\n",
       "      <td>429</td>\n",
       "      <td>U. Michigan</td>\n",
       "      <td>1742</td>\n",
       "      <td>0.026980</td>\n",
       "      <td>51.0</td>\n",
       "      <td>-4.0</td>\n",
       "      <td>-7.843137</td>\n",
       "    </tr>\n",
       "    <tr>\n",
       "      <th>14</th>\n",
       "      <td>University Of Michigan</td>\n",
       "      <td>2019</td>\n",
       "      <td>51</td>\n",
       "      <td>429</td>\n",
       "      <td>U. Michigan</td>\n",
       "      <td>1536</td>\n",
       "      <td>0.033203</td>\n",
       "      <td>48.0</td>\n",
       "      <td>3.0</td>\n",
       "      <td>6.250000</td>\n",
       "    </tr>\n",
       "    <tr>\n",
       "      <th>15</th>\n",
       "      <td>University Of Michigan</td>\n",
       "      <td>2018</td>\n",
       "      <td>48</td>\n",
       "      <td>429</td>\n",
       "      <td>U. Michigan</td>\n",
       "      <td>1368</td>\n",
       "      <td>0.035088</td>\n",
       "      <td>55.0</td>\n",
       "      <td>-7.0</td>\n",
       "      <td>-12.727273</td>\n",
       "    </tr>\n",
       "    <tr>\n",
       "      <th>16</th>\n",
       "      <td>University Of Michigan</td>\n",
       "      <td>2017</td>\n",
       "      <td>55</td>\n",
       "      <td>429</td>\n",
       "      <td>U. Michigan</td>\n",
       "      <td>1386</td>\n",
       "      <td>0.039683</td>\n",
       "      <td>42.0</td>\n",
       "      <td>13.0</td>\n",
       "      <td>30.952381</td>\n",
       "    </tr>\n",
       "    <tr>\n",
       "      <th>17</th>\n",
       "      <td>University Of Michigan</td>\n",
       "      <td>2016</td>\n",
       "      <td>42</td>\n",
       "      <td>429</td>\n",
       "      <td>U. Michigan</td>\n",
       "      <td>1125</td>\n",
       "      <td>0.037333</td>\n",
       "      <td>NaN</td>\n",
       "      <td>NaN</td>\n",
       "      <td>NaN</td>\n",
       "    </tr>\n",
       "    <tr>\n",
       "      <th>18</th>\n",
       "      <td>Hospital Of The University Of Pennsylvania</td>\n",
       "      <td>2024</td>\n",
       "      <td>28</td>\n",
       "      <td>256</td>\n",
       "      <td>Penn</td>\n",
       "      <td>1746</td>\n",
       "      <td>0.016037</td>\n",
       "      <td>36.0</td>\n",
       "      <td>-8.0</td>\n",
       "      <td>-22.222222</td>\n",
       "    </tr>\n",
       "    <tr>\n",
       "      <th>19</th>\n",
       "      <td>Hospital Of The University Of Pennsylvania</td>\n",
       "      <td>2023</td>\n",
       "      <td>36</td>\n",
       "      <td>256</td>\n",
       "      <td>Penn</td>\n",
       "      <td>1469</td>\n",
       "      <td>0.024506</td>\n",
       "      <td>18.0</td>\n",
       "      <td>18.0</td>\n",
       "      <td>100.000000</td>\n",
       "    </tr>\n",
       "    <tr>\n",
       "      <th>20</th>\n",
       "      <td>Hospital Of The University Of Pennsylvania</td>\n",
       "      <td>2022</td>\n",
       "      <td>18</td>\n",
       "      <td>256</td>\n",
       "      <td>Penn</td>\n",
       "      <td>848</td>\n",
       "      <td>0.021226</td>\n",
       "      <td>25.0</td>\n",
       "      <td>-7.0</td>\n",
       "      <td>-28.000000</td>\n",
       "    </tr>\n",
       "    <tr>\n",
       "      <th>21</th>\n",
       "      <td>Hospital Of The University Of Pennsylvania</td>\n",
       "      <td>2021</td>\n",
       "      <td>25</td>\n",
       "      <td>256</td>\n",
       "      <td>Penn</td>\n",
       "      <td>922</td>\n",
       "      <td>0.027115</td>\n",
       "      <td>31.0</td>\n",
       "      <td>-6.0</td>\n",
       "      <td>-19.354839</td>\n",
       "    </tr>\n",
       "    <tr>\n",
       "      <th>22</th>\n",
       "      <td>Hospital Of The University Of Pennsylvania</td>\n",
       "      <td>2020</td>\n",
       "      <td>31</td>\n",
       "      <td>256</td>\n",
       "      <td>Penn</td>\n",
       "      <td>1742</td>\n",
       "      <td>0.017796</td>\n",
       "      <td>23.0</td>\n",
       "      <td>8.0</td>\n",
       "      <td>34.782609</td>\n",
       "    </tr>\n",
       "    <tr>\n",
       "      <th>23</th>\n",
       "      <td>Hospital Of The University Of Pennsylvania</td>\n",
       "      <td>2019</td>\n",
       "      <td>23</td>\n",
       "      <td>256</td>\n",
       "      <td>Penn</td>\n",
       "      <td>1536</td>\n",
       "      <td>0.014974</td>\n",
       "      <td>24.0</td>\n",
       "      <td>-1.0</td>\n",
       "      <td>-4.166667</td>\n",
       "    </tr>\n",
       "    <tr>\n",
       "      <th>24</th>\n",
       "      <td>Hospital Of The University Of Pennsylvania</td>\n",
       "      <td>2018</td>\n",
       "      <td>24</td>\n",
       "      <td>256</td>\n",
       "      <td>Penn</td>\n",
       "      <td>1368</td>\n",
       "      <td>0.017544</td>\n",
       "      <td>34.0</td>\n",
       "      <td>-10.0</td>\n",
       "      <td>-29.411765</td>\n",
       "    </tr>\n",
       "    <tr>\n",
       "      <th>25</th>\n",
       "      <td>Hospital Of The University Of Pennsylvania</td>\n",
       "      <td>2017</td>\n",
       "      <td>34</td>\n",
       "      <td>256</td>\n",
       "      <td>Penn</td>\n",
       "      <td>1386</td>\n",
       "      <td>0.024531</td>\n",
       "      <td>37.0</td>\n",
       "      <td>-3.0</td>\n",
       "      <td>-8.108108</td>\n",
       "    </tr>\n",
       "    <tr>\n",
       "      <th>26</th>\n",
       "      <td>Hospital Of The University Of Pennsylvania</td>\n",
       "      <td>2016</td>\n",
       "      <td>37</td>\n",
       "      <td>256</td>\n",
       "      <td>Penn</td>\n",
       "      <td>1125</td>\n",
       "      <td>0.032889</td>\n",
       "      <td>NaN</td>\n",
       "      <td>NaN</td>\n",
       "      <td>NaN</td>\n",
       "    </tr>\n",
       "    <tr>\n",
       "      <th>27</th>\n",
       "      <td>Johns Hopkins University School Of Medicine</td>\n",
       "      <td>2024</td>\n",
       "      <td>38</td>\n",
       "      <td>246</td>\n",
       "      <td>Johns Hopkins</td>\n",
       "      <td>1746</td>\n",
       "      <td>0.021764</td>\n",
       "      <td>15.0</td>\n",
       "      <td>23.0</td>\n",
       "      <td>153.333333</td>\n",
       "    </tr>\n",
       "    <tr>\n",
       "      <th>28</th>\n",
       "      <td>Johns Hopkins University School Of Medicine</td>\n",
       "      <td>2023</td>\n",
       "      <td>15</td>\n",
       "      <td>246</td>\n",
       "      <td>Johns Hopkins</td>\n",
       "      <td>1469</td>\n",
       "      <td>0.010211</td>\n",
       "      <td>3.0</td>\n",
       "      <td>12.0</td>\n",
       "      <td>400.000000</td>\n",
       "    </tr>\n",
       "    <tr>\n",
       "      <th>29</th>\n",
       "      <td>Johns Hopkins University School Of Medicine</td>\n",
       "      <td>2022</td>\n",
       "      <td>3</td>\n",
       "      <td>246</td>\n",
       "      <td>Johns Hopkins</td>\n",
       "      <td>848</td>\n",
       "      <td>0.003538</td>\n",
       "      <td>20.0</td>\n",
       "      <td>-17.0</td>\n",
       "      <td>-85.000000</td>\n",
       "    </tr>\n",
       "    <tr>\n",
       "      <th>30</th>\n",
       "      <td>Johns Hopkins University School Of Medicine</td>\n",
       "      <td>2021</td>\n",
       "      <td>20</td>\n",
       "      <td>246</td>\n",
       "      <td>Johns Hopkins</td>\n",
       "      <td>922</td>\n",
       "      <td>0.021692</td>\n",
       "      <td>59.0</td>\n",
       "      <td>-39.0</td>\n",
       "      <td>-66.101695</td>\n",
       "    </tr>\n",
       "    <tr>\n",
       "      <th>31</th>\n",
       "      <td>Johns Hopkins University School Of Medicine</td>\n",
       "      <td>2020</td>\n",
       "      <td>59</td>\n",
       "      <td>246</td>\n",
       "      <td>Johns Hopkins</td>\n",
       "      <td>1742</td>\n",
       "      <td>0.033869</td>\n",
       "      <td>28.0</td>\n",
       "      <td>31.0</td>\n",
       "      <td>110.714286</td>\n",
       "    </tr>\n",
       "    <tr>\n",
       "      <th>32</th>\n",
       "      <td>Johns Hopkins University School Of Medicine</td>\n",
       "      <td>2019</td>\n",
       "      <td>28</td>\n",
       "      <td>246</td>\n",
       "      <td>Johns Hopkins</td>\n",
       "      <td>1536</td>\n",
       "      <td>0.018229</td>\n",
       "      <td>23.0</td>\n",
       "      <td>5.0</td>\n",
       "      <td>21.739130</td>\n",
       "    </tr>\n",
       "    <tr>\n",
       "      <th>33</th>\n",
       "      <td>Johns Hopkins University School Of Medicine</td>\n",
       "      <td>2018</td>\n",
       "      <td>23</td>\n",
       "      <td>246</td>\n",
       "      <td>Johns Hopkins</td>\n",
       "      <td>1368</td>\n",
       "      <td>0.016813</td>\n",
       "      <td>29.0</td>\n",
       "      <td>-6.0</td>\n",
       "      <td>-20.689655</td>\n",
       "    </tr>\n",
       "    <tr>\n",
       "      <th>34</th>\n",
       "      <td>Johns Hopkins University School Of Medicine</td>\n",
       "      <td>2017</td>\n",
       "      <td>29</td>\n",
       "      <td>246</td>\n",
       "      <td>Johns Hopkins</td>\n",
       "      <td>1386</td>\n",
       "      <td>0.020924</td>\n",
       "      <td>31.0</td>\n",
       "      <td>-2.0</td>\n",
       "      <td>-6.451613</td>\n",
       "    </tr>\n",
       "    <tr>\n",
       "      <th>35</th>\n",
       "      <td>Johns Hopkins University School Of Medicine</td>\n",
       "      <td>2016</td>\n",
       "      <td>31</td>\n",
       "      <td>246</td>\n",
       "      <td>Johns Hopkins</td>\n",
       "      <td>1125</td>\n",
       "      <td>0.027556</td>\n",
       "      <td>NaN</td>\n",
       "      <td>NaN</td>\n",
       "      <td>NaN</td>\n",
       "    </tr>\n",
       "    <tr>\n",
       "      <th>36</th>\n",
       "      <td>University Of California - Los Angeles</td>\n",
       "      <td>2024</td>\n",
       "      <td>52</td>\n",
       "      <td>245</td>\n",
       "      <td>UCLA</td>\n",
       "      <td>1746</td>\n",
       "      <td>0.029782</td>\n",
       "      <td>37.0</td>\n",
       "      <td>15.0</td>\n",
       "      <td>40.540541</td>\n",
       "    </tr>\n",
       "    <tr>\n",
       "      <th>37</th>\n",
       "      <td>University Of California - Los Angeles</td>\n",
       "      <td>2023</td>\n",
       "      <td>37</td>\n",
       "      <td>245</td>\n",
       "      <td>UCLA</td>\n",
       "      <td>1469</td>\n",
       "      <td>0.025187</td>\n",
       "      <td>27.0</td>\n",
       "      <td>10.0</td>\n",
       "      <td>37.037037</td>\n",
       "    </tr>\n",
       "    <tr>\n",
       "      <th>38</th>\n",
       "      <td>University Of California - Los Angeles</td>\n",
       "      <td>2022</td>\n",
       "      <td>27</td>\n",
       "      <td>245</td>\n",
       "      <td>UCLA</td>\n",
       "      <td>848</td>\n",
       "      <td>0.031840</td>\n",
       "      <td>20.0</td>\n",
       "      <td>7.0</td>\n",
       "      <td>35.000000</td>\n",
       "    </tr>\n",
       "    <tr>\n",
       "      <th>39</th>\n",
       "      <td>University Of California - Los Angeles</td>\n",
       "      <td>2021</td>\n",
       "      <td>20</td>\n",
       "      <td>245</td>\n",
       "      <td>UCLA</td>\n",
       "      <td>922</td>\n",
       "      <td>0.021692</td>\n",
       "      <td>25.0</td>\n",
       "      <td>-5.0</td>\n",
       "      <td>-20.000000</td>\n",
       "    </tr>\n",
       "    <tr>\n",
       "      <th>40</th>\n",
       "      <td>University Of California - Los Angeles</td>\n",
       "      <td>2020</td>\n",
       "      <td>25</td>\n",
       "      <td>245</td>\n",
       "      <td>UCLA</td>\n",
       "      <td>1742</td>\n",
       "      <td>0.014351</td>\n",
       "      <td>27.0</td>\n",
       "      <td>-2.0</td>\n",
       "      <td>-7.407407</td>\n",
       "    </tr>\n",
       "    <tr>\n",
       "      <th>41</th>\n",
       "      <td>University Of California - Los Angeles</td>\n",
       "      <td>2019</td>\n",
       "      <td>27</td>\n",
       "      <td>245</td>\n",
       "      <td>UCLA</td>\n",
       "      <td>1536</td>\n",
       "      <td>0.017578</td>\n",
       "      <td>19.0</td>\n",
       "      <td>8.0</td>\n",
       "      <td>42.105263</td>\n",
       "    </tr>\n",
       "    <tr>\n",
       "      <th>42</th>\n",
       "      <td>University Of California - Los Angeles</td>\n",
       "      <td>2018</td>\n",
       "      <td>19</td>\n",
       "      <td>245</td>\n",
       "      <td>UCLA</td>\n",
       "      <td>1368</td>\n",
       "      <td>0.013889</td>\n",
       "      <td>31.0</td>\n",
       "      <td>-12.0</td>\n",
       "      <td>-38.709677</td>\n",
       "    </tr>\n",
       "    <tr>\n",
       "      <th>43</th>\n",
       "      <td>University Of California - Los Angeles</td>\n",
       "      <td>2017</td>\n",
       "      <td>31</td>\n",
       "      <td>245</td>\n",
       "      <td>UCLA</td>\n",
       "      <td>1386</td>\n",
       "      <td>0.022367</td>\n",
       "      <td>7.0</td>\n",
       "      <td>24.0</td>\n",
       "      <td>342.857143</td>\n",
       "    </tr>\n",
       "    <tr>\n",
       "      <th>44</th>\n",
       "      <td>University Of California - Los Angeles</td>\n",
       "      <td>2016</td>\n",
       "      <td>7</td>\n",
       "      <td>245</td>\n",
       "      <td>UCLA</td>\n",
       "      <td>1125</td>\n",
       "      <td>0.006222</td>\n",
       "      <td>NaN</td>\n",
       "      <td>NaN</td>\n",
       "      <td>NaN</td>\n",
       "    </tr>\n",
       "    <tr>\n",
       "      <th>45</th>\n",
       "      <td>Baylor College Of Medicine</td>\n",
       "      <td>2024</td>\n",
       "      <td>31</td>\n",
       "      <td>227</td>\n",
       "      <td>Baylor</td>\n",
       "      <td>1746</td>\n",
       "      <td>0.017755</td>\n",
       "      <td>42.0</td>\n",
       "      <td>-11.0</td>\n",
       "      <td>-26.190476</td>\n",
       "    </tr>\n",
       "    <tr>\n",
       "      <th>46</th>\n",
       "      <td>Baylor College Of Medicine</td>\n",
       "      <td>2023</td>\n",
       "      <td>42</td>\n",
       "      <td>227</td>\n",
       "      <td>Baylor</td>\n",
       "      <td>1469</td>\n",
       "      <td>0.028591</td>\n",
       "      <td>10.0</td>\n",
       "      <td>32.0</td>\n",
       "      <td>320.000000</td>\n",
       "    </tr>\n",
       "    <tr>\n",
       "      <th>47</th>\n",
       "      <td>Baylor College Of Medicine</td>\n",
       "      <td>2022</td>\n",
       "      <td>10</td>\n",
       "      <td>227</td>\n",
       "      <td>Baylor</td>\n",
       "      <td>848</td>\n",
       "      <td>0.011792</td>\n",
       "      <td>36.0</td>\n",
       "      <td>-26.0</td>\n",
       "      <td>-72.222222</td>\n",
       "    </tr>\n",
       "    <tr>\n",
       "      <th>48</th>\n",
       "      <td>Baylor College Of Medicine</td>\n",
       "      <td>2021</td>\n",
       "      <td>36</td>\n",
       "      <td>227</td>\n",
       "      <td>Baylor</td>\n",
       "      <td>922</td>\n",
       "      <td>0.039046</td>\n",
       "      <td>26.0</td>\n",
       "      <td>10.0</td>\n",
       "      <td>38.461538</td>\n",
       "    </tr>\n",
       "    <tr>\n",
       "      <th>49</th>\n",
       "      <td>Baylor College Of Medicine</td>\n",
       "      <td>2020</td>\n",
       "      <td>26</td>\n",
       "      <td>227</td>\n",
       "      <td>Baylor</td>\n",
       "      <td>1742</td>\n",
       "      <td>0.014925</td>\n",
       "      <td>36.0</td>\n",
       "      <td>-10.0</td>\n",
       "      <td>-27.777778</td>\n",
       "    </tr>\n",
       "  </tbody>\n",
       "</table>\n",
       "</div>"
      ],
      "text/plain": [
       "                             smart_institution5  year  count  total_count  \\\n",
       "0           University Of Alabama At Birmingham  2024     77          589   \n",
       "1           University Of Alabama At Birmingham  2023     75          589   \n",
       "2           University Of Alabama At Birmingham  2022     67          589   \n",
       "3           University Of Alabama At Birmingham  2021     66          589   \n",
       "4           University Of Alabama At Birmingham  2020     94          589   \n",
       "5           University Of Alabama At Birmingham  2019     67          589   \n",
       "6           University Of Alabama At Birmingham  2018     68          589   \n",
       "7           University Of Alabama At Birmingham  2017     60          589   \n",
       "8           University Of Alabama At Birmingham  2016     15          589   \n",
       "9                        University Of Michigan  2024     56          429   \n",
       "10                       University Of Michigan  2023     51          429   \n",
       "11                       University Of Michigan  2022     42          429   \n",
       "12                       University Of Michigan  2021     37          429   \n",
       "13                       University Of Michigan  2020     47          429   \n",
       "14                       University Of Michigan  2019     51          429   \n",
       "15                       University Of Michigan  2018     48          429   \n",
       "16                       University Of Michigan  2017     55          429   \n",
       "17                       University Of Michigan  2016     42          429   \n",
       "18   Hospital Of The University Of Pennsylvania  2024     28          256   \n",
       "19   Hospital Of The University Of Pennsylvania  2023     36          256   \n",
       "20   Hospital Of The University Of Pennsylvania  2022     18          256   \n",
       "21   Hospital Of The University Of Pennsylvania  2021     25          256   \n",
       "22   Hospital Of The University Of Pennsylvania  2020     31          256   \n",
       "23   Hospital Of The University Of Pennsylvania  2019     23          256   \n",
       "24   Hospital Of The University Of Pennsylvania  2018     24          256   \n",
       "25   Hospital Of The University Of Pennsylvania  2017     34          256   \n",
       "26   Hospital Of The University Of Pennsylvania  2016     37          256   \n",
       "27  Johns Hopkins University School Of Medicine  2024     38          246   \n",
       "28  Johns Hopkins University School Of Medicine  2023     15          246   \n",
       "29  Johns Hopkins University School Of Medicine  2022      3          246   \n",
       "30  Johns Hopkins University School Of Medicine  2021     20          246   \n",
       "31  Johns Hopkins University School Of Medicine  2020     59          246   \n",
       "32  Johns Hopkins University School Of Medicine  2019     28          246   \n",
       "33  Johns Hopkins University School Of Medicine  2018     23          246   \n",
       "34  Johns Hopkins University School Of Medicine  2017     29          246   \n",
       "35  Johns Hopkins University School Of Medicine  2016     31          246   \n",
       "36       University Of California - Los Angeles  2024     52          245   \n",
       "37       University Of California - Los Angeles  2023     37          245   \n",
       "38       University Of California - Los Angeles  2022     27          245   \n",
       "39       University Of California - Los Angeles  2021     20          245   \n",
       "40       University Of California - Los Angeles  2020     25          245   \n",
       "41       University Of California - Los Angeles  2019     27          245   \n",
       "42       University Of California - Los Angeles  2018     19          245   \n",
       "43       University Of California - Los Angeles  2017     31          245   \n",
       "44       University Of California - Los Angeles  2016      7          245   \n",
       "45                   Baylor College Of Medicine  2024     31          227   \n",
       "46                   Baylor College Of Medicine  2023     42          227   \n",
       "47                   Baylor College Of Medicine  2022     10          227   \n",
       "48                   Baylor College Of Medicine  2021     36          227   \n",
       "49                   Baylor College Of Medicine  2020     26          227   \n",
       "\n",
       "   clean_institution  abstracts_per_year   percent  prev_count  diff  \\\n",
       "0         U. Alabama                1746  0.044101        75.0   2.0   \n",
       "1         U. Alabama                1469  0.051055        67.0   8.0   \n",
       "2         U. Alabama                 848  0.079009        66.0   1.0   \n",
       "3         U. Alabama                 922  0.071584        94.0 -28.0   \n",
       "4         U. Alabama                1742  0.053961        67.0  27.0   \n",
       "5         U. Alabama                1536  0.043620        68.0  -1.0   \n",
       "6         U. Alabama                1368  0.049708        60.0   8.0   \n",
       "7         U. Alabama                1386  0.043290        15.0  45.0   \n",
       "8         U. Alabama                1125  0.013333         NaN   NaN   \n",
       "9        U. Michigan                1746  0.032073        51.0   5.0   \n",
       "10       U. Michigan                1469  0.034717        42.0   9.0   \n",
       "11       U. Michigan                 848  0.049528        37.0   5.0   \n",
       "12       U. Michigan                 922  0.040130        47.0 -10.0   \n",
       "13       U. Michigan                1742  0.026980        51.0  -4.0   \n",
       "14       U. Michigan                1536  0.033203        48.0   3.0   \n",
       "15       U. Michigan                1368  0.035088        55.0  -7.0   \n",
       "16       U. Michigan                1386  0.039683        42.0  13.0   \n",
       "17       U. Michigan                1125  0.037333         NaN   NaN   \n",
       "18              Penn                1746  0.016037        36.0  -8.0   \n",
       "19              Penn                1469  0.024506        18.0  18.0   \n",
       "20              Penn                 848  0.021226        25.0  -7.0   \n",
       "21              Penn                 922  0.027115        31.0  -6.0   \n",
       "22              Penn                1742  0.017796        23.0   8.0   \n",
       "23              Penn                1536  0.014974        24.0  -1.0   \n",
       "24              Penn                1368  0.017544        34.0 -10.0   \n",
       "25              Penn                1386  0.024531        37.0  -3.0   \n",
       "26              Penn                1125  0.032889         NaN   NaN   \n",
       "27     Johns Hopkins                1746  0.021764        15.0  23.0   \n",
       "28     Johns Hopkins                1469  0.010211         3.0  12.0   \n",
       "29     Johns Hopkins                 848  0.003538        20.0 -17.0   \n",
       "30     Johns Hopkins                 922  0.021692        59.0 -39.0   \n",
       "31     Johns Hopkins                1742  0.033869        28.0  31.0   \n",
       "32     Johns Hopkins                1536  0.018229        23.0   5.0   \n",
       "33     Johns Hopkins                1368  0.016813        29.0  -6.0   \n",
       "34     Johns Hopkins                1386  0.020924        31.0  -2.0   \n",
       "35     Johns Hopkins                1125  0.027556         NaN   NaN   \n",
       "36              UCLA                1746  0.029782        37.0  15.0   \n",
       "37              UCLA                1469  0.025187        27.0  10.0   \n",
       "38              UCLA                 848  0.031840        20.0   7.0   \n",
       "39              UCLA                 922  0.021692        25.0  -5.0   \n",
       "40              UCLA                1742  0.014351        27.0  -2.0   \n",
       "41              UCLA                1536  0.017578        19.0   8.0   \n",
       "42              UCLA                1368  0.013889        31.0 -12.0   \n",
       "43              UCLA                1386  0.022367         7.0  24.0   \n",
       "44              UCLA                1125  0.006222         NaN   NaN   \n",
       "45            Baylor                1746  0.017755        42.0 -11.0   \n",
       "46            Baylor                1469  0.028591        10.0  32.0   \n",
       "47            Baylor                 848  0.011792        36.0 -26.0   \n",
       "48            Baylor                 922  0.039046        26.0  10.0   \n",
       "49            Baylor                1742  0.014925        36.0 -10.0   \n",
       "\n",
       "      pct_diff  \n",
       "0     2.666667  \n",
       "1    11.940299  \n",
       "2     1.515152  \n",
       "3   -29.787234  \n",
       "4    40.298507  \n",
       "5    -1.470588  \n",
       "6    13.333333  \n",
       "7   300.000000  \n",
       "8          NaN  \n",
       "9     9.803922  \n",
       "10   21.428571  \n",
       "11   13.513514  \n",
       "12  -21.276596  \n",
       "13   -7.843137  \n",
       "14    6.250000  \n",
       "15  -12.727273  \n",
       "16   30.952381  \n",
       "17         NaN  \n",
       "18  -22.222222  \n",
       "19  100.000000  \n",
       "20  -28.000000  \n",
       "21  -19.354839  \n",
       "22   34.782609  \n",
       "23   -4.166667  \n",
       "24  -29.411765  \n",
       "25   -8.108108  \n",
       "26         NaN  \n",
       "27  153.333333  \n",
       "28  400.000000  \n",
       "29  -85.000000  \n",
       "30  -66.101695  \n",
       "31  110.714286  \n",
       "32   21.739130  \n",
       "33  -20.689655  \n",
       "34   -6.451613  \n",
       "35         NaN  \n",
       "36   40.540541  \n",
       "37   37.037037  \n",
       "38   35.000000  \n",
       "39  -20.000000  \n",
       "40   -7.407407  \n",
       "41   42.105263  \n",
       "42  -38.709677  \n",
       "43  342.857143  \n",
       "44         NaN  \n",
       "45  -26.190476  \n",
       "46  320.000000  \n",
       "47  -72.222222  \n",
       "48   38.461538  \n",
       "49  -27.777778  "
      ]
     },
     "execution_count": 23,
     "metadata": {},
     "output_type": "execute_result"
    }
   ],
   "source": [
    "df_institution_year_subset\n",
    "\n",
    "## For each institution, calculate the difference between the current year and the prior year\n",
    "## For example, for 2024, calculate the difference between 2024 and 2023\n",
    "## For example, for 2023, calculate the difference between 2023 and 2022\n",
    "## Create a new column called diff to store this amount\n",
    "\n",
    "df_institution_year_subset['prev_count'] = df_institution_year_subset['count'].shift(-1).where(df_institution_year_subset['clean_institution'].eq(df_institution_year_subset['clean_institution'].shift(-1)))\n",
    "\n",
    "df_institution_year_subset['diff'] = df_institution_year_subset['count'] - df_institution_year_subset['prev_count']\n",
    "\n",
    "df_institution_year_subset['pct_diff'] = df_institution_year_subset['diff'] / df_institution_year_subset['count'].shift(-1) * 100\n",
    "\n",
    "df_institution_year_subset\n",
    "\n",
    "## Melt the diff and pct_diff columns into a new data frame\n",
    "\n",
    "df_institution_year_subset_melt = pd.melt(df_institution_year_subset, id_vars=['year', 'clean_institution'], value_vars=['diff', 'pct_diff'])\n",
    "\n",
    "## Create a new column combining clean_institution and year\n",
    "df_institution_year_subset_melt['institution_year'] = df_institution_year_subset_melt['clean_institution'] + ' ' + df_institution_year_subset_melt['year'].astype(str)\n",
    "\n",
    "## Sort by variable and value\n",
    "df_institution_year_subset_melt.sort_values(by=['variable', 'value'], ascending=[True, False], inplace=True)\n",
    "\n",
    "df_institution_year_subset_melt\n",
    "\n",
    "## Round Value to Int\n",
    "df_institution_year_subset_melt['value'] = df_institution_year_subset_melt['value'].round(0)\n",
    "\n",
    "df_institution_year_subset.head(50)"
   ]
  },
  {
   "cell_type": "code",
   "execution_count": 24,
   "metadata": {},
   "outputs": [
    {
     "name": "stderr",
     "output_type": "stream",
     "text": [
      "/Library/Frameworks/Python.framework/Versions/3.10/lib/python3.10/site-packages/plotly/express/_core.py:1979: FutureWarning:\n",
      "\n",
      "When grouping with a length-1 list-like, you will need to pass a length-1 tuple to get_group in a future version of pandas. Pass `(name,)` instead of `name` to silence this warning.\n",
      "\n"
     ]
    },
    {
     "data": {
      "application/vnd.plotly.v1+json": {
       "config": {
        "plotlyServerURL": "https://plot.ly"
       },
       "data": [
        {
         "alignmentgroup": "True",
         "hovertemplate": "variable=diff<br>institution_year=%{x}<br>Total Abstracts=%{y}<extra></extra>",
         "legendgroup": "",
         "marker": {
          "color": "#636efa",
          "pattern": {
           "shape": ""
          }
         },
         "name": "",
         "offsetgroup": "",
         "orientation": "v",
         "showlegend": false,
         "textfont": {
          "size": 16
         },
         "textposition": "inside",
         "texttemplate": "%{y:}",
         "type": "bar",
         "x": [
          "Baylor 2023",
          "Mass General 2023",
          "Johns Hopkins 2024",
          "Penn 2023",
          "MCW 2023",
          "UCLA 2024",
          "Northwestern 2023",
          "U.T. Southwestern 2024",
          "BWH 2023",
          "Johns Hopkins 2023"
         ],
         "xaxis": "x",
         "y": [
          32,
          27,
          23,
          18,
          17,
          15,
          15,
          13,
          13,
          12
         ],
         "yaxis": "y"
        },
        {
         "alignmentgroup": "True",
         "hovertemplate": "variable=pct_diff<br>institution_year=%{x}<br>Total Abstracts=%{y}<extra></extra>",
         "legendgroup": "",
         "marker": {
          "color": "#636efa",
          "pattern": {
           "shape": ""
          }
         },
         "name": "",
         "offsetgroup": "",
         "orientation": "v",
         "showlegend": false,
         "textfont": {
          "size": 16
         },
         "textposition": "inside",
         "texttemplate": "%{y:}",
         "type": "bar",
         "x": [
          "BWH 2023",
          "Johns Hopkins 2023",
          "Mass General 2023",
          "Baylor 2023",
          "MCW 2023",
          "Johns Hopkins 2024",
          "Ohio State U. 2023",
          "Northwestern 2023",
          "Penn 2023",
          "Stanford 2023"
         ],
         "xaxis": "x2",
         "y": [
          433,
          400,
          386,
          320,
          243,
          153,
          120,
          115,
          100,
          86
         ],
         "yaxis": "y2"
        }
       ],
       "layout": {
        "annotations": [
         {
          "font": {},
          "showarrow": false,
          "text": "diff",
          "x": 0.2375,
          "xanchor": "center",
          "xref": "paper",
          "y": 1,
          "yanchor": "bottom",
          "yref": "paper"
         },
         {
          "font": {},
          "showarrow": false,
          "text": "pct_diff",
          "x": 0.7625,
          "xanchor": "center",
          "xref": "paper",
          "y": 1,
          "yanchor": "bottom",
          "yref": "paper"
         }
        ],
        "barmode": "relative",
        "font": {
         "family": "Inter",
         "size": 16
        },
        "height": 720,
        "legend": {
         "tracegroupgap": 0
        },
        "margin": {
         "t": 60
        },
        "showlegend": false,
        "template": {
         "data": {
          "bar": [
           {
            "error_x": {
             "color": "#2a3f5f"
            },
            "error_y": {
             "color": "#2a3f5f"
            },
            "marker": {
             "line": {
              "color": "#E5ECF6",
              "width": 0.5
             },
             "pattern": {
              "fillmode": "overlay",
              "size": 10,
              "solidity": 0.2
             }
            },
            "type": "bar"
           }
          ],
          "barpolar": [
           {
            "marker": {
             "line": {
              "color": "#E5ECF6",
              "width": 0.5
             },
             "pattern": {
              "fillmode": "overlay",
              "size": 10,
              "solidity": 0.2
             }
            },
            "type": "barpolar"
           }
          ],
          "carpet": [
           {
            "aaxis": {
             "endlinecolor": "#2a3f5f",
             "gridcolor": "white",
             "linecolor": "white",
             "minorgridcolor": "white",
             "startlinecolor": "#2a3f5f"
            },
            "baxis": {
             "endlinecolor": "#2a3f5f",
             "gridcolor": "white",
             "linecolor": "white",
             "minorgridcolor": "white",
             "startlinecolor": "#2a3f5f"
            },
            "type": "carpet"
           }
          ],
          "choropleth": [
           {
            "colorbar": {
             "outlinewidth": 0,
             "ticks": ""
            },
            "type": "choropleth"
           }
          ],
          "contour": [
           {
            "colorbar": {
             "outlinewidth": 0,
             "ticks": ""
            },
            "colorscale": [
             [
              0,
              "#0d0887"
             ],
             [
              0.1111111111111111,
              "#46039f"
             ],
             [
              0.2222222222222222,
              "#7201a8"
             ],
             [
              0.3333333333333333,
              "#9c179e"
             ],
             [
              0.4444444444444444,
              "#bd3786"
             ],
             [
              0.5555555555555556,
              "#d8576b"
             ],
             [
              0.6666666666666666,
              "#ed7953"
             ],
             [
              0.7777777777777778,
              "#fb9f3a"
             ],
             [
              0.8888888888888888,
              "#fdca26"
             ],
             [
              1,
              "#f0f921"
             ]
            ],
            "type": "contour"
           }
          ],
          "contourcarpet": [
           {
            "colorbar": {
             "outlinewidth": 0,
             "ticks": ""
            },
            "type": "contourcarpet"
           }
          ],
          "heatmap": [
           {
            "colorbar": {
             "outlinewidth": 0,
             "ticks": ""
            },
            "colorscale": [
             [
              0,
              "#0d0887"
             ],
             [
              0.1111111111111111,
              "#46039f"
             ],
             [
              0.2222222222222222,
              "#7201a8"
             ],
             [
              0.3333333333333333,
              "#9c179e"
             ],
             [
              0.4444444444444444,
              "#bd3786"
             ],
             [
              0.5555555555555556,
              "#d8576b"
             ],
             [
              0.6666666666666666,
              "#ed7953"
             ],
             [
              0.7777777777777778,
              "#fb9f3a"
             ],
             [
              0.8888888888888888,
              "#fdca26"
             ],
             [
              1,
              "#f0f921"
             ]
            ],
            "type": "heatmap"
           }
          ],
          "heatmapgl": [
           {
            "colorbar": {
             "outlinewidth": 0,
             "ticks": ""
            },
            "colorscale": [
             [
              0,
              "#0d0887"
             ],
             [
              0.1111111111111111,
              "#46039f"
             ],
             [
              0.2222222222222222,
              "#7201a8"
             ],
             [
              0.3333333333333333,
              "#9c179e"
             ],
             [
              0.4444444444444444,
              "#bd3786"
             ],
             [
              0.5555555555555556,
              "#d8576b"
             ],
             [
              0.6666666666666666,
              "#ed7953"
             ],
             [
              0.7777777777777778,
              "#fb9f3a"
             ],
             [
              0.8888888888888888,
              "#fdca26"
             ],
             [
              1,
              "#f0f921"
             ]
            ],
            "type": "heatmapgl"
           }
          ],
          "histogram": [
           {
            "marker": {
             "pattern": {
              "fillmode": "overlay",
              "size": 10,
              "solidity": 0.2
             }
            },
            "type": "histogram"
           }
          ],
          "histogram2d": [
           {
            "colorbar": {
             "outlinewidth": 0,
             "ticks": ""
            },
            "colorscale": [
             [
              0,
              "#0d0887"
             ],
             [
              0.1111111111111111,
              "#46039f"
             ],
             [
              0.2222222222222222,
              "#7201a8"
             ],
             [
              0.3333333333333333,
              "#9c179e"
             ],
             [
              0.4444444444444444,
              "#bd3786"
             ],
             [
              0.5555555555555556,
              "#d8576b"
             ],
             [
              0.6666666666666666,
              "#ed7953"
             ],
             [
              0.7777777777777778,
              "#fb9f3a"
             ],
             [
              0.8888888888888888,
              "#fdca26"
             ],
             [
              1,
              "#f0f921"
             ]
            ],
            "type": "histogram2d"
           }
          ],
          "histogram2dcontour": [
           {
            "colorbar": {
             "outlinewidth": 0,
             "ticks": ""
            },
            "colorscale": [
             [
              0,
              "#0d0887"
             ],
             [
              0.1111111111111111,
              "#46039f"
             ],
             [
              0.2222222222222222,
              "#7201a8"
             ],
             [
              0.3333333333333333,
              "#9c179e"
             ],
             [
              0.4444444444444444,
              "#bd3786"
             ],
             [
              0.5555555555555556,
              "#d8576b"
             ],
             [
              0.6666666666666666,
              "#ed7953"
             ],
             [
              0.7777777777777778,
              "#fb9f3a"
             ],
             [
              0.8888888888888888,
              "#fdca26"
             ],
             [
              1,
              "#f0f921"
             ]
            ],
            "type": "histogram2dcontour"
           }
          ],
          "mesh3d": [
           {
            "colorbar": {
             "outlinewidth": 0,
             "ticks": ""
            },
            "type": "mesh3d"
           }
          ],
          "parcoords": [
           {
            "line": {
             "colorbar": {
              "outlinewidth": 0,
              "ticks": ""
             }
            },
            "type": "parcoords"
           }
          ],
          "pie": [
           {
            "automargin": true,
            "type": "pie"
           }
          ],
          "scatter": [
           {
            "fillpattern": {
             "fillmode": "overlay",
             "size": 10,
             "solidity": 0.2
            },
            "type": "scatter"
           }
          ],
          "scatter3d": [
           {
            "line": {
             "colorbar": {
              "outlinewidth": 0,
              "ticks": ""
             }
            },
            "marker": {
             "colorbar": {
              "outlinewidth": 0,
              "ticks": ""
             }
            },
            "type": "scatter3d"
           }
          ],
          "scattercarpet": [
           {
            "marker": {
             "colorbar": {
              "outlinewidth": 0,
              "ticks": ""
             }
            },
            "type": "scattercarpet"
           }
          ],
          "scattergeo": [
           {
            "marker": {
             "colorbar": {
              "outlinewidth": 0,
              "ticks": ""
             }
            },
            "type": "scattergeo"
           }
          ],
          "scattergl": [
           {
            "marker": {
             "colorbar": {
              "outlinewidth": 0,
              "ticks": ""
             }
            },
            "type": "scattergl"
           }
          ],
          "scattermapbox": [
           {
            "marker": {
             "colorbar": {
              "outlinewidth": 0,
              "ticks": ""
             }
            },
            "type": "scattermapbox"
           }
          ],
          "scatterpolar": [
           {
            "marker": {
             "colorbar": {
              "outlinewidth": 0,
              "ticks": ""
             }
            },
            "type": "scatterpolar"
           }
          ],
          "scatterpolargl": [
           {
            "marker": {
             "colorbar": {
              "outlinewidth": 0,
              "ticks": ""
             }
            },
            "type": "scatterpolargl"
           }
          ],
          "scatterternary": [
           {
            "marker": {
             "colorbar": {
              "outlinewidth": 0,
              "ticks": ""
             }
            },
            "type": "scatterternary"
           }
          ],
          "surface": [
           {
            "colorbar": {
             "outlinewidth": 0,
             "ticks": ""
            },
            "colorscale": [
             [
              0,
              "#0d0887"
             ],
             [
              0.1111111111111111,
              "#46039f"
             ],
             [
              0.2222222222222222,
              "#7201a8"
             ],
             [
              0.3333333333333333,
              "#9c179e"
             ],
             [
              0.4444444444444444,
              "#bd3786"
             ],
             [
              0.5555555555555556,
              "#d8576b"
             ],
             [
              0.6666666666666666,
              "#ed7953"
             ],
             [
              0.7777777777777778,
              "#fb9f3a"
             ],
             [
              0.8888888888888888,
              "#fdca26"
             ],
             [
              1,
              "#f0f921"
             ]
            ],
            "type": "surface"
           }
          ],
          "table": [
           {
            "cells": {
             "fill": {
              "color": "#EBF0F8"
             },
             "line": {
              "color": "white"
             }
            },
            "header": {
             "fill": {
              "color": "#C8D4E3"
             },
             "line": {
              "color": "white"
             }
            },
            "type": "table"
           }
          ]
         },
         "layout": {
          "annotationdefaults": {
           "arrowcolor": "#2a3f5f",
           "arrowhead": 0,
           "arrowwidth": 1
          },
          "autotypenumbers": "strict",
          "coloraxis": {
           "colorbar": {
            "outlinewidth": 0,
            "ticks": ""
           }
          },
          "colorscale": {
           "diverging": [
            [
             0,
             "#8e0152"
            ],
            [
             0.1,
             "#c51b7d"
            ],
            [
             0.2,
             "#de77ae"
            ],
            [
             0.3,
             "#f1b6da"
            ],
            [
             0.4,
             "#fde0ef"
            ],
            [
             0.5,
             "#f7f7f7"
            ],
            [
             0.6,
             "#e6f5d0"
            ],
            [
             0.7,
             "#b8e186"
            ],
            [
             0.8,
             "#7fbc41"
            ],
            [
             0.9,
             "#4d9221"
            ],
            [
             1,
             "#276419"
            ]
           ],
           "sequential": [
            [
             0,
             "#0d0887"
            ],
            [
             0.1111111111111111,
             "#46039f"
            ],
            [
             0.2222222222222222,
             "#7201a8"
            ],
            [
             0.3333333333333333,
             "#9c179e"
            ],
            [
             0.4444444444444444,
             "#bd3786"
            ],
            [
             0.5555555555555556,
             "#d8576b"
            ],
            [
             0.6666666666666666,
             "#ed7953"
            ],
            [
             0.7777777777777778,
             "#fb9f3a"
            ],
            [
             0.8888888888888888,
             "#fdca26"
            ],
            [
             1,
             "#f0f921"
            ]
           ],
           "sequentialminus": [
            [
             0,
             "#0d0887"
            ],
            [
             0.1111111111111111,
             "#46039f"
            ],
            [
             0.2222222222222222,
             "#7201a8"
            ],
            [
             0.3333333333333333,
             "#9c179e"
            ],
            [
             0.4444444444444444,
             "#bd3786"
            ],
            [
             0.5555555555555556,
             "#d8576b"
            ],
            [
             0.6666666666666666,
             "#ed7953"
            ],
            [
             0.7777777777777778,
             "#fb9f3a"
            ],
            [
             0.8888888888888888,
             "#fdca26"
            ],
            [
             1,
             "#f0f921"
            ]
           ]
          },
          "colorway": [
           "#636efa",
           "#EF553B",
           "#00cc96",
           "#ab63fa",
           "#FFA15A",
           "#19d3f3",
           "#FF6692",
           "#B6E880",
           "#FF97FF",
           "#FECB52"
          ],
          "font": {
           "color": "#2a3f5f"
          },
          "geo": {
           "bgcolor": "white",
           "lakecolor": "white",
           "landcolor": "#E5ECF6",
           "showlakes": true,
           "showland": true,
           "subunitcolor": "white"
          },
          "hoverlabel": {
           "align": "left"
          },
          "hovermode": "closest",
          "mapbox": {
           "style": "light"
          },
          "paper_bgcolor": "white",
          "plot_bgcolor": "#E5ECF6",
          "polar": {
           "angularaxis": {
            "gridcolor": "white",
            "linecolor": "white",
            "ticks": ""
           },
           "bgcolor": "#E5ECF6",
           "radialaxis": {
            "gridcolor": "white",
            "linecolor": "white",
            "ticks": ""
           }
          },
          "scene": {
           "xaxis": {
            "backgroundcolor": "#E5ECF6",
            "gridcolor": "white",
            "gridwidth": 2,
            "linecolor": "white",
            "showbackground": true,
            "ticks": "",
            "zerolinecolor": "white"
           },
           "yaxis": {
            "backgroundcolor": "#E5ECF6",
            "gridcolor": "white",
            "gridwidth": 2,
            "linecolor": "white",
            "showbackground": true,
            "ticks": "",
            "zerolinecolor": "white"
           },
           "zaxis": {
            "backgroundcolor": "#E5ECF6",
            "gridcolor": "white",
            "gridwidth": 2,
            "linecolor": "white",
            "showbackground": true,
            "ticks": "",
            "zerolinecolor": "white"
           }
          },
          "shapedefaults": {
           "line": {
            "color": "#2a3f5f"
           }
          },
          "ternary": {
           "aaxis": {
            "gridcolor": "white",
            "linecolor": "white",
            "ticks": ""
           },
           "baxis": {
            "gridcolor": "white",
            "linecolor": "white",
            "ticks": ""
           },
           "bgcolor": "#E5ECF6",
           "caxis": {
            "gridcolor": "white",
            "linecolor": "white",
            "ticks": ""
           }
          },
          "title": {
           "x": 0.05
          },
          "xaxis": {
           "automargin": true,
           "gridcolor": "white",
           "linecolor": "white",
           "ticks": "",
           "title": {
            "standoff": 15
           },
           "zerolinecolor": "white",
           "zerolinewidth": 2
          },
          "yaxis": {
           "automargin": true,
           "gridcolor": "white",
           "linecolor": "white",
           "ticks": "",
           "title": {
            "standoff": 15
           },
           "zerolinecolor": "white",
           "zerolinewidth": 2
          }
         }
        },
        "width": 1600,
        "xaxis": {
         "anchor": "y",
         "domain": [
          0,
          0.475
         ],
         "showticklabels": true,
         "tickangle": 90,
         "title": {
          "text": "Year"
         }
        },
        "xaxis2": {
         "anchor": "y2",
         "domain": [
          0.525,
          1
         ],
         "showticklabels": true,
         "tickangle": 90,
         "title": {
          "text": "institution_year"
         }
        },
        "yaxis": {
         "anchor": "x",
         "domain": [
          0,
          1
         ],
         "showticklabels": true,
         "title": {
          "text": "Total Abstracts"
         }
        },
        "yaxis2": {
         "anchor": "x2",
         "domain": [
          0,
          1
         ],
         "showticklabels": true
        }
       }
      }
     },
     "metadata": {},
     "output_type": "display_data"
    }
   ],
   "source": [
    "## Graph a bar graph with facets for diff and pct_diff\n",
    "\n",
    "## Create a subset where value > 0 and year >= 2022\n",
    "df_institution_year_subset_melt_positive = df_institution_year_subset_melt[(df_institution_year_subset_melt['value'] > 0) &\n",
    "                                                                           (df_institution_year_subset_melt['year'] > 2022)]\n",
    "## Show only the top ten diff and pct_diff\n",
    "df_institution_year_subset_melt_positive = df_institution_year_subset_melt_positive.groupby('variable').head(10)\n",
    "\n",
    "fig = px.bar(\n",
    "    df_institution_year_subset_melt_positive,\n",
    "    x='institution_year',\n",
    "    y='value',\n",
    "    facet_col='variable',\n",
    "    facet_col_wrap=2,\n",
    "    facet_col_spacing=0.05,\n",
    "    labels = dict(year = 'Year', value = 'Total Abstracts'),\n",
    "    text_auto=''\n",
    "\n",
    ")\n",
    "\n",
    "fig.update_layout(\n",
    "    width=1600,\n",
    "    height=720,\n",
    "    font=dict(\n",
    "        family=\"Inter\",\n",
    "        size=16)\n",
    ")\n",
    "\n",
    "fig.update_traces(textfont_size=24)\n",
    "fig.update_xaxes(tickangle=90)\n",
    "\n",
    "fig.update_layout(\n",
    "    xaxis_title=\"Year\",\n",
    "    yaxis_title=\"Total Abstracts\"\n",
    ")\n",
    "\n",
    "## Non standard y-axes\n",
    "fig.update_yaxes(matches=None)\n",
    "fig.update_xaxes(matches=None)\n",
    "\n",
    "## Show y-axes labels for both facets\n",
    "fig.update_yaxes(showticklabels=True)\n",
    "\n",
    "fig.write_image('fig5_top_institutions_year_diff_melt.svg')\n",
    "\n",
    "## Get rid of 'variable=' in the facet title\n",
    "fig.for_each_annotation(lambda a: a.update(text=a.text.split(\"=\")[-1]))\n",
    "\n",
    "## Remove legend\n",
    "fig.update_layout(showlegend=False)\n",
    "\n",
    "## Show xaxis labels\n",
    "fig.update_xaxes(showticklabels=False)\n",
    "\n",
    "fig.write_image('fig5_top_institutions_year_diff_melt.svg')\n",
    "\n",
    "## Show xaxis labels\n",
    "fig.update_xaxes(showticklabels=True)\n",
    "\n",
    "## Text should be rounded to nearest int and horizontal\n",
    "fig.update_traces(textposition='inside', textfont_size=16)\n",
    "\n",
    "\n",
    "fig.show()"
   ]
  }
 ],
 "metadata": {
  "kernelspec": {
   "display_name": "Python 3",
   "language": "python",
   "name": "python3"
  },
  "language_info": {
   "codemirror_mode": {
    "name": "ipython",
    "version": 3
   },
   "file_extension": ".py",
   "mimetype": "text/x-python",
   "name": "python",
   "nbconvert_exporter": "python",
   "pygments_lexer": "ipython3",
   "version": "3.10.5"
  },
  "orig_nbformat": 4,
  "vscode": {
   "interpreter": {
    "hash": "aee8b7b246df8f9039afb4144a1f6fd8d2ca17a180786b69acc140d282b71a49"
   }
  }
 },
 "nbformat": 4,
 "nbformat_minor": 2
}
